{
 "cells": [
  {
   "cell_type": "markdown",
   "metadata": {},
   "source": [
    "# L10 : Spatial Aspect of Excitation-Contraction Coupling\n",
    "\n",
    "One important reason why computational/mathematical modelers are interested in calcium dynamics is that the concentration of calcium shows highly complex spatiotemporal behaviour. Cardiac cells (but also other cell types) respond to agonist stimulation with oscillations and waves. The two major types of oscillations are 1) periodic fluctuation of the cell membrane potential and 2) periodic entry of calcium through voltage-gated calcium channels (for example in the presence of voltage clamp). Here, we will focus on type 2) fluctuation which are oscillatory calcium fluxes through the ryanodine receptors. \n",
    "\n",
    "In larger cells than myocytes (e.g. Xenopus oocytes) intracellular calcium waves have be observed to show remarkable spatiotemporal organization developing a high degree of spatial organization, forming concentric circles, plane waves, and multiple spirals. \n",
    "\n",
    "In addition to traveling across single cells, calcium waves can be transmitted between cells (e.g. via gap junctions), forming intercellular waves that can travel over distances of many cell lengths. Such intercellular waves have also been observed in cardiac myocytes. Not all intercellular coordination is of such long range. Synchronized oscillations are often observed in small groups of cells.\n",
    "\n",
    "There is controversy about the exact mechanisms by which calcium waves propagate, it is widely belived that intracellular calcium waves are driven by the diffusion of calcium between calcium release sites. According to this hypothesis, the calcium released from one group of release sites (usually RyR) diffuses to neighbouring release sites and initiates further calcium release from them. Repetition of this process can generate an advancing wave front of high calcium concentration, in other words a calcium wave. Since they rely on the active release of calcium via positive feedback mechanisms, such waves are actively propagated.\n",
    "\n",
    "The examination of experimental data shows that calcium dynamics have a stochastic nature. So called calcium puffs or sparks are local release events within a cell caused by the opening of single, or a small number of calcium release channels. These are the building blocks from which global events are build. Due to its stochastic properties, calcium spark events are simulated by stochastic models. Generally, such models are based on stochastic Markov models. Based on what we have learned so far about RyR this can be modeled by adding randomness to the opening of the RyR channels. However, now we want to focus on how calcium waves can (spatially) propagate within a myocyte causing intra-cellular calcium waves in one dimension. \n"
   ]
  },
  {
   "cell_type": "markdown",
   "metadata": {},
   "source": [
    "<img src=\"Cell1.eps\" alt=\"Alt text that describes the graphic\" title=\"Title text\" />"
   ]
  },
  {
   "cell_type": "markdown",
   "metadata": {},
   "source": [
    "Trying to move from a point model to a one-dimensional myocyte model, can be archieved by envisioning the cell as a string of units separated by T-tubules, in which each unit consists of its own electrophysiological components\n",
    "- cytosolic compartment (cytosol)\n",
    "- sarcolemmal compartment (SL)\n",
    "- sarcoplasmic reticulum (SR)\n",
    "- diadic space (dyad)\n",
    "- sub-sarcolemmal (sub-SL)\n",
    "\n",
    "To couple each of these units to its adjacent neighbours, we now need to consider a spatial component in addition to changes in time. Therefore, a partial differential equation (PDE) needs to be solved of the form\n",
    "\n",
    "\\begin{equation}\n",
    "\\begin{split}\n",
    "\\frac{\\delta u}{\\delta t} = D \\frac{\\delta^2u}{\\delta x^2}\n",
    "\\end{split}\n",
    "\\end{equation}\n",
    "\n",
    "where $D$ is the diffusion coefficient.\n",
    "\n",
    "In addition to the PDE we have known <span style=\"color:blue\">initial conditions (ICs)</span>  and <span style=\"color:red\">boundary conditions (BCs)</span>  \n",
    "\n",
    "\\begin{equation}\n",
    "\\begin{split}\n",
    "\\color{blue}{u(x,t_0) = u_0(x)}\\\\\n",
    "\\color{red}{u(x_1,t) = u_1(t)}\\\\\n",
    "\\color{red}{u(x_{n+1},t) = u_{n+1}(t)}\\\\\n",
    "\\end{split}\n",
    "\\end{equation}\n",
    "\n",
    "Note \n",
    "- It is possible to specify derivative BCs but for uniqueness of the solution we need at least one functional value.\n",
    "- The PDE is classified as a parabolic type.\n",
    "- These equations represent mass diffusion (which we want to use) but also for heat conduction."
   ]
  },
  {
   "cell_type": "markdown",
   "metadata": {},
   "source": [
    "<img src=\"Grid.png\" alt=\"Alt text that describes the graphic\" title=\"Title text\" />"
   ]
  },
  {
   "cell_type": "markdown",
   "metadata": {},
   "source": [
    "To evaluate each unit in the one-dimensional myocyte over time, we can invision the units as connected points in space (x-axis denoted by the spatial index $i$) and time (y-axis denoted by the temporal index $j$) with known values when $t = 0$ (ICs) and known values at the ends of the cell (BCs).\n",
    "\n",
    "To calculate the temporal change $(\\frac{\\delta u}{\\delta t})$of an arbitrary unit $(i,j)$, we use a forward difference approximation\n",
    "\n",
    "\\begin{equation}\n",
    "\\begin{split}\n",
    "\\frac{\\delta u}{\\delta t}\\bigg\\rvert_{i,j} = \\frac{u_{i,j+1} - u_{i,j}}{\\Delta t} \\quad \\quad O(\\Delta t) \\quad \\text{accurate}\n",
    "\\end{split}\n",
    "\\end{equation}\n",
    "\n",
    "For the spatial change $\\left(\\frac{\\delta^2 u }{\\delta x^2}\\right)$ in the unit $(i,j)$ we use central difference approximation\n",
    "\n",
    "\\begin{equation}\n",
    "\\begin{split}\n",
    "\\frac{\\delta^2 u}{\\delta x^2}\\bigg\\rvert_{i,j} = \\frac{u_{i+1,j} - 2 u_{i,j} + u_{i-1,j}}{(\\Delta x)^2} \\quad \\quad O(\\Delta x)^2 \\quad \\text{accurate}\n",
    "\\end{split}\n",
    "\\end{equation}\n",
    "\n",
    "Substituting both equations in our original PDE, leads to:\n",
    "\n",
    "\\begin{equation}\n",
    "\\begin{split}\n",
    "\\frac{1}{\\Delta t}(u_{i,j+1} - u_{i,j}) = \\frac{D}{\\Delta x^2}(u_{i+1,j} - 2 u_{i,j} + u_{i-1,j}) \n",
    "\\end{split}\n",
    "\\end{equation}\n",
    "\n",
    "Solving this equation for  the unknown $u_{i,j+1}$ represents the solution at the $i^{th}$ node and the $(j+1)^{th}$ time level\n",
    "\n",
    "\\begin{equation}\n",
    "\\begin{split}\n",
    "\\color{orange}{u_{i,j+1} = \\left(\\frac{\\Delta t D}{(\\Delta x)^2}\\right)u_{i+1,j} +\\left(1-\\frac{2\\Delta t D}{(\\Delta x)^2} \\right) u_{i,j} + \\left(\\frac{\\Delta t D}{(\\Delta x)^2}\\right)u_{i-1,j}}\n",
    "\\end{split}\n",
    "\\end{equation}"
   ]
  },
  {
   "cell_type": "markdown",
   "metadata": {},
   "source": [
    "## Solving the discrete approximations to the PDE\n",
    "\n",
    "<img src=\"SmallGrid.png\" alt=\"Alt text that describes the graphic\" title=\"Title text\" />"
   ]
  },
  {
   "cell_type": "markdown",
   "metadata": {},
   "source": [
    "1. Looking at a single finite difference molecule, from the first part we can write down a discrete equation for each node (such that the number of unknowns equals the number of equations).\n",
    "2. At each new time level, unknown nodal values of $u$ can be directly be computed from values of the previous time level. In other words, the nodes are **not** coupled at the new time level and hence, the order in which the computations are performed in **space** do not matter since the values at the new time level are entirely dependent on values at previous time levels. \n",
    "3. The formula is **explicit** and therefore, one unknown pivotal (or nodal) value is directly expressed in terms of known pivotal values."
   ]
  },
  {
   "cell_type": "markdown",
   "metadata": {},
   "source": [
    "## Time marching and accuracy\n",
    "\n",
    "1. \"Time marching\" is the process advancing from a known time level(s) to the unknown time level.\n",
    "2. The solution is known at time level $j$, starting with the IC at $j=0$.\n",
    "3. This explicit solution of the diffusion equation is $O(\\Delta t)$ accurate in time but $O(\\Delta x^2)$ accurate in space."
   ]
  },
  {
   "cell_type": "markdown",
   "metadata": {},
   "source": [
    "## Stability\n",
    "\n",
    "1. Stability in mathematical terms relates to the unstable amplification or stable damping of the range of wavelength components which are contained in the numerical solution. If a solution increases until numerical overflow is reached, to is an unstable solution. \n",
    "2. For explicit methods like this a major shortcoming is stability.\n",
    "3. The solution of this particular explicit difference is unstable when the Courant–Friedrichs–Lewy condition is not fulfilled.\n",
    "\\begin{equation}\n",
    "\\frac{D \\Delta t}{(\\Delta x)^2} > \\frac{1}{2} \\Rightarrow \\Delta t > \\frac{1}{2} \\frac{(\\Delta x)^2}{D}\n",
    "\\end{equation}\n",
    "4. Be careful : In order to get a stable solution this restriction on the time step size needs to be fulfilled. Thus, this solution is **conditionally stable**."
   ]
  },
  {
   "cell_type": "markdown",
   "metadata": {},
   "source": [
    "## Example : Intra-cellular calcium waves\n",
    "\n",
    "<img src=\"CellFluxes.eps\" alt=\"Alt text that describes the graphic\" title=\"Title text\" />"
   ]
  },
  {
   "cell_type": "markdown",
   "metadata": {},
   "source": [
    "Consider an one-dimensional myocyte in which all units are in steady-state ($SS$). In this situation the ICs are the steady-state values of the compartment concentrations. Hence, the ICs are the same for each unit. Here, we use reflective BCs that means that the compartments at the ends of the cell interact with its one neighbour and itself, i.e.\n",
    "\n",
    "\\begin{equation}\n",
    "\\begin{split}\n",
    "\\color{blue}{Comp_{i,0} = Comp(SS)}\n",
    "\\end{split}\n",
    "\\end{equation}\n",
    "\n",
    "\\begin{equation}\n",
    "\\begin{split}\n",
    "\\color{red}{Comp_{1,j+1} = \\left(\\frac{\\Delta t D}{(\\Delta x)^2}\\right)(Comp_{2,j} + Comp_{1,j}) + \\left(1-\\frac{2\\Delta t D}{(\\Delta x)^2} \\right) Comp_{1,j}}\\\\\n",
    "\\color{red}{Comp_{N,j+1} = \\left(\\frac{\\Delta t D}{(\\Delta x)^2}\\right)(Comp_{N,j} + Comp_{N-1,j}) + \\left(1-\\frac{2\\Delta t D}{(\\Delta x)^2} \\right) Comp_{N,j}}\n",
    "\\end{split}\n",
    "\\end{equation}\n",
    "\n",
    "Thus, the calcium concentration in the different compartment ($Comp$) in the $i^{th}$ unit at time level $j$ is dependent on its adjacent compartment in the $(i-1)^{th}$ and $(i+1)^{th}$ unit and can be written as\n",
    "\\begin{equation}\n",
    "\\color{orange}{Comp_{i,j+1} = \\left(\\frac{\\Delta t D}{(\\Delta x)^2}\\right)(Comp_{i+1,j} + Comp_{i-1,j}) + \\left(1-\\frac{2\\Delta t D}{(\\Delta x)^2} \\right) Comp_{i,j}}\n",
    "\\end{equation}\n",
    "\n",
    "with time level $j$, unit $i$, and $Comp \\in \\{SL, SR, Cytosol, Dyad\\}$."
   ]
  },
  {
   "cell_type": "markdown",
   "metadata": {},
   "source": [
    "## References\n",
    "\n",
    "- Stern, Michael D., et al. \"Local control models of cardiac excitation–contraction coupling: a possible role for allosteric interactions between ryanodine receptors.\" The Journal of general physiology 113.3 (1999): 469-489.\n",
    "- Shannon, Thomas R., et al. \"A mathematical treatment of integrated Ca dynamics within the ventricular myocyte.\" Biophysical journal 87.5 (2004): 3351-3371.\n",
    "- \"Numerical Solution of the Transient Diffusion Equation Using the Finite Difference (FD) Method.\" CE30125-Lecture11\n",
    "- James Keener and James Sneyd \"Mathematical Physiology I: Cellular Physiology.\" (Second Edition) "
   ]
  }
 ],
 "metadata": {
  "kernelspec": {
   "display_name": "Python 3",
   "language": "python",
   "name": "python3"
  },
  "language_info": {
   "codemirror_mode": {
    "name": "ipython",
    "version": 3
   },
   "file_extension": ".py",
   "mimetype": "text/x-python",
   "name": "python",
   "nbconvert_exporter": "python",
   "pygments_lexer": "ipython3",
   "version": "3.6.4"
  }
 },
 "nbformat": 4,
 "nbformat_minor": 2
}
