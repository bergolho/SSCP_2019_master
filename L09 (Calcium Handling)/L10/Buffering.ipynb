{
 "cells": [
  {
   "cell_type": "markdown",
   "metadata": {},
   "source": [
    "# L10 : Calcium Buffering\n",
    "\n",
    "As mentioned before, calcium is heavily buffered in all cells. At least 99% of the available calcium is bound to large calcium-binding proteins. For example, calsequestrin and calreticulin are major calcium buffers in the endoplasmic and sarcoplasmic reticula, while in the cytoplasm calcium is bound to calbindin, calretinin, and parvalbumin (among others). It is also important to notice that calcium pumps, exchangers, and the plasma membrane itself are major calcium buffers. Thus, free calcium in the cytoplasm is bound quickly and does not move far.\n",
    "\n",
    "The chemical reaction of calcium binding can be written as\n",
    "\n",
    "\\begin{equation}\n",
    "P+Ca^{2+} \\overset{k_+}{\\underset{k_-}{\\rightleftharpoons}} B\n",
    "\\end{equation}\n",
    "\n",
    "where $P$ is the buffering protein and $B$ is buffered $Ca^{2+}$."
   ]
  },
  {
   "cell_type": "markdown",
   "metadata": {},
   "source": [
    "For a first simple model of calcium buffering, let $b$ denote the concentration of buffer with calcium bound and $c$ the concentration of free calcium. \n",
    "\n",
    "\\begin{equation}\n",
    "\\begin{split}\n",
    "\\frac{\\delta c}{\\delta t} &= D_c \\bigtriangledown^2 c + f(c) + k_- b - k_+ c(b_t - b)\\\\\n",
    "\\frac{\\delta b}{\\delta t} &= D_b \\bigtriangledown^2 b - k_- b + k_+ c(b_t - b)\n",
    "\\end{split}\n",
    "\\end{equation}\n",
    "\n",
    "where $k_-$ is the rate of calcium release from the buffer, $k_+$ is the rate of calcium uptake by the buffer, $b_t$ is the total buffer concentration, $\\bigtriangledown^2 = \\left( \\frac{\\delta^2}{(\\delta x_1)^2},...,\\frac{\\delta^2}{(\\delta x_N)^2}\\right)$ is a second order differential operator (Laplace operator), and $f(c)$ denotes all the other reactions involving free calcium (reuptake by pumps, exchangers etc). \n",
    "\n",
    "In cases of point models, in which the spatial component can be neglected the equations simplify to\n",
    "\n",
    "\\begin{equation}\n",
    "\\begin{split}\n",
    "\\frac{\\delta c}{\\delta t} &= f(c) + k_- b - k_+ c(b_t - b)\\\\\n",
    "\\frac{\\delta b}{\\delta t} &= - k_- b + k_+ c(b_t - b)\n",
    "\\end{split}\n",
    "\\end{equation}"
   ]
  },
  {
   "cell_type": "markdown",
   "metadata": {},
   "source": [
    "## Calcium Buffering on Troponin C \n",
    "\n",
    "Without wanting to go into too deep detail about the function and importance of troponin C (TnC), it can be mentioned that troponin is one of three proteins (actin, tropomyosin, and troponin) which are contained in the thin filament. TnC consists of a number of smaller polypeptides, which include a binding site for calcium and a portion that blocks the crossbridge binding sites on the actin helix. When calcium is bound, the confirmation of the troponin-tropomyosin complex structurally changes just enough to expose the crossbridge binding sites. \n",
    "\n",
    "Note that therefore TnC acts as a buffer for calcium and serves as an example for our calculations.\n",
    "\n",
    "The binding affinity of TnC for calcium is $k_{on}$ while the constant for the detachment rate is $k_{off}$. Since TnC binds cytosolic calcium ($Ca_{cyt}$), it is a function depending on the cytosolic calcium concentration. \n",
    "\n",
    "\\begin{equation}\n",
    "\\begin{split}\n",
    "\\frac{\\delta TnC}{\\delta t}  = k_{on} \\cdot Ca_{cyt} \\cdot (1-TnC) - k_{off} \\cdot TnC\n",
    "\\end{split}\n",
    "\\end{equation}\n",
    "\n",
    "In turn the cytosolic calcium concentration depends on the calcium which is buffered by TnC. \n",
    "\n",
    "\\begin{equation}\n",
    "\\begin{split}\n",
    "\\frac{\\delta Ca_{cyt}}{\\delta t} &= f(Ca_{cyt}) - k_{on} \\cdot Ca_{cyt} \\cdot (1-TnC) + k_{off} \\cdot TnC\n",
    "\\end{split}\n",
    "\\end{equation}"
   ]
  },
  {
   "cell_type": "markdown",
   "metadata": {},
   "source": [
    "<img src=\"Cell4.eps\" alt=\"Alt text that describes the graphic\" title=\"Title text\" />"
   ]
  },
  {
   "cell_type": "markdown",
   "metadata": {},
   "source": [
    "## Role of TnC Buffering in Electromechanics \n",
    "\n",
    "TnC acts as a buffer and therefore influences the cytosolic calcium concentration. But TnC also has an important role for the contraction of the heart. The binding of calcium to TnC is causing a conformational change of the thin filament, promoting the ability of interaction between the thin and thick filament and therefore, filament sliding.\n",
    "\n",
    "For that reason TnC-buffering is used when constructing electro-mechanical models. In particular, the calcium transient calculated in the electrophysiological model serves as input to the mechanics while calcium buffering on TnC is used as feedback from the myofilament dynamics to the electrophysiology."
   ]
  },
  {
   "cell_type": "markdown",
   "metadata": {},
   "source": [
    "## References\n",
    "\n",
    "- Stern, Michael D., et al. \"Local control models of cardiac excitation–contraction coupling: a possible role for allosteric interactions between ryanodine receptors.\" The Journal of general physiology 113.3 (1999): 469-489.\n",
    "- Shannon, Thomas R., et al. \"A mathematical treatment of integrated Ca dynamics within the ventricular myocyte.\" Biophysical journal 87.5 (2004): 3351-3371.\n",
    "- \"Numerical Solution of the Transient Diffusion Equation Using the Finite Difference (FD) Method.\" CE30125-Lecture11\n",
    "- James Keener and James Sneyd \"Mathematical Physiology I: Cellular Physiology.\" (Second Edition) "
   ]
  }
 ],
 "metadata": {
  "kernelspec": {
   "display_name": "Python 3",
   "language": "python",
   "name": "python3"
  },
  "language_info": {
   "codemirror_mode": {
    "name": "ipython",
    "version": 3
   },
   "file_extension": ".py",
   "mimetype": "text/x-python",
   "name": "python",
   "nbconvert_exporter": "python",
   "pygments_lexer": "ipython3",
   "version": "3.6.4"
  }
 },
 "nbformat": 4,
 "nbformat_minor": 2
}
