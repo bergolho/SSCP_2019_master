{
 "cells": [
  {
   "cell_type": "markdown",
   "metadata": {},
   "source": [
    "# L9—Quantitative Aspects of Calcium Handling\n",
    "\n",
    "In this lecture we will start looking at intracellular calcium handling and how to model it. When we say intracellular calcium handling, we mean how calcium enters the cell, how it moves around inside the cell, and secondary effects that are triggered by it - most importantly, calcium is responsible for the contraction of the cell.\n",
    "\n",
    "Calcium handling is an important topic for myocytes, and there is a lot of details to be covered, we will therefor stay on this topic in the next session as well. We will start with the broad picture of calcium, and then in the next session we turn to a more detailed picture. \n",
    "\n",
    "In this section we will cover\n",
    "* [Excitation-Contraction Coupling in the cell](#ECC)\n",
    "* [The SERCA Pump](#SERCA)\n",
    "* [The Na-Ca Exchanger](#NCX)\n",
    "* [Calcium Flux Balance](#fluxbalance)\n",
    "\n",
    "\n",
    "\n"
   ]
  },
  {
   "cell_type": "markdown",
   "metadata": {},
   "source": [
    "<a id='ECC'></a>\n",
    "# Excitation-Contraction Coupling in the Cell\n",
    "\n",
    "Over 200 years ago, Luigi Galvani reported that the leg muscles of dead frogs would twitch if he created an electrical spark. This was the beginning of the study of *excitation-contraction coupling*, the process where electrical activation of a muscle cell causes it to contract. We have so far studied the cellular action potential in detail, and have seen how gated ion channels in the sarcolemma is responsible for producing a rapid depolarization, and then a slower repolarization, of the cell. We will now understand how the depolarization due to the action potential is coupled to contraction of the cell.\n",
    "\n",
    "### Calcium as a signaling molecule\n",
    "\n",
    "Calcium is an important *signaling molecule* in the cell. A *signal* in this context just means something that starts some process in the cell, in this case contraction of the cell. Calcium is such an important signaling molecule because it has a very large *dynamical gain*, meaning it has large *relative* changes over time. This is true for calcium because the diastolic levels of cytosolic calcium are so extremely low, normally as low as ~100 nM. During the depolarizing phase of the action potential, a large amount of calcium rapidly enters into the cytosol, meaning the cytosolic levels can increase as much as a 1000-fold in only tens of milliseconds. In comparison, other ions, such as [Na$^+$] and [K$^+$] enter and leave the cell in equal magnitudes as calcium, but due to their much higher diastolic levels, their concentrations only change a few percent during the action potential. This rapid increase of calcium is called the *calcium transient*, because during the repolarization and resting phase of the action potential  the calcium levels decay back to resting levels, and so the increased calcium only exists *transiently*. \n",
    "\n",
    "<img src=\"fig/ca_transients.png\" width=500>\n",
    "**Figure:** The depolarizing phase of the action potential triggers a rapid and drastic increase in cytosolic calcium levels over only tens of millisecond. During the repolarizing and resting phase of the AP, the calcium levels return to diastolic levels, we call this the *calcium transient*.\n",
    "\n",
    "\n",
    "If an ion concentration only change a few percent, it is hard to imagine using that concentration change as a *signal* for anything, as there would be a very bad signal- to noise ratio. In comparison, a 1000-fold change would have no signal- to noise ratio, and so the calcium transient is an extremly clear signal in the cell. A *signal* in this context just means something that starts some process in the cell. The most important process the calcium transient drives is the *contraction* of the cell.\n",
    "\n",
    "In addition to being a signal for contraction, calcium is a signal for a large amount of processes in the cell, both short term and long term. In the short term, elevated calcium levels can drive the activity of kinases, phosphatases, ion channels, exchangers and transporters. In the long term, elevated of levels of calcium can be responsible for function, growth, gene expression, differentiation, remodeling and development of cells."
   ]
  },
  {
   "cell_type": "markdown",
   "metadata": {},
   "source": [
    "<img src=\"fig/calmodulin.png\" width=500>\n",
    "**Figure:** On the left, we see a protein in the cytosol of the cell that binds protein. It is called calmodulin, short for calcium-modulated-protein, and is abbreviated CaM. When there is no calcium bound to calmodulin, it does nothing, but when calcium binds to it, it can bind to other molecules in the cell, triggering a chain of processes. These chains of processes are known as *signal transduction pathways*. One molecule that is activated by CaM is shown on the right, and is called *Calcium/calmodulin dependent protein kinase II*, or simply CaMKII. Kinases are a class of enzymes that drive *phosphorylation*, and when activated by calmodulin, CaMKII is involved in a large number of pathways.\n",
    "\n",
    "Put simply, calcium makes a lot of things happen in the cell. In chronic heart disease, the calcium handling of the cell is very often found to be disrupted. Having a good quantitative understanding of calcium handling is therefore important if we want to understand these diseases in detail. In addition, calcium handling is quite different across mammalian species, and understanding these differences is important if one wants to analyze experimental results across species.\n",
    "\n",
    "While calcium is hugely important for a large number of signaling pathways, we won't focus on modelling these effects, rather, we will mainly discuss how to properly model the calcium transient, and the subsequent calcium decay as calcium returns to diastolic levels.\n",
    "\n",
    "\n",
    "<img src=\"fig/skeletal_EC2.png\" width=600>\n",
    "**Figure:** When a muscle cell fires an action potential, the cell contracts, producing force. It is the calcium transient that is the link between the action potential and the contraction of the cell. This is true for both cardiac and skeletal muscle, even though the two have very different action potentials, we will return to this point later on."
   ]
  },
  {
   "cell_type": "markdown",
   "metadata": {},
   "source": [
    "#### Force as a function of the calcium transient\n",
    "\n",
    "Exactly *how* the increased cytosolic calcium seen during the calcium transient leads to contraction is described by the *sliding filament theory*, which we will cover in later lectures. The important aspect for now is just that the calcium transient is the link between exictation of the cell, and contraction of the cell. We therefore say that calcium is the mediator of *exciation-contraction coupling* (EC coupling).\n",
    "\n",
    "In addition to leading to contraction, the *strength* of contraction is actually a function of the magnitude of the calcium transient. This is illustrated in the Figure below, where we see a sigmoidal relationship between the degree of contraction and the amount of calcium in the cytosol, i.e., a bigger transient = a bigger contraction.\n",
    "\n",
    "<img src=\"fig/force_calcium_curve.png\" width=500>\n",
    "[Donald M. Bers Circulation Research. 2000;87:275-281]\n",
    "\n"
   ]
  },
  {
   "cell_type": "markdown",
   "metadata": {},
   "source": [
    "### Intracellular structure of cardiomyocytes\n",
    "\n",
    "To understand calcium handling in the cell, we need to have an understanding of the inctracellular structure of the cell. A simplified figure of these are shown below. Most importantly are:\n",
    "\n",
    "**The sarcolemma:** The cell membrane is impermeable to Ca$^{2+}$, but it contains ion channels, pumps, and exchangers that transport calcium into or out of the cell.\n",
    "\n",
    "**The myofilaments:** The myofilaments contract, producing force, when calcium binds to them. We will describe this mechanism in a later session.\n",
    "\n",
    "**The Mitochondrion:** Calcium is only the *signal* for contraction, it does not supply any energy to the process, the energy necessary for contraction (a contraction produces force and therefore does work and spends energy) comes from ATP, produced in the mitochondria. In addition mitochondria does absorb and extrude a small amount of Ca$^{2+}$, but this is such small amounts it is usually neglible.\n",
    "\n",
    "**The t-tubules:** T-tubules (transverse tubules) are invaginations of the sarcolemma into the cell, effectively they give the cell a much larger surface area and ensures much of the internal volume of the cell has a short distance to the sarcolemma, ensuring swift and spatially homogeneous calcium influx into the cell.\n",
    "\n",
    "**The sarcoplasmic reticulum (SR):** The SR is an internal calcium storage inside the cell. The SR consists of a lipid bilayer membrane impermeable to Ca$^{2+}$ just like the sarcolemma. This internal membrane also has ion channels and pumps for calcium.\n",
    "\n",
    "**Dyads:** Dyads are areas where the sarcolemma and the SR lie close to each other, and is where the calcium release occurs. More on this shortly.\n",
    "\n",
    "<img src=\"fig/cardiomyocyte.png\" width=600>\n",
    "**Figure:** Schematic of some of the most important calcium handlign structures inside the myocyte. [Image taken from Zipes and Jalife, 2013]"
   ]
  },
  {
   "cell_type": "markdown",
   "metadata": {},
   "source": [
    "### Calcium throughout the action potential\n",
    "\n",
    "We will now step through and give a step-by-step explanation of where calcium is being transported throughout an action potential. \n",
    "\n",
    "#### Calcium Influx\n",
    "\n",
    "When the cell is at rest, the cytosolic calcium levels are very low. The calcium levels outside the cell, and inside the SR (the intracellular calcium stores) are much, much higher. However, no ion channels in these membranes are open when the cell is at rest, so the cytosolic calcium remains low.\n",
    "\n",
    "The primary calcium channel in the sarcolemma is the L-type calcium channel (LCC, LTCC, or DHPR). When the cell is triggered and fires an action potential, the L-type channels in the sarcolemma open in response to depolarizing membrane and calcium starts to flow into the cell.\n",
    "\n",
    "<img src=\"fig/ecc_ltcc.png\" width=600>"
   ]
  },
  {
   "cell_type": "markdown",
   "metadata": {},
   "source": [
    "#### Calcium-Induced Calcium Release\n",
    "\n",
    "The primary calcium channel in the SR membrane are called calcium release channels, or ryanodine receptors (RyR). These open not in response to the depolarizing membrane potential, but they open in response to calcium on the cytosolic side binding to the channel, which opens it. Thus, the action potential triggers the L-type to open, and the inital calcium that enters the cell triggers a secondary release of calcium from the SR. This process is known as *calcium induced calcium release* (CICR). Under normal conditions, the calcium flux from the SR through RyR is much larger than the influx from outside the cell through the L-type channel.\n",
    "\n",
    "To have a strong and robust CICR mechanism, L-type and RyR channels are located close to each other in the cell, but as calcium is release into the cytosol from these channels it starts to diffuse into the rest of the cytosol.\n",
    "\n",
    "<img src=\"fig/ecc_cicr.png\" width=600>"
   ]
  },
  {
   "cell_type": "markdown",
   "metadata": {},
   "source": [
    "#### Contraction\n",
    "\n",
    "Due to the calcium influx, there is now a large amount of free calcium ions in the cytosol, which will start to bind to a large number of other molecules in the cell. The most important of these are the myofilaments, which shorten in response to calcium binding, giving contraction of the cell. These binding reactions are dynamic, meaning calcium is binding and releasing continiously.\n",
    "\n",
    "<img src=\"fig/ecc_buffering.png\" width=600>"
   ]
  },
  {
   "cell_type": "markdown",
   "metadata": {},
   "source": [
    "#### Decay back to baseline\n",
    "\n",
    "Finally, as the action potential repolarizes and remains at resting levels, calcium is pumped out of the cytosol. \n",
    "It is necessary for calcium levels return to diastolic levels, as this ensures releases from the myofilaments and the cell relaxes long enough for the heart to refill. Once the calcium levels are at diastolic levels, the calcium handling machinery is ready for a new beat.\n",
    "\n",
    "To remove calcium from the cytosol, it must be pushed against its concentration gradient, i.e., active transport is needed. Calcium is therefore removed from the cytosol through exchangers and pumps. The most important of these are the SERCA pump and the Na/Ca exchanger. The SERCA pump uses ATP to pump calcium back into the SR from the cytosol, this reduced the cytosol levels, but it also refills the SR calcium stores. The Na/Ca exchanger (NCX) pumps calcium ions through the sarcolemma, out of the cell, by coupling it to an influx of sodium. Sodium wants to enter the cell at resting, and so by coupling these two processes we can pump calcium out, by letting sodium in. Another pump in the sarcolemma is the plasma membrane calcium pump (PMCA), which also uses ATP to push calcium out. When comparing the two main sarcolemma calcium efflux by capacity, NCX is much more important, moving much more calcium than PMCA.\n",
    "\n",
    "<img src=\"fig/ecc_decay.png\" width=600>\n",
    "\n",
    "\n",
    "\n"
   ]
  },
  {
   "cell_type": "markdown",
   "metadata": {},
   "source": [
    "#### Complete picture\n",
    "\n",
    "We know combine all these processes in a single image. When reading papers, textbooks, or attending talks, you will often see images such as these. They can be a bit chaotic and overwhelming, but breaking down the individual components and processes they become more managable. It is important to note that these images often do not show \"snapshots\", everything is not occuring simultaneously.\n",
    "\n",
    "<img src=\"fig/ecc_complete.png\" width=1000>"
   ]
  },
  {
   "cell_type": "markdown",
   "metadata": {},
   "source": [
    "No we will turn to modelling the calcium transient. The most natural starting point might be to focus on the influx of calcium first, as this is the triggering event, and the coupling point to the AP. However, it turns out that modelling influx is a lot harder than modeling the efflux of calcium and the decay to resting levels. We will therefore start by modelling the decay of the calcium transient through the SERCA pump and the NCX. In the next session, we will add the influx through LTCC and RyR to have a complete picture of the calcium transient."
   ]
  },
  {
   "cell_type": "markdown",
   "metadata": {},
   "source": [
    "## A super simple calcium decay\n",
    "\n",
    "We want to model how the cytosolic calcium levels return to baseline over time, following the rapid rise of the calcium transient. One of the simplest approaches we can take to this process is to model it as an exponential decay towards the baseline. The governing equation is then\n",
    "\n",
    "$$\\frac{\\rm d[Ca^{2+}]_i}{{\\rm d}t} = \\frac{\\rm [Ca^{2+}]_i - [Ca^{2+}]_i^{\\rm rest}}{\\tau}.$$\n",
    "\n",
    "Here, $\\rm [Ca^{2+}]_i$, is the intracellular cytosolic calcium, which is the state variable, $\\rm [Ca^{2+}]_i^{\\rm rest}$ is a constant parameter, denoting the baseline diastolic calcium level, and $\\tau$ is the time constant of the decay. This model thus has two free parameters, the baseline diastolic calcium in the cell, and the time constant (i.e., the speed) of the decay. These parameters can be chosen to best fit experimental data.\n",
    "\n",
    "The exponential decay model is very simple, having only two free parameters. It gives a decay that is large when the calcium levels are far from baseline, and then it slows down as it approaches baseline, which is physiologically accurate, it also slows down once the model reaches a baseline value, instead of completely emptying the cell of calcium, which is also reasonable.\n",
    "\n",
    "However, as you've probably guessed, such a simple model will have considerable drawback. First of, it is a very heavyhanded model with no possibilities of regulation or adjustability. The baseline calcium for example, is fixed or \"clamped\", while in reality, it should be able to drift with changing activity. The decay rate in $\\tau$ should also be able to be regulated. Another issue is that this model does not track where the calcium actually goes, just that it leaves the cytosol. However, some calcium will leave the cell, while some will go into the SR, and it turns out that how much goes where is hugely important.\n",
    "\n"
   ]
  },
  {
   "cell_type": "markdown",
   "metadata": {},
   "source": [
    "## Calcium Cycling\n",
    "\n",
    "For each beat of the heart, there will be a release, and then reuptake of calcium, which in turn drives contraction. We refer to this process as *calcium cycling*, as the calcium moves back and forth in a cyclical manner. There are some subtle balances in this cycling that is very important for how the cell behaves, and how contraction of the cell is regulated.\n",
    "\n",
    "We have seen that calcium *enters* the cytosol primarily from outside the cell through the L-type channel and from the SR stores through the calcium relase channels. We have also discussed how calcium *leaves* the cytosol primarily through the NCX, which pushes it out of the cell completely, and SERCA, which pumps it back into the SR.\n",
    "\n",
    "Now, an important factor of calcium cycling is that the total amount of calcium that enters the cell through the L-type channel must be the same amount that leaves through the NCX. The same is true for RyR and SERCA, the amount that gets released through RyR must be pumped by SERCA.\n",
    "$$\\int J_{\\rm LTCC} \\ {\\rm d}t = \\int J_{\\rm NCX} \\ {\\rm d}t, \\qquad  \\int J_{\\rm RyR} \\ {\\rm d}t = \\int J_{\\rm SERCA} \\ {\\rm d}t.$$\n",
    "It might not be immediatly clear why this must be the case. The heart is continiously pumping, and so the cell is continiously undergoing calcium cycling. If the activity of the L-type channel were not balanced up against the NCX, more calcium would either enter or leave the cell. This means the cell would either be losing calcium for each beat, untill it was completely empty, or it would gain calcium for each beat. This *drift* of calcium cannot be, so the net calcium change throughout one cycle has to be zero for long term stability.\n",
    "\n",
    "<img src=\"fig/calcium_cycling.png\" width=400>\n",
    "**Figure:** For each beat, calcium is cycled into and out of the cell through the sarcolemma by the LTCC and NCX, and released and taken up into the SR by RyR and SERCA. These two \"cycles\" have to be balanced, otherwhise the system would drift over time.\n",
    "\n",
    "Note that our argument for this balance hinges on *long term* stability, but for a single beat, we can definitely see an imbalance in where calcium goes. If the heart is beating along at a constant rythm, and there are no changing conditions, it will eventually find a *steady cycle*, where things are balanced on a beat by beat basis. If we perturb this system, such as by increasing the heart rythm, things will be unbalanced for a while, untill the heart reaches a new balance.\n",
    "\n",
    "The main mechanism here is that if more calcium enters the cell through LTCC than leaves it through NCX, this calcium will eventually be pumped into the SR, and so the concentration in the SR will increase. If we have a higher *SR load*, the Ca$^{2+}$-release will also become stronger and so we reach a point where things find a new balance. In the new balance the calcium transient is stronger, which gives a stronger contraction. On the reverse side, if more calcium leaves the cell through NCX than enters it through LTCC, then less calcium will get pumped into the SR, and the SR load will drop. This will weaken the RyR release current untill things are in balance.\n",
    "\n",
    "The NCX and SERCA compete for the same cytosolic calcium. If one of them is more active, there is less cytosolic calcium available for the other. The balance between NCX and SERCA is therefore one of the main determinants of calcium cycling balance, and this will decide the SR load level, which again decides the Ca$^{2+}$-transient magnitude and therefore the strength of contraction.\n",
    "\n",
    "As an exampleof this we can look at the balancing of NCX and SERCA in different species. In species with fast heart rhytms, and short APs, such as rat, there is less time for LTCC influx, and so we need a stronger internal release of calcium to compensate: this means SERCA has to be strong in comparison to NCX. On the other hand, a species with a slower heart rhytm and longer AP, more calcium enters the cell through the LTCC, and so NCX has to be stronger in relation SERCA, otherwhise there would be a build of calcium in the SR.\n",
    "\n",
    "<img src=\"fig/cycling_fast_vs_slow.png\" width=800>\n",
    "**Figure:** The relative importance of LTCC/NCX vs RyR/SERCA is highly species dependent.\n",
    "\n",
    "(Figure taken from [Koivumäki et al, 2009](http://rsta.royalsocietypublishing.org/content/367/1896/2181.short))\n",
    "\n",
    "<img src=\"fig/cycling_fast_vs_slow_bers.png\" width=300>\n",
    "**Figure:** In this experiment, they have tracked where calcium goes when it leaves the cytosol. We see that in rats, a species with fast heart rhytm and short APs, a very large amount goes into the SR, and very little goes through NCX. In comparison, rabbits, which have slower heart rhytms, has a balance pushed more towards NCX. Finally, we also see that calcium cycling balance is disrupter in heart failure, pushing the balance even more towards NCX.\n",
    "\n",
    "(Figure taken from [Donald M. Bers Circulation Research. 2000;87:275-281])\n",
    "\n"
   ]
  },
  {
   "cell_type": "markdown",
   "metadata": {},
   "source": [
    "<a id=serca></a>\n",
    "# The SERCA pump\n",
    "\n",
    "As we have shown, SERCA is one of the two major actors in removing calcium from the cytosol, and the primary actor that refills the SR calcium. SERCA pumps calcium from the cytosol into the SR. SERCA is an acronym, and stands for Sarcoplasmic-Endoplasmic Reticulum Calcium ATPase. An ATPase is an enzyme that breaks down ATP into ADP, releasing energy in the process. SERCA harnesses this energy to pump 2 calcium ions into the SR, per single molecule of ATP.\n",
    "\n",
    "SERCA is a *high-affinity*, *high capacity* pump. Saying it is high affinity means it can maintain a high pump activity, even with low cytosolic calcium levels. High capacity means SERCA can pump a lot of calcium. The reason SERCA is high capacity pump is that there is *a lot* of it in the cell, with much of the surface of the SR being packed with SERCA molecules.\n",
    "\n",
    "Our discussion of SERCA models is largely based on the paper: [Koivumäki et al., *Modelling sarcoplasmic reticulum calcium ATPase and its regulation in cardiac myocytes*. Phil. Trans. R. Soc., 2009.](http://rsta.royalsocietypublishing.org/content/367/1896/2181.short) and we do borrow som figures below. This review of SERCA modeling is highly recommended to anyone who wants to read more about it."
   ]
  },
  {
   "cell_type": "markdown",
   "metadata": {},
   "source": [
    "\n",
    "### Thermodynamic limit of SERCA\n",
    "\n",
    "SERCA transports calcium across the SR membrane, let us look at the thermodynamic accounting of this process. If we assume there is no voltage difference across the SR membrane, the only change in Gibb's free energy that occurs from calcium transport across the SR membrane is due to the concentration gradient. The change in Gibb's energy when transporting a single calcium ion from the cytosol into the SR is then given by\n",
    "$$\\Delta G = RT \\ln\\left(\\frac{\\rm [Ca^{2+}]_{SR}}{\\rm [Ca^{2+}]_i}\\right),$$\n",
    "where $R$ is the gas constant and $T$ the temperature. Because the calcium concentration in general is higher in the SR than in the cytosol, we see that $\\Delta G > 0$, meaning this process will never occur spontaneously, and the cell cannot rely on any passive ion transport to refill the SR with calcium.\n",
    "\n",
    "To overcome this energy cost, SERCA couples the activity of pumping calcium to the hydrolysis of ATP into ADP. For the whole process to be possible, the net $\\Delta G$ must be negative, so we have the condition\n",
    "$$\\Delta G_{\\rm pump} + \\Delta G_{\\rm ATP} < 0.$$\n",
    "or\n",
    "$$\\Delta G_{\\rm pump} < \\Delta G_{\\rm ATP}.$$\n",
    "Put simply, this equation only states that SERCA cannot spend more energy pumping Ca$^{2+}$ than it harvests from the ATP.\n",
    "\n",
    "Now, SERCA pumps two calcium ions per ATP molecule spent, so we get\n",
    "$$2RT \\ln\\left(\\frac{\\rm [Ca^{2+}]_{SR}}{\\rm [Ca^{2+}]_i}\\right) < \\Delta G_{\\rm ATP}.$$\n",
    "We can reoorder this equation to find a ratio between the two concentrations\n",
    "$${\\rm [Ca^{2+}]_{SR}} < {\\rm [Ca^{2+}]_{i}} \\cdot {\\rm exp}\\ \\bigg[\\frac{\\Delta G_{\\rm ATP}}{2RT}\\bigg]$$\n",
    "This equation might seem a bit complicated, but it is simply telling us that if the ratio of SR calcium to cytosolic calcium is below some threshold, SERCA can potentially pump calcium into the SR.\n",
    "\n",
    "Let us compute some specific values. Looking up the gas constant, we find that $2RT \\approx 5.2$ kJ/mol. If we look up $\\Delta G_{\\rm ATP}$ in the litterature we find that the exact value will depend on several factors, but for the conditions found in mammalian myocytes the it is 50-70 kJ/mol. No molecular machine like this will be perfectly efficient, so let us choose a value slightly lower, at 45 kJ/mol. Inserting these values gives the ratio \n",
    "$${\\rm [Ca^{2+}]_{SR}} < 5732 {\\rm [Ca^{2+}]_{i}}.$$\n",
    "So we see that unless the SR concentration is over 5000 times higher than the cytosolic calcium, SERCA can still pump calcium. However, if the concentration difference becomes more extreme than this, SERCA can no longer pump calcium, as it is thermodynamically prohibited, as $\\Delta G > 0.$\n",
    "\n",
    "Note that, because of the exponential term, even tiny changes to $\\Delta G_{\\rm ATP}$ will give a large difference in the specific value, and we were very hand-wavey in our selection of this value. Small adjustments easily gives us an exact ratio somewhere in the range of 5000-10000. A commonly cited statement is that SERCA can maintain a calcium gradient of 1:7000, but the exact number is not that important. Rather, the important takeaways are:  \n",
    "* (1) SERCA can maintain a huge concentration gradient across the SR membrane\n",
    "* (2) there is an upper limit, where SERCA will be unable to pump any further calcium."
   ]
  },
  {
   "cell_type": "markdown",
   "metadata": {},
   "source": [
    "### SERCA Pump Models\n",
    "\n",
    "Our discussion of the thermodynamics of SERCA is only considering equilibrium levels of calcium. To get the kinetics and time course of SERCA pump activity, we have to create some sort of pump model. When we design a pump model, there are several aspects to consider. We will go through a series of 5 models, that increase in complexity with each step, and discuss what assumptions and limitations the model posess.\n",
    "\n",
    "The most basic feature the model needs is to cover the pumping action of SERCA, this means that calcium should be moved from the cytosol into the SR. We can write this action as the simplified reaction\n",
    "$$2{\\rm Ca_i} + {\\rm P} \\rightleftharpoons {\\rm Ca_2 P} \\rightleftharpoons 2{\\rm Ca_{\\rm SR}} + {\\rm P}.$$\n",
    "Here, two calcium ions bind to a free pump molecule, $P$, get transported across the membrane and release into the SR. Note however that, in general, the reverse process can also happen, we therefore say that SERCA is a *bidirectional* pump."
   ]
  },
  {
   "cell_type": "markdown",
   "metadata": {},
   "source": [
    "\n",
    "### The Unidirectional Pump Model\n",
    "\n",
    "The simplest model of SERCA we cover is also one of the simlest possible models we could make and comes from assuming first order kinematics. We assume the activity in the reverse direction is neglible, and so we have a *unidirectional* pump model. We can then use the exact same assumptions as we did when we derived the Michaelis-Menten equation. However, as SERCA binds and transport calcium ions in pairs, we have cooperativity, and so we have to introduce a Hill coefficient of 2. Thus our unidirectional pump model of SERCA is\n",
    "$$J_{\\rm pump} = v_{\\rm max} \\frac{\\rm [Ca^{2+}]_{\\rm i}^2}{{\\rm EC}_{\\rm 50}^2 + [\\rm Ca^{2+}]_{\\rm i}^2}.$$\n",
    "Here ${\\rm EC}_{\\rm 50}$ is the concentration required for a half-maximal pump velocity, EC stands for *effective concentration*. This model effectively states that SERCA behaves like a simple enzymatic reaction, transporting/converting calcium without getting used up in the process. \n",
    "\n",
    "<img src=\"fig/serca1.png\" width=300>\n",
    "(Figure taken from [Koivumäki et al, 2009](http://rsta.royalsocietypublishing.org/content/367/1896/2181.short))\n",
    "\n",
    "The unidirectional model is very simple, both conceptually and in terms of mathematics and implementation. It has only two adjustable parameters. Here, $v_{\\rm max}$ is the maximal pump capacity, as it states how much SERCA can pump at maximal working conditions. Because SERCA is a high-capacity pump, this value should be large. The other parameter, EC$_{50}$, is the half-maximal saturation of the pump activity, i.e., how much calcium needs to be present for SERCA to reach half of its maximal potential. As SERCA is a high-affinity pump, it should be good at pumping, even at low concentrations, so high-affinitiy means a *low* EC$_{50}$ value. In mammalian myocyte, the best fit of this parameters is on the order of 0.3 µM, which is only a few hundred nM above baseline. \n",
    "\n",
    "Due to its simplicity, the unidirectional pump model sees quite some use. However, it does have some major issues, the biggest of which is that it does not care about the SR load whatsoever, in fact, this model predicts SERCA will keep pumping away calcium from the cytosol until there is nothing left. This is not only not physiological, it is *unphysical* as it breaks the law of thermodynamics, as we saw in our discussion above. Because of this, models that use a unidirectional SERCA pump often have to add a leak calcium current from the SR into the cytosol to balace the over-active SERCA. This can work in practice, but one always have to be very careful with such models, as they are not guaranteed to behave well with changing conditions.\n"
   ]
  },
  {
   "cell_type": "markdown",
   "metadata": {},
   "source": [
    "\n",
    "### Unidirectional Pump with SR calcium inhibition\n",
    "\n",
    "To rectify the overly simple unidirectional SR model, one could envision adding a scale factor to the pump term, that takes into account the SR load, and this is sometimes done. We could for example add an inverse relationship to the SR load:\n",
    "$$J_{\\rm pump} = v_{\\rm max} \\frac{\\rm [Ca^{2+}]_{\\rm i}^2}{{\\rm EC}_{\\rm 50}^2 + [\\rm Ca^{2+}]_{\\rm i}^2} \\times \\frac{\\rm const.}{\\rm [Ca^{2+}]_{SR}}.$$\n",
    "This model makes things somewhat better, but the SR load dependence is still unphysiological, as it doesn't really ever shut of unless $\\rm [Ca^{2+}]_{i}=0$ or $\\rm [Ca^{2+}]_{SR}=\\infty$. It is also still a unidirectional pump, as it cannot transport calcium from the SR back into the cytosol.\n",
    "\n",
    "<img src=\"fig/serca2.png\" width=300>\n",
    "(Figure taken from [Koivumäki et al, 2009](http://rsta.royalsocietypublishing.org/content/367/1896/2181.short))\n"
   ]
  },
  {
   "cell_type": "markdown",
   "metadata": {},
   "source": [
    "\n",
    "### Bidirectional Pump\n",
    "\n",
    "Instead of trying to add the SR load dependence as a scaling factor on the current, we can do the more physiologically accurate thing and model it as a proper bidirectional pump. The simplest way to do this is to assume that the two *modes* of the pump (i.e., the forward and reverse) are independent of each other. We can then model the two modes using our simple unidirectional pump model, i.e., using the Michaelis-Menten equation with a Hill coefficient of 2:\n",
    "$$J_{\\rm pump} = J_{\\rm fwd} - J_{\\rm rev}, \\qquad J_{\\rm fwd} = v_{\\rm max} \\frac{\\rm [Ca^{2+}]_{\\rm i}^2}{{\\rm EC}_{\\rm 50}^{{\\rm fwd}\\ 2} + [\\rm Ca^{2+}]_{\\rm i}^2}, \\qquad J_{\\rm rev} = v_{\\rm max} \\frac{\\rm [Ca^{2+}]_{\\rm SR}^2}{{\\rm EC}_{\\rm 50}^{{\\rm rev}\\ 2} + [\\rm Ca^{2+}]_{\\rm SR}^2}.$$\n",
    "Here we assume the two modes has the same maximal capacity, $v_{\\rm max}$, but different affinities. \n",
    "\n",
    "<img src=\"fig/serca3.png\" width=300>\n",
    "(Figure taken from [Koivumäki et al, 2009](http://rsta.royalsocietypublishing.org/content/367/1896/2181.short))\n",
    "\n",
    "We can add the two terms together and use some algebra to find a single, compact expression for the net pump rate of SERCA\n",
    "$$J_{\\rm pump} = v_{\\rm max} \\times \\frac{\\left(\\frac{[\\rm Ca^{2+}]_{\\rm i}}{{\\rm EC}_{\\rm 50}^{{\\rm fwd}}}\\right)^2 - \\left(\\frac{[\\rm Ca^{2+}]_{\\rm SR}}{{\\rm EC}_{\\rm 50}^{{\\rm rev}}}\\right)^2}\n",
    "{1 + \\left(\\frac{[\\rm Ca^{2+}]_{\\rm i}}{{\\rm EC}_{\\rm 50}^{{\\rm fwd}}}\\right)^2 + \\left(\\frac{[\\rm Ca^{2+}]_{\\rm SR}}{{\\rm EC}_{\\rm 50}^{{\\rm rev}}}\\right)^2}.$$\n",
    "\n",
    "We have effectively only added one more parameter to our model and conceptually, this model is nearly as simple as the unidirectional model. On the other hand, it turns out to be much more physiologically accurate under a wider range of conditions. First of, the pump actually shuts of when it reaches a certain SR:cytosol ratio, as we can see from solving the equation $J_{\\rm pump} = 0$:\n",
    "$$J_{\\rm pump} = 0 \\quad \\Rightarrow \\quad \\left(\\frac{[\\rm Ca^{2+}]_{\\rm i}}{{\\rm EC}_{\\rm 50}^{{\\rm fwd}}}\\right)^2 = \\left(\\frac{[\\rm Ca^{2+}]_{\\rm SR}}{{\\rm EC}_{\\rm 50}^{{\\rm rev}}}\\right)^2,$$\n",
    "or\n",
    "$$\\frac{[\\rm Ca^{2+}]_{\\rm SR}}{[\\rm Ca^{2+}]_{\\rm i}} = \\frac{{\\rm EC}_{\\rm 50}^{\\rm rev}}{{\\rm EC}_{\\rm 50}^{\\rm fwd}}.$$\n",
    "Thus, by adjusting the affinity of the reverse rate of the bidirectional pump, we can get the correct baseline behavior of the SERCA model without adding the SR leak term. From our thermodynamical analysis of SERCA, we now see that the balance of the two affinities should be about 1:7000 to get the right baseline behavior."
   ]
  },
  {
   "cell_type": "markdown",
   "metadata": {},
   "source": [
    "### Buffering Capacity of SERCA\n",
    "\n",
    "The bidirectional pump model is quite good at giving the correct pump rate into the SR, however, it does not take into effect the *buffering* effect of SERCA. In the models we have presented so far, calcium ions get transported instaneously from the cytosol to the SR. Thus the total amount of free calcium is constant.\n",
    "\n",
    "However, in reality, what happens is that calcium ions bind to SERCA pump-molecules. They stay bound for some time, while SERCA changes conformational shape and release into the SR. However, ions can also bind, and unbind without getting transported. With the sheer amount of SERCA molecules inside the cell, this means there is, at any given time, a substantial amount of calcium ions bound to SERCA, thus SERCA is acting like a calcium *buffer*. In fact, it is the  We will discuss buffers and their effect more in the next lecture. For now, suffice to say that SERCA is the second largest calcium buffer in the cell (i.e., it binds a lot of calcium), and a detailed model should include this.\n",
    "\n",
    "To produce a SERCA model that takes into account calcium binding, we can use a 4-state Markov model\n",
    "<img src=\"fig/serca4.png\" width=300>\n",
    "(Figure taken from [Koivumäki et al, 2009](http://rsta.royalsocietypublishing.org/content/367/1896/2181.short))\n",
    "\n",
    "By having four states, we have separated the process of calcium binding to SERCA, and the transport across the membrane. The states $X_2$ and $Y_2$ have calcium bound to them, while the states $X_1$ and $Y_1$ do not, thus the total amount of free calcium in the model is reduced by the amount bound to SERCA. The model pumps calcium by moving around the four states in a *reaction cycle*, first binding calcium, then transforming, then releasing the bound calcium, then transforming back. The pump velocity will be the *cycling rate* of the model, i.e., the rate at which a full cycle of all four steps occurs.\n",
    "\n",
    "This model takes into account calcium bound to SERCA, and is a proper bidirectional pump that has a rate dependence on $[{\\rm Ca^{2+}}]_{\\rm i}$ and $[\\rm Ca^{2+}]_{\\rm SR}$. The biggest problem is that our model is starting to become quite complex, having 8 free parameters (the forward and reverse rates between the states), which are computationally hard to account for."
   ]
  },
  {
   "cell_type": "markdown",
   "metadata": {},
   "source": [
    "\n",
    "### Adding more complex regulation\n",
    "\n",
    "There is no real limit to the complexitiy in which we can create Markov models of SERCA that take into account varius regulatory mechanisms. For example, SERCA depends on ATP, and we found the thermodynamic limit of SERCA activity based on this. However, so far we have not really considered the mechanism of ATP binding to SERCA and hydrolising into ADP. We have simply assumed the availability of ATP to be constant. But what if we want to include the effects of low ATP availability in energy starved cells? This could be done by adding binding and release of ATP as seperate steps in the the reaction cycle of our SERCA model.\n",
    "\n",
    "<img src=\"fig/serca5.png\" width=300>\n",
    "(Figure taken from [Koivumäki et al, 2009](http://rsta.royalsocietypublishing.org/content/367/1896/2181.short))\n",
    "\n",
    "Models like this start to become very complex, having many free parameters and depending on many state variables. Most cell models for example, do not keep track of the ATP available. Thus these models are very hard to constrain and implement correctly. They are also computationally costly. However, if we want a physiologically detailed model that includes these mechanisms of regulation, this is a way to approach modeling them in a fairly physiologically accurate manner.\n",
    "\n",
    "#### The Tran Model\n",
    "\n",
    "If you are looking for a thermodynamically detailed SERCA model, Tran et al published a detailed 12-state markov model in 2009.\n",
    "\n",
    "<img src=\"fig/tran_model.jpg\" width=400>\n",
    "**Figure: ** Detailed 12-state thermodynamic model of the SERCA published in 2009. Figure taken from [Tran et al, 2009](https://www.ncbi.nlm.nih.gov/pubmed/19254563)."
   ]
  },
  {
   "cell_type": "markdown",
   "metadata": {},
   "source": [
    "### SR Ca Leak\n",
    "\n",
    "Calcium mainly leaves the SR through the RyR-facilitated calcium release during the upstroke of the calcium transient. However, experiments show that there is a smaller amount of calcium that also leaves the SR throughout the action potential, also when the cell is resting.\n",
    "\n",
    "There has been a debate in the litterature over what pathway the calcium that leaks from the SR actually takes. Some potential candidates are either through the reverse mode of the SERCA pump, through other, unidentified channels in the SR membrane or perhaps through RyR activity outside of normal release.\n",
    "\n",
    "<img src=\"fig/SRleak.png\" width=350>\n",
    "\n",
    "Without going into to much detail, the answer has more or less turned out to be through RyR activity. When looking at whole-cell models however, it is very hard to incorporate this leak current into the RyR model itself, and so you will often find it included as a distinct \"SR leak\" channel or current."
   ]
  },
  {
   "cell_type": "markdown",
   "metadata": {},
   "source": [
    "# Measuring intracellular calcium dynamics\n",
    "\n",
    "Constraining our models for the SERCA pump (and later of RyR) is exceptionally hard, because these channels exist inside the cell, and so we cannot patch clamp them like we do for sarcolemmal channels. So how do we measure intracellular calcium dynamics? \n",
    "\n",
    "One method is to add calcium indicators into the cell. These are fluorophores that bind calcium and start to glow. Using optical microscopes, we can then measure the amount of fluroesence to find an estimate of the calcium concentrations within the cell. While calcium indicators are useful, they are also quite tricky to work with, and there are limitations in both the spatial and temporal resolution. In addition, the indicators work by binding calcium, meaning you are affectively adding a buffer into the system, which will affect the normal calcium dynamics at least somewhat.\n",
    "\n",
    "Another way one can get insight into the intracellular dynamics, is to measure the sarcolemmal currents which *can be* patch-clamped, such as the NCX. Take for example measuring the SR load of a cell. If we add caffine into the cell, the cell releases all its calcium into the cytosol (caffine triggers RyR to open). In the cytosol some of this calcium gets pumped back into the SR by SERCA, but as the RyR is open, this just goes right back into the cytosol. The NCX however, is also pumping calcium out of the cell, and this efflux of calcium we can measure through a patch clamp. By integrating this current we get a good estimate of how much calcium was in the cell and SR. This measurement is however, not a *dynamic* measurement, you get a one time measurement, but you have removed all calcium from the cell itself.\n",
    "\n",
    "<img src=\"fig/measuring_SRload.png\" width=400>\n",
    "(Figure taken from [Donald M. Bers Circulation Research. 2000;87:275-281])\n",
    "\n",
    "Much more could be said for experimental techniques and challenges for intracellular measurements, but we mention this mostly as examples. The take-away is that these are challenging problems to handle experimentally, and computational models are therefore especially important, to reconcile the experiments we do have, but also to probe the system in silico. The SERCA pump can for example be modelled using molecular dynamics to gain further insights."
   ]
  },
  {
   "cell_type": "markdown",
   "metadata": {},
   "source": [
    "# The Sodium-Calcium Exchanger\n",
    "\n",
    "The other major actor responsible for cytosolic calcium decay is the Na$^{2+}$/Ca$^{2+}$ exchanger, or NCX for short. Unlike SERCA, which pumps calcium into the SR, the NCX takes calcium out of the cell entirely. NCX pushes calcium against its concentration gradient, by allowing for a co-transport of sodium along its concentration gradient. For each calcium ion transported across the membrane, three sodium ions are transported in the opposite direction. Because of this, the NCX is responsible for carrying two transmembrane fluxes, a calcium current, and a sodium current. Because calcium ions has a charge of $2e$, and sodium ions have a charge of $e$, there will be a net transport of charge for each NCX cycle, so the NCX is not only responsible for ion transport, but will also change the membrane potential."
   ]
  },
  {
   "cell_type": "markdown",
   "metadata": {},
   "source": [
    "### Modeling NCX with Michaelis-Menten kinetics\n",
    "\n",
    "The simpest model we had for SERCA used the Michaelis-Menten equation, modeling the activity as increasing with the cytosolic calcium level, eventually becoming saturated. Experiments show that the NCX current exhibits similar saturation behavior with the cytosolic calcium. We can therefore propose using a similar model for NCX:\n",
    "$$I_{\\rm NCX} = v_{\\rm max} \\frac{\\rm [Ca^{2+}]_{\\rm i}}{{\\rm EC}_{\\rm 50} + [\\rm Ca^{2+}]_{\\rm i}},$$\n",
    "This model describes the dependence on cytosolic concentration and the saturation behavior quite well, but it has some serious limitations, as it completely neglects the impact the cytosolic sodium levels and the membrane potential play on the NCX. This can be remedied by letting the parameters $v_{\\rm max}$ and $\\rm EC_{\\rm 50}$ be functions of $V$ and $\\rm [Na^{2+}]_i$, rather than be constant, but this is a significant increase in complexity.\n",
    "\n",
    "To understand *why* we need to have a dependence on $V$ and $\\rm [Na^{2+}]_i$, we need to discuss the thermodynamics of the NCX."
   ]
  },
  {
   "cell_type": "markdown",
   "metadata": {},
   "source": [
    "### Thermodynamics of the NCX\n",
    "\n",
    "The basis for our discussion on SERCA, was that for activity to be possible, the net change in Gibb's energy had to be negative: $\\Delta G < 0$, this is also the case for NCX. However, while SERCA is driven by ATP, NCX does not spend any ATP for its activity, it only uses co-transport. This means the change in Gibb's energy is given simply by the transport of ions. A single cycle of NCX transports one calcium ion across the membrane, and three sodium in the other direction, thus the net change in Gibb's energy is\n",
    "$$\\Delta G = \\Delta G_{\\rm Ca} - 3\\Delta G_{\\rm Na} < 0,$$\n",
    "here we have defined $\\Delta G_{\\rm Ca}$ and $\\Delta G_{\\rm Ca}$ to be the energy change when ions are transported out of the cell, which is why we have a negative sign for the sodium. We thus have a requirement that\n",
    "$$\\Delta G_{\\rm Ca} < 3\\Delta G_{\\rm Na},$$\n",
    "for calcium to be pumped out of the cell through NCX. Note that if $\\Delta G_{\\rm Ca} = 3\\Delta G_{\\rm Na}$, NCX will have no net transport, but if $\\Delta G_{\\rm Ca} > 3\\Delta G_{\\rm Na}$, calcium will actually be transported *into* the cell by NCX, i.e., NCX has a reverse mode.\n",
    "\n",
    "You may be tempted to insert the expression we found for $\\Delta G_{\\rm Ca}$ for the SERCA pump, however, that would no longer be correct. Recall that one of our assumptions for the SERCA pump was that there was no electric potential across SR membrane. The NCX however, acts across the sarcolemma, where not only is the membrane potential nonzero, but it is changing throughout the action potential. So in addition to calcium concentration gradient, we need to account for the electric potential. Finding the Gibb's energy when considering both the electrical and the concentration gradient isn't that hard, in fact we have already done it during our derivation of the Nernst potential. From that we know that $\\Delta G_{\\rm X} = zF(E_{\\rm x} - V)$, and inserting this into our current expression gives\n",
    "$$2F(E_{\\rm Ca} - V) < 3F(E_{\\rm Na} - V).$$\n",
    "We can simplify by removing the constant ($F$), and solve for $V$, which gives\n",
    "$$V < 3E_{\\rm Na} - 2E_{\\rm Ca}$$.\n",
    "Now, recall that this inequality states the condition for calcium to be transported out of the cell (and sodium into it). From the inequality condition we see that this will happen if the membrane potential is below a certain threshold, if the membrane potential is larger however, the direction of the NCX flux will turn or *reverse*. \n",
    "\n",
    "Put simply, we have found the *reversal potential* for the NCX, which can be expressed as\n",
    "$$E_{\\rm NCX} = 3E_{\\rm Na} - 2E_{\\rm Ca}.$$\n",
    "This reversal potential is completely analogous to the reversal potential (aka the Nernst potential) of our other ionic currents. Because of this, we might be tempted to model the NCX as an ohmic current: $I_{\\rm NCX} = g_{\\rm NCX}(V - E_{\\rm NCX})$. However, the NCX doesn't really behave in this simple ohmic manner, and the kinetics of the current will depend strongly on the calcium and sodium concentrations. However, the reversal potential does tell us something about when the exchanger is active, and in which direction the exchange is occuring."
   ]
  },
  {
   "cell_type": "markdown",
   "metadata": {},
   "source": [
    "### A more realistic formulation of the NCX\n",
    "\n",
    "To get a physiologically accurate NCX, we need to bring out the big guns. The formulation we will now look at was first proposed by Mullins (1977), then simplified by DiFrancesco and Noble (1985), and then further modified by Luo & Rudy (1994). In his book on calcium handling, Donald Bers gives a further extended model than the one Luo & Rudy proposed.\n",
    "\n",
    "The Luo-Rudy NCX model is as follows\n",
    "$$I_{\\rm NaCa} = k_{\\rm NaCa}\n",
    "\\frac{\n",
    "{\\rm[Na^+]^3_i [Ca^{2+}]_e} \\cdot {\\rm exp}\\left[\\eta\\cdot V\\cdot\\frac{F}{RT}\\right]\n",
    "- {\\rm[Na^+]^3_e [Ca^{2+}]_i} \\cdot {\\rm exp}\\left[(\\eta-1)\\cdot V\\cdot\\frac{F}{RT}\\right]\n",
    "}{\n",
    "\\left(K_{\\rm m, Na}^3 + [{\\rm Na}^+]_{\\rm e}^3\\right)\n",
    "\\left(K_{\\rm m, Ca} + [{\\rm Ca}^{2+}]_{\\rm e}\\right)\n",
    "\\left(1 + k_{\\rm sat}\\cdot {\\rm exp}\\left[(\\eta-1)\\cdot V\\cdot\\frac{F}{RT}\\right]\\right)}\n",
    "$$\n",
    "\n",
    "With parameters $k_{\\rm NaCa} = 2000$ µA/µF, $K_{\\rm m,Na} = 87.5$ mmol/L, $K_{\\rm m,Ca} = 1.38$ mmol/L, $k_{\\rm sat} =0.1$ and $\\eta = 0.35$."
   ]
  },
  {
   "cell_type": "markdown",
   "metadata": {},
   "source": [
    "This model is built on the same type of arguments we have gone through for our SERCA pump, but we need to include more complicated terms to accurately capture the different physiological behaviors of NCX. We won't take the time to explain the model in detail here, but you can look up the original publications to see it explained.\n",
    "\n",
    "To explore the behavior of this model a bit, we show a figure from the book *Excitation-Contraction Coupling and Cardiac Contractile Force* by Donald M. Bers (aka, the bible on calcium handling in cardiomyocytes).\n",
    "\n",
    "<img src=\"fig/bers.png\" width=500>\n",
    "Figure: Plots of behavior of Luo-Rudy (1994) NCX formulation behavior, note that $E_{\\rm m}$ is the membrane potential, while $E_{\\rm Na/Ca}$ is the reversal potential of the NCX.\n",
    "\n",
    "From the figure we can see that the activity of NCX strongly depends on the sodium concentration, the calcium concentration and on the membrane potential. Because of this the formulation of the model becomes quite detail and complex. However, computationally speaking, it is a fairly cheap model, as there is still no gating."
   ]
  },
  {
   "cell_type": "markdown",
   "metadata": {},
   "source": [
    "## Regulating Excitation-Contraction coupling\n",
    "\n",
    "There are many mechanisms by which excitation-contraction coupling in the cell can be regulated, but an important one is regulating SERCA activity directly. As we have briefly discussed, the balance between the NCX and SERCA sets the cycling balance in the cell, so if one upregulates or downregulates SERCA, this balance is shifted.\n",
    "\n",
    "Say for instance we upregulate SERCA, this means SERCA will become more active and pump more of the cytosolic calcium into the SR. Over time this means the SR load will increase, and the calcium release and thus transient will become bigger, because of the higher SR load. So just regulating the calcium uptake automatically gives a bigger calcium release. Eventually the cell reaches a new baseline where the amount of calcium released from the SR equals that pumped back into it by SERCA.\n",
    "\n",
    "Because of this regulatory effect, SERCA is a strong cadidate for theraputic targets. For example: As we saw in an earlier figure, SERCA activity is down in heart failure. At the same time, the calcium transient is weaker. Perhaps one could use targeted drugs to upregulate SERCA and thus partially restore the calcium transient. "
   ]
  },
  {
   "attachments": {},
   "cell_type": "markdown",
   "metadata": {},
   "source": [
    "#### Regulation of SERCA\n",
    "\n",
    "SERCA is regulated by a molecule called *phospholamban* (PLB), which inhibits SERCA activity. You can think of PLB as the brakes of SERCA, and under normal conditions, the \"brakes\" are partially on.\n",
    "\n",
    "<img src=\"fig/serca_plb.png\" width=200>\n",
    "\n",
    "However, two other important signaling molecules, Protein Kinease A (PKA) and CaMKII, but downregulate PLB's activity by phosphorolating it. So PKA and CaMKII both turn of SERCA's \"brakes\", and thus they increase SERCA activity. Both of these kinaeses are involved in many different signaling cascades in the body.\n",
    "\n",
    "One important such cascade is the beta-adrenergic response that occurs when $\\beta$ receptors on the outside of the cell get epinephrine (adrenaline) or norepinephrine. Through a cascade ATP gets converted to cyclic AMP (cAMP) which in turn activates PKA, which trigger further signaling pathways, one of which being SERCA upregulation. This SERCA upregulation helps increase the cells SR load, which is required to sustain the increased heart rythm as a result of the adrenergic response.\n",
    "\n",
    "<img src=\"fig/beta_adrenergic.png\" width=450>\n",
    "\n",
    "Therefore, when the heart rate increases due to beta-adrenergic response, the SR load is also increasing. This leads to a *positive* *force-frequency* relationship in the heart. Meaning, the faster the heart beats, the stronger each beat is. This is shown in the Figure below. The White symbols is a healthy heart, and you can see, as the frequency increases, so does the SR load and the produced force. The black symbols however, show a failing heart, and you can see there is no longer a positive force-frequency relationship.\n",
    "\n",
    "<img src=\"fig/force_frequency.png\" width=300>\n",
    "[Donald M. Bers Circulation Research. 2000;87:275-281]\n"
   ]
  },
  {
   "cell_type": "markdown",
   "metadata": {},
   "source": [
    "In our models for SERCA, we did not include direct regulation from PLB, PKA or CaMKII, but these effects might be important to include if you want your model to include $\\beta$-adrenergic response, or the effects of drugs. One fairly simple such model has been proposed by [Koivumäki et al](http://rsta.royalsocietypublishing.org/content/367/1896/2181.short).\n",
    "\n",
    "<img src=\"fig/serca_regulation_model.png\" width=300>"
   ]
  },
  {
   "cell_type": "markdown",
   "metadata": {},
   "source": [
    "### Auto-regulation\n",
    "\n",
    "Another important phenomenological outcome of calcium cycling is that cardiomyocytes are self-regulating. Again, we will only show some examples of this, and not go into the finer details.\n",
    "\n",
    "The Figure below is from a cardiomyocyte experiment. Here they are pacing the cell at a regular pace, and measuring the amount of shortening per beat. The shortening of the cell is proportional to the calcium transient. When pacing at a regular pace, the calcium transient and thus shortening is fairly constant, the cell is at a steady cycle. In the experiment, they now add a bit of caffine to the system. Caffine binds to the calcium release channels (RyR), making it easier for them to open. The easier opening gives a bigger calcium release and a much bigger transient. This response occurs very fast, and right after the caffine is introduced, we see a much larger shortening of the cell. However, over the next few beats, the shortening response becomes smaller and smaller untill it is back to its baseline. This is not due to any manipulation from our side, it is the cell that is self-regulating, or *auto-regulating* back to its baseline. To understand why this occurs, think of where the increased calcium is coming from. The caffine triggers bigger release from the SR, but the SERCA is not upregulated, and so this additional cytosolic calcium will be evenly split between NCX and SERCA. Some of the additional calcium will thus leave the cell, resulting in decreasing SR load with each beat. With decreasing SR load, the calcium release becomes weaker, untill we eventually reach a new equilibrium.\n",
    "\n",
    "<img src=\"fig/autoregulation0.png\" width=400>\n",
    "[Adapted from Sjaastad et al., 2003]\n",
    "\n",
    "When caffine is removed from the system, we see the opposite response. With no caffine, the RyR are again hard to open, leading to a smaller release of calcium from the SR (due to the low SR load). However, as the release is smaller, a relatively speaking larger amount of calcium is entering through the L-type than through the RyRs, and again, this calcium is split between NCX and SERCA. SERCA therefore refills the SR load for every beat, which leads to stronger release again, untill we are back to the baseline value we had earlier.\n",
    "\n",
    "The same authors carried out the same experiment, but adding *tetracaine*  instead of caffine, which has the opposite effect on RyR, it inhibits release. Right after adding tetracaine to the system, the calcium release is much weaker, giving a small calcium transient and little shortening. However, over the next 10-20 beats, the cell is auto-regulating by increasing its SR load, untill we are back to nearly the same baseline as we started at. Taking tetracaine off the system gives the same behavior as when removing caffine, the increased SR load gives a larger shortening, but after some time the SR load has decreased back to its original value.\n",
    "\n",
    "In this experiment they also measured both the L-type current and the NCX current of the cell, which when summed gives us a measure of the total amount of calcium entering and leaving the cell. We see that this measurement at baseline goes to 0 over one beat (measured points at a and c). This means there is no net calcium entering or leaving the cell, and thus the SR load is constant. However, after perturbing the system, we see that the integral does *not* go to 0. This means a net amount of calcium is either entering or leaving the cell (entering at point b, and leaving at point d). This calcium cannot be in the cytosol, so it has to end up in the SR.\n",
    "\n",
    "<img src=\"fig/tetracaine.png\" width=400>"
   ]
  }
 ],
 "metadata": {
  "kernelspec": {
   "display_name": "Python 3",
   "language": "python",
   "name": "python3"
  },
  "language_info": {
   "codemirror_mode": {
    "name": "ipython",
    "version": 3
   },
   "file_extension": ".py",
   "mimetype": "text/x-python",
   "name": "python",
   "nbconvert_exporter": "python",
   "pygments_lexer": "ipython3",
   "version": "3.6.5"
  }
 },
 "nbformat": 4,
 "nbformat_minor": 2
}
