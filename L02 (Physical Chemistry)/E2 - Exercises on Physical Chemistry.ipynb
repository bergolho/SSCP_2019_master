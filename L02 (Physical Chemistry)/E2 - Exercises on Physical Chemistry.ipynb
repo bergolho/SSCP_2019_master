{
 "cells": [
  {
   "cell_type": "markdown",
   "metadata": {},
   "source": [
    "# E2 — Exercises on Physical Chemistry\n",
    "\n",
    "This notebook contains interactive exercises related to the L2 session of the SSCP2019. \n",
    "\n",
    "Link to the accompanying notebook\n",
    "* <a href=\"L2 - Overview of Physical Chemistry and Electrochemistry.ipynb\">L2 — Overview of Physical Chemistry and Electrochemistry</a>\n",
    "\n",
    "\n",
    "The following topics are covered\n",
    "* [Example: Modeling a reaction with the Law of Mass Action](#mass_action)\n",
    "* [Exercise 1: Modeling a Two-way Reaction to Understand Equilibrium](#equilibrium)\n",
    "* [Exercise 2: Modeling Michelis-Menten Kinetics](#kinetics)"
   ]
  },
  {
   "cell_type": "markdown",
   "metadata": {},
   "source": [
    "<a id=\"mass_action\"></a>\n",
    "## Modelling a reaction with the Law of Mass Action\n",
    "\n",
    "Now we will turn to how we can solve the ODE system given by the Law of Mass Action to describe the reaction over time. We will sove the equation system numerically using the function [`scipy.integrate.odeint`](https://docs.scipy.org/doc/scipy/reference/generated/scipy.integrate.odeint.html), which is a wrapper of a well developed FORTRAN ode solver. If you normally use another programming language, such as Matlab, similar functions are available there. If you have never solved ODE systems numerically, and you want to understand the process in detail, we recommend the (short) book *Finite Difference Computing with Exponential Decay Models* by Professor Hans Petter Langtangen, which is open access and can be [downloaded free of charge from Springer.](http://www.springer.com/us/book/9783319294384) This books gives a thorough and detailed introduction to solving ODE systemts numerically, and even has a subchapter on modelling chemical reactions, i.e., the exact same problems we will be solving here.\n",
    "\n",
    "\n",
    "If you want to know how to solve such systems numerically from scratch, take a look at the notebook: [S2—Solving ODE Systems Numerically](S2 - Solving ODE Systems Numerically.ipynb).\n",
    "\n",
    "The scipy `odeint` function solves an explicitly defined system on the form\n",
    "$$\\frac{{\\rm d}y}{{\\rm d}t} = f(y, t, p).$$\n",
    "Here, $y$ is a single variable if you have a single ODE, or a vector if you have a system of ODEs. It is often referred to as the *state* variables or simply *states* of the system. The variable $t$ denotes time, and the variable $p$ denotes a vector of any additional parameters of your system. The function $f$ is often called the right-hand-side (RHS) of the system.\n",
    "\n",
    "Our ODE system was given by the Law og Mass Action\n",
    "$$\\begin{align}\n",
    "\\frac{\\mathrm{d [H_2 O]}}{\\mathrm{d}t} = 2k\\mathrm{[H_2]^2}\\mathrm{[O_2]}, \\qquad \n",
    "\\frac{\\mathrm{d [O_2]}}{\\mathrm{d}t} = -k\\mathrm{[H_2]^2}\\mathrm{[O_2]}, \\qquad\n",
    "\\frac{\\mathrm{d [H_2]}}{\\mathrm{d}t} = -2k\\mathrm{[H_2]^2}\\mathrm{[O_2]}.\n",
    "\\end{align}\n",
    "$$\n",
    "To write this on the form needed by `odeint` we express the states as the vector $y = (\\mathrm{[H_2]}, \\mathrm{[O_2]}, \\mathrm{[H_2O]})$, which means the RHS becomes:\n",
    "$$f(y, t, p) = \\bigg(\\frac{\\mathrm{d [H_2]}}{\\mathrm{d}t}, \\frac{\\mathrm{d [O_2]}}{\\mathrm{d}t}, \\frac{\\mathrm{d [H_2 O]}}{\\mathrm{d}t}\\bigg).$$\n",
    "\n",
    "We now implement the RHS"
   ]
  },
  {
   "cell_type": "markdown",
   "metadata": {},
   "source": [
    "<a id=\"mass_action\"></a>\n",
    "## Modelling a reaction with the Law of Mass Action\n",
    "\n",
    "In the lecture session we covered the law of mass action and how it gives rise to a system of ODEs that describe a chemical reaction over time. We now turn to how such a system can be solved numerically. We won't go through the theoretical basis of numerically solving ODEs, but instead show how we can do this using the SciPy library. If you have never solved ODE systems numerically, and you want to understand the process in detail, we recommend the (short) book *Finite Difference Computing with Exponential Decay Models* by Professor Hans Petter Langtangen, which is open access and can be [downloaded free of charge from Springer](http://www.springer.com/us/book/9783319294384). This books gives a detailed introduction to solving ODE systemts numerically, and even has a subchapter on modelling chemical reactions, i.e., the exact same problems we will be solving here.\n",
    "\n",
    "For the function to carry out its job, it needs three inputs:\n",
    "1. The ODE system itself, and all necessary parameters\n",
    "2. The initial values of each state.\n",
    "3. What time points to solve for\n",
    "\n",
    "To be more specific, we will use function [`scipy.integrate.odeint`](https://docs.scipy.org/doc/scipy/reference/generated/scipy.integrate.odeint.html) (click the link to read the full reference). The name `odeint` is a portmanteau of ODE and *integrate*, as the equations are solved by numerical integrations. To specify the ODE system so it can be used by the `odeint`-function, we must write the derivatives of the system as a vector equation:\n",
    "$$\\frac{{\\rm d}\\vec{y}}{{\\rm d}t} = \\vec{f}({\\vec y}, t; \\vec{p}).$$\n",
    "Here, $y$ is a single variable if you have a single ODE, or a sequence of variables if you have a system of ODEs. These variables are often referred to as the *state* variables or simply *states* of the system. \n",
    "In our example, it would for example be\n",
    "$$\\vec{y} = \\big([{\\rm H_2}], [{\\rm O_2}], [{\\rm H_2O}]\\big).$$\n",
    "Note that the order of states is arbitrary, but we must be consistent. In addition, the function $f$ takes in the time $t$, and any parameters of the model as a vector, $\\vec{p}$.\n",
    "\n",
    "The function $\\vec{f}$ should now represent the right-hand side of the ODE-system, i.e., the derivative of each state in the system. In our case, this would be\n",
    "$$\\vec{f}(\\vec{y}, t, \\vec{p}) = \\bigg(\\frac{\\mathrm{d [H_2]}}{\\mathrm{d}t},  \\frac{\\mathrm{d [O_2]}}{\\mathrm{d}t}, \\frac{\\mathrm{d [H_2 O]}}{\\mathrm{d}t}\\bigg).$$\n",
    "Note that the order of the derivatives has to be the same as the one we chose for the states, $\\vec{y}$.\n",
    " \n",
    "The expressions for these three derivatives we found from the law of mass action:\n",
    "$$\\begin{align}\n",
    "\\frac{\\mathrm{d [H_2 O]}}{\\mathrm{d}t} = k\\mathrm{[H_2]^2}\\mathrm{[O_2]}, \\qquad \n",
    "\\frac{\\mathrm{d [O_2]}}{\\mathrm{d}t} = -\\frac{\\mathrm{d [H_2 O]}}{\\mathrm{d}t}, \\qquad\n",
    "\\frac{\\mathrm{d [H_2]}}{\\mathrm{d}t} = -2\\frac{\\mathrm{d [H_2 O]}}{\\mathrm{d}t}.\n",
    "\\end{align}\n",
    "$$\n",
    "\n",
    "We now have everything we need to implement the function $\\vec{f}(\\vec{y}, t; \\vec{p})$ as a Python function. As `f` is not a very descriptive variable name, we instead choose to name the function `rhs`"
   ]
  },
  {
   "cell_type": "code",
   "execution_count": 1,
   "metadata": {},
   "outputs": [],
   "source": [
    "# Import necessary packages\n",
    "import numpy as np\n",
    "import matplotlib.pyplot as plt\n",
    "from scipy.integrate import odeint"
   ]
  },
  {
   "cell_type": "code",
   "execution_count": 2,
   "metadata": {},
   "outputs": [],
   "source": [
    "# Implement the right-hand-side of the system as a function\n",
    "def rhs(y, t, k):\n",
    "    H2, O2, H2O = y\n",
    "\n",
    "    dH2_dt = -2*k*H2*H2*O2\n",
    "    dO2_dt = -k*H2*H2*O2\n",
    "    dH2O_dt = 2*k*H2*H2*O2\n",
    "    \n",
    "    return (dH2_dt, dO2_dt, dH2O_dt)"
   ]
  },
  {
   "cell_type": "markdown",
   "metadata": {},
   "source": [
    "Note that the argument `y` here represents a sequence of the model states. To make it easier to write out the derivatives, and increase readability, we opt to split $y$ up into the different state variables. Likewise we compute the three derivatives separately and then put them into a single sequence when the function returns.\n",
    "\n",
    "Note also that in our example case, the derivatives of the system do not explicitly depend on the time $t$, however, as `odeint` solves a general ODE system, we need to specify the function with the time as an explicit argument. Lastly, we define the parameter $k$ as a third argument, if we at this point knew what this parameter should be, and that it wouldn't be changed, we could hard-code it into the function, or at least add it as a keyword-argument. But for now, we leave it as an argument."
   ]
  },
  {
   "cell_type": "markdown",
   "metadata": {},
   "source": [
    "In addition to defining the ODE system itself, we need to supply information about what times to solve the equations for, as well as the initial conditions. This is supplied directly to the `odeint` function, which has the signature: ``odeint(rhs, y_0, t, p)``. Here `rhs` is the Python function we just defined, while `y_0`, `t`, and `p` are should be sequences of some kind, meaning Python tuples, lists or arrays."
   ]
  },
  {
   "cell_type": "markdown",
   "metadata": {},
   "source": [
    "For this example, let us set $k=10$, and solve for $t\\in(0, 10)$, with a time step of $\\Delta t =0.1$. For the initial condition we can let $[\\rm H_2]_0 = 1$, $[\\rm O_2]_0 = 1$ and $[\\rm H_2 O] = 0.$"
   ]
  },
  {
   "cell_type": "code",
   "execution_count": 3,
   "metadata": {},
   "outputs": [],
   "source": [
    "# Make a vector of time points where solutions are to be computed\n",
    "dt = 0.01\n",
    "T = 5\n",
    "t = np.arange(0, T, dt)\n",
    "\n",
    "# Define the initial condition\n",
    "y_0 = (1.0, 1.0, 0.0)\n",
    "\n",
    "# Define any extra parameters of the ODE system\n",
    "k = 10\n",
    "params = (k,) # p must be a vector\n",
    "\n",
    "# Call the ODE solver\n",
    "solution = odeint(rhs, y_0, t, params)"
   ]
  },
  {
   "cell_type": "markdown",
   "metadata": {},
   "source": [
    "Note especially that even though we have a single parameter, the parameter variable to `odeint` has to be a sequence, so we make it into a vector with a single element with `(k,)`, if we had multiple parameters it could be for example `(k1, k2)`."
   ]
  },
  {
   "cell_type": "markdown",
   "metadata": {},
   "source": [
    "The code above solves the ODE system for us and returns the solution as an array. Each point in the array corresponds to the solution at a given time-point corresponding to the time array we sent in. As our system contains 3 states, the solutions will be a 2D-array, with each column corresponding to a given state. We can show this by writing out the shape of the array:"
   ]
  },
  {
   "cell_type": "code",
   "execution_count": 4,
   "metadata": {},
   "outputs": [
    {
     "name": "stdout",
     "output_type": "stream",
     "text": [
      "(500, 3)\n"
     ]
    }
   ],
   "source": [
    "print(solution.shape)"
   ]
  },
  {
   "cell_type": "markdown",
   "metadata": {},
   "source": [
    "To make it easier to work with and plot these solutions, we opt to split the matrix up, so that each state is in its own 1D array of datapoints. This can be done in a few different ways, for example:\n"
   ]
  },
  {
   "cell_type": "code",
   "execution_count": 5,
   "metadata": {},
   "outputs": [],
   "source": [
    "# Split up states\n",
    "H2, O2, H2O = np.hsplit(solution, 3)"
   ]
  },
  {
   "cell_type": "markdown",
   "metadata": {},
   "source": [
    "We are now ready to plot and look at our solutions"
   ]
  },
  {
   "cell_type": "code",
   "execution_count": 6,
   "metadata": {},
   "outputs": [
    {
     "data": {
      "image/png": "[encoded data removed]",
      "text/plain": [
       "<Figure size 432x288 with 1 Axes>"
      ]
     },
     "metadata": {
      "needs_background": "light"
     },
     "output_type": "display_data"
    }
   ],
   "source": [
    "plt.plot(t, H2)\n",
    "plt.plot(t, O2)\n",
    "plt.plot(t, H2O)\n",
    "\n",
    "plt.xlabel('Time')\n",
    "plt.ylabel('Concentrations')\n",
    "plt.legend(['H2', 'O2', 'H2O'])\n",
    "plt.show()"
   ]
  },
  {
   "cell_type": "markdown",
   "metadata": {},
   "source": [
    "From our resulting plot we can now see how the reaction occurs very swiftly during the first few milliseconds, but then subsides as the reactants start to run out. As we set our initial conditions to equal concentrations of O$_2$ and H$_2$, we see that H$_2$ becomes the limiting factor of the reaction as it is consumed at twice the rate of the oxygen.\n",
    "\n",
    "If we now want to explore our system, we would most likely want to change the time domain, the initial conditions or the parameters of the system. You can go back and change these manually and then rerun and replot the solution. If you plan to do it many times, it might be more systematic to define a function that does everything, for simplicity and order."
   ]
  },
  {
   "cell_type": "code",
   "execution_count": 7,
   "metadata": {},
   "outputs": [],
   "source": [
    "def combustion_reaction(k=1.0, H2_0=2.0, O2_0=2.0):\n",
    "    \"\"\"Model the chemical reaction for given set of parameters and initial conditions\"\"\"\n",
    "    t = np.arange(0, 5, 0.01)\n",
    "    y_0 = (H2_0, O2_0, 0)\n",
    "\n",
    "    solution = odeint(rhs, y_0, t, (k,))\n",
    "    H2, O2, H2O = np.hsplit(solution, 3)\n",
    "    \n",
    "    plt.plot(t, H2)\n",
    "    plt.plot(t, O2)\n",
    "    plt.plot(t, H2O)\n",
    "    \n",
    "    plt.axis((0, 5, 0, 5))\n",
    "    plt.xlabel('Time')\n",
    "    plt.ylabel('Concentrations')\n",
    "    plt.legend(['H2', 'O2', 'H2O'])\n",
    "    plt.show()       "
   ]
  },
  {
   "cell_type": "markdown",
   "metadata": {},
   "source": [
    "We have now made a function that resolves the problem and plots the solution for different choices of parameters or initial conditions. This makes it easier to run the model under different conditions."
   ]
  },
  {
   "cell_type": "markdown",
   "metadata": {},
   "source": [
    "### The Jupyter Notebook Widget\n",
    "\n",
    "If you define a function that both solves and plots an ODE system you can also use a nice functionality in Jupyter: *interactive widgets*. These let you study the system a little more dynamically. In the code cell below, we create an interactive widget where we can use sliders to change the reaction rate $k$ or the initial conditions. Every time you drag one of the sliders, the system is resolved and replotted using the new values."
   ]
  },
  {
   "cell_type": "code",
   "execution_count": 8,
   "metadata": {},
   "outputs": [
    {
     "data": {
      "application/vnd.jupyter.widget-view+json": {
       "model_id": "c91c7ad2b7374a2cb2292fb8609f3246",
       "version_major": 2,
       "version_minor": 0
      },
      "text/plain": [
       "interactive(children=(FloatSlider(value=1.0, description='k', max=2.5), FloatSlider(value=2.0, description='H2…"
      ]
     },
     "metadata": {},
     "output_type": "display_data"
    }
   ],
   "source": [
    "from ipywidgets import interact, FloatSlider\n",
    "\n",
    "interact(combustion_reaction, \n",
    "         k=(0, 2.5, 0.1), \n",
    "         H2_0=(0, 3, 0.25),\n",
    "         O2_0=(0, 3, 0.25));"
   ]
  },
  {
   "cell_type": "markdown",
   "metadata": {},
   "source": [
    "In the coming sessions we will often use these widgets to explore some dynamic system interactively, and show of concepts. Often the code to produce these widgets will be in separate files, and we simply import them into the notebook - this is mainly done to keep the notebooks from becoming too cluttered with setup code. If you are curious to see the code underlying any widget in the course, you can always look up the source file."
   ]
  },
  {
   "cell_type": "markdown",
   "metadata": {},
   "source": [
    "### Some notes on `odeint`\n",
    "\n",
    "In this course, we use `scipy.integrate.odeint` as it is an easy to use, and well functioning ODE integrator. However, the SciPy package recommends to switch to using the similar function `solve_ivp` (ivp stands for initial value problem). If you plan to use Python to solve ODE systems directly in the future, outside the scope of this course, please take a look at the `solve_ivp` function.\n",
    "\n",
    "To solve the actual ODE system, the `odeint` function uses a method called LSODA, as implemented in the FORTRAN pack odepack. This is a well developed and respected ODE solver, but might not always be the best option for solving the ODE-systems involved in computational physiology. While we use `odeint` for examples and exercises in this school, an actual application or project for research might have better options.\n",
    "\n",
    "Note also that `odeint` is an *adaptive* solver, meaning it will attempt to take larger steps in time if the derivative is small. This makes the solver faster, however, if the derivative has sudden changes, as they often will in electrophysiological models, it can introduce error. To explicitly control the time stepping of `odeint` in such cases, use additional arguments such as `hmax`, see the <a href=\"https://docs.scipy.org/doc/scipy/reference/generated/scipy.integrate.odeint.html\">official reference</a> for details and a full list of additional options."
   ]
  },
  {
   "cell_type": "markdown",
   "metadata": {},
   "source": [
    "<a id=\"equilibrium\"></a>\n",
    "## Exercise 1: Modeling a Reversible Reaction to Understand Equilibrium\n",
    "\n",
    "Not it's time for you to try. Using the same approach as for the one-way reaction above, you will model the two-way reversible reaction\n",
    "$$\\mathrm{Mb} + \\mathrm{O_2} \\underset{k_-}{\\overset{k_+}{\\rightleftharpoons}} \\mathrm{MbO_2}.$$\n"
   ]
  },
  {
   "cell_type": "code",
   "execution_count": null,
   "metadata": {},
   "outputs": [],
   "source": [
    "import numpy as np\n",
    "import matplotlib.pyplot as plt\n",
    "from scipy.integrate import odeint"
   ]
  },
  {
   "cell_type": "markdown",
   "metadata": {},
   "source": [
    "**Exercise 1a)**\n",
    "\n",
    "Using the law of mass action, find and write out the system of ODEs describing the reaction.\n",
    "$$\n",
    "\\frac{\\rm d [Mb]}{{\\rm d}t} = \\ldots, \\qquad\n",
    "\\frac{\\rm d [O_2]}{{\\rm d}t} = \\ldots, \\qquad\n",
    "\\frac{\\rm d [MbO_2]}{{\\rm d}t} = \\ldots.$$\n",
    "(Use pen and paper.)"
   ]
  },
  {
   "cell_type": "markdown",
   "metadata": {},
   "source": [
    "**Exercise 1b)**\n",
    "\n",
    "Fill in the code below to define the RHS of the ODE-system as a Python function."
   ]
  },
  {
   "cell_type": "code",
   "execution_count": null,
   "metadata": {},
   "outputs": [],
   "source": [
    "def rhs(y, t, kp, km):\n",
    "    Mb, O2, MbO2 = y\n",
    "            \n",
    "    # Compute derivatives\n",
    "    dMb_dt = ...\n",
    "    dO2_dt = ...\n",
    "    dMbO2_dt = ...\n",
    "    \n",
    "    # Return RHS as sequence\n",
    "    return [dMb_dt, dO2_dt, dMbO2_dt]"
   ]
  },
  {
   "cell_type": "markdown",
   "metadata": {},
   "source": [
    "**Exercise 1c)**\n",
    "\n",
    "Use `odeint` to solve the system by filling in the code cell below. Make up some reasonable parameters and initial conditions."
   ]
  },
  {
   "cell_type": "code",
   "execution_count": null,
   "metadata": {},
   "outputs": [],
   "source": [
    "# Define time vector\n",
    "T = ...\n",
    "dt = ...\n",
    "time = np.arange(0, T, dt)\n",
    "\n",
    "# Define initial condition vector\n",
    "y0 = (..., ..., ...)\n",
    "\n",
    "# Define parameter vector\n",
    "kp\n",
    "km\n",
    "params = (kp, km)\n",
    "\n",
    "# Call the ODE solver\n",
    "solution = odeint(rhs, y0, time, params)"
   ]
  },
  {
   "cell_type": "markdown",
   "metadata": {},
   "source": [
    "#### Exercise 1d)\n",
    "\n",
    "Plot the solutions you just computed by filling in code below. "
   ]
  },
  {
   "cell_type": "code",
   "execution_count": null,
   "metadata": {},
   "outputs": [],
   "source": [
    "# Split up the solution matrix\n",
    "_, _, _ = np.hsplit(solution, 3)\n",
    "\n",
    "# Plot the solutions\n",
    "plt.plot(time, ...)\n",
    "plt.plot(time, ...)\n",
    "plt.plot(time, ...)\n",
    "plt.show()"
   ]
  },
  {
   "cell_type": "markdown",
   "metadata": {},
   "source": [
    "**Exercise 1d)**\n",
    "\n",
    "From the law of mass action, we found an equilibrium condition for the system\n",
    "$$\\frac{[\\mathrm{Mb}][\\mathrm{O_2}]}{[\\mathrm{MbO_2}]} = \\frac{k_-}{k_+} = K_{\\rm d}.$$\n",
    "\n",
    "Fill in the parameters you chose and verify that this equilibrium condition is met in your numerical solution."
   ]
  },
  {
   "cell_type": "markdown",
   "metadata": {},
   "source": [
    "<a id='kinetics'></a>\n",
    "## Exercise 2: Modeling Michaelis-Menten Kinetics\n",
    "\n",
    "Let us model the Michaelis-Menten reaction and analyse the behavior\n",
    "$${\\rm S} + {\\rm E} \\underset{k_{-1}}{\\overset{k_1}{\\rightleftharpoons}} {\\rm ES} \\overset{k_2}{\\rightarrow} {\\rm E} + {\\rm P}.$$\n",
    "\n",
    "**Exercise 2a)**\n",
    "\n",
    "Using the law of mass action, write out the system of ODEs that describe the four concentrations of the system\n",
    "\n",
    "$$\n",
    "\\frac{\\rm d[S]}{{\\rm d}t} = \\ldots, \\qquad\n",
    "\\frac{\\rm d[E]}{{\\rm d}t} = \\ldots, \\qquad\n",
    "\\frac{\\rm d[ES]}{{\\rm d}t} = \\ldots, \\qquad\n",
    "\\frac{\\rm d[P]}{{\\rm d}t} = \\ldots\n",
    "$$\n",
    "(Use pen and paper).\n",
    "\n",
    "**Exercise 2b)**\n",
    "\n",
    "Fill in the code below to define the RHS of the system"
   ]
  },
  {
   "cell_type": "code",
   "execution_count": null,
   "metadata": {},
   "outputs": [],
   "source": [
    "import numpy as np\n",
    "import matplotlib.pyplot as plt\n",
    "from scipy.integrate import odeint"
   ]
  },
  {
   "cell_type": "code",
   "execution_count": null,
   "metadata": {},
   "outputs": [],
   "source": [
    "def rhs(y, t, k1p, k1m, k2):\n",
    "    # Unpack the states\n",
    "    S, E, ES, P = y\n",
    "    \n",
    "    # Compute derivatives\n",
    "    dS_dt = ...\n",
    "    dE_dt = ...\n",
    "    dES_dt = ...\n",
    "    dP_dt = ...\n",
    "    \n",
    "    # Return RHS as sequence\n",
    "    return [dS_dt, dE_dt, dES_dt, dP_dt]"
   ]
  },
  {
   "cell_type": "markdown",
   "metadata": {},
   "source": [
    "**Exercise 2c)**\n",
    "\n",
    "Solve the system with the rates $k_{-1} = 1$, $k_1 = 2$, $k_2 = 3$. Let $[{\\rm S}]_0 = 1$ and $[{\\rm E}]_0 = 0.1$. Solve the system for $t\\in[0, 30]$."
   ]
  },
  {
   "cell_type": "code",
   "execution_count": null,
   "metadata": {},
   "outputs": [],
   "source": [
    "# Define time vector\n",
    "T = ...\n",
    "dt = ...\n",
    "time = np.arange(0, T, dt)\n",
    "\n",
    "# Define initial condition vector\n",
    "y0 = (..., ..., ..., ...)\n",
    "\n",
    "# Define parameter vector\n",
    "k1p = ...\n",
    "k1m = ...\n",
    "k2 = ...\n",
    "params = (k1p, k1m, k2)\n",
    "\n",
    "# Call the ODE solver\n",
    "solution = odeint(rhs, y0, time, params)"
   ]
  },
  {
   "cell_type": "markdown",
   "metadata": {},
   "source": [
    "**Exercise 2d)**\n",
    "\n",
    "Now make two plots:\n",
    "1. A plot of the substrate S and the product P\n",
    "2. A plot of bound and free enzyme, SE and E"
   ]
  },
  {
   "cell_type": "code",
   "execution_count": null,
   "metadata": {},
   "outputs": [],
   "source": [
    "S, E, ES, P = np.hsplit(solution, 4)"
   ]
  },
  {
   "cell_type": "code",
   "execution_count": null,
   "metadata": {},
   "outputs": [],
   "source": [
    "# Plot 1\n",
    "..."
   ]
  },
  {
   "cell_type": "code",
   "execution_count": null,
   "metadata": {},
   "outputs": [],
   "source": [
    "# Plot 2\n",
    "..."
   ]
  },
  {
   "cell_type": "markdown",
   "metadata": {},
   "source": [
    "**Exercise 2e)**\n",
    "\n",
    "As a verification, let us make sure our solution is mass conserving. The following two quantities should be constant throughout the simulation:\n",
    "1. The total amount of enzyme $[\\rm E] + [\\rm ES]$\n",
    "2. The sum of substrate and product: $[\\rm S] + [\\rm ES] + [\\rm P]$\n",
    "\n",
    "First discuss with your neighbor why this should be the case. Then plot these curves and ensure that they are indeed constant."
   ]
  },
  {
   "cell_type": "code",
   "execution_count": null,
   "metadata": {},
   "outputs": [],
   "source": [
    "# Plot E + ES\n",
    "plt.plot(time, ...)\n",
    "\n",
    "# Plot S + ES + P\n",
    "plt.plot(time, ...)\n",
    "\n",
    "# Prettify the plot\n",
    "...\n",
    "\n",
    "plt.show()"
   ]
  },
  {
   "cell_type": "code",
   "execution_count": null,
   "metadata": {},
   "outputs": [],
   "source": []
  },
  {
   "cell_type": "markdown",
   "metadata": {},
   "source": [
    "#### Exercise 2f)\n",
    "\n",
    "The Michaelis-Menten gives the reaction velocity of the enzyme activity as\n",
    "$$v = v_{\\rm max} \\frac{[S]}{K_m + [S]}, \\qquad v_{\\rm max} = k_2 [E]_{\\rm tot}, \\qquad K_m = \\frac{k_{-1} + k_2}{k_1}.$$\n",
    "\n",
    "In your code, you have not computed the reaction velocity itself, but recall that this is given by\n",
    "$$[\\dot{\\rm P}] = k_2[{\\rm ES}].$$\n",
    "\n",
    "Plot the reaction velocity of your simulation and the reaction velocity predicted by the Michaelis-Menten equation in the same figure. Are the two different?"
   ]
  },
  {
   "cell_type": "code",
   "execution_count": null,
   "metadata": {},
   "outputs": [],
   "source": [
    "# Fill in your code here"
   ]
  },
  {
   "cell_type": "markdown",
   "metadata": {},
   "source": [
    "#### Exercise 2e)\n",
    "\n",
    "If you have programmed everything correctly, the two solutions should be slightly different. Explain why. \n",
    "\n",
    "(Hint: What assumptions did we make when deriving the Michaelis-Menten equation?)"
   ]
  }
 ],
 "metadata": {
  "kernelspec": {
   "display_name": "Python 3",
   "language": "python",
   "name": "python3"
  },
  "language_info": {
   "codemirror_mode": {
    "name": "ipython",
    "version": 3
   },
   "file_extension": ".py",
   "mimetype": "text/x-python",
   "name": "python",
   "nbconvert_exporter": "python",
   "pygments_lexer": "ipython3",
   "version": "3.6.7"
  }
 },
 "nbformat": 4,
 "nbformat_minor": 2
}
