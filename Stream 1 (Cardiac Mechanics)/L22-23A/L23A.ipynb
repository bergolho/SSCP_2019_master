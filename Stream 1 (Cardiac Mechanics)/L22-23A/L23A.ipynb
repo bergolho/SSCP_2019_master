{
 "cells": [
  {
   "cell_type": "markdown",
   "metadata": {},
   "source": [
    "# Tissue perfusion\n",
    "\n",
    "### Multi-compartment Darcy's law\n",
    "\n",
    "Tissue is perfused by arteries, arterioles and capillaries ranging between 10 um and 1 mm in diameter, resulting in inhomogeneous porosity. To account for this inhomogeneous porosity we expand Darcy's law to a multi-compartment model using $N$ porous tissues that are superimposed in the model domain.\n",
    "\n",
    "| <img src=\"figures/multicompartment.jpg\" width=600> |\n",
    "|:--:|\n",
    "| *Illustration of a superimposition of N=3 porous compartments into a multi-compartment domain.* |\n",
    "\n",
    "Taking the example of $N = 2$ compartments, we now have to solve for two Darcy equations that are coupled via the pressure gradients between the compartments, using coupling coefficients $\\beta$:\n",
    "\n",
    "$$\\nabla \\cdot \\left( -\\boldsymbol{K}_0 \\; \\nabla p_0(\\boldsymbol{x}) \\right) + \\beta_{0,1} (p_0 - p_1) = f_0(\\boldsymbol{x})  \\qquad \\text{on } \\Omega$$\n",
    "$$\\nabla \\cdot \\left( -\\boldsymbol{K}_1 \\; \\nabla p_1(\\boldsymbol{x}) \\right) + \\beta_{0,1} (p_1 - p_0) = f_1(\\boldsymbol{x})  \\qquad \\text{on } \\Omega$$\n",
    "\n",
    "To derive the variational form for a system of coupled equations we use separate sets of trial and test functions and then add up the equations, such that the variational problem reads: Find $p_0$, $p_1 \\in V$ such that $\\forall q_0, q_1 \\in \\hat{V}$\n",
    "\n",
    "$$\\langle - \\boldsymbol{K}_0 \\; \\nabla p_0(\\boldsymbol{x}), \\nabla q_0 \\rangle_{\\Omega} + \\langle - \\boldsymbol{K}_1 \\; \\nabla p_1(\\boldsymbol{x}), \\nabla q_1 \\rangle_{\\Omega} + \\langle \\beta_{0,1} (p_0 - p_1), q_0 \\rangle_{\\Omega} + \\langle \\beta_{0,1} (p_1 - p_0), q_1 \\rangle_{\\Omega} = \\langle f_0(\\boldsymbol{x}), q_0 \\rangle_{\\Omega} + \\langle f_1(\\boldsymbol{x}), q_1 \\rangle_{\\Omega}$$\n",
    "\n",
    "More generally the system of Darcy equations and their variational form can be written as\n",
    "\n",
    "$$\\nabla \\cdot \\left( -\\boldsymbol{K}_i \\; \\nabla p_i(\\boldsymbol{x}) \\right) + \\sum_{j=0}^N \\beta_{i,j} (p_i - p_j) = f_i(\\boldsymbol{x})  \\qquad \\text{on } \\Omega$$\n",
    "\n",
    "And: Find $p_i \\in V$ such that $\\forall q_i \\in \\hat{V}$\n",
    "\n",
    "$$\\sum_{i=0}^N \\langle - \\boldsymbol{K}_i \\; \\nabla p_i(\\boldsymbol{x}), \\nabla q_i \\rangle_{\\Omega} + \\sum_{i=0}^N \\sum_{j=0}^N \\langle \\beta_{i,j} (p_i - p_1j), q_i \\rangle_{\\Omega} = \\langle \\sum_{i=0}^N \\langle f_i(\\boldsymbol{x}), q_i \\rangle_{\\Omega}$$\n",
    "\n",
    "With a particular interest in tissue perfusion we can apply some assumptions for the compartment coupling coefficients $\\beta$:\n",
    "\n",
    "$\\beta_{i,i} = 0$\n",
    "\n",
    "$\\beta_{i,j} = \\beta_{j,i}$\n",
    "\n",
    "$\\beta_{i+1,i} = 0$\n",
    "\n",
    "#### Exercise: Discuss these assumptions with your neighbour.\n",
    "\n",
    "### FEniCS implementation"
   ]
  },
  {
   "cell_type": "code",
   "execution_count": null,
   "metadata": {},
   "outputs": [],
   "source": [
    "from fenics import *\n",
    "import numpy as np\n",
    "import matplotlib.pyplot as plt\n",
    "\n",
    "parameters[\"form_compiler\"][\"quadrature_degree\"] = 4\n",
    "parameters[\"form_compiler\"][\"cpp_optimize\"] = True"
   ]
  },
  {
   "cell_type": "markdown",
   "metadata": {},
   "source": [
    "Because pressures in the different compartments are coupled, solving the multi-compartment model requires a _mixed function space_. If each pressure variable should be approximated using P1 linear elements, then we have to use a mixed finite element containing $N$ P1 elements"
   ]
  },
  {
   "cell_type": "code",
   "execution_count": null,
   "metadata": {},
   "outputs": [],
   "source": [
    "# Create mixed function spaces for a given mesh and number of compartments N\n",
    "def mixed_function_space(mesh, N):\n",
    "    P1 = FiniteElement('P', mesh.ufl_cell(), 1)\n",
    "    ME = MixedElement([P1 for i in range(N)])\n",
    "    return FunctionSpace(mesh, ME)\n",
    "\n",
    "n = 4\n",
    "mesh = UnitSquareMesh(n, n)\n",
    "V = mixed_function_space(mesh, 3)\n",
    "# To access individual function spaces: \n",
    "[print(type(V.sub(i))) for i in range(N)]"
   ]
  },
  {
   "cell_type": "markdown",
   "metadata": {},
   "source": [
    "When using this mixed function space the corresponding trial/test functions will also be mixed"
   ]
  },
  {
   "cell_type": "code",
   "execution_count": null,
   "metadata": {},
   "outputs": [],
   "source": [
    "p = TestFunction(V)\n",
    "q = TrialFunction(V)\n",
    "[print(type(p[i])) for i in range(N)]\n",
    "[print(type(q[i])) for i in range(N)]\n",
    "\n",
    "p = Function(V)\n",
    "[print(type(p[i])) for i in range(N)]"
   ]
  },
  {
   "cell_type": "markdown",
   "metadata": {},
   "source": [
    "#### Exercise: Copy over your code for Darcy's law from L13 and expand it to a multi-compartment model with N = 2"
   ]
  },
  {
   "cell_type": "code",
   "execution_count": null,
   "metadata": {},
   "outputs": [],
   "source": [
    "# Create mesh and define function space\n",
    "n = 4\n",
    "mesh = UnitSquareMesh(n, n)\n",
    "P1 = FiniteElement('P', mesh.ufl_cell(), 1)\n",
    "ME = MixedElement([P1, P1])\n",
    "P = FunctionSpace(mesh, ME) # mixed pressure space\n",
    "\n",
    "# Define parameters\n",
    "N = 2\n",
    "K = [Constant(1), Constant(1)]\n",
    "beta01 = Constant(0.2)\n",
    "f = Constant(2)\n",
    "\n",
    "# Define boundary condition\n",
    "# Insert your code here\n",
    "\n",
    "# Define variational problem\n",
    "# Insert your code here\n",
    "\n",
    "# Solve\n",
    "# Uncomment two lines below to invoke solver\n",
    "# p = Function(P)\n",
    "# solve(a == L, p, bcs=bcs)"
   ]
  },
  {
   "cell_type": "code",
   "execution_count": null,
   "metadata": {},
   "outputs": [],
   "source": [
    "# Plot solution p0\n",
    "fig = plot(p[0])\n",
    "plt.colorbar(fig)"
   ]
  },
  {
   "cell_type": "code",
   "execution_count": null,
   "metadata": {},
   "outputs": [],
   "source": [
    "# Plot solution p1\n",
    "fig = plot(p[1])\n",
    "plt.colorbar(fig)"
   ]
  },
  {
   "cell_type": "markdown",
   "metadata": {},
   "source": [
    "#### Exercise: Apply the multi-compartment Darcy's law model to the LV geometry from L21."
   ]
  },
  {
   "cell_type": "code",
   "execution_count": null,
   "metadata": {},
   "outputs": [],
   "source": [
    "def load_ellipsoid_data():\n",
    "    \"\"\"Returns 4-tuple:\n",
    "    mesh - the mesh, \n",
    "    mf - MeshFunction defining boundary markers, \n",
    "    numbering - dict of marking numbers,\n",
    "    fibers - list of functions defining microstructure\"\"\"\n",
    "    import dolfin\n",
    "  \n",
    "    mesh = dolfin.Mesh(dolfin.MPI.comm_world, \"../L20-21A/data/mesh.xml\")\n",
    "    mf = dolfin.MeshFunction(\"size_t\", mesh, \"../L20-21A/data/facet_function.xml\")\n",
    "\n",
    "    numbering = {\n",
    "        \"BASE\": 10,\n",
    "        \"ENDO\": 30,\n",
    "        \"EPI\": 40\n",
    "    }\n",
    "\n",
    "    # load fibers, sheet, cross_sheet data \n",
    "    fiber_element = dolfin.VectorElement(family=\"Quadrature\",\n",
    "                                     cell=mesh.ufl_cell(),\n",
    "                                     degree=4,\n",
    "                                     quad_scheme=\"default\")\n",
    "    fiber_space = dolfin.FunctionSpace(mesh, fiber_element)\n",
    "    fiber = dolfin.Function(fiber_space, \"../L20-21A/data/fiber.xml\")\n",
    "    sheet = dolfin.Function(fiber_space, \"../L20-21A/data/sheet.xml\")\n",
    "    cross_sheet = dolfin.Function(fiber_space, \"../L20-21A/data/cross_sheet.xml\")\n",
    "\n",
    "    fibers = [fiber,sheet, cross_sheet]\n",
    "    \n",
    "    return mesh, mf, numbering, fibers\n",
    "\n",
    "mesh, boundary_markers, numbering, fibers = load_ellipsoid_data()\n",
    "\n",
    "# Insert your code here"
   ]
  },
  {
   "cell_type": "code",
   "execution_count": null,
   "metadata": {},
   "outputs": [],
   "source": [
    "# Plot solution p0\n",
    "plot(mesh, alpha=0.1, edgecolor='k', color='w')\n",
    "fig = plot(p[0])\n",
    "plt.colorbar(fig)\n",
    "\n",
    "ax = plt.gca()\n",
    "ax.view_init(elev=-67, azim=-179)\n",
    "ax.set_axis_off()\n",
    "plt.show()"
   ]
  },
  {
   "cell_type": "code",
   "execution_count": null,
   "metadata": {},
   "outputs": [],
   "source": [
    "# Plot solution p0\n",
    "plot(mesh, alpha=0.1, edgecolor='k', color='w')\n",
    "fig = plot(p[1])\n",
    "plt.colorbar(fig)\n",
    "\n",
    "ax = plt.gca()\n",
    "ax.view_init(elev=-67, azim=-179)\n",
    "ax.set_axis_off()\n",
    "plt.show()"
   ]
  },
  {
   "cell_type": "markdown",
   "metadata": {},
   "source": [
    "#### Exercise: Use your results from L21 (contraction modelling) to drive the perfusion model"
   ]
  },
  {
   "cell_type": "code",
   "execution_count": null,
   "metadata": {},
   "outputs": [],
   "source": [
    "from guccionematerial import *\n",
    "\n",
    "mesh, boundary_markers, numbering, fibers = load_ellipsoid_data()\n",
    "V = VectorFunctionSpace(mesh, 'P', 1)\n",
    "\n",
    "u_file = XDMFFile(\"contraction/u.xdmf\")\n",
    "p0_file = XDMFFile(\"contraction/p0.xdmf\")\n",
    "p1_file = XDMFFile(\"contraction/p1.xdmf\")\n",
    "\n",
    "# Define strain measures\n",
    "u = Function(V)\n",
    "I = Identity(3) # the identity matrix\n",
    "F = I + grad(u) # the deformation gradient\n",
    "F = variable(F)\n",
    "J = variable(det(F))\n",
    "\n",
    "mat = GuccioneMaterial(e1=fibers[0],e2=fibers[1],e3=fibers[2],kappa=1e3,Tactive=0.0)\n",
    "psi = mat.strain_energy(F)\n",
    "\n",
    "# Insert your code here\n",
    "    \n",
    "u_file.close()\n",
    "p0_file.close()\n",
    "p1_file.close()"
   ]
  }
 ],
 "metadata": {
  "kernelspec": {
   "display_name": "Python 3",
   "language": "python",
   "name": "python3"
  },
  "language_info": {
   "codemirror_mode": {
    "name": "ipython",
    "version": 3
   },
   "file_extension": ".py",
   "mimetype": "text/x-python",
   "name": "python",
   "nbconvert_exporter": "python",
   "pygments_lexer": "ipython3",
   "version": "3.7.3"
  }
 },
 "nbformat": 4,
 "nbformat_minor": 2
}
