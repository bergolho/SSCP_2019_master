{
 "cells": [
  {
   "cell_type": "markdown",
   "metadata": {},
   "source": [
    "# Modelling higher-dimensional cardiovascular fluid dynamics in FEniCS"
   ]
  },
  {
   "cell_type": "markdown",
   "metadata": {},
   "source": [
    "### Outline:\n",
    "\n",
    "- Navier Stokes equations\n",
    "- 0D Windkessel equation\n",
    "- Use case comparison\n",
    "- Scalar transport equations to track solutes"
   ]
  },
  {
   "cell_type": "markdown",
   "metadata": {},
   "source": [
    "## The cardiovascular system\n",
    "\n",
    "![Cardiovascular system. Image source https://www.youtube.com/watch?v=m5Ml8rvsE5U](figures/cardiovascular_system.jpg)"
   ]
  },
  {
   "cell_type": "markdown",
   "metadata": {},
   "source": [
    "## 3D, 1D, 0D, when and why?\n",
    "\n",
    "### 3D - complex flow patterns & patient-specific simulations\n",
    "\n",
    "![3D - complex flow patterns & patient-specific simulations](figures/patient-specific.png)\n",
    "\n",
    "K. Valen-Sendstad, D.A. Steinman (2014) Mind the Gap: Impact of Computational Fluid Dynamics Solution Strategy on Prediction of Intracranial Aneurysm Hemodynamics and Rupture Status Indicators. _American Journal of Neuroradiology_ __35__ (3) 536-543, DOI: 10.3174/ajnr.A3793\n",
    "\n",
    "### 1D - sections of arterial tree\n",
    "\n",
    "![1D - large branches of arterial tree](figures/geometry.png)\n",
    "\n",
    "![1D - large branches of arterial tree](figures/cca_p_q.png)\n",
    "\n",
    "A.K. Diem, N.W. Bressloff (2017) VaMpy: a Python Package to solve 1D blood flow problems. _Journal of Open Research Software_ __5__ 1, DOI: 10.5334/jors.159\n",
    "\n",
    "### 0D - outlet boundary condition\n",
    "\n",
    "M.S. Olufsen, C.S. Peskin, W.Y. Kim, E.M. Pedersen, A. Nadim, J. Larsen Numerical simulation and experimental validation of blood flow in arteries with structured-tree outflow conditions. _Annals of Biomedical Engineering_ __28__ (11): 1281-1299, DOI: 10.1114/1.1326031\n",
    "\n",
    "A.K. Diem, M. MacGregor Sharp, M. Gatherer, N.W. Bressloff, R.O. Carare, G. Richardson (2017) Arterial pulsations cannot drive intramural periarterial drainage: Significance for Aβ drainage. _Frontiers in Neuroscience_ __11__ 4759"
   ]
  },
  {
   "cell_type": "markdown",
   "metadata": {},
   "source": [
    "## Euler equations\n",
    "\n",
    "### Continuity equation\n",
    "\n",
    "Suppose a fluid of density $\\rho(\\boldsymbol{x}, t)$. The total mass of fluid in a volume $V$ then is\n",
    "\n",
    "$$\\int_V \\rho(\\boldsymbol{x}, t) dV$$\n",
    "\n",
    "The mass flux leaving $V$ via its bounding surface $S$ is\n",
    "\n",
    "$$\\int_S \\rho(\\boldsymbol{x}, t) \\boldsymbol{u}(\\boldsymbol{x}, t) \\cdot \\boldsymbol{n} dS$$\n",
    "\n",
    "where $\\boldsymbol{u}(\\boldsymbol{x}, t)$ is the fluid velocity and $$\\boldsymbol{n}$$ is the outward normal vector. The change of fluid volume over time thus is\n",
    "\n",
    "$$\\int_V \\frac{\\partial \\rho}{\\partial t} dV = - \\int_S \\rho \\boldsymbol{u} \\cdot \\boldsymbol{n} dS = - \\int_V \\nabla \\cdot (\\rho \\boldsymbol{u}) dV$$\n",
    "\n",
    "This must hold for any arbitrary fluid element $dV$, so we can omit the integrals and obtain\n",
    "\n",
    "$$\\frac{\\partial \\rho}{\\partial t} + \\nabla \\cdot (\\rho \\boldsymbol{u}) = 0$$\n",
    "\n",
    "This equation is called the _continuity equation_. In this lecture we are only interested in considering _incompressible_ fluids, for which $\\rho(\\boldsymbol{x}, t) = \\text{const.}$, such that the continuity equation reduces to\n",
    "\n",
    "$$\\nabla \\cdot \\boldsymbol{u} = 0$$\n",
    "\n",
    "### Momentum equations\n",
    "\n",
    "Newton's law for the movement of a particular fluid element is\n",
    "\n",
    "$$\\frac{d}{dt} \\int_{V(t)} \\rho \\boldsymbol{u} dV = - \\int_{S(t)} p \\boldsymbol{n} dS + \\int_{V(t)} \\boldsymbol{f} dV$$\n",
    "\n",
    "for volume $V(t)$ bounded by surface $S(t)$ with pressure $p$ and external forces (such as gravity) $\\boldsymbol{f}$. Turning the surface integral into a volume integral as before\n",
    "\n",
    "$$- \\int_{S(t)} p \\boldsymbol{n} dS = - \\int_{V(t)} \\nabla p dV$$\n",
    "\n",
    "and expanding the total derivative $d/dt$ we obtain\n",
    "\n",
    "$$\\int_{V(t)} \\rho \\left(\\frac{\\partial \\boldsymbol{u}}{\\partial t} + (\\boldsymbol{u} \\cdot \\nabla) \\boldsymbol{u}\\right) dV = - \\int_{V(t)} \\nabla p dV + \\int_{V(t)} \\boldsymbol{f} dV$$\n",
    "\n",
    "Again, this must hold for any arbitrary fluid volume $dV$ such that we arrive at\n",
    "\n",
    "$$\\rho \\left(\\frac{\\partial \\boldsymbol{u}}{\\partial t} + (\\boldsymbol{u} \\cdot \\nabla) \\boldsymbol{u}\\right) = - \\nabla p + \\boldsymbol{f}$$\n",
    "\n",
    "This set of equations (one for each direction of $\\boldsymbol{x} = (x_1, x_2, x_3)$) is called the _momentum equations_ and together with the continuity equation constitute Euler's equations."
   ]
  },
  {
   "cell_type": "markdown",
   "metadata": {},
   "source": [
    "## Navier-Stokes equations\n",
    "\n",
    "### Viscosity\n",
    "\n",
    "The Euler equations do not account for _viscosity_ and thus only hold for _inviscid_ fluids. To take into account viscosity of a fluid we return to a discussion about stress using the stress tensor $\\sigma$. For any fluid element the net force arising from surface stresses translates to a volume stress by\n",
    "\n",
    "$$\\int_S \\sigma \\cdot \\boldsymbol{n} dS = \\int_V (\\nabla \\cdot \\sigma) dV$$\n",
    "\n",
    "What does $\\sigma$ look like? Stress is composed of _normal_ and _tangential_ stresses. Normal stress is just given by $p$, so for an inviscid fluid the stress tensor is\n",
    "\n",
    "$$\\sigma = \\begin{pmatrix} \n",
    "-p & 0 & 0\\\\\n",
    "0 & -p & 0\\\\\n",
    "0 & 0 & -p\n",
    "\\end{pmatrix} = - p \\boldsymbol{I}$$ \n",
    "\n",
    "Viscosity on the other hand is a tangential stress and acts to reduce strain in the fluid. We thus have \n",
    "\n",
    "$$\\sigma = - p \\boldsymbol{I} + \\begin{pmatrix} \n",
    "\\sigma_{11} & \\sigma_{12} & \\sigma_{13}\\\\\n",
    "\\sigma_{12} & \\sigma_{22} & \\sigma_{23}\\\\\n",
    "\\sigma_{13} & \\sigma_{23} & \\sigma_{33}\n",
    "\\end{pmatrix}$$ \n",
    "\n",
    "Notice that $\\sigma$ is _symmetric_ and must relate to strain $\\epsilon(\\boldsymbol{u})$ acting on the fluid and the viscosity $\\mu$ of the fluid. In fact, for Newtonian fluids we have\n",
    "\n",
    "$$\\sigma(\\boldsymbol{u}, p) = 2 \\mu \\epsilon(\\boldsymbol{u}) - p \\boldsymbol{I}$$\n",
    "\n",
    "Strain is given by\n",
    "\n",
    "$$\\epsilon(\\boldsymbol{u}) = \\frac{1}{2} \\left( \\frac{\\partial u_j}{\\partial i} - \\frac{\\partial u_i}{\\partial j} \\right) = \\frac{1}{2} \\left( \\nabla u + (\\nabla u)^T \\right)$$\n",
    "\n",
    "The momentum equations including viscous effects are thus\n",
    "\n",
    "$$\\rho \\left( \\frac{\\partial \\boldsymbol{u}}{\\partial t} + \\boldsymbol{u} \\cdot \\nabla \\boldsymbol{u} \\right) = \\nabla \\cdot \\sigma(\\boldsymbol{u}, p) + \\boldsymbol{f}$$\n",
    "\n",
    "and expanded\n",
    "\n",
    "$$\\rho \\left( \\frac{\\partial \\boldsymbol{u}}{\\partial t} + \\boldsymbol{u} \\cdot \\nabla \\boldsymbol{u} \\right) = - \\nabla p + - \\mu \\nabla^2 \\boldsymbol{u} + \\boldsymbol{f}$$\n",
    "\n",
    "Together with the continuity equation these equations are called the Navier-Stokes equations."
   ]
  },
  {
   "cell_type": "markdown",
   "metadata": {},
   "source": [
    "The Navier-Stokes equations are very simple to implement in FEniCS. For illustration purposes we will stick to a 2D coordinate system with $\\boldsymbol{x} = (x, y)$. First, we look at flow through an ideal artery and afterwards we will examine what happends to arterial flow during stenosis, i.e. the pathological narrowing of a blood vessel due to, for example, the build up of plaques (atherosclerosis). \n",
    "\n",
    "Start by activating the matplotlib magic, importing all the necessary modules and setting some output parameter:"
   ]
  },
  {
   "cell_type": "code",
   "execution_count": 1,
   "metadata": {},
   "outputs": [],
   "source": [
    "%matplotlib inline\n",
    "\n",
    "from fenics import *\n",
    "from mshr import *\n",
    "import numpy as np\n",
    "import matplotlib.pyplot as plt\n",
    "\n",
    "parameters[\"std_out_all_processes\"] = False"
   ]
  },
  {
   "cell_type": "markdown",
   "metadata": {},
   "source": [
    "We build the geometry using some built-in functions in FEniCS and use the mshr library to generate the mesh."
   ]
  },
  {
   "cell_type": "code",
   "execution_count": 2,
   "metadata": {},
   "outputs": [],
   "source": [
    "channel = Rectangle(Point(0, 0), Point(5.0, 0.4))\n",
    "mesh = generate_mesh(channel, 32)"
   ]
  },
  {
   "cell_type": "code",
   "execution_count": 3,
   "metadata": {},
   "outputs": [
    {
     "data": {
      "text/plain": [
       "[<matplotlib.lines.Line2D at 0x7f8c8b3c2080>,\n",
       " <matplotlib.lines.Line2D at 0x7f8c8b3547f0>]"
      ]
     },
     "execution_count": 3,
     "metadata": {},
     "output_type": "execute_result"
    },
    {
     "data": {
      "image/png": "[encoded data removed]",
      "text/plain": [
       "<Figure size 432x288 with 1 Axes>"
      ]
     },
     "metadata": {},
     "output_type": "display_data"
    }
   ],
   "source": [
    "plot(mesh, title='Mesh')"
   ]
  },
  {
   "cell_type": "markdown",
   "metadata": {},
   "source": [
    "Defining parameters"
   ]
  },
  {
   "cell_type": "code",
   "execution_count": 4,
   "metadata": {},
   "outputs": [],
   "source": [
    "T = 3.0                 # final time\n",
    "num_steps = int(1000*T) # number of time steps\n",
    "dt = T/num_steps        # time step size\n",
    "mu = 0.003              # dynamic viscosity\n",
    "rho = 1                 # density"
   ]
  },
  {
   "cell_type": "markdown",
   "metadata": {},
   "source": [
    "We need separate function spaces for the momentum and continuity equations. Notice that the momentum equation evaluates vectors, while the continuity equation evaluates scalars. P2-P1 is a typical choice of finite elements for the Navier-Stokes equations."
   ]
  },
  {
   "cell_type": "code",
   "execution_count": 5,
   "metadata": {},
   "outputs": [],
   "source": [
    "# Define function spaces\n",
    "V = VectorFunctionSpace(mesh, 'P', 2)\n",
    "Q = FunctionSpace(mesh, 'P', 1)"
   ]
  },
  {
   "cell_type": "markdown",
   "metadata": {},
   "source": [
    "The boundaries for this example are defined as"
   ]
  },
  {
   "cell_type": "code",
   "execution_count": 6,
   "metadata": {},
   "outputs": [],
   "source": [
    "# Define boundaries\n",
    "inflow   = 'near(x[0], 0.0)'\n",
    "outflow  = 'near(x[0], 5.0)'\n",
    "walls    = 'near(x[1], 0) || near(x[1], 0.4)'"
   ]
  },
  {
   "cell_type": "markdown",
   "metadata": {},
   "source": [
    "At the inflow boundary we apply a parabolic velocity profile\n",
    "\n",
    "$$\\boldsymbol{u}(0, y) = 4.0 \\cdot \\frac{1.5 \\cdot y  \\cdot (0.41 - y)}{0.41^2} \\qquad \\text{on } \\Gamma_{\\text{inflow}}$$"
   ]
  },
  {
   "cell_type": "code",
   "execution_count": 7,
   "metadata": {},
   "outputs": [],
   "source": [
    "# Define inflow profile\n",
    "inflow_profile = Expression(\"sin(3.0*tt)\", tt=0.0, degree=2)\n",
    "bcp_inflow = DirichletBC(Q, inflow_profile, inflow)"
   ]
  },
  {
   "cell_type": "markdown",
   "metadata": {},
   "source": [
    "_What would happen if we applied another velocity profile, for example_ \n",
    "\n",
    "$$\\boldsymbol{u}(0, y) = u_0$$\n",
    "\n",
    "_(flat profile)?_ "
   ]
  },
  {
   "cell_type": "markdown",
   "metadata": {},
   "source": [
    "At the outlet boundry we apply zero pressure\n",
    "\n",
    "$$p = 0 \\qquad \\text{on } \\Gamma_{\\text{outflow}}$$\n",
    "\n",
    "At all other boundaries we set\n",
    "\n",
    "$$\\boldsymbol{u} = 0 \\qquad \\text{on } \\Gamma_{\\text{wall,cylinder}}$$\n",
    "\n",
    "Finally we collect all velocity boundary conditions in one list and pressure boundary conditions in another"
   ]
  },
  {
   "cell_type": "code",
   "execution_count": 8,
   "metadata": {},
   "outputs": [],
   "source": [
    "# Other boundary conditions\n",
    "bcp_outflow = DirichletBC(Q, Constant(0), outflow)\n",
    "bcu_walls = DirichletBC(V, Constant((0, 0)), walls)\n",
    "\n",
    "# Collect boundary conditions for each equation\n",
    "bcu = [bcu_walls]\n",
    "bcp = [bcp_inflow, bcp_outflow]"
   ]
  },
  {
   "cell_type": "markdown",
   "metadata": {},
   "source": [
    "Next, we define our variational form. The Navier-Stokes equations are a nonlinear system of equations with some special features and thus requires special techniques to be solved efficiently. We use a _splitting method_ called incremental pressure correction scheme (IPCS) to first calculate a tentative velocity $u^*$ using $p^n$ from the previous time step, then use $u^*$ to update $p^n$ and finally obtain the new $u$. The tentative velocity $u^*$ is obtained by advancing the momentum equation by a midpoint finite difference scheme in time.\n",
    "\n",
    "For readability we will from now on just write $u$ for $\\boldsymbol{u}$, $f$ for $\\boldsymbol{f}$, $k = \\Delta t$ and use the short-hand notation\n",
    "\n",
    "$$\\left\\langle u, v \\right\\rangle = \\int_{\\Omega} u v dx$$\n",
    "\n",
    "and\n",
    "\n",
    "$$\\left\\langle u, v \\right\\rangle_{\\partial \\Omega} = \\int_{\\partial \\Omega} u v ds$$\n",
    "\n",
    "Furthermore we define the half time-step\n",
    "\n",
    "$$u^{n+1/2} \\approx \\frac{u^{n+1} + u^n}{2}$$\n",
    "\n",
    "Setting up (trial/test) functions in FEniCS and functions for $\\sigma$ and $\\epsilon$."
   ]
  },
  {
   "cell_type": "code",
   "execution_count": 9,
   "metadata": {},
   "outputs": [],
   "source": [
    "# Define trial and test functions\n",
    "u = TrialFunction(V)\n",
    "v = TestFunction(V)\n",
    "p = TrialFunction(Q)\n",
    "q = TestFunction(Q)\n",
    "\n",
    "# Define functions for solutions at previous (u_n/p_n) and\n",
    "# current (u_/p_) time steps\n",
    "u_n = Function(V)\n",
    "u_  = Function(V)\n",
    "p_n = Function(Q)\n",
    "p_  = Function(Q)\n",
    "\n",
    "# Define expressions used in variational forms\n",
    "U  = 0.5*(u_n + u)\n",
    "n  = FacetNormal(mesh)\n",
    "f  = Constant((0, 0))\n",
    "k  = Constant(dt)\n",
    "mu = Constant(mu)\n",
    "rho = Constant(rho)\n",
    "\n",
    "# Define symmetric gradient\n",
    "def epsilon(u):\n",
    "    return sym(nabla_grad(u))\n",
    "\n",
    "# Define stress tensor\n",
    "def sigma(u, p):\n",
    "    return 2*mu*epsilon(u) - p*Identity(len(u))"
   ]
  },
  {
   "cell_type": "markdown",
   "metadata": {},
   "source": [
    "The tentative velocity $u^*$ is calculated by solving the variational form\n",
    "\n",
    "$$\\left\\langle \\rho (u^* - u^n)/k, v \\right\\rangle + \\left\\langle \\rho u^n \\cdot \\nabla u^n, v \\right\\rangle + \\left\\langle \\sigma(u^{n+1/2}, p^n), \\epsilon(v) \\right\\rangle + \\left\\langle p^n \\cdot n, v \\right\\rangle_{\\partial \\Omega} - \\left\\langle \\mu \\nabla u^{n+1/2} \\cdot n, v \\right\\rangle_{\\partial \\Omega} = \\left\\langle f^{n+1}, v \\right\\rangle$$"
   ]
  },
  {
   "cell_type": "code",
   "execution_count": 10,
   "metadata": {},
   "outputs": [],
   "source": [
    "# Define variational problem for step 1\n",
    "F1 = rho*dot((u - u_n) / k, v)*dx \\\n",
    "   + rho*dot(dot(u_n, nabla_grad(u_n)), v)*dx \\\n",
    "   + inner(sigma(U, p_n), epsilon(v))*dx \\\n",
    "   + dot(p_n*n, v)*ds - dot(mu*nabla_grad(U)*n, v)*ds \\\n",
    "   - dot(f, v)*dx\n",
    "a1 = lhs(F1)\n",
    "L1 = rhs(F1)"
   ]
  },
  {
   "cell_type": "markdown",
   "metadata": {},
   "source": [
    "The second step is to compute a new pressure $p^n$ by solving\n",
    "\n",
    "$$\\left\\langle \\nabla p^{n+1}, \\nabla q \\right\\rangle = \\left\\langle \\nabla p^n, \\nabla q \\right\\rangle - \\frac{1}{k} \\left\\langle \\nabla \\cdot u^*, q \\right\\rangle$$"
   ]
  },
  {
   "cell_type": "code",
   "execution_count": 11,
   "metadata": {},
   "outputs": [],
   "source": [
    "# Define variational problem for step 2\n",
    "a2 = dot(nabla_grad(p), nabla_grad(q))*dx\n",
    "L2 = dot(nabla_grad(p_n), nabla_grad(q))*dx - (1/k)*div(u_)*q*dx"
   ]
  },
  {
   "cell_type": "markdown",
   "metadata": {},
   "source": [
    "The last step is to compute the corrected velocity $u^{n+1}$ by solving\n",
    "\n",
    "$$\\left\\langle u^{n+1}, v \\right\\rangle = \\left\\langle u^*, v \\right\\rangle - k \\left\\langle \\nabla (p^{n+1} - p^n), v \\right\\rangle$$"
   ]
  },
  {
   "cell_type": "code",
   "execution_count": 12,
   "metadata": {},
   "outputs": [],
   "source": [
    "# Define variational problem for step 3\n",
    "a3 = dot(u, v)*dx\n",
    "L3 = dot(u_, v)*dx - k*dot(nabla_grad(p_ - p_n), v)*dx"
   ]
  },
  {
   "cell_type": "markdown",
   "metadata": {},
   "source": [
    "A view more snippets of code are required to build a time-stepping loop to solve the equations. In this case the left-hand side of the finite element method\n",
    "\n",
    "$$a(u, v) = L(v)$$\n",
    "\n",
    "won't change over time, so the corresponding matrices can be assembled just once before the time-stepping loop. The right-hand sides are assembled in the same way (and boundary conditions are applied), but this has to be done during every time step"
   ]
  },
  {
   "cell_type": "code",
   "execution_count": 13,
   "metadata": {},
   "outputs": [
    {
     "data": {
      "text/plain": [
       "[None, None]"
      ]
     },
     "execution_count": 13,
     "metadata": {},
     "output_type": "execute_result"
    }
   ],
   "source": [
    "# Assemble matrices\n",
    "A1 = assemble(a1)\n",
    "A2 = assemble(a2)\n",
    "A3 = assemble(a3)\n",
    "\n",
    "# Apply boundary conditions to matrices\n",
    "[bc.apply(A1) for bc in bcu]\n",
    "[bc.apply(A2) for bc in bcp]"
   ]
  },
  {
   "cell_type": "markdown",
   "metadata": {},
   "source": [
    "We also need to set up files to store the results in"
   ]
  },
  {
   "cell_type": "code",
   "execution_count": 15,
   "metadata": {},
   "outputs": [],
   "source": [
    "# Create XDMF files for visualization output\n",
    "xdmffile_u = XDMFFile('results/velocity.xdmf')\n",
    "xdmffile_p = XDMFFile('results/pressure.xdmf')\n",
    "\n",
    "# To store results during a time step use\n",
    "t = 0.0\n",
    "xdmffile_u.write_checkpoint(u_, 'u', t)\n",
    "xdmffile_p.write_checkpoint(p_, 'p', t)"
   ]
  },
  {
   "cell_type": "markdown",
   "metadata": {},
   "source": [
    "## Visualisation\n",
    "\n",
    "We use Paraview for the visualisation."
   ]
  },
  {
   "cell_type": "markdown",
   "metadata": {},
   "source": [
    "## Exercise: Flow through an ideal artery\n",
    "\n",
    "_Implement the time-stepping loop for the ideal artery geometry we built at the start of the notebook._\n",
    "\n",
    "_Modify your code to use a flat velocity profile at the inlet, i.e._\n",
    "\n",
    "$$u(0, y) = \\text{const.}$$\n",
    "\n",
    "_How does this compare to your initial prediction?_"
   ]
  },
  {
   "cell_type": "markdown",
   "metadata": {},
   "source": [
    "## Exercise: Stenosis\n",
    "\n",
    "_Modify the geometry from the previous exercise to include stenosis. The easiest way to achieve this is to define a circle using mshr_"
   ]
  },
  {
   "cell_type": "code",
   "execution_count": 18,
   "metadata": {},
   "outputs": [],
   "source": [
    "circle = Circle(Point(3, -0.5), 0.7)"
   ]
  },
  {
   "cell_type": "markdown",
   "metadata": {},
   "source": [
    "_and then subtract the circle from the channel before generating the mesh. Run the same simulation on this modified geometry. How does stenosis affect arterial blood flow in this simplified model?_"
   ]
  },
  {
   "cell_type": "markdown",
   "metadata": {},
   "source": [
    "## Scalar transport equations\n",
    "\n",
    "Blood transports oxygen and other nutrients through the body, so naturally one might ask the question of how nutrients are distributed. This can be done using the scalar transport equation\n",
    "\n",
    "$$\\frac{\\partial c}{\\partial t} + \\boldsymbol{u} \\cdot \\nabla c - \\nabla \\cdot (D \\nabla c) = f - rc$$\n",
    "\n",
    "where $c$ is the concentration of the nutrient of interest, $\\boldsymbol{u}$ is the fluid velocity from our previous simulation, $D$ is the diffusion coefficient for the nutrient, $f$ is a source term as before and $r$ is a rate constant to, for example, describe the uptake of the nutrient into the tissue.\n",
    "\n",
    "The variational formulation for the scalar transport equation is (with trial function $w$)\n",
    "\n",
    "$$\\left<(c^{n+1} - c^n)/k, v\\right> + \\left<\\boldsymbol{u} \\cdot \\nabla c^{n+1}, v\\right> + \\left<D \\nabla c^{n+1}, \\nabla v\\right> - \\left<f, v\\right> + \\left<r c^{n+1}, v\\right> = 0$$\n",
    "\n",
    "Here, we assume homogeneous Neumann, ie $\\partial c/\\partial n = 0$ and thus they vanish when integrating by parts to obtain the variational form.\n",
    "\n",
    "The scalar transport equation is a nonlinear equation, but unlike the Navier-Stokes equations, we don't have a splitting scheme to linearise the equation. Hence solving for scalar transport requires a slightly different solver syntax:"
   ]
  },
  {
   "cell_type": "code",
   "execution_count": null,
   "metadata": {},
   "outputs": [],
   "source": [
    "solve(F == 0, c, bcs=bcs)"
   ]
  },
  {
   "cell_type": "markdown",
   "metadata": {},
   "source": [
    "_Implement the variational form of the scalar transport equation using boundary conditions of your choice on one of the previous geometries._\n",
    "\n",
    "You can load previous results of $\\boldsymbol{u}$ into your simulation using"
   ]
  },
  {
   "cell_type": "code",
   "execution_count": null,
   "metadata": {},
   "outputs": [],
   "source": [
    "xdmffile_u.read_checkpoint(u, 'u', i)"
   ]
  },
  {
   "cell_type": "markdown",
   "metadata": {},
   "source": [
    "Notice that here, i is a integer indicating the index of the time step rather than the time itself as in the write_checkpoint() function."
   ]
  }
 ],
 "metadata": {
  "kernelspec": {
   "display_name": "Python 3",
   "language": "python",
   "name": "python3"
  },
  "language_info": {
   "codemirror_mode": {
    "name": "ipython",
    "version": 3
   },
   "file_extension": ".py",
   "mimetype": "text/x-python",
   "name": "python",
   "nbconvert_exporter": "python",
   "pygments_lexer": "ipython3",
   "version": "3.6.5"
  }
 },
 "nbformat": 4,
 "nbformat_minor": 2
}
