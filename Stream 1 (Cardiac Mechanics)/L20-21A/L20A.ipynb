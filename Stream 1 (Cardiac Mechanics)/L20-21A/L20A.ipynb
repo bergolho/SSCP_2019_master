{
 "cells": [
  {
   "cell_type": "markdown",
   "metadata": {},
   "source": [
    "# A contracting cube\n",
    "\n",
    "**Notebook prepared by \n",
    "\n",
    "Joakim Sundnes**\n",
    "\n",
    "Date: **Jun 25, 2018**\n",
    "\n",
    "\n",
    "## Model outline\n",
    "This notebook introduces a slight extension of the simple unit cube model introduced previously. The model will still be a simple unit cube, fixed at one end ($x=0$) and loaded with a pressure load (negative pressure, i.e. stretch) at the other end ($x=1.0$). The following two extensions will be introduced:\n",
    "* Replace the StVenant-Kirchhoff model with a model from Guccione et al (1995). \n",
    "* Add a time-varying active stress to the model"
   ]
  },
  {
   "cell_type": "markdown",
   "metadata": {},
   "source": [
    "### The material model by Guccione et al\n",
    "\n",
    "Soft biological tissues typically follow an exponential stress-strain relation. This relation was originally described by Fung, and has been implemented in a wide range of models for isotropic and anisotropic tissues. One of the most widely used material models for passive cardiac tissue is the model of Guccione et al from 1995. Several versions of the model have been used in the literature. We apply a transversely isotropic and nearly incompressible version, with strain energy given by:\n",
    "$$\n",
    "\\begin{align*}\n",
    "Q &= b_f E_{11}^2 + b_t (E_{22}^2 + E_{33}^2 + E_{23}^2 + E_{32}^2) + b_{fs}(E_{12}^2 + E_{21}^2 + E_{13}^2 + E_{31}^2),\\\\\n",
    "\\Psi &= \\frac{C}{2}(e^Q-1)+ \\kappa(J\\ln(J)-J+1)  .\n",
    "\\end{align*}\n",
    "$$\n",
    "Here $E_{ij}$ are the components of the Green-Lagrange strain tensor, defined relative to the local fiber orientation. Furthermore $J$ is the determinant of the deformation gradient $F$ ($J=1$ for an incompressible material), and $C,B_f,b_t,b_{fs}, \\kappa$ are material parameters. \n",
    "\n",
    "A Python class implementing the Guccione et al model can be found here:\n",
    "\n",
    "* [Guccione model (1995)](./guccionematerial.py)\n",
    "\n",
    "The class supports both fully incompressible and nearly incompressible models. The key part is the function named 'strain_energy', which defines the strain energy as a function of the deformation gradient $F$. When setting up the Fenics solver, you can use this predefined class or you can type the expression for the strain energy function directly in your solver code. \n"
   ]
  },
  {
   "cell_type": "markdown",
   "metadata": {},
   "source": [
    "### Setting up the Fenics solver\n",
    "The bulk of the solver code will be identical to the first version of the unit cube. First, the usual imports, defining the mesh, the relevant function space and functions, and finally the Neumann and Dirichlet boundary conditions:"
   ]
  },
  {
   "cell_type": "code",
   "execution_count": 7,
   "metadata": {
    "collapsed": true
   },
   "outputs": [],
   "source": [
    "import matplotlib.pyplot as plt\n",
    "import numpy as np\n",
    "from fenics import *\n",
    "\n",
    "# Optimization options for the form compiler\n",
    "parameters[\"form_compiler\"][\"cpp_optimize\"] = True\n",
    "parameters[\"form_compiler\"][\"representation\"] = \"uflacs\"\n",
    "parameters[\"form_compiler\"][\"quadrature_degree\"] = 4\n",
    "\n",
    "\n",
    "# Setup the mesh and the function space for the solutions\n",
    "mesh = UnitCubeMesh(4,4,4)\n",
    "V = VectorFunctionSpace(mesh, \"Lagrange\", 2)\n",
    "\n",
    "\n",
    "# Define functions\n",
    "v  = TestFunction(V)             # Test function\n",
    "u  = Function(V)                 # Displacement from previous iteration\n",
    "\n",
    "# Mark boundary subdomains\n",
    "left =  CompiledSubDomain(\"near(x[0], side) && on_boundary\", side = 0.0)\n",
    "right = CompiledSubDomain(\"near(x[0], side) && on_boundary\", side = 1.0)\n",
    "\n",
    "boundary_markers = MeshFunction(\"size_t\", mesh,mesh.topology().dim() - 1)\n",
    "boundary_markers.set_all(0)\n",
    "left.mark(boundary_markers, 1)\n",
    "right.mark(boundary_markers, 2)\n",
    "\n",
    "# Redefine boundary measure\n",
    "ds = Measure('ds',domain=mesh,subdomain_data=boundary_markers)\n",
    "\n",
    "# Define Dirichlet boundary (x = 0 or x = 1)\n",
    "clamp = Constant((0.0, 0.0, 0.0))\n",
    "bc = DirichletBC(V, clamp, left)\n",
    "bcs = [bc]"
   ]
  },
  {
   "cell_type": "markdown",
   "metadata": {},
   "source": [
    "Next, we turn to defining the mechanics problem. The following code defines the relevant kinematics, defines the stress tensor and the weak form, and finally solves the problem for a sequence of loads. However, the material definition is missing. Complete the code by introducing the Guccione material model, either by hardcoding the strain energy or importing and using the GuccioneMaterial class. "
   ]
  },
  {
   "cell_type": "code",
   "execution_count": 1,
   "metadata": {},
   "outputs": [
    {
     "ename": "NameError",
     "evalue": "name 'u' is not defined",
     "output_type": "error",
     "traceback": [
      "\u001b[0;31m---------------------------------------------------------------------------\u001b[0m",
      "\u001b[0;31mNameError\u001b[0m                                 Traceback (most recent call last)",
      "\u001b[0;32m<ipython-input-1-f66d70d44b2e>\u001b[0m in \u001b[0;36m<module>\u001b[0;34m()\u001b[0m\n\u001b[1;32m      1\u001b[0m \u001b[0;31m# Kinematics\u001b[0m\u001b[0;34m\u001b[0m\u001b[0;34m\u001b[0m\u001b[0m\n\u001b[0;32m----> 2\u001b[0;31m \u001b[0md\u001b[0m \u001b[0;34m=\u001b[0m \u001b[0mlen\u001b[0m\u001b[0;34m(\u001b[0m\u001b[0mu\u001b[0m\u001b[0;34m)\u001b[0m\u001b[0;34m\u001b[0m\u001b[0m\n\u001b[0m\u001b[1;32m      3\u001b[0m \u001b[0mI\u001b[0m \u001b[0;34m=\u001b[0m \u001b[0mIdentity\u001b[0m\u001b[0;34m(\u001b[0m\u001b[0md\u001b[0m\u001b[0;34m)\u001b[0m             \u001b[0;31m# Identity tensor\u001b[0m\u001b[0;34m\u001b[0m\u001b[0m\n\u001b[1;32m      4\u001b[0m \u001b[0mF\u001b[0m \u001b[0;34m=\u001b[0m \u001b[0mI\u001b[0m \u001b[0;34m+\u001b[0m \u001b[0mgrad\u001b[0m\u001b[0;34m(\u001b[0m\u001b[0mu\u001b[0m\u001b[0;34m)\u001b[0m             \u001b[0;31m# Deformation gradient\u001b[0m\u001b[0;34m\u001b[0m\u001b[0m\n\u001b[1;32m      5\u001b[0m \u001b[0mF\u001b[0m \u001b[0;34m=\u001b[0m \u001b[0mvariable\u001b[0m\u001b[0;34m(\u001b[0m\u001b[0mF\u001b[0m\u001b[0;34m)\u001b[0m\u001b[0;34m\u001b[0m\u001b[0m\n",
      "\u001b[0;31mNameError\u001b[0m: name 'u' is not defined"
     ]
    }
   ],
   "source": [
    "# Kinematics\n",
    "d = len(u)\n",
    "I = Identity(d)             # Identity tensor\n",
    "F = I + grad(u)             # Deformation gradient\n",
    "F = variable(F)\n",
    "\n",
    "# Tissue microstructure\n",
    "f0 = as_vector([ 1.0, 0.0, 0.0 ])\n",
    "s0 = as_vector([ 0.0, 1.0, 0.0 ])\n",
    "n0 = as_vector([ 0.0, 0.0, 1.0 ])\n",
    "        \n",
    "\"\"\"\n",
    "Missing code: Define the material model and the necessary stress tensor, \n",
    "using the model by Guccione et al. You can either define the strain energy directly,\n",
    "or use the guccione_material class (recommended). You should use the default \n",
    "material parameters. \n",
    "\"\"\"      \n",
    "\n",
    "p_right = Constant(0.0) #the pressure load (zero for now)\n",
    "\n",
    "# Definition of the weak form:\n",
    "N = FacetNormal(mesh)\n",
    "Gext = p_right * inner(v, cofac(F)*N) * ds(2) #ds(2) = left boundary\n",
    "R = inner(P,grad(v))*dx + Gext \n",
    "\n",
    "# Step-wise loading (for plotting and convergence)\n",
    "load_steps = 6\n",
    "target_load = 10.0\n",
    "\n",
    "# The middle point on the right boundary\n",
    "point0 = np.array([1.0,0.5,0.5])\n",
    "\n",
    "d0 = np.zeros(3)                #displacement at point0\n",
    "disp = np.zeros(load_steps) #array to store displacement for all steps\n",
    "\n",
    "# Define and loop over load steps:\n",
    "loads = np.linspace(0,target_load,load_steps)\n",
    "\n",
    "for step in range(load_steps):\n",
    "    # A stretch is a negative pressure\n",
    "    p_right.assign(-loads[step])\n",
    "    \n",
    "    #solve the problem:\n",
    "    solve(R == 0, u, bcs)\n",
    "    \n",
    "    #evaluate displacement at point defined above\n",
    "    u.eval(d0,point0)\n",
    "    disp[step] = d0[0]\n",
    "\n",
    "       \n",
    "#displacement on x-axis, load on y-axis\n",
    "plt.figure(1)\n",
    "plt.plot(disp,loads)\n",
    "plt.xlabel('Displacement of point (1.0,0.5,0.5)')\n",
    "plt.ylabel('Applied pressure load')\n",
    "\n",
    "# Plot the deformed cube and the original\n",
    "plt.figure(2)\n",
    "u_int = dolfin.interpolate(u, dolfin.VectorFunctionSpace(mesh, \"CG\", 1))\n",
    "deformed_mesh = dolfin.Mesh(mesh)\n",
    "dolfin.ALE.move(deformed_mesh, u_int)\n",
    "dolfin.plot(mesh, alpha=0.5, edgecolor='k')#, title=\"original\")\n",
    "dolfin.plot(deformed_mesh, edgecolor='g', alpha=0.7)#, title='Contracting cube')\n",
    "ax = plt.gca()\n",
    "ax.view_init(elev=2, azim=-92)\n",
    "\n",
    "plt.show()"
   ]
  },
  {
   "cell_type": "markdown",
   "metadata": {},
   "source": [
    "### Questions\n",
    "* Is there a significant difference in the load-displacement curve, compared with the StVenant-Kirchhoff model?"
   ]
  },
  {
   "cell_type": "markdown",
   "metadata": {},
   "source": [
    "### Adding active contraction\n",
    "\n",
    "Finally, we want to add active contraction to the tissue cube. If we want to simulate a full cardiac cycle, a simple option would be to assign an active stress transient similar to the one output from the Rice et al model:"
   ]
  },
  {
   "cell_type": "code",
   "execution_count": 14,
   "metadata": {},
   "outputs": [
    {
     "data": {
      "image/png": "[encoded data removed]",
      "text/plain": [
       "<Figure size 432x288 with 1 Axes>"
      ]
     },
     "metadata": {},
     "output_type": "display_data"
    }
   ],
   "source": [
    "import matplotlib.pyplot as plt\n",
    "import numpy as np\n",
    "import math\n",
    "\n",
    "force_amplitude=1.0\n",
    "#Ca_diastolic=0.09\n",
    "start_time=5, \n",
    "tau1=20 \n",
    "tau2=110\n",
    "t = np.linspace(0,1000,101)\n",
    "\n",
    "beta = -math.pow(tau1/tau2, -1/(1 - tau2/tau1)) + math.pow(tau1/tau2,\\\n",
    "        -1/(-1 + tau1/tau2))\n",
    "force = ((force_amplitude)*(np.exp((start_time - t)/tau1) -\\\n",
    "        np.exp((start_time - t)/tau2))/beta) \n",
    "\n",
    "#the following line implements the if test in numpy without a loop\n",
    "force = force*(t>=start_time)+ 0.0*(t<start_time)\n",
    "\n",
    "plt.plot(t,force)\n",
    "plt.show()"
   ]
  },
  {
   "cell_type": "markdown",
   "metadata": {},
   "source": [
    "For now, we will keep things even simpler, and simply model the first phase of contraction by adding a linearly increasing active stress. For this case we consider an unloaded cube ($p=0$ on the right boundary). If you used the 'GuccioneModel' class above to define the passive material properties, the active stress may be set in the function 'set_active_stress'. The following code, mostly copied from above, includes an incomplete problem definiton. The missing piece is the incoroporation of the active stress. Complete the code to make it run:"
   ]
  },
  {
   "cell_type": "code",
   "execution_count": 2,
   "metadata": {},
   "outputs": [
    {
     "ename": "ModuleNotFoundError",
     "evalue": "No module named 'fenics'",
     "output_type": "error",
     "traceback": [
      "\u001b[0;31m---------------------------------------------------------------------------\u001b[0m",
      "\u001b[0;31mModuleNotFoundError\u001b[0m                       Traceback (most recent call last)",
      "\u001b[0;32m<ipython-input-2-35abbd13bb93>\u001b[0m in \u001b[0;36m<module>\u001b[0;34m()\u001b[0m\n\u001b[1;32m      1\u001b[0m \u001b[0;32mimport\u001b[0m \u001b[0mmatplotlib\u001b[0m\u001b[0;34m.\u001b[0m\u001b[0mpyplot\u001b[0m \u001b[0;32mas\u001b[0m \u001b[0mplt\u001b[0m\u001b[0;34m\u001b[0m\u001b[0m\n\u001b[1;32m      2\u001b[0m \u001b[0;32mimport\u001b[0m \u001b[0mnumpy\u001b[0m \u001b[0;32mas\u001b[0m \u001b[0mnp\u001b[0m\u001b[0;34m\u001b[0m\u001b[0m\n\u001b[0;32m----> 3\u001b[0;31m \u001b[0;32mfrom\u001b[0m \u001b[0mfenics\u001b[0m \u001b[0;32mimport\u001b[0m \u001b[0;34m*\u001b[0m\u001b[0;34m\u001b[0m\u001b[0m\n\u001b[0m\u001b[1;32m      4\u001b[0m \u001b[0;34m\u001b[0m\u001b[0m\n\u001b[1;32m      5\u001b[0m \u001b[0;32mfrom\u001b[0m \u001b[0mguccionematerial\u001b[0m \u001b[0;32mimport\u001b[0m \u001b[0mGuccioneMaterial\u001b[0m\u001b[0;34m\u001b[0m\u001b[0m\n",
      "\u001b[0;31mModuleNotFoundError\u001b[0m: No module named 'fenics'"
     ]
    }
   ],
   "source": [
    "import matplotlib.pyplot as plt\n",
    "import numpy as np\n",
    "from fenics import *\n",
    "\n",
    "from guccionematerial import GuccioneMaterial\n",
    "\n",
    "# Optimization options for the form compiler\n",
    "parameters[\"form_compiler\"][\"cpp_optimize\"] = True\n",
    "parameters[\"form_compiler\"][\"representation\"] = \"uflacs\"\n",
    "parameters[\"form_compiler\"][\"quadrature_degree\"] = 4\n",
    "\n",
    "\n",
    "# Setup the mesh and the function space for the solutions\n",
    "mesh = UnitCubeMesh(4,4,4)\n",
    "V = VectorFunctionSpace(mesh, \"Lagrange\", 2)\n",
    "\n",
    "# Define functions\n",
    "v  = TestFunction(V)             # Test function\n",
    "u  = Function(V)                 # Displacement from previous iteration\n",
    "\n",
    "# Mark boundary subdomains\n",
    "left =  CompiledSubDomain(\"near(x[0], side) && on_boundary\", side = 0.0)\n",
    "right = CompiledSubDomain(\"near(x[0], side) && on_boundary\", side = 1.0)\n",
    "\n",
    "boundary_markers = MeshFunction(\"size_t\", mesh,mesh.topology().dim() - 1)\n",
    "boundary_markers.set_all(0)\n",
    "left.mark(boundary_markers, 1)\n",
    "right.mark(boundary_markers, 2)\n",
    "\n",
    "# Redefine boundary measure\n",
    "ds = Measure('ds',domain=mesh,subdomain_data=boundary_markers)\n",
    "\n",
    "# Define Dirichlet boundary (x = 0 or x = 1)\n",
    "clamp = Constant((0.0, 0.0, 0.0))\n",
    "bc = DirichletBC(V, clamp, left)\n",
    "bcs = [bc]\n",
    "\n",
    "# Kinematics\n",
    "d = len(u)\n",
    "I = Identity(d)             # Identity tensor\n",
    "F = I + grad(u)             # Deformation gradient\n",
    "#C = F.T*F                   # the right Cauchy-Green tensor\n",
    "#E = 0.5*(C - I)             # the Green-Lagrange strain tensor\n",
    "\n",
    "F = variable(F)\n",
    "\n",
    "# Tissue microstructure\n",
    "f0 = as_vector([ 1.0, 0.0, 0.0 ])\n",
    "s0 = as_vector([ 0.0, 1.0, 0.0 ])\n",
    "n0 = as_vector([ 0.0, 0.0, 1.0 ])\n",
    "\n",
    "mat = GuccioneMaterial(e1=f0,e2=s0,e3=n0,kappa=1e3,Tactive=0.0)\n",
    "psi = mat.strain_energy(F)\n",
    "\n",
    "P = diff(psi,F) # first Piola-Kirchhoff stress tensor\n",
    "\n",
    "p_right = Constant(0.0) #the pressure load (zero for now)\n",
    "\n",
    "# Definition of the weak form:\n",
    "N = FacetNormal(mesh)\n",
    "Gext = p_right * inner(v, cofac(F)*N) * ds(2) #ds(2) = left boundary\n",
    "R = inner(P,grad(v))*dx + Gext\n",
    "\n",
    "# The middle point on the right boundary\n",
    "point0 = np.array([1.0,0.5,0.5])\n",
    "\n",
    "# Step-wise loading (for plotting and convergence)\n",
    "active_steps = 6\n",
    "target_active = 5.0\n",
    "active = np.linspace(0,target_active,active_steps)\n",
    "\n",
    "d0 = np.zeros(3)                #displacement at point0\n",
    "disp = np.zeros(load_steps)     #array to store displacement for all steps\n",
    "\n",
    "for step in range(load_steps):\n",
    "    \"\"\" \n",
    "    Missing code: define the active stress and solve the problem. \n",
    "    \"\"\"\n",
    "    #evaluate displacement at point defined above\n",
    "    u.eval(d0,point0)\n",
    "    disp[step] = d0[0]\n",
    "\n",
    "    \n",
    "#displacement on x-axis, load on y-axis\n",
    "plt.figure(1)\n",
    "plt.plot(loads,disp)\n",
    "plt.xlabel('Active tension in $x$-direction')\n",
    "plt.ylabel('Displacement of point (1.0,0.5,0.5)')\n",
    "\n",
    "\n",
    "# Plot the deformed cube and the original\n",
    "plt.figure(2)\n",
    "u_int = dolfin.interpolate(u, dolfin.VectorFunctionSpace(mesh, \"CG\", 1))\n",
    "deformed_mesh = dolfin.Mesh(mesh)\n",
    "dolfin.ALE.move(deformed_mesh, u_int)\n",
    "dolfin.plot(mesh, alpha=0.5, edgecolor='k')\n",
    "dolfin.plot(deformed_mesh, edgecolor='g', alpha=0.7)\n",
    "ax = plt.gca()\n",
    "ax.view_init(elev=2, azim=-92)\n",
    "\n",
    "plt.show()\n"
   ]
  },
  {
   "cell_type": "code",
   "execution_count": null,
   "metadata": {
    "collapsed": true
   },
   "outputs": [],
   "source": []
  }
 ],
 "metadata": {
  "kernelspec": {
   "display_name": "Python 3",
   "language": "python",
   "name": "python3"
  },
  "language_info": {
   "codemirror_mode": {
    "name": "ipython",
    "version": 3
   },
   "file_extension": ".py",
   "mimetype": "text/x-python",
   "name": "python",
   "nbconvert_exporter": "python",
   "pygments_lexer": "ipython3",
   "version": "3.6.1"
  }
 },
 "nbformat": 4,
 "nbformat_minor": 2
}
