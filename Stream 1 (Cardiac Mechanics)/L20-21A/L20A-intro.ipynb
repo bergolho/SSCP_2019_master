{
 "cells": [
  {
   "cell_type": "markdown",
   "metadata": {},
   "source": [
    "# The simplest example - an elastic cube\n",
    "\n",
    "**Notebook prepared by \n",
    "\n",
    "Joakim Sundnes**\n",
    "\n",
    "Date: **Jun 25, 2018**\n",
    "\n",
    "\n",
    "## Model outline\n",
    "We start with a simple example, where we consider loading of a unit cube. This simple case will illustrate how to define a non-linear elasticity problem in Fenics, and how to introduce boundary conditions and different material properties. The model will be a simple unit cube, fixed at one end ($x=0$) and loaded with a pressure load (negative pressure, i.e. stretch) at the other end ($x=1.0$). The first version of the model will use a simple isotropic neo-Hookean material model. Later we will introduce a more realistic soft tissue model, and also add active contraction. \n"
   ]
  },
  {
   "cell_type": "markdown",
   "metadata": {},
   "source": [
    "### Weak form of the static hyper-elasticity problem\n",
    "We want to solve a static solid mechanics problem with a combination of Dirichlet and Neumann boundary conditions:\n",
    "$$\n",
    " \\begin{alignat*}{2}\n",
    "    - \\nabla\\cdot P &= 0 && \\quad \\text{ in } \\Omega \\\\\n",
    "    u &= 0 && \\quad \\text{ on } \\Gamma_{\\mathrm{D}} \\\\\n",
    "    P \\cdot n &= T && \\quad \\text{ on } \\Gamma_{\\mathrm{N}} \\\\\n",
    "    P \\cdot n &= 0 && \\quad \\text{ on } \\Gamma_{\\mathrm{0}}\n",
    "  \\end{alignat*}\n",
    "$$\n",
    "Here, $P$ is the first Piola-Kirchhoff stress tensor, $u$ is the displacement, $T$ is a load (vector) applied to parts of the boundary, and $\\Omega, \\Gamma_{\\mathrm{D}}, \\Gamma_{\\mathrm{N}},\\Gamma_{\\mathrm{0}}$ are the domain and the boundaries for Dirichlet- and Neumann boundary conditions, respectively. \n",
    "\n",
    "To apply the finite element method, we need to derive the weak form of the problem.  Multiply by a test function $v \\in \\hat{V}$ and integrate by parts:\n",
    "$$\n",
    "  \\begin{equation*}\n",
    "    - \\int_{\\Omega} \\nabla\\cdot P \\cdot v dx\n",
    "    = \\int_{\\Omega} P : \\nabla v dx - \\int_{\\partial\\Omega} (P \\cdot n) \\cdot v ds = 0\n",
    "  \\end{equation*}\n",
    "$$\n",
    "\n",
    "We now apply the boundary conditions (and note that $v = 0$ on $\\Gamma_{\\mathrm{D}}$), to get the final weak form:\n",
    "\n",
    "Find $u \\in V$ such that\n",
    "$$\n",
    "\\begin{equation*}\n",
    "    \\int_{\\Omega} P : \\nabla v dx\n",
    "    = \\int_{\\Gamma_{\\mathrm{N}}} T \\cdot v ds\n",
    "  \\end{equation*}\n",
    "$$\n",
    "for all $v \\in \\hat{V}$ \n",
    "\n",
    "In our case the boundary load $T$ is a simple normal pressure. If we were working in the deformed configuration, we would simply have $T=-p n$, where $p$ is the applied pressure and $n$ is the unit surface normal. However, we are using a Lagrangian formulation and everything is defined relative to the reference state. The applied pressure, which actually acts on the deformed surface, therefore needs to be mapped to the reference state. We get\n",
    "$$\n",
    "\\begin{equation*}\n",
    "T = -p J F^{-T}\\cdot N,\n",
    "\\end{equation*}\n",
    "$$\n",
    "where $N$ is the unit normal of the undeformed (reference) geometry. \n",
    "\n",
    "### The St Venant-Kirchhoff material model\n",
    "The simplest hyper-elastic material model is the St Venant-Kirchhoff model, which is simply an extension of the linear Hooke's law to the large-deformation regime. The strain energy function is given by:\n",
    "$$\n",
    "\\begin{equation*}\n",
    "    W(E) = \\frac{\\lambda}{2} (tr(E))^2 + \\mu tr(E^2),\n",
    "  \\end{equation*}\n",
    "  $$\n",
    "where  $E = \\frac{1}{2}(F^T F - I)$ is the Green--Lagrange strain, and $F = I + \\nabla u$ is the deformation gradient. From the strain energy function we can obtain the first and second Piola-Kirchhoff (PK) stress ($P$ and $S$) as\n",
    "$$\n",
    "\\begin{align*}\n",
    "P_{ij} &= \\frac{\\partial W}{\\partial F_{ij}}, \\\\\n",
    "S_{ij} &= \\frac{\\partial W}{\\partial E_{ij}},\n",
    "\\end{align*}\n",
    "$$\n",
    "and we also have the relation $P = FS$. Both the first and second PK stresses are commonly used in finite element solvers. The formulation based on $S$ is popular in text books, as it allows a few more analytical steps in the derivation of the nonlinear solution method. However, in a computational setting, and in particular when using an automated system like FEniCS, the formulation based on $P$ is just as simple.\n",
    "\n",
    "### The Fenics solver\n",
    "We are now ready to specify the problem in Fenics. First, the usual imports and defining the solution domain, the function space and the test- and trial functions:"
   ]
  },
  {
   "cell_type": "code",
   "execution_count": null,
   "metadata": {
    "collapsed": true
   },
   "outputs": [],
   "source": [
    "import matplotlib.pyplot as plt\n",
    "import numpy as np\n",
    "from fenics import *\n",
    "\n",
    "# Optimization options for the form compiler\n",
    "parameters[\"form_compiler\"][\"cpp_optimize\"] = True\n",
    "parameters[\"form_compiler\"][\"representation\"] = \"uflacs\"\n",
    "parameters[\"form_compiler\"][\"quadrature_degree\"] = 4\n",
    "\n",
    "\n",
    "# Setup the mesh and the function space for the solutions\n",
    "mesh = UnitCubeMesh(4,4,4)\n",
    "V = VectorFunctionSpace(mesh, \"Lagrange\", 2)\n",
    "\n",
    "\n",
    "# Define functions\n",
    "v  = TestFunction(V)             # Test function\n",
    "u  = Function(V)                 # Displacement from previous iteration"
   ]
  },
  {
   "cell_type": "markdown",
   "metadata": {},
   "source": [
    "Now we need to define the boundary conditions. We want homogenous Dirichlet conditions on the left boundary $x=0.0$, a non-homoegenous Neumann conditions on $x=1.0$, and homogenous Neumann conditions everywhere else. The following code first defines the subdomains and marks the respective boundaries, then redefines the boundary measure (ds) to allow surface integrals over parts of the boundary, and then defines the Dirichlet conditions:"
   ]
  },
  {
   "cell_type": "code",
   "execution_count": null,
   "metadata": {
    "collapsed": true
   },
   "outputs": [],
   "source": [
    "# Mark boundary subdomains\n",
    "left =  CompiledSubDomain(\"near(x[0], side) && on_boundary\", side = 0.0)\n",
    "right = CompiledSubDomain(\"near(x[0], side) && on_boundary\", side = 1.0)\n",
    "\n",
    "boundary_markers = MeshFunction(\"size_t\", mesh,mesh.topology().dim() - 1)\n",
    "boundary_markers.set_all(0)\n",
    "left.mark(boundary_markers, 1)\n",
    "right.mark(boundary_markers, 2)\n",
    "\n",
    "# Redefine boundary measure\n",
    "ds = Measure('ds',domain=mesh,subdomain_data=boundary_markers)\n",
    "\n",
    "# Define Dirichlet boundary (x = 0 or x = 1)\n",
    "clamp = Constant((0.0, 0.0, 0.0))\n",
    "bc = DirichletBC(V, clamp, left)\n",
    "bcs = [bc]"
   ]
  },
  {
   "cell_type": "markdown",
   "metadata": {},
   "source": [
    "Next, we turn to defining the mechanics problem. We start with the kinematics and the strain energy function defining the neo-Hookean material, obtain the Piola-Kirchhoff stresses by differentiating the strain energy function, and finally define the weak form of the problem."
   ]
  },
  {
   "cell_type": "code",
   "execution_count": null,
   "metadata": {
    "collapsed": true
   },
   "outputs": [],
   "source": [
    "# Kinematics\n",
    "d = len(u)\n",
    "I = Identity(d)             # Identity tensor\n",
    "F = I + grad(u)             # Deformation gradient\n",
    "C = F.T*F                   # the right Cauchy-Green tensor\n",
    "E = 0.5*(C - I)             # the Green-Lagrange strain tensor\n",
    "\n",
    "# Material parameters (Lamé parameters)\n",
    "mu    = 4.0  \n",
    "lmbda = 20.0  \n",
    "\n",
    "# The strain energy for the St-Venant Kirchhoff model:\n",
    "E = variable(E)\n",
    "psi = lmbda/2*(tr(E)**2) + mu*tr(E*E)\n",
    "\n",
    "S = diff(psi,E) #second Piola-Kirchhoff stress\n",
    "P = F*S         #First Piola-Kirchhoff stress\n",
    "\n",
    "p_right = Constant(0.0) #the pressure load (zero for now)\n",
    "\n",
    "# Definition of the weak form:\n",
    "N = FacetNormal(mesh)\n",
    "Gext = p_right * inner(v, cofac(F)*N) * ds(2) #ds(2) = left boundary\n",
    "R = inner(P,grad(v))*dx + Gext "
   ]
  },
  {
   "cell_type": "markdown",
   "metadata": {},
   "source": [
    "Finally, we solve the problem for different loads, and plot the load vs displacement. "
   ]
  },
  {
   "cell_type": "code",
   "execution_count": null,
   "metadata": {
    "collapsed": true
   },
   "outputs": [],
   "source": [
    "\n",
    "\n",
    "# The middle point on the right boundary\n",
    "point0 = np.array([1.0,0.5,0.5])\n",
    "\n",
    "\n",
    "# Step-wise loading (for plotting and convergence)\n",
    "load_steps = 6\n",
    "target_load = 10.0\n",
    "loads = np.linspace(0,target_load,load_steps)\n",
    "\n",
    "d0 = np.zeros(3)                #displacement at point0\n",
    "disp = np.zeros(load_steps) #array to store displacement for all steps\n",
    "\n",
    "for step in range(load_steps):\n",
    "    # Stretch is a negative pressure\n",
    "    p_right.assign(-loads[step])\n",
    "    \n",
    "    #solve the problem:\n",
    "    solve(R == 0, u, bcs)\n",
    "    \n",
    "    #evaluate displacement at point defined above\n",
    "    u.eval(d0,point0)\n",
    "    disp[step] = d0[0]\n",
    "\n",
    "    \n",
    "#displacement on x-axis, load on y-axis\n",
    "plt.figure(1)\n",
    "plt.plot(disp,loads)\n",
    "plt.xlabel('Displacement of point (1.0,0.5,0.5)')\n",
    "plt.ylabel('Applied pressure load')\n",
    "\n",
    "# Plot the deformed cube and the original\n",
    "plt.figure(2)\n",
    "u_int = dolfin.interpolate(u, dolfin.VectorFunctionSpace(mesh, \"CG\", 1))\n",
    "deformed_mesh = dolfin.Mesh(mesh)\n",
    "dolfin.ALE.move(deformed_mesh, u_int)\n",
    "dolfin.plot(mesh, alpha=0.5, edgecolor='k')#, title=\"original\")\n",
    "dolfin.plot(deformed_mesh, edgecolor='g', alpha=0.7)#, title='Contracting cube')\n",
    "ax = plt.gca()\n",
    "ax.view_init(elev=2, azim=-92)\n",
    "\n",
    "plt.show()"
   ]
  },
  {
   "cell_type": "markdown",
   "metadata": {},
   "source": [
    "### Questions and comments:\n",
    "* The neo-Hookean model is a linear stress-strain relation, but the curve above is non-linear. Why?\n",
    "* An open source cardiac mechanics solver, based on the approach outlined above, can be found here: [https://github.com/finsberg/pulse](https://github.com/finsberg/pulse) "
   ]
  },
  {
   "cell_type": "code",
   "execution_count": null,
   "metadata": {
    "collapsed": true
   },
   "outputs": [],
   "source": []
  }
 ],
 "metadata": {
  "kernelspec": {
   "display_name": "Python 3",
   "language": "python",
   "name": "python3"
  },
  "language_info": {
   "codemirror_mode": {
    "name": "ipython",
    "version": 3
   },
   "file_extension": ".py",
   "mimetype": "text/x-python",
   "name": "python",
   "nbconvert_exporter": "python",
   "pygments_lexer": "ipython3",
   "version": "3.6.1"
  }
 },
 "nbformat": 4,
 "nbformat_minor": 2
}
