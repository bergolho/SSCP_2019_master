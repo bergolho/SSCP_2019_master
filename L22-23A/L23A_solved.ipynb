{
 "cells": [
  {
   "cell_type": "markdown",
   "metadata": {},
   "source": [
    "# Tissue perfusion\n",
    "\n",
    "### Multi-compartment Darcy's law\n",
    "\n",
    "Tissue is perfused by arteries, arterioles and capillaries ranging between 10 um and 1 mm in diameter, resulting in inhomogeneous porosity. To account for this inhomogeneous porosity we expand Darcy's law to a multi-compartment model using $N$ porous tissues that are superimposed in the model domain.\n",
    "\n",
    "| <img src=\"figures/multicompartment.jpg\" width=600> |\n",
    "|:--:|\n",
    "| *Illustration of a superimposition of N=3 porous compartments into a multi-compartment domain.* |\n",
    "\n",
    "Taking the example of $N = 2$ compartments, we now have to solve for two Darcy equations that are coupled via the pressure gradients between the compartments, using coupling coefficients $\\beta$:\n",
    "\n",
    "$$\\nabla \\cdot \\left( -\\boldsymbol{K}_0 \\; \\nabla p_0(\\boldsymbol{x}) \\right) + \\beta_{0,1} (p_0 - p_1) = f_0(\\boldsymbol{x})  \\qquad \\text{on } \\Omega$$\n",
    "$$\\nabla \\cdot \\left( -\\boldsymbol{K}_1 \\; \\nabla p_1(\\boldsymbol{x}) \\right) + \\beta_{0,1} (p_1 - p_0) = f_1(\\boldsymbol{x})  \\qquad \\text{on } \\Omega$$\n",
    "\n",
    "To derive the variational form for a system of coupled equations we use separate sets of trial and test functions and then add up the equations, such that the variational problem reads: Find $p_0$, $p_1 \\in V$ such that $\\forall q_0, q_1 \\in \\hat{V}$\n",
    "\n",
    "$$\\langle - \\boldsymbol{K}_0 \\; \\nabla p_0(\\boldsymbol{x}), \\nabla q_0 \\rangle_{\\Omega} + \\langle - \\boldsymbol{K}_1 \\; \\nabla p_1(\\boldsymbol{x}), \\nabla q_1 \\rangle_{\\Omega} + \\langle \\beta_{0,1} (p_0 - p_1), q_0 \\rangle_{\\Omega} + \\langle \\beta_{0,1} (p_1 - p_0), q_1 \\rangle_{\\Omega} = \\langle f_0(\\boldsymbol{x}), q_0 \\rangle_{\\Omega} + \\langle f_1(\\boldsymbol{x}), q_1 \\rangle_{\\Omega}$$\n",
    "\n",
    "More generally the system of Darcy equations and their variational form can be written as\n",
    "\n",
    "$$\\nabla \\cdot \\left( -\\boldsymbol{K}_i \\; \\nabla p_i(\\boldsymbol{x}) \\right) + \\sum_{j=0}^N \\beta_{i,j} (p_i - p_j) = f_i(\\boldsymbol{x})  \\qquad \\text{on } \\Omega$$\n",
    "\n",
    "And: Find $p_i \\in V$ such that $\\forall q_i \\in \\hat{V}$\n",
    "\n",
    "$$\\sum_{i=0}^N \\langle - \\boldsymbol{K}_i \\; \\nabla p_i(\\boldsymbol{x}), \\nabla q_i \\rangle_{\\Omega} + \\sum_{i=0}^N \\sum_{j=0}^N \\langle \\beta_{i,j} (p_i - p_1j), q_i \\rangle_{\\Omega} = \\langle \\sum_{i=0}^N \\langle f_i(\\boldsymbol{x}), q_i \\rangle_{\\Omega}$$\n",
    "\n",
    "With a particular interest in tissue perfusion we can apply some assumptions for the compartment coupling coefficients $\\beta$:\n",
    "\n",
    "$\\beta_{i,i} = 0$\n",
    "\n",
    "$\\beta_{i,j} = \\beta_{j,i}$\n",
    "\n",
    "$\\beta_{i+1,i} = 0$\n",
    "\n",
    "#### Exercise: Discuss these assumptions with your neighbour.\n",
    "\n",
    "### FEniCS implementation"
   ]
  },
  {
   "cell_type": "code",
   "execution_count": 1,
   "metadata": {},
   "outputs": [],
   "source": [
    "from fenics import *\n",
    "import numpy as np\n",
    "import matplotlib.pyplot as plt\n",
    "\n",
    "parameters[\"form_compiler\"][\"quadrature_degree\"] = 4\n",
    "parameters[\"form_compiler\"][\"cpp_optimize\"] = True"
   ]
  },
  {
   "cell_type": "markdown",
   "metadata": {},
   "source": [
    "Because pressures in the different compartments are coupled, solving the multi-compartment model requires a _mixed function space_. If each pressure variable should be approximated using P1 linear elements, then we have to use a mixed finite element containing $N$ P1 elements"
   ]
  },
  {
   "cell_type": "code",
   "execution_count": null,
   "metadata": {},
   "outputs": [],
   "source": [
    "# Create mixed function spaces for a given mesh and number of compartments N\n",
    "def mixed_function_space(mesh, N):\n",
    "    P1 = FiniteElement('P', mesh.ufl_cell(), 1)\n",
    "    ME = MixedElement([P1 for i in range(N)])\n",
    "    return FunctionSpace(mesh, ME)\n",
    "\n",
    "n = 4\n",
    "mesh = UnitSquareMesh(n, n)\n",
    "V = mixed_function_space(mesh, 3)\n",
    "# To access individual function spaces: \n",
    "[print(type(V.sub(i))) for i in range(N)]"
   ]
  },
  {
   "cell_type": "markdown",
   "metadata": {},
   "source": [
    "When using this mixed function space the corresponding trial/test functions will also be mixed"
   ]
  },
  {
   "cell_type": "code",
   "execution_count": null,
   "metadata": {},
   "outputs": [],
   "source": [
    "p = TestFunction(V)\n",
    "q = TrialFunction(V)\n",
    "[print(type(p[i])) for i in range(N)]\n",
    "[print(type(q[i])) for i in range(N)]\n",
    "\n",
    "p = Function(V)\n",
    "[print(type(p[i])) for i in range(N)]"
   ]
  },
  {
   "cell_type": "markdown",
   "metadata": {},
   "source": [
    "#### Exercise: Copy over your code for Darcy's law from L13 and expand it to a multi-compartment model with N = 2"
   ]
  },
  {
   "cell_type": "code",
   "execution_count": null,
   "metadata": {},
   "outputs": [],
   "source": [
    "# Create mesh and define function space\n",
    "n = 4\n",
    "mesh = UnitSquareMesh(n, n)\n",
    "P1 = FiniteElement('P', mesh.ufl_cell(), 1)\n",
    "ME = MixedElement([P1, P1])\n",
    "P = FunctionSpace(mesh, ME) # mixed pressure space\n",
    "\n",
    "# Define parameters\n",
    "N = 2\n",
    "K = [Constant(1), Constant(1)]\n",
    "beta01 = Constant(0.2)\n",
    "f = Constant(2)\n",
    "\n",
    "# Define boundary condition\n",
    "def left(x, on_boundary):\n",
    "    return on_boundary and near(x[0], 0.0)\n",
    "\n",
    "def right(x, on_boundary):\n",
    "    return on_boundary and near(x[0], 1.0)\n",
    "\n",
    "bcl = DirichletBC(P.sub(0), Constant(1), left)\n",
    "bcr = DirichletBC(P.sub(1), Constant(0), right)\n",
    "bcs = [bcl, bcr]\n",
    "\n",
    "# Define variational problem\n",
    "p = TestFunction(P)\n",
    "q = TrialFunction(P)\n",
    "a = sum([K[i] * inner(grad(p[i]), grad(q[i])) for i in range(N)])*dx +\\\n",
    "                 beta01 * ((p[0]-p[1])*q[0] + (p[1]-p[0])*q[1])*dx\n",
    "L = f*q[0]*dx\n",
    "\n",
    "# Solve\n",
    "p = Function(P)\n",
    "solve(a == L, p, bcs=bcs)"
   ]
  },
  {
   "cell_type": "code",
   "execution_count": null,
   "metadata": {},
   "outputs": [],
   "source": [
    "# Plot solution p0\n",
    "fig = plot(p[0])\n",
    "plt.colorbar(fig)"
   ]
  },
  {
   "cell_type": "code",
   "execution_count": null,
   "metadata": {},
   "outputs": [],
   "source": [
    "# Plot solution p1\n",
    "fig = plot(p[1])\n",
    "plt.colorbar(fig)"
   ]
  },
  {
   "cell_type": "markdown",
   "metadata": {},
   "source": [
    "#### Exercise: Apply the multi-compartment Darcy's law model to the LV geometry from L21."
   ]
  },
  {
   "cell_type": "code",
   "execution_count": 3,
   "metadata": {},
   "outputs": [],
   "source": [
    "def load_ellipsoid_data():\n",
    "    \"\"\"Returns 4-tuple:\n",
    "    mesh - the mesh, \n",
    "    mf - MeshFunction defining boundary markers, \n",
    "    numbering - dict of marking numbers,\n",
    "    fibers - list of functions defining microstructure\"\"\"\n",
    "    import dolfin\n",
    "  \n",
    "    mesh = dolfin.Mesh(dolfin.MPI.comm_world, \"../L20-21A/data/mesh.xml\")\n",
    "    mf = dolfin.MeshFunction(\"size_t\", mesh, \"../L20-21A/data/facet_function.xml\")\n",
    "\n",
    "    numbering = {\n",
    "        \"BASE\": 10,\n",
    "        \"ENDO\": 30,\n",
    "        \"EPI\": 40\n",
    "    }\n",
    "\n",
    "    # load fibers, sheet, cross_sheet data \n",
    "    fiber_element = dolfin.VectorElement(family=\"Quadrature\",\n",
    "                                     cell=mesh.ufl_cell(),\n",
    "                                     degree=4,\n",
    "                                     quad_scheme=\"default\")\n",
    "    fiber_space = dolfin.FunctionSpace(mesh, fiber_element)\n",
    "    fiber = dolfin.Function(fiber_space, \"../L20-21A/data/fiber.xml\")\n",
    "    sheet = dolfin.Function(fiber_space, \"../L20-21A/data/sheet.xml\")\n",
    "    cross_sheet = dolfin.Function(fiber_space, \"../L20-21A/data/cross_sheet.xml\")\n",
    "\n",
    "    fibers = [fiber,sheet, cross_sheet]\n",
    "    \n",
    "    return mesh, mf, numbering, fibers"
   ]
  },
  {
   "cell_type": "markdown",
   "metadata": {},
   "source": [
    "As in the previous lecture, load the geometry data using the function load_ellipsoid_data()."
   ]
  },
  {
   "cell_type": "code",
   "execution_count": null,
   "metadata": {},
   "outputs": [],
   "source": [
    "mesh, boundary_markers, numbering, fibers = load_ellipsoid_data()"
   ]
  },
  {
   "cell_type": "markdown",
   "metadata": {},
   "source": [
    "Apply your multi-compartment to this geometry and use the boundary_markers mesh function to apply your boundary conditions. These should be $p = 10500$ Pa at the epicardium in compartment 0 and $p = 3300$ Pa at the endocardium in compartment 1. To apply boundary conditions on a sub-space of a function space you can write for example"
   ]
  },
  {
   "cell_type": "code",
   "execution_count": null,
   "metadata": {},
   "outputs": [],
   "source": [
    "bc = DirichletBC(P.sub(0), Constant(1), boundary_markers, 10)"
   ]
  },
  {
   "cell_type": "code",
   "execution_count": null,
   "metadata": {},
   "outputs": [],
   "source": [
    "P1 = FiniteElement('P', mesh.ufl_cell(), 1)\n",
    "ME = MixedElement([P1, P1])\n",
    "P = FunctionSpace(mesh, ME) # mixed pressure space\n",
    "\n",
    "# Define parameters\n",
    "N = 2\n",
    "K = [Constant(1), Constant(0.5)]\n",
    "beta01 = Constant(0.2)\n",
    "f = Constant(2)\n",
    "\n",
    "bc_epi = DirichletBC(P.sub(0), Constant(10500), boundary_markers, 40)\n",
    "bc_endo = DirichletBC(P.sub(1), Constant(3300), boundary_markers, 30)\n",
    "bcs = [bc_epi, bc_endo]\n",
    "\n",
    "# Define variational problem\n",
    "p = TestFunction(P)\n",
    "q = TrialFunction(P)\n",
    "a = sum([K[i] * inner(grad(p[i]), grad(q[i])) for i in range(N)])*dx +\\\n",
    "                 beta01 * ((p[0]-p[1])*q[0] + (p[1]-p[0])*q[1])*dx\n",
    "L = f*q[0]*dx\n",
    "\n",
    "# Solve\n",
    "p = Function(P)\n",
    "solve(a == L, p, bcs=bcs)"
   ]
  },
  {
   "cell_type": "code",
   "execution_count": null,
   "metadata": {},
   "outputs": [],
   "source": [
    "# Plot solution p0\n",
    "plot(mesh, alpha=0.1, edgecolor='k', color='w')\n",
    "fig = plot(p[0])\n",
    "plt.colorbar(fig)\n",
    "\n",
    "ax = plt.gca()\n",
    "ax.view_init(elev=-67, azim=-179)\n",
    "ax.set_axis_off()\n",
    "plt.show()"
   ]
  },
  {
   "cell_type": "code",
   "execution_count": null,
   "metadata": {},
   "outputs": [],
   "source": [
    "# Plot solution p1\n",
    "plot(mesh, alpha=0.1, edgecolor='k', color='w')\n",
    "fig = plot(p[1])\n",
    "plt.colorbar(fig)\n",
    "\n",
    "ax = plt.gca()\n",
    "ax.view_init(elev=-67, azim=-179)\n",
    "ax.set_axis_off()\n",
    "plt.show()"
   ]
  },
  {
   "cell_type": "markdown",
   "metadata": {},
   "source": [
    "#### Exercise: Use your results from L21 (contraction modelling) to drive the perfusion model\n",
    "\n",
    "To drive our model using the results from the solid contraction model from the previous lecture we will assume that pressure in compartment 0 is fully described by the stresses in the left ventricle tissue, so we only need to solve for p1. We can calculate stress and convert it to pressure using"
   ]
  },
  {
   "cell_type": "code",
   "execution_count": null,
   "metadata": {},
   "outputs": [],
   "source": [
    "from guccionematerial import *\n",
    "\n",
    "mesh, boundary_markers, numbering, fibers = load_ellipsoid_data()\n",
    "V = VectorFunctionSpace(mesh, 'P', 1) # displacement space\n",
    "P = FunctionSpace(mesh, 'P', 1) # pressure space\n",
    "\n",
    "u_file = XDMFFile(\"contraction/u.xdmf\")\n",
    "u_file.read_checkpoint(u, 'u', i)\n",
    "u_file.close()\n",
    "\n",
    "# Define strain measures\n",
    "I = Identity(3) # the identity matrix\n",
    "F = I + grad(u) # the deformation gradient\n",
    "F = variable(F)\n",
    "J = variable(det(F))\n",
    "\n",
    "mat = GuccioneMaterial(e1=fibers[0],e2=fibers[1],e3=fibers[2],kappa=1e3,Tactive=0.0)\n",
    "psi = mat.strain_energy(F)\n",
    "\n",
    "p0 = project(inner(diff(psi, F), F.T), P)"
   ]
  },
  {
   "cell_type": "code",
   "execution_count": 8,
   "metadata": {},
   "outputs": [
    {
     "name": "stdout",
     "output_type": "stream",
     "text": [
      "Calling FFC just-in-time (JIT) compiler, this may take some time.\n",
      "Calling FFC just-in-time (JIT) compiler, this may take some time.\n",
      "0.0\n",
      "0.0\n",
      "3.914011163757045\n",
      "0.04373766738609708\n",
      "8.484637300140315\n",
      "0.10320575365851636\n",
      "13.73805234130044\n",
      "0.18093839976644494\n",
      "19.61972142292502\n",
      "0.2762615418201062\n",
      "26.011130704528963\n",
      "0.38575471447503384\n",
      "32.79365647541139\n",
      "0.5057332063224168\n",
      "39.88438541611846\n",
      "0.6336957689544073\n",
      "47.23142789206358\n",
      "0.7681808978571203\n",
      "54.80095763688954\n",
      "0.9082937270500356\n",
      "62.56894345832523\n",
      "1.0534166870342485\n",
      "70.51705509918808\n",
      "1.2030788078952561\n",
      "78.63067901609372\n",
      "1.3569003497728358\n",
      "86.89787170401341\n",
      "1.5145675966427021\n",
      "95.30873012046627\n",
      "1.6758191053876164\n",
      "103.85496240238929\n",
      "1.840436406436911\n",
      "112.52956833928243\n",
      "2.0082366896983515\n",
      "121.3265897702739\n",
      "2.1790666549829614\n",
      "130.24091126226293\n",
      "2.352797259796789\n",
      "139.26809959334835\n",
      "2.5293192577452124\n",
      "139.26809959334835\n",
      "2.5293192577452124\n",
      "136.87771255650426\n",
      "2.5317785770148564\n",
      "134.3813690319172\n",
      "2.5320067075296224\n",
      "131.76300460799987\n",
      "2.5296891518716156\n",
      "129.0027548900404\n",
      "2.5244376902281873\n",
      "126.07567342445014\n",
      "2.5157654642031906\n",
      "122.95007153402477\n",
      "2.5030588164486476\n",
      "119.5856096839958\n",
      "2.485554681411245\n",
      "115.9317996498677\n",
      "2.462349535338952\n",
      "111.92892815687576\n",
      "2.4325023483939674\n",
      "107.51599446676751\n",
      "2.395344402571794\n",
      "102.65252761099454\n",
      "2.351092286992547\n",
      "97.35439054552678\n",
      "2.301535136603515\n",
      "91.71723157997152\n",
      "2.2499404006932116\n",
      "85.89432185724355\n",
      "2.199802992714988\n",
      "80.05661151028873\n",
      "2.1538055455335936\n",
      "74.38276816703167\n",
      "2.113887482800157\n",
      "69.06453422142836\n",
      "2.0816776060279305\n",
      "64.28010051287787\n",
      "2.058460715715238\n",
      "60.1323970333823\n",
      "2.044661660259177\n"
     ]
    }
   ],
   "source": [
    "from guccionematerial import *\n",
    "\n",
    "mesh, boundary_markers, numbering, fibers = load_ellipsoid_data()\n",
    "V = VectorFunctionSpace(mesh, 'P', 1)\n",
    "\n",
    "u = Function(V)\n",
    "u_file = XDMFFile(\"contraction/u.xdmf\")\n",
    "p0_file = XDMFFile(\"contraction/p0.xdmf\")\n",
    "p1_file = XDMFFile(\"contraction/p1.xdmf\")\n",
    "\n",
    "# Define strain measures\n",
    "u = Function(V)\n",
    "I = Identity(3) # the identity matrix\n",
    "F = I + grad(u) # the deformation gradient\n",
    "F = variable(F)\n",
    "J = variable(det(F))\n",
    "\n",
    "mat = GuccioneMaterial(e1=fibers[0],e2=fibers[1],e3=fibers[2],kappa=1e3,Tactive=0.0)\n",
    "psi = mat.strain_energy(F)\n",
    "\n",
    "P = FunctionSpace(mesh, 'P', 1) # pressure space\n",
    "\n",
    "# Define parameters\n",
    "N = 2\n",
    "K = [Constant(1), Constant(0.5)]\n",
    "beta01 = Constant(0.5)\n",
    "f = Constant(0)\n",
    "\n",
    "bc_endo = DirichletBC(P, Constant(0), boundary_markers, 30)\n",
    "bcs = [bc_endo]\n",
    "\n",
    "# Define variational problem\n",
    "p = TrialFunction(P)\n",
    "q = TestFunction(P)\n",
    "p_D = Function(P)\n",
    "R = K[1] * inner(grad(p), grad(q))*dx + beta01*(p-p_D)*q*dx - f*q*dx\n",
    "a, L = lhs(R), rhs(R)\n",
    "\n",
    "steps = 40\n",
    "dt = 1/steps\n",
    "t = 0.0\n",
    "p = Function(P)\n",
    "for i in range(steps):\n",
    "    u_file.read_checkpoint(u, 'u', i)\n",
    "    \n",
    "    p_D1 = project(inner(diff(psi, F), F.T), P)\n",
    "    p_D.assign(p_D1)\n",
    "    \n",
    "    solve(a == L, p, bcs=bcs)\n",
    "    \n",
    "    print(assemble(p_D1*dx))\n",
    "    print(assemble(p*dx))\n",
    "    \n",
    "    p0_file.write_checkpoint(p_D, 'p0', t, append=True)\n",
    "    p1_file.write_checkpoint(p, 'p1', t, append=True)\n",
    "    \n",
    "    t += dt\n",
    "    \n",
    "u_file.close()\n",
    "p0_file.close()\n",
    "p1_file.close()"
   ]
  },
  {
   "cell_type": "code",
   "execution_count": null,
   "metadata": {},
   "outputs": [],
   "source": []
  }
 ],
 "metadata": {
  "kernelspec": {
   "display_name": "Python 3",
   "language": "python",
   "name": "python3"
  },
  "language_info": {
   "codemirror_mode": {
    "name": "ipython",
    "version": 3
   },
   "file_extension": ".py",
   "mimetype": "text/x-python",
   "name": "python",
   "nbconvert_exporter": "python",
   "pygments_lexer": "ipython3",
   "version": "3.7.3"
  }
 },
 "nbformat": 4,
 "nbformat_minor": 2
}
