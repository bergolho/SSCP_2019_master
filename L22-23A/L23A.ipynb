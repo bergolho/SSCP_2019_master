{
 "cells": [
  {
   "cell_type": "markdown",
   "metadata": {},
   "source": [
    "# Tissue perfusion\n",
    "\n",
    "### Multi-compartment Darcy's law\n",
    "\n",
    "Tissue is perfused by arteries, arterioles and capillaries ranging between 10 um and 1 mm in diameter, resulting in inhomogeneous porosity. To account for this inhomogeneous porosity we expand Darcy's law to a multi-compartment model using $N$ porous tissues that are superimposed in the model domain.\n",
    "\n",
    "| <img src=\"figures/multicompartment.jpg\" width=600> |\n",
    "|:--:|\n",
    "| *Illustration of a superimposition of N=3 porous compartments into a multi-compartment domain.* |\n",
    "\n",
    "Taking the example of $N = 2$ compartments, we now have to solve for two Darcy equations that are coupled via the pressure gradients between the compartments, using coupling coefficients $\\beta$:\n",
    "\n",
    "$$\\nabla \\cdot \\left( -\\boldsymbol{K}_0 \\; \\nabla p_0(\\boldsymbol{x}) \\right) + \\beta_{0,1} (p_0 - p_1) = f_0(\\boldsymbol{x})  \\qquad \\text{on } \\Omega$$\n",
    "$$\\nabla \\cdot \\left( -\\boldsymbol{K}_1 \\; \\nabla p_1(\\boldsymbol{x}) \\right) + \\beta_{0,1} (p_1 - p_0) = f_1(\\boldsymbol{x})  \\qquad \\text{on } \\Omega$$\n",
    "\n",
    "To derive the variational form for a system of coupled equations we use separate sets of trial and test functions and then add up the equations, such that the variational problem reads: Find $p_0$, $p_1 \\in V$ such that $\\forall q_0, q_1 \\in \\hat{V}$\n",
    "\n",
    "$$\\langle - \\boldsymbol{K}_0 \\; \\nabla p_0(\\boldsymbol{x}), \\nabla q_0 \\rangle_{\\Omega} + \\langle - \\boldsymbol{K}_1 \\; \\nabla p_1(\\boldsymbol{x}), \\nabla q_1 \\rangle_{\\Omega} + \\langle \\beta_{0,1} (p_0 - p_1), q_0 \\rangle_{\\Omega} + \\langle \\beta_{0,1} (p_1 - p_0), q_1 \\rangle_{\\Omega} = \\langle f_0(\\boldsymbol{x}), q_0 \\rangle_{\\Omega} + \\langle f_1(\\boldsymbol{x}), q_1 \\rangle_{\\Omega}$$\n",
    "\n",
    "More generally the system of Darcy equations and their variational form can be written as\n",
    "\n",
    "$$\\nabla \\cdot \\left( -\\boldsymbol{K}_i \\; \\nabla p_i(\\boldsymbol{x}) \\right) + \\sum_{j=0}^N \\beta_{i,j} (p_i - p_j) = f_i(\\boldsymbol{x})  \\qquad \\text{on } \\Omega$$\n",
    "\n",
    "And: Find $p_i \\in V$ such that $\\forall q_i \\in \\hat{V}$\n",
    "\n",
    "$$\\sum_{i=0}^N \\langle - \\boldsymbol{K}_i \\; \\nabla p_i(\\boldsymbol{x}), \\nabla q_i \\rangle_{\\Omega} + \\sum_{i=0}^N \\sum_{j=0}^N \\langle \\beta_{i,j} (p_i - p_1j), q_i \\rangle_{\\Omega} = \\langle \\sum_{i=0}^N \\langle f_i(\\boldsymbol{x}), q_i \\rangle_{\\Omega}$$\n",
    "\n",
    "With a particular interest in tissue perfusion we can apply some assumptions for the compartment coupling coefficients $\\beta$:\n",
    "\n",
    "$\\beta_{i,i} = 0$\n",
    "\n",
    "$\\beta_{i,j} = \\beta_{j,i}$\n",
    "\n",
    "$\\beta_{i+1,i} = 0$\n",
    "\n",
    "### FEniCS implementation\n",
    "\n",
    "#### Exercise: Copy over your code for Darcy's law from L13 and expand it to a multi-compartment model"
   ]
  },
  {
   "cell_type": "code",
   "execution_count": 1,
   "metadata": {},
   "outputs": [],
   "source": [
    "# Insert your code here"
   ]
  },
  {
   "cell_type": "markdown",
   "metadata": {},
   "source": [
    "#### Exercise: Apply the multi-compartment Darcy's law model to the LV geometry from L21."
   ]
  },
  {
   "cell_type": "code",
   "execution_count": 9,
   "metadata": {},
   "outputs": [],
   "source": [
    "def load_ellipsoid_data():\n",
    "    \"\"\"Returns 4-tuple:\n",
    "    mesh - the mesh, \n",
    "    mf - MeshFunction defining boundary markers, \n",
    "    numbering - dict of marking numbers,\n",
    "    fibers - list of functions defining microstructure\"\"\"\n",
    "    import dolfin\n",
    "  \n",
    "    mesh = dolfin.Mesh(dolfin.MPI.comm_world, \"../L20-21A/data/mesh.xml\")\n",
    "    mf = dolfin.MeshFunction(\"size_t\", mesh, \"../L20-21A/data/facet_function.xml\")\n",
    "\n",
    "    numbering = {\n",
    "        \"BASE\": 10,\n",
    "        \"ENDO\": 30,\n",
    "        \"EPI\": 40\n",
    "    }\n",
    "\n",
    "    # load fibers, sheet, cross_sheet data \n",
    "    fiber_element = dolfin.VectorElement(family=\"Quadrature\",\n",
    "                                     cell=mesh.ufl_cell(),\n",
    "                                     degree=4,\n",
    "                                     quad_scheme=\"default\")\n",
    "    fiber_space = dolfin.FunctionSpace(mesh, fiber_element)\n",
    "    fiber = dolfin.Function(fiber_space, \"../L20-21A/data/fiber.xml\")\n",
    "    sheet = dolfin.Function(fiber_space, \"../L20-21A/data/sheet.xml\")\n",
    "    cross_sheet = dolfin.Function(fiber_space, \"../L20-21A/data/cross_sheet.xml\")\n",
    "\n",
    "    fibers = [fiber,sheet, cross_sheet]\n",
    "    \n",
    "    return mesh, mf, numbering, fibers\n",
    "\n",
    "mesh, boundary_markers, numbering, fibers = load_ellipsoid_data()\n",
    "\n",
    "# Insert your code here"
   ]
  },
  {
   "cell_type": "markdown",
   "metadata": {},
   "source": [
    "#### Exercise: Use your results from L21 (contraction modelling) to drive the perfusion model"
   ]
  },
  {
   "cell_type": "code",
   "execution_count": 10,
   "metadata": {},
   "outputs": [],
   "source": [
    "# Insert your code here"
   ]
  },
  {
   "cell_type": "code",
   "execution_count": null,
   "metadata": {},
   "outputs": [],
   "source": []
  }
 ],
 "metadata": {
  "kernelspec": {
   "display_name": "Python 3",
   "language": "python",
   "name": "python3"
  },
  "language_info": {
   "codemirror_mode": {
    "name": "ipython",
    "version": 3
   },
   "file_extension": ".py",
   "mimetype": "text/x-python",
   "name": "python",
   "nbconvert_exporter": "python",
   "pygments_lexer": "ipython3",
   "version": "3.7.3"
  }
 },
 "nbformat": 4,
 "nbformat_minor": 2
}
