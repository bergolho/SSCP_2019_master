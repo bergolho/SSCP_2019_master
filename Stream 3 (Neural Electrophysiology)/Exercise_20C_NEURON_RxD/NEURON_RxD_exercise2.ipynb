{
 "cells": [
  {
   "cell_type": "markdown",
   "metadata": {},
   "source": [
    "#Exercise 2. Diffusion in RxD. An example of bistable dynamics allowing wave propagation\n",
    "$$\\frac{\\partial u}{\\partial t} = -ur(1-u)(0.3-u) + \\sigma\\frac{\\partial^2u}{\\partial x^2}$$"
   ]
  },
  {
   "cell_type": "code",
   "execution_count": 1,
   "metadata": {},
   "outputs": [],
   "source": [
    "from neuron import h, rxd\n",
    "import time\n",
    "from pylab import *\n",
    "from ipywidgets import widgets, fixed, Layout"
   ]
  },
  {
   "cell_type": "code",
   "execution_count": 2,
   "metadata": {},
   "outputs": [
    {
     "data": {
      "text/html": [
       "<style type='text/css'>\n",
       ".widget-inline-hbox .widget-label {\n",
       "      max-width: 250px;\n",
       "      min-width: 250px;\n",
       "}\n",
       "</style>"
      ],
      "text/plain": [
       "<IPython.core.display.HTML object>"
      ]
     },
     "metadata": {},
     "output_type": "display_data"
    }
   ],
   "source": [
    "%%html\n",
    "<style type='text/css'>\n",
    ".widget-inline-hbox .widget-label {\n",
    "      max-width: 250px;\n",
    "      min-width: 250px;\n",
    "}\n",
    "</style>"
   ]
  },
  {
   "cell_type": "code",
   "execution_count": 3,
   "metadata": {},
   "outputs": [
    {
     "data": {
      "text/plain": [
       "1.0"
      ]
     },
     "execution_count": 3,
     "metadata": {},
     "output_type": "execute_result"
    }
   ],
   "source": [
    "#This is the initialization of the RxD system - should be run only once\n",
    "h.load_file('stdrun.hoc')                                     #A default NEURON library\n",
    "\n",
    "dend = h.Section()                                            #Create a compartment called dend\n",
    "dend.nseg = 101                                               #Divide the compartment to 101 segments\n",
    "\n",
    "r = rxd.Region(h.allsec())                                    #Region r where the dynamics will take place\n",
    "\n",
    "r_param = rxd.Parameter(r, initial=0)                         #An RxD parameter affecting the rate of u flux\n",
    "u = rxd.Species(r, d=1, initial=0)                            #An arbitrary species called u, with diffusion 1 mM/(ms um^2)\n",
    "# The \"reaction\" that takes place is a positive (when 0.3 < u < 1.0) or negative (otherwise)\n",
    "# flux of species u (the magnitude of the flux is given as -u*(1-u)*(0.3-u))\n",
    "# Other than that, only diffusion across the cylinder axis takes place\n",
    "bistable_reaction = rxd.Rate(u, -u * r_param * (1 - u) * (0.3 - u))\n",
    "\n",
    "vec_t = h.Vector()                                            #Create vectors for recordings\n",
    "vec_u = h.Vector()\n",
    "vec_t.record(h._ref_t)\n",
    "vec_u.record(u.nodes(dend)(0.5)[0]._ref_concentration)        #Record the concentration variables"
   ]
  },
  {
   "cell_type": "code",
   "execution_count": 4,
   "metadata": {},
   "outputs": [],
   "source": [
    "#This is the main simulation function of the RxD system. \n",
    "def runneuron(rate_param, fraction_initial):\n",
    "    my_start_time = time.time()\n",
    "    r_param.initial = rate_param\n",
    "    h.finitialize()                                           #Initialize the dynamic variables\n",
    "    for node in u.nodes:                                      #Set the concentration to 1\n",
    "        if node.x < fraction_initial: node.concentration = 1  #in the proximal (first 20) segments\n",
    "    \n",
    "    f,ax = plt.subplots(1,1)\n",
    "    data_u = array(vec_u)\n",
    "\n",
    "    ax.plot(dend.L*array(u.nodes.x), u.nodes.concentration, 'r')\n",
    "    cols = ['r','m','b','c','g']\n",
    "    for i in range(1, 5):\n",
    "        h.continuerun(i * 25)                                 #Run for (an additional) 25 milliseconds\n",
    "        ax.plot(dend.L*array(u.nodes.x), u.nodes.concentration, cols[i], label = str(i*25)+' ms')\n",
    "    \n",
    "    ax.set_xlabel('$x$ ($\\mu$m)')\n",
    "    ax.set_ylabel('$c$ (mmol/l)')\n",
    "    ax.legend()\n",
    "    plt.suptitle(\"Simulation run in \"+str(time.time() - my_start_time)+\" seconds.\")\n",
    "    plt.show()"
   ]
  },
  {
   "cell_type": "code",
   "execution_count": 5,
   "metadata": {},
   "outputs": [
    {
     "data": {
      "application/vnd.jupyter.widget-view+json": {
       "model_id": "7609b3a77adc4affb462fe170da5c72b",
       "version_major": 2,
       "version_minor": 0
      },
      "text/plain": [
       "interactive(children=(FloatSlider(value=0.0, continuous_update=False, description='Rate parameter $r$', layout…"
      ]
     },
     "metadata": {},
     "output_type": "display_data"
    }
   ],
   "source": [
    "slider = widgets.interact(runneuron, rate_param=widgets.FloatSlider(min=0.0,max=2.0,step=0.01,value=0.0,description='Rate parameter $r$',layout=Layout(width='50%'), continuous_update = False),\n",
    "                                     fraction_initial=widgets.FloatSlider(min=0.01,max=1.0,step=0.01,value=0.2,description='Fraction of initially activated',layout=Layout(width='50%'), continuous_update = False))"
   ]
  },
  {
   "cell_type": "markdown",
   "metadata": {},
   "source": [
    "#Question: Make the system propagate a wave by changing the rate parameter r. Change the diffusion parameter 10-fold larger (the Jupyter kernel has to be restarted after this change). How is the wave propagation affected?"
   ]
  }
 ],
 "metadata": {
  "kernelspec": {
   "display_name": "Python 3",
   "language": "python",
   "name": "python3"
  },
  "language_info": {
   "codemirror_mode": {
    "name": "ipython",
    "version": 3
   },
   "file_extension": ".py",
   "mimetype": "text/x-python",
   "name": "python",
   "nbconvert_exporter": "python",
   "pygments_lexer": "ipython3",
   "version": "3.6.5"
  }
 },
 "nbformat": 4,
 "nbformat_minor": 2
}
