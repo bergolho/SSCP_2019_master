{
 "cells": [
  {
   "cell_type": "markdown",
   "metadata": {},
   "source": [
    "<b>Exercise 1: Comparison of Python and NEURON syntax.</b>\n",
    "<br><br>\n",
    "We continue with the same Hodgkin-Huxley model as introduced in Lecture 4.\n",
    "$$C_{\\rm m}\\frac{{\\rm d}V}{{\\rm d}t} = g_{\\rm Na} m_{\\infty}(V)h(E_{\\rm Na}-V) + g_{\\rm K} (E_{\\rm K}-V)$$\n",
    "where $h$ is controlled by:\n",
    "$$ \\frac{{\\rm d}h}{{\\rm d}t} = \\alpha_h (1-h)-\\beta_h h$$\n"
   ]
  },
  {
   "cell_type": "code",
   "execution_count": 1,
   "metadata": {},
   "outputs": [],
   "source": [
    "########################################################\n",
    "############## L4, Exercise 5 reprise  #################\n",
    "########### Python solver implementation ###############\n",
    "########################################################\n",
    "\n",
    "import matplotlib.pyplot as plt\n",
    "plt.ion()\n",
    "from scipy.integrate import odeint\n",
    "from pylab import *\n",
    "import time\n",
    "\n",
    "#Definition of constant parameters and initial values\n",
    "C_m = 0.05 # nF    \n",
    "E_Na = 50;\n",
    "E_K = -80;\n",
    "g_Na = 0.8; # uS, 20pS/channel*40,000 channels pr cell. \n",
    "g_K = 0.1\n",
    "I_amp = 0;\n",
    "h0 = 0.5;\n",
    "V0 = -50;\n",
    "\n",
    "dm = 15\n",
    "dh = -5\n",
    "dam = dm\n",
    "dah = dh;\n",
    "dbm = -dm\n",
    "dbh = -dh;\n",
    "\n",
    "#Definition of functions needed for integration of the differential equation\n",
    "def m_rates(V):\n",
    "    alpha = exp((V-Vam)/dam)\n",
    "    beta  = exp((V-Vbm)/dbm)\n",
    "    return alpha, beta\n",
    "def h_rates(V):\n",
    "    alpha = exp((V-Vah)/dah)\n",
    "    beta  = exp((V-Vbh)/dbh)\n",
    "    return alpha, beta\n",
    "def I_Na(V, h):\n",
    "    alpha_m, beta_m = m_rates(V)\n",
    "    return g_Na*alpha_m/(alpha_m+beta_m)*h*(V - E_Na)\n",
    "def I_K(V):\n",
    "    return g_K*(V - E_K)\n",
    "\n",
    "def dY_dt(Y, t=0):\n",
    "    V, h = Y\n",
    "    d_V = (-I_Na(V, h)-I_K(V))/C_m\n",
    "    alpha_h, beta_h = h_rates(V)\n",
    "    d_h = alpha_h*(1-h) - h*beta_h;\n",
    "    return [d_V, d_h]\n",
    "\n",
    "def solve(dt, tstop, V0_l, h0_l, Vam_l, Vbm_l, Vah_l, Vbh_l):\n",
    "    global  V0, h0, Vam, Vbm, Vah, Vbh\n",
    "    timenow = time.time()\n",
    "    V0 = V0_l\n",
    "    h0 = h0_l\n",
    "    Vam = Vam_l\n",
    "    Vbm = Vbm_l\n",
    "    Vah = Vah_l\n",
    "    Vbh = Vbh_l\n",
    "    Y = odeint(dY_dt, [V0,h0], [i*dt for i in range(0,int(tstop/dt))])\n",
    "\n",
    "    V = Y[:, 0]\n",
    "    h = Y[:, 1]\n",
    "    print('Python solver run in '+str(time.time()-timenow)+' seconds')\n",
    "    \n",
    "    return V, h\n"
   ]
  },
  {
   "cell_type": "code",
   "execution_count": 2,
   "metadata": {},
   "outputs": [
    {
     "data": {
      "text/html": [
       "<style type='text/css'>\n",
       ".widget-inline-hbox .widget-label {\n",
       "      max-width: 250px;\n",
       "      min-width: 250px;\n",
       "}\n",
       "</style>"
      ],
      "text/plain": [
       "<IPython.core.display.HTML object>"
      ]
     },
     "metadata": {},
     "output_type": "display_data"
    }
   ],
   "source": [
    "%%html\n",
    "<style type='text/css'>\n",
    ".widget-inline-hbox .widget-label {\n",
    "      max-width: 250px;\n",
    "      min-width: 250px;\n",
    "}\n",
    "</style>"
   ]
  },
  {
   "cell_type": "code",
   "execution_count": 3,
   "metadata": {},
   "outputs": [
    {
     "name": "stdout",
     "output_type": "stream",
     "text": [
      "/home/user/SUURPh-summer-school/L17C-18C\n",
      "K_Pst.mod L4model.mod myhh.mod Nap_Et2.mod\n",
      "K_Pst.mod L4model.mod myhh.mod Nap_Et2.mod\n",
      "\"/opt/conda/share/nrn/libtool\"  --mode=compile gcc -DHAVE_CONFIG_H  -I. -I.. -I\"/opt/conda/include/nrn\" -I\"/opt/conda/lib\"      -m64 -fPIC -c -o mod_func.lo mod_func.c\n",
      "libtool: compile:  gcc -DHAVE_CONFIG_H -I. -I.. -I/opt/conda/include/nrn -I/opt/conda/lib -m64 -fPIC -c mod_func.c  -fPIC -DPIC -o .libs/mod_func.o\n",
      "\"/opt/conda/share/nrn/libtool\"  --mode=link gcc -module  -m64 -fPIC    -Wl,-rpath,/opt/conda/lib -L/opt/conda/lib -o libnrnmech.la -rpath \"/opt/conda/lib\"  K_Pst.lo L4model.lo myhh.lo Nap_Et2.lo mod_func.lo  -L\"/opt/conda/lib\" -lnrnoc -loc -lmemacs -lnrnmpi -lscopmath -lsparse13 -lreadline -lcurses -L\"/opt/conda/lib\" \"/opt/conda/lib/libnrniv.la\" -livoc -lneuron_gnu -lmeschach -lsundials -livos      -lm -ldl\n",
      "libtool: link: rm -fr  .libs/libnrnmech.la .libs/libnrnmech.lai .libs/libnrnmech.so .libs/libnrnmech.so.0 .libs/libnrnmech.so.0.0.0\n",
      "libtool: link: gcc -shared  -fPIC -DPIC  .libs/K_Pst.o .libs/L4model.o .libs/myhh.o .libs/Nap_Et2.o .libs/mod_func.o   -Wl,-rpath -Wl,/opt/conda/lib -Wl,-rpath -Wl,/opt/conda/lib -L/opt/conda/lib /opt/conda/lib/libnrnoc.so /opt/conda/lib/liboc.so /opt/conda/lib/libmemacs.so /opt/conda/lib/libnrnmpi.so /opt/conda/lib/libscopmath.so /opt/conda/lib/libsparse13.so -lreadline -lcurses /opt/conda/lib/libnrniv.so /opt/conda/lib/libivoc.so /opt/conda/lib/libneuron_gnu.so /opt/conda/lib/libmeschach.so /opt/conda/lib/libsundials.so /opt/conda/lib/libivos.so -lm -ldl  -m64 -Wl,-rpath -Wl,/opt/conda/lib   -pthread -Wl,-soname -Wl,libnrnmech.so.0 -o .libs/libnrnmech.so.0.0.0\n",
      "libtool: link: (cd \".libs\" && rm -f \"libnrnmech.so.0\" && ln -s \"libnrnmech.so.0.0.0\" \"libnrnmech.so.0\")\n",
      "libtool: link: (cd \".libs\" && rm -f \"libnrnmech.so\" && ln -s \"libnrnmech.so.0.0.0\" \"libnrnmech.so\")\n",
      "libtool: link: ( cd \".libs\" && rm -f \"libnrnmech.la\" && ln -s \"../libnrnmech.la\" \"libnrnmech.la\" )\n",
      "Successfully created x86_64/special\n"
     ]
    }
   ],
   "source": [
    "#This command compiles all .mod mechanism files in the working directory, one of which is L4model.mod that we will use\n",
    "!nrnivmodl"
   ]
  },
  {
   "cell_type": "code",
   "execution_count": 4,
   "metadata": {},
   "outputs": [],
   "source": [
    "########################################################\n",
    "################# NEURON implementation ################\n",
    "##### See L4model.mod for the membrane mechanisms ######\n",
    "########################################################\n",
    "\n",
    "#Import the NEURON library\n",
    "from neuron import h\n",
    "from ipywidgets import widgets, fixed, Layout\n",
    "\n",
    "#Instead of putting the hoc code into a \"myneuron.hoc\" as in the previous exercise, we can run all hoc code\n",
    "#in triple quotations within the hoc interpreter neuron.h()\n",
    "def solve_NEURON(dt,tstop,Vam,Vbm,Vah,Vbh):\n",
    "    timenow = time.time()\n",
    "    h(\"\"\"load_file(\"stdlib.hoc\")\n",
    "load_file(\"stdrun.hoc\")\n",
    "\n",
    "objref cvode\n",
    "cvode = new CVode()\n",
    "cvode.active(0)\n",
    "\n",
    "create soma\n",
    "access soma\n",
    "\n",
    "soma insert L4model\n",
    "soma {Ra = 1 cm = 0.5 diam = 10 L = 31.8309886 gnabar_L4model = 0.008 gkbar_L4model = 0.001}\n",
    "soma nseg = 1\n",
    "ena = 50\n",
    "ek = -80\n",
    "soma Vam_L4model = \"\"\"+str(Vam)+\"\"\"\n",
    "soma Vbm_L4model = \"\"\"+str(Vbm)+\"\"\"\n",
    "soma Vah_L4model = \"\"\"+str(Vah)+\"\"\"\n",
    "soma Vbh_L4model = \"\"\"+str(Vbh)+\"\"\"\n",
    "\n",
    "dt = \"\"\"+str(dt)+\"\"\"\n",
    "tstop = 50\n",
    "\n",
    "objref Vrec, hrec\n",
    "\n",
    "Vrec = new Vector()\n",
    "Vrec.record(&v(0.5),dt)\n",
    "hrec = new Vector()\n",
    "hrec.record(&h_L4model(0.5),dt)\n",
    "v_init = -65\n",
    "\n",
    "init()\n",
    "run()\n",
    "\"\"\")\n",
    "    print('NEURON run in '+str(time.time()-timenow)+' seconds')\n",
    "    return array(h.Vrec), array(h.hrec)"
   ]
  },
  {
   "cell_type": "code",
   "execution_count": 5,
   "metadata": {},
   "outputs": [],
   "source": [
    "#######################################################\n",
    "# Definition of a function that runs both simulations #\n",
    "#######################################################\n",
    "def runall(Vam=-72,Vbm=-10,Vah=-80,Vbh=-20):\n",
    "\n",
    "    dt = 0.0001\n",
    "    Vs, hs = solve(dt, 50, -65, 0.5, Vam, Vbm, Vah, Vbh)\n",
    "    Vs_N, hs_N = solve_NEURON(dt, 50, Vam, Vbm, Vah, Vbh)\n",
    "    times = [dt*i for i in range(0,len(Vs))]\n",
    "    Vs_N = Vs_N[0:-1] #Remove the last value to\n",
    "    hs_N = hs_N[0:-1] #make same length as the Python solution\n",
    "        \n",
    "    # Plots\n",
    "    plt.subplot(2,2,1)\n",
    "    plt.plot(times, Vs)\n",
    "    plt.ylabel('Python solver')\n",
    "    plt.title('$V_m$ (mV)')\n",
    "    plt.xticks([0,20,40],[])\n",
    "    plt.xlim([0, 50])\n",
    "    plt.ylim([-80, 40])\n",
    "\n",
    "    plt.subplot(2,2,2)\n",
    "    plt.plot(times, hs)\n",
    "    plt.title('$h$')\n",
    "    plt.xticks([0,20,40],[])\n",
    "    plt.xlim([0, 50])\n",
    "    plt.ylim(0,1)\n",
    "\n",
    "    plt.subplot(2,2,3)\n",
    "    plt.plot(times,Vs_N)\n",
    "    plt.xlabel('$t$ (ms)')\n",
    "    plt.ylabel('NEURON')\n",
    "    plt.xticks([0,20,40])\n",
    "    plt.xlim([0, 50])\n",
    "    plt.ylim([-80, 40])\n",
    "\n",
    "    plt.subplot(2,2,4)\n",
    "    plt.plot(times,hs_N)\n",
    "    plt.xlabel('$t$ (ms)')\n",
    "    plt.xticks([0,20,40])\n",
    "    plt.xlim([0, 50])\n",
    "    plt.ylim(0,1)\n"
   ]
  },
  {
   "cell_type": "code",
   "execution_count": 6,
   "metadata": {},
   "outputs": [
    {
     "data": {
      "application/vnd.jupyter.widget-view+json": {
       "model_id": "4e9268ace955437982d5b1a24e5a0824",
       "version_major": 2,
       "version_minor": 0
      },
      "text/plain": [
       "interactive(children=(FloatSlider(value=-72.0, continuous_update=False, description='Vam', layout=Layout(width…"
      ]
     },
     "metadata": {},
     "output_type": "display_data"
    }
   ],
   "source": [
    "# Make a slider to run function runall() at each release of mouse button\n",
    "slider = widgets.interact(runall, Vam=widgets.FloatSlider(min=-90,max=-60,step=1,value=-72,description='Vam',layout=Layout(width='50%'), continuous_update = False),\n",
    "                                  Vbm=widgets.FloatSlider(min=-30,max=0,step=1,value=-10,description='Vbm',layout=Layout(width='50%'), continuous_update = False),\n",
    "                                  Vah=widgets.FloatSlider(min=-90,max=-60,step=1,value=-80,description='Vah',layout=Layout(width='50%'), continuous_update = False),\n",
    "                                  Vbh=widgets.FloatSlider(min=-30,max=0,step=1,value=-20,description='Vbh',layout=Layout(width='50%'), continuous_update = False))\n"
   ]
  },
  {
   "cell_type": "markdown",
   "metadata": {},
   "source": [
    "#Question 1: See through the implementations of both the Python solver and the NEURON script above. Where and how are following parameters set in both scripts:<br>\n",
    "1) Membrane capacitance?<br>\n",
    "2) Initial membrane potential?<br>\n",
    "3) End time of the simulation?<br>\n",
    "<br><br>\n",
    "#Question 2: See through the Python solver implementation above and the NEURON mechanism file (L4model.mod). Where and how are the following variables updated:<br>\n",
    "1) Sodium current?<br>\n",
    "2) Time derivative of gating variable $h$?<br>"
   ]
  }
 ],
 "metadata": {
  "kernelspec": {
   "display_name": "Python 3",
   "language": "python",
   "name": "python3"
  },
  "language_info": {
   "codemirror_mode": {
    "name": "ipython",
    "version": 3
   },
   "file_extension": ".py",
   "mimetype": "text/x-python",
   "name": "python",
   "nbconvert_exporter": "python",
   "pygments_lexer": "ipython3",
   "version": "3.6.5"
  }
 },
 "nbformat": 4,
 "nbformat_minor": 2
}
