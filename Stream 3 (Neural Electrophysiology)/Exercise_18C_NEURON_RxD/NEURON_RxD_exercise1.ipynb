{
 "cells": [
  {
   "cell_type": "markdown",
   "metadata": {},
   "source": [
    "#Exercise 1. Simple mass action reaction system, single compartment\n",
    "$$2\\mathrm{H}^+ + \\mathrm{O}^{2-} \\longrightarrow \\mathrm{H}_2\\mathrm{O}$$"
   ]
  },
  {
   "cell_type": "code",
   "execution_count": 1,
   "metadata": {},
   "outputs": [],
   "source": [
    "from neuron import h, rxd\n",
    "import time\n",
    "from pylab import *\n",
    "from ipywidgets import widgets, fixed, Layout"
   ]
  },
  {
   "cell_type": "code",
   "execution_count": 2,
   "metadata": {},
   "outputs": [
    {
     "data": {
      "text/html": [
       "<style type='text/css'>\n",
       ".widget-inline-hbox .widget-label {\n",
       "      max-width: 250px;\n",
       "      min-width: 250px;\n",
       "}\n",
       "</style>"
      ],
      "text/plain": [
       "<IPython.core.display.HTML object>"
      ]
     },
     "metadata": {},
     "output_type": "display_data"
    }
   ],
   "source": [
    "%%html\n",
    "<style type='text/css'>\n",
    ".widget-inline-hbox .widget-label {\n",
    "      max-width: 250px;\n",
    "      min-width: 250px;\n",
    "}\n",
    "</style>"
   ]
  },
  {
   "cell_type": "code",
   "execution_count": 3,
   "metadata": {},
   "outputs": [
    {
     "data": {
      "text/plain": [
       "1.0"
      ]
     },
     "execution_count": 3,
     "metadata": {},
     "output_type": "execute_result"
    }
   ],
   "source": [
    "#This is the initialization of the RxD system - should be run only once\n",
    "h.load_file('stdrun.hoc')                                     #A default NEURON library\n",
    "\n",
    "comp = h.Section()                                            #Create a compartment called comp\n",
    "r = rxd.Region([comp])                                        #Create a region that only includes comp\n",
    "                                                              #(this is where reactions will occur)\n",
    "\n",
    "hydrogen = rxd.Species(r, name='hydrogen',charge=1,initial=1) #Create H+ species\n",
    "oxygen = rxd.Species(r, name='oxygen',charge=-2,initial=1)    #Create O2- species\n",
    "water = rxd.Species(r, name='water',charge=0,initial=0)       #Create H2O species\n",
    "\n",
    "reaction = rxd.Reaction(2 * hydrogen + oxygen > water, 1.0)   #Reaction 2H + O -> H2O, reaction rate 1.0 (mM)^2/ms\n",
    "\n",
    "vec_t = h.Vector()                                            #Create vectors for recordings\n",
    "vec_H = h.Vector()\n",
    "vec_O = h.Vector()\n",
    "vec_H2O = h.Vector()\n",
    "vec_t.record(h._ref_t)\n",
    "vec_H.record(hydrogen.nodes(comp)(0.5)[0]._ref_concentration) #Record the concentration variables\n",
    "vec_O.record(oxygen.nodes(comp)(0.5)[0]._ref_concentration)\n",
    "vec_H2O.record(water.nodes(comp)(0.5)[0]._ref_concentration)"
   ]
  },
  {
   "cell_type": "code",
   "execution_count": 4,
   "metadata": {},
   "outputs": [],
   "source": [
    "#This is the main simulation of the RxD system. \n",
    "def runneuron(IC_H=1,IC_O=1,IC_H2O=0):\n",
    "    my_start_time = time.time()\n",
    "    h.finitialize()                                           #Initialize the dynamic variables\n",
    "    for node in hydrogen.nodes:                               #Use given initial concentrations (IC_H,\n",
    "        node.concentration = IC_H                             #  IC_O, IC_H2O) instead of the values\n",
    "    for node in oxygen.nodes:                                 #  given in the introduction of the species\n",
    "        node.concentration = IC_O\n",
    "    for node in water.nodes:\n",
    "        node.concentration = IC_H2O\n",
    "    \n",
    "    h.continuerun(100)                                        #Run for 100 ms\n",
    "\n",
    "    f,ax = plt.subplots(1,1)\n",
    "    data_H = array(vec_H)\n",
    "    data_O = array(vec_O)\n",
    "    data_H2O = array(vec_H2O)\n",
    "    data_H[0] = IC_H     # For some reason the first values in the\n",
    "    data_O[0] = IC_O     # vectors were not correctly initialized\n",
    "    data_H2O[0] = IC_H2O # and have to be set manually\n",
    "    ax.plot(array(vec_t),data_H,label='H$^+$')\n",
    "    ax.plot(array(vec_t),data_O,label='O$^{2-}$')\n",
    "    ax.plot(array(vec_t),data_H2O,label='H$_2$O')\n",
    "    ax.legend()\n",
    "    ax.set_xlabel('$t$ (ms)')\n",
    "    ax.set_ylabel('$c$ (mmol/l)')\n",
    "    plt.suptitle(\"Simulation run in \"+str(time.time() - my_start_time)+\" seconds.\")\n",
    "    plt.show()"
   ]
  },
  {
   "cell_type": "code",
   "execution_count": 5,
   "metadata": {},
   "outputs": [
    {
     "data": {
      "application/vnd.jupyter.widget-view+json": {
       "model_id": "8281691bef8c43e2816840a7ed9c8263",
       "version_major": 2,
       "version_minor": 0
      },
      "text/plain": [
       "interactive(children=(FloatSlider(value=1.0, continuous_update=False, description='Initial concentration of H+…"
      ]
     },
     "metadata": {},
     "output_type": "display_data"
    }
   ],
   "source": [
    "slider = widgets.interact(runneuron, IC_H=widgets.FloatSlider(min=0.0,max=1.0,step=0.01,value=1.0,description='Initial concentration of H+',layout=Layout(width='50%'), continuous_update = False),\n",
    "                                     IC_O=widgets.FloatSlider(min=0.0,max=1.0,step=0.01,value=1.0,description='Initial concentration of O2-',layout=Layout(width='50%'), continuous_update = False),\n",
    "                                     IC_H2O=widgets.FloatSlider(min=0.0,max=1.0,step=0.01,value=0.0,description='Initial concentration of H2O',layout=Layout(width='50%'), continuous_update = False))\n"
   ]
  },
  {
   "cell_type": "markdown",
   "metadata": {},
   "source": [
    "Before answering the following questions, look at the code in the RxD initialization block and see that you understand the steps needed for introducing a reaction at given compartments.\n",
    "#Question 1: Vary the initial concentrations of H+ and O2-. What is the main difference between cases with low initial H+ and O2- (say, 0.15 mM each) and high H+ and O2- (1.0 mM each)?\n",
    "#Question 2: Vary the initial concentration of H2O. How does it affect the dynamics of H+ and O2-? Why?"
   ]
  }
 ],
 "metadata": {
  "kernelspec": {
   "display_name": "Python 3",
   "language": "python",
   "name": "python3"
  },
  "language_info": {
   "codemirror_mode": {
    "name": "ipython",
    "version": 3
   },
   "file_extension": ".py",
   "mimetype": "text/x-python",
   "name": "python",
   "nbconvert_exporter": "python",
   "pygments_lexer": "ipython3",
   "version": "3.6.5"
  }
 },
 "nbformat": 4,
 "nbformat_minor": 2
}
