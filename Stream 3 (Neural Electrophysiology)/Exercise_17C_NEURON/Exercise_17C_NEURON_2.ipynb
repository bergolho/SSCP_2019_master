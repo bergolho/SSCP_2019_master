{
 "cells": [
  {
   "cell_type": "markdown",
   "metadata": {},
   "source": [
    "<b>Exercise 2: Running the NEURON with Python interface. Adaptive vs. fixed time step solution methods.</b>\n",
    "<br><br>\n",
    "We use the original Hodgkin-Huxley model\n",
    "$$C_{\\rm m}\\frac{{\\rm d}V}{{\\rm d}t} = g_{\\rm Na} m^3h(E_{\\rm Na}-V) + g_{\\rm K} n^4(E_{\\rm K}-V) + g_{\\rm l}(E_{\\rm L}-V) + I_{\\rm app}$$\n",
    "where $m$ is controlled by:\n",
    "$$ \\frac{{\\rm d}m}{{\\rm d}t} = \\alpha_m (1-m)-\\beta_m m$$\n",
    "$h$ is controlled by:\n",
    "$$ \\frac{{\\rm d}h}{{\\rm d}t} = \\alpha_h (1-h)-\\beta_h h$$\n",
    "and $n$ is controlled by:\n",
    "$$ \\frac{{\\rm d}n}{{\\rm d}t} = \\alpha_n (1-n)-\\beta_n n$$\n",
    "The Hodgkin-Huxley mechanism is present in the somatic section. In addition, we add dendritic segments where only passive current ($I_{\\rm L} = g_{\\rm l}(E_{\\rm L}-V)$) is present."
   ]
  },
  {
   "cell_type": "code",
   "execution_count": 1,
   "metadata": {},
   "outputs": [],
   "source": [
    "#Import the python libraries\n",
    "import matplotlib.pyplot as plt\n",
    "plt.ion()\n",
    "from neuron import h\n",
    "import numpy\n",
    "import time\n",
    "from ipywidgets import widgets, fixed, Layout"
   ]
  },
  {
   "cell_type": "code",
   "execution_count": 2,
   "metadata": {},
   "outputs": [
    {
     "data": {
      "text/html": [
       "<style type='text/css'>\n",
       ".widget-inline-hbox .widget-label {\n",
       "      max-width: 250px;\n",
       "      min-width: 250px;\n",
       "}\n",
       "</style>"
      ],
      "text/plain": [
       "<IPython.core.display.HTML object>"
      ]
     },
     "metadata": {},
     "output_type": "display_data"
    }
   ],
   "source": [
    "%%html\n",
    "<style type='text/css'>\n",
    ".widget-inline-hbox .widget-label {\n",
    "      max-width: 250px;\n",
    "      min-width: 250px;\n",
    "}\n",
    "</style>"
   ]
  },
  {
   "cell_type": "code",
   "execution_count": 3,
   "metadata": {},
   "outputs": [],
   "source": [
    "#Run NEURON with Python interface\n",
    "def runneuron(isadaptive=False,amp=0.12,dur=10):\n",
    "    my_start_time = time.time()\n",
    "    h.load_file(\"stdlib.hoc\")                        #A default NEURON library\n",
    "    h.load_file(\"stdrun.hoc\")                        #A default NEURON library\n",
    "\n",
    "    h('objref cvode')                                #Define an object cvode\n",
    "    h('cvode = new CVode()')                         #Make cvode a time step integrator object\n",
    "    h('cvode.active('+str(isadaptive*1)+')')         #Set the variable time step integration on/off\n",
    "\n",
    "    h('create soma, dend[3]')                        #Create soma and three dendritic sections\n",
    "\n",
    "    h.dend[0].connect(h.soma,1,0)                    #Connect the sections to each other\n",
    "    h.dend[1].connect(h.soma,1,0)\n",
    "    h.dend[2].connect(h.dend[0],1,0)\n",
    "\n",
    "    h('access soma')                                 #Make soma the currently accessed section\n",
    "\n",
    "    for sec in [h.dend[0], h.dend[1], h.dend[2]]:\n",
    "        sec.insert('pas')                            #Insert passive membrane mechanism to all sections\n",
    "        sec.nseg = 5                                 #and use 5 sub-compartments for each section\n",
    "    h.soma.insert('hh')                              #Insert the Hodgkin-Huxley mechanism (includes leak) to soma\n",
    "    h.soma.nseg = 5                                  \n",
    "\n",
    "    #Set the passive parameters for each section:\n",
    "    h.soma.Ra = 100; h.soma.cm = 1; h.soma.diam = 10; h.soma.L = 20;\n",
    "    h.dend[0].Ra = 100; h.dend[0].cm = 1; h.dend[0].diam = 5; h.dend[0].L = 200; h.dend[0].e_pas = -54.3; h.dend[0].g_pas = 0.00003\n",
    "    h.dend[1].Ra = 100; h.dend[1].cm = 1; h.dend[1].diam = 2; h.dend[1].L = 100; h.dend[1].e_pas = -54.3; h.dend[1].g_pas = 0.00003\n",
    "    h.dend[2].Ra = 100; h.dend[2].cm = 1; h.dend[2].diam = 2; h.dend[2].L = 160; h.dend[2].e_pas = -54.3; h.dend[2].g_pas = 0.00003\n",
    "\n",
    "    h.dt = 0.025                                     #Set the time step to 0.025 ms\n",
    "    h.tstop = 200                                    #Continue the simulation until 200 ms\n",
    "\n",
    "    h('objref stim, Vrec')                           #Declare objects stim and Vrec\n",
    "\n",
    "    h.stim = h.IClamp(0.5, sec = h.soma)             #Make stim an IClamp object, stimulating center (0.5) of soma\n",
    "    h.stim.delay = 100                               #Stimulation starts at 100 ms\n",
    "    h.stim.dur = dur                                  #and lasts 10 ms\n",
    "    h.stim.amp = amp                                 #and has a given amplitude (default 0.075 nA)\n",
    "\n",
    "    Vrec = h.Vector()                                #Record somatic membrane potential and time\n",
    "    Vrec.record(h.soma(0.5)._ref_v, sec=h.soma)\n",
    "    trec = h.Vector()\n",
    "    trec.record(h._ref_t)\n",
    "\n",
    "    h.init()                                         #Initialize state variables\n",
    "    h.run()                                          #Run the simulations\n",
    "\n",
    "\n",
    "    plt.plot(trec,Vrec)\n",
    "    plt.xlabel('$t$ (ms)')\n",
    "    plt.xlim([0, 200])\n",
    "    plt.ylim([-80, 40])\n",
    "    plt.ylabel('$V_m$ (mV)')\n",
    "    plt.title(\"Simulation run in \"+str(time.time() - my_start_time)+\" seconds.\")\n",
    "    "
   ]
  },
  {
   "cell_type": "code",
   "execution_count": 4,
   "metadata": {},
   "outputs": [
    {
     "data": {
      "application/vnd.jupyter.widget-view+json": {
       "model_id": "16a6db0ecd634a30becf750815adb5fb",
       "version_major": 2,
       "version_minor": 0
      },
      "text/plain": [
       "interactive(children=(Checkbox(value=False, description='Use adaptive time step method', layout=Layout(width='…"
      ]
     },
     "metadata": {},
     "output_type": "display_data"
    }
   ],
   "source": [
    "slider = widgets.interact(runneuron, isadaptive=widgets.Checkbox(value=False,description='Use adaptive time step method',layout=Layout(width='50%')),\n",
    "                          amp=widgets.FloatSlider(min=0.0,max=0.3,step=0.01,value=0.12,description='Amplitude of square pulse current: amp',layout=Layout(width='50%'), continuous_update = False),\n",
    "                          dur=widgets.FloatSlider(min=0.0,max=60,step=2,value=10,description='Duration of square pulse current: dur',layout=Layout(width='50%'), continuous_update = False))\n"
   ]
  },
  {
   "cell_type": "markdown",
   "metadata": {},
   "source": [
    "#Question 1: What is the threshold current for the somatic DC stimulation?"
   ]
  },
  {
   "cell_type": "markdown",
   "metadata": {},
   "source": [
    "#Question 2: What is the threshold amplitude for a 6-ms somatic current clamp?"
   ]
  },
  {
   "cell_type": "markdown",
   "metadata": {},
   "source": [
    "#Question 3a: Can you make the adaptive and fixed time step solvers show notably different behaviour? <i>Hint: try to find a threshold amplitude for the fourth spike using maximum duration.</i>\n",
    "#***Question 3b***: Change the code above to make the fixed time step solver more accurate. Does the difference you found in 3a completely disappear?"
   ]
  },
  {
   "cell_type": "code",
   "execution_count": null,
   "metadata": {},
   "outputs": [],
   "source": []
  }
 ],
 "metadata": {
  "kernelspec": {
   "display_name": "Python 3",
   "language": "python",
   "name": "python3"
  },
  "language_info": {
   "codemirror_mode": {
    "name": "ipython",
    "version": 3
   },
   "file_extension": ".py",
   "mimetype": "text/x-python",
   "name": "python",
   "nbconvert_exporter": "python",
   "pygments_lexer": "ipython3",
   "version": "3.6.5"
  }
 },
 "nbformat": 4,
 "nbformat_minor": 2
}
