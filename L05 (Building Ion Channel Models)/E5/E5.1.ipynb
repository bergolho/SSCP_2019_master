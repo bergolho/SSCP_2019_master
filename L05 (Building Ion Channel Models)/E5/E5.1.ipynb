{
 "cells": [
  {
   "cell_type": "markdown",
   "metadata": {},
   "source": [
    "# E5.1 — Building ion current models from data \n",
    "\n",
    "This notebook contains interactive exercises related to the L5 and L6 sessions of the SSCP2018. \n",
    "\n",
    "With these exercises we will begin applying some conventional approaches to using voltage-clamp data to parameterize ion channel models. A first step is for us to construct the steady-state activation curve for the fast cardiac sodium current from an existing data set.\n",
    "\n",
    "Let's import the data."
   ]
  },
  {
   "cell_type": "code",
   "execution_count": null,
   "metadata": {
    "collapsed": true
   },
   "outputs": [],
   "source": [
    "import neo\n",
    "import pylab as plt\n",
    "import numpy as np\n",
    "import math\n",
    "import matplotlib.pylab as plt\n",
    "%matplotlib inline"
   ]
  },
  {
   "cell_type": "code",
   "execution_count": null,
   "metadata": {},
   "outputs": [],
   "source": [
    "sweep_num = 15 # the number of voltage steps\n",
    "V_steps = np.linspace(-120, 20, 15) # the voltage step values\n",
    "SR = 5 #(kHz)\n",
    "sweep_length = 5000 #(points)\n",
    "sweep_duration = sweep_length/SR #(ms)\n",
    "time = np.linspace(0.2, sweep_duration, sweep_length) # construct the time vector\n",
    "I = np.zeros(shape=(sweep_length,sweep_num)) # initialize the data array\n",
    "\n",
    "f = neo.io.AxonIO('Active.abf')\n",
    "bl = f.read_block()\n",
    "for idx, seg in enumerate(bl.segments):\n",
    "    data = np.array(seg.analogsignals[0])\n",
    "    I[:,idx] = data[:,0]\n",
    "    plt.plot(time, I) \n",
    "    plt.xlabel('time [ms]') \n",
    "    plt.ylabel('Measured current [pA]'); \n",
    "    plt.xlim([260, 280])\n",
    "    plt.ylim([-3500, 2000])\n",
    "plt.show()"
   ]
  },
  {
   "cell_type": "markdown",
   "metadata": {},
   "source": [
    "\n",
    "\n",
    "And with some simple peak-finding we can have the maximum inward $I_{Na}$ at each voltage to construct our steady-state activation curve:\n",
    "\n"
   ]
  },
  {
   "cell_type": "code",
   "execution_count": null,
   "metadata": {},
   "outputs": [],
   "source": [
    "peak = np.zeros(15) #initialize arrays to store the times, indices, and values of the peak for each voltage step\n",
    "peak_index = np.zeros(15)\n",
    "t_peak = np.zeros(15)\n",
    "\n",
    "# loop to find peaks and store them\n",
    "for i in range(sweep_num):\n",
    "    # define a search range for finding the peak inward current\n",
    "    start = int(5000*(266.6/1000))\n",
    "    finish = int(1500)\n",
    "    search = I[start:finish,i] \n",
    "    # find the peak value, its index, and the time at the peak\n",
    "    peak[i] = search.min()\n",
    "    peak_index[i] = search.argmin()+start\n",
    "    t_peak[i] = time[int(peak_index[i])]\n",
    "    # plot a close-up of the time-series for each voltage step and the peak you have picked out \n",
    "    plt.plot(time, I,t_peak,peak,'ro'); plt.xlabel('time [ms]'); plt.ylabel('Measured current [pA]');\n",
    "    plt.xlim([265, 275]); plt.ylim([-3500, 1000])\n",
    "plt.show()"
   ]
  },
  {
   "cell_type": "markdown",
   "metadata": {},
   "source": [
    "## Exercise: extracting the steady-state activation curve\n",
    "\n",
    "Now you have the peak values for the current at each step potential. The next exercises ask you to reduce it to varying degrees of detail, all to get to data that can be used to optimize the activation properties of a Na$^+$ channel model.\n",
    "\n",
    "#### 1. Plot the steady-state I-V relationship"
   ]
  },
  {
   "cell_type": "code",
   "execution_count": null,
   "metadata": {},
   "outputs": [],
   "source": [
    "plt.figure()\n",
    "\n",
    "V_steps = np.linspace(-120, 20, 15)\n",
    "plt.plot(V_steps, peak,V_steps, peak,'ro'); plt.xlabel('Test potential [mV]'); plt.ylabel('Current [pA]')\n",
    "plt.xlim([-100, 20])\n",
    "plt.ylim([-3000, 200])\n",
    "plt.show()"
   ]
  },
  {
   "cell_type": "markdown",
   "metadata": {},
   "source": [
    "#### 2. Plot the steady-state g-V relationship\n",
    "Assume an extracellular Na$^+$ concentration of 130 mM and an intracellular concentration of 10 mM "
   ]
  },
  {
   "cell_type": "code",
   "execution_count": null,
   "metadata": {},
   "outputs": [],
   "source": [
    "# Your code here:\n",
    "\n",
    "plt.figure()\n",
    "\n",
    "R = 8.314\n",
    "T = 300 \n",
    "z = 1\n",
    "F = 96485\n",
    "Co = 130\n",
    "Ci = 10\n",
    "\n",
    "E_Na = (R*T/(z*F))*math.log(Co/Ci) # Nernst \n",
    "E_Na = E_Na*1000 # mV\n",
    "\n",
    "EC_force = V_steps-E_Na # Electrochemical force (mV)\n",
    "g_Na = peak/(EC_force) # conductance (nS)\n",
    "norm_g_Na = g_Na/g_Na.max() # normalized conductance\n",
    "\n",
    "plt.plot(V_steps,g_Na,V_steps, g_Na,'go'); plt.xlabel('Test potential [mV]'); plt.ylabel('Conductance [nS]')\n",
    "plt.xlim([-100, 20])"
   ]
  },
  {
   "cell_type": "markdown",
   "metadata": {},
   "source": [
    "#### 3. Given the start made below, try to write a routine to calculate and plot the *INactivation* time constants"
   ]
  },
  {
   "cell_type": "code",
   "execution_count": null,
   "metadata": {},
   "outputs": [],
   "source": [
    "from scipy.optimize import curve_fit\n",
    "\n",
    "tau = np.zeros(15)\n",
    "# define the decay function to this data range\n",
    "def exp_decay(t,A,K,C): \n",
    "    return np.array(A * np.exp(-K * t) + C)\n",
    "def exp_fit(t,y): \n",
    "    params, cov = curve_fit(exp_decay, t, y)\n",
    "    A, K, C = params\n",
    "    return A, K, C\n",
    "\n",
    "# Your code here:\n",
    "tau = np.zeros(len(V_steps))\n",
    "plt.figure()\n",
    "# loop to find decay constants and store them\n",
    "for idx, seg in enumerate(bl.segments):\n",
    "    I = np.array(seg.analogsignals[0])\n",
    "    I = I[:,0]\n",
    "    \n",
    "    # define the range for inactivation fitting\n",
    "    start = int(5000*(t_peak[idx]/1000))\n",
    "    finish = int(5000*(330/1000))\n",
    "    short_I = 0-I[start:finish]\n",
    "    short_t = time[start:finish]-time[start-1]\n",
    "    \n",
    "    # fit the exponential decay function\n",
    "    A, K, C = exp_fit(short_t,short_I)\n",
    "    \n",
    "    # plot the data\n",
    "    plt.plot(short_t, short_I,'b')\n",
    "    \n",
    "    # plot the fits\n",
    "    fit_I = exp_decay(short_t,A,K,C)\n",
    "    plt.plot(short_t, fit_I,'r')\n",
    "    \n",
    "    # store the time constants\n",
    "    tau[idx] = 1/K\n",
    "plt.show()\n",
    "plt.figure()\n",
    "plt.plot(V_steps[6:], tau[6:])"
   ]
  },
  {
   "cell_type": "code",
   "execution_count": null,
   "metadata": {
    "collapsed": true
   },
   "outputs": [],
   "source": []
  }
 ],
 "metadata": {
  "kernelspec": {
   "display_name": "Python 3",
   "language": "python",
   "name": "python3"
  },
  "language_info": {
   "codemirror_mode": {
    "name": "ipython",
    "version": 3
   },
   "file_extension": ".py",
   "mimetype": "text/x-python",
   "name": "python",
   "nbconvert_exporter": "python",
   "pygments_lexer": "ipython3",
   "version": "3.6.1"
  }
 },
 "nbformat": 4,
 "nbformat_minor": 1
}
