{
 "cells": [
  {
   "cell_type": "markdown",
   "metadata": {
    "collapsed": true
   },
   "source": [
    "## Experimental data sources for building ion channel models\n",
    "\n",
    "In this lecture we will cover the basics of experimental cell electrophysiology, and we hope to do it in a way that provides useful guidance as to which data sources to use in building your channel and cell models.\n",
    "\n",
    "First we'll cover a quick history of the experimental arrangements and developments that have fuelled the field. Then we'll spend the majority of the lecture describing how we extract information about the processes included in our models, from experimental recordings.\n"
   ]
  },
  {
   "cell_type": "markdown",
   "metadata": {},
   "source": [
    "### Brief history of experimental data sources\n",
    "\n",
    "In the early 20th century the major unanswered in physiology was how neural activation and transmission proceeded. Many theories had been proposed but one that held many future truths was Julius Bernstein's \"membrane hypothesis\". His concept stated that the resting membrane potential, which could be measured, resulted from flow of $\\rm K^{+}$ from the cell, and that cellular activation involved temporary changes towards equilibration of other ions. This came to be known as the \"membrane breakdown hypothesis\", although this specific terminology may have been an unfortunate outcome of translating from German to English. Nevertheless, this and several other contemporary ideas drove development of technology that has given us our basic understanding of mebrane excitation. Here are some key moments and contributors:\n",
    "\n",
    "#### Curtis and Cole\n",
    "\n",
    "During the 1920s and 1930s at Columbia University in New York, Howard Curtis and Kenneth Cole, developed and performed experimetns with a wheatstone bridge arrangment to assess changes in membrane conductance. The were able to show that membranes behave as a parallel RC circuit and undergo brief but large conductance when stimulated.\n",
    "\n",
    "<img src=\"fig/Curtis.png\" width=600>\n",
    "\n",
    "*Figure: aspects of the wheatstone bridge arrangement (top left) developed by Curtis and Cole. The parallel resistor arrangment creates a voltage divider which allows one to solve for the unknown resistance ($R_x$, shown at top right), the cell membrane. At bottom left you see changes in conductance in response to stimulation.*\n",
    "\n",
    "#### Hodgkin and Huxley\n",
    "\n",
    "At Trinity College, Cambridge. After first viewing the method at Cole's lab Alan Hodgkin and Andrew Huxley developed the ability to clamp voltage or current along a large section of the squid giant axon. This two-eoectrode voltage clamp method allowed them to establish the ionic basis of neuron activation. They were awarded the nobel prize for this work in 1963.\n",
    "\n",
    "<img src=\"fig/HH_Exp.png\" width=500> \n",
    "\n",
    "*Figure: The voltage clamp arrangement used by Hodgkin and Huxley in 1949 and 1950 to decipher the currents crossing the membrane during an action potential. Adapted from Hille et al. \"Ion channels of excitable membranes\".*\n",
    "\n",
    "#### Sakmann and Neher\n",
    "\n",
    "For 30 years after the discovery of ionic currents it was debated what the molecular basis of those currents were. Many suspected ion channels and 1983 Bert Sakmann and Erwin Neher were able to measure currents travelling single ion channels. The patch-clamp technique they developed for this purpose remains the major tool for measuring the behaviour ion channels today.\n",
    "\n",
    "<img src=\"fig/Patch.png\" width=500>\n",
    "\n",
    "*Figure: A glass microelectrode contacting the surface of a cell and adhering to for the high-resistance seal needed to measure single-channel opening events, one of which is shown at bottom.*"
   ]
  },
  {
   "cell_type": "markdown",
   "metadata": {},
   "source": [
    "### Modern protocols for characterizing ion currents\n",
    "\n",
    "As we will discuss further in lecture, most modern recordings are made by whole-cell patch-clamping, in which a small hole is created in the membrane beneath an adhered glass microelectrode similar to that shown above. This allows electrical control of the inside of the cell in much the same way as Hodgkin and Huxley performed with their two-microelectrode system.\n",
    "\n",
    "In this section we'll discuss 4 standard protocols that are the basis of characterisations for most ion currents, and provide most of the data for model-building.\n",
    "\n",
    "1. Steady-state activation\n",
    "2. Steady-state inactivation\n",
    "3. Recovery from inactivation\n",
    "4. Tail current measurement"
   ]
  },
  {
   "cell_type": "markdown",
   "metadata": {
    "collapsed": true
   },
   "source": [
    "#### Steady-state activation\n",
    "\n",
    "This protocol is the most simple. It involves a series of incrementally increasing depolarizing steps from a baseline potential - see the figure below. This baseline potential is called the holding potential ($\\rm V_{h}$), and each incremental pulse has it's unique step or pulse potential ($V_{step}$). Usually there will be 10 to 30 step increments in a protocol, and the length of each step, and time between the steps, will be designed to allow full recovery of the activated current to its resting steady state at $\\rm V_{h}$.\n",
    "<img src=\"fig/Act1.png\" width=600>\n",
    "*Figure: A family of sodium currents elicited by a square pulse protocol. Adapted from Zumhagen et al. PLoS One. 2013*\n",
    "\n",
    "As we will see in some upcoming exercises, this family of currents can be used to define the current-voltage relationship, conductance-voltage relationship (from which it is possible to extract a Boltzmann fit and voltage at half-maximal activation (V$_{1/2}$). This family of currents can also be analysed to extract the time constants (kinetics) of  both activation and inactivation for the population of sodium channels. We will discuss in lecture the major assumptions underlying these procedures and how well they are adhered to.\n",
    "\n",
    "In the figure below there are summary data, corresponding models simulations, and protocols for steady-state-activation, steady-state inactivation, and recovery from inactivation to allow you to compare the differences.\n",
    "\n",
    "<img src=\"fig/Protocols.png\" width=800>\n",
    "*Summary of standard protocols for ion current characterisation. These protocols are also characterizing sodium currents, and involve comparison between wild-type and the 1795InsD mutation, which impacts channel inactivation.  [Adapted from Rudy and Silva. *Quart. Rev. Biophys.* 2006.]*\n",
    "\n",
    "#### Steady-state inactivation\n",
    "\n",
    "In a steady-state inactivation, the objective is to understand what proportion of the population of channels remain available for activation after holding at various potentials for a period long enough to achieve equilibrium. This can be seen in the middle panel of the above figure. In this case the holding potential (now often called the conditioning potential) is varied with each iteration, and a subsequent test pulse is used to open the remaining available channels.\n",
    "\n",
    "**Question:** what voltage should this test pulse have?\n",
    "\n",
    "The key assumption here is that at the end of the conditiong pulse an equilibrium has been reached representing both $m_\\infty{}$ and $h_\\infty{}$. Assuming a three-state channel ($C,O,I$) with HH-type $m$ and $h$ processes, this leaves some fraction ($1-m-h$) in the closed state, and available to open during the test pulse. As is the case for steady-state activation it is common to use the voltage at half-maximal availability from a Boltzmann fit as a key parameter in model fitting. At least this is true for HH-type models where there isn't the complexity of decomposing the Boltzmann fit into the multiple transitions in many Markov models. \n",
    "\n",
    "#### Recovery from inactivation\n",
    "\n",
    "The frequency-dependence of many electrophysiologic processes is closely linked to how quickly, or not, channels of different species recover from their inactivated states. In the heart this is particularly important for transmural and species differences. It is also key for differentiating the fast and slow components of delayed rectifier potassium current and the fast and slow components of the transient outward current. The protocol for characterizing recovery from inactivation involves a simple sequence of paired test pulses at the potential which elicits maximal current in a steady-state activation protocol. The time-interval separating these pulses then serves as the basis for understanding the fraction of channels that have returned from their inactived states to the closed state, and are therefore ready to be activated again. In most cases, channels with multiple kinetic components of recovery there are generally thought to be mulitple inactivated states, as is true for the major cardiac sodium channel (NaV1.5) for which 3-inactivated states are incorporated in modern Markov models. These are depicted as IF, IM and IM1 below.\n",
    "\n",
    "<img src=\"fig/NaV1.5.png\" width=500>\n",
    "\n",
    "Figure:  *The detailed model of cardiac sodium channel gating developed by Clancy and Rudy in 1999 [Adapted from Rudy and Silva. *Quart. Rev. Biophys.* 2006.]*\n",
    "\n",
    "#### Tail currents\n",
    "\n",
    "In some cases, it is impossible to assay the voltage dependence of some activation process because it is affected by other processes occuring over the same time-course (for example changes in intracellular calcium concentration). In the case of the HERG potassium channel, inactivation occurs extremely rapidly such that measuring the degree of activation is impossible at the beginning of a standard positive-going step sequence. In this case activation is often measured during repolarization. We will discuss this further with respect to HERG and in lecture. Below you can see increasing open probability of a single HERG channel in the negative going steps of a tail current protocol.\n",
    "\n",
    "<img src=\"fig/HERG.png\" width=500>\n",
    "*Figure: Single HERG channel recordings showing the application of tail currents for analysis of channel activation. Liu et al. J. Physiol 2004*"
   ]
  },
  {
   "cell_type": "code",
   "execution_count": null,
   "metadata": {
    "collapsed": true
   },
   "outputs": [],
   "source": []
  }
 ],
 "metadata": {
  "kernelspec": {
   "display_name": "Python 3",
   "language": "python",
   "name": "python3"
  },
  "language_info": {
   "codemirror_mode": {
    "name": "ipython",
    "version": 3
   },
   "file_extension": ".py",
   "mimetype": "text/x-python",
   "name": "python",
   "nbconvert_exporter": "python",
   "pygments_lexer": "ipython3",
   "version": "3.6.1"
  }
 },
 "nbformat": 4,
 "nbformat_minor": 2
}
