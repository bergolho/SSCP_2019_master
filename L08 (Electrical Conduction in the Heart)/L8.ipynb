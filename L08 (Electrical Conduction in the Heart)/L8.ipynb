{
 "cells": [
  {
   "cell_type": "markdown",
   "metadata": {},
   "source": []
  },
  {
   "cell_type": "markdown",
   "metadata": {},
   "source": [
    "# <!-- dom:TITLE: Numerical solution of the cable equation -->\n",
    "# Numerical solution of the cable equation\n",
    "<!-- dom:AUTHOR: Joakim Sundnes -->\n",
    "<!-- Author: -->  \n",
    "**Joakim Sundnes**\n",
    "\n",
    "Date: **Jun 18, 2018**\n",
    "\n",
    "## Outline\n",
    "* The cable equation\n",
    "\n",
    "* The bistable equation\n",
    "\n",
    "  * Finite difference scheme\n",
    "\n",
    "\n",
    "* The FitzHugh-Nagumo model\n",
    "\n",
    "  * Finite difference scheme\n",
    "\n",
    "  * Simulating reentry"
   ]
  },
  {
   "cell_type": "markdown",
   "metadata": {},
   "source": [
    "## The cable equation\n",
    "\n",
    "The standard cable equation is a reaction-diffusion equation given by\n",
    "\n",
    "$$\n",
    "\\frac{\\partial v}{\\partial t} = k\\frac{\\partial ^2}{\\partial x^2} +\n",
    "f(v,s) ,\n",
    "$$\n",
    "\n",
    "\n",
    "\n",
    "where $f(v,s)$ is a reaction term describing ionic fluxes across the\n",
    "membrane.\n",
    "\n",
    "* A linear $f(v)$ describes passive conduction through a leaky cable (dendrites).\n",
    "\n",
    "* A cubic $f(v)$ gives the bistable equation with a propagating activation front.\n",
    "\n",
    "* In general $f(v,s)$, where $s$ is a vector describing the state of the cell membrane, typically governed by a system of ODEs"
   ]
  },
  {
   "cell_type": "markdown",
   "metadata": {},
   "source": [
    "## Solving the bistable equation\n",
    "\n",
    "We want to solve the bistable equation on an interval $\\Omega =[0,L]$:\n",
    "\n",
    "$$\n",
    "\\begin{alignat*}{2}\n",
    "v_t &= kv_{xx} + Av(1-v)(v-\\alpha) & \\mbox{ for } & t> 0, 0 < x < L, \\\\\n",
    "v_x &= 0 & \\mbox{ for } &x = 0, x = L, \\\\\n",
    "v & = v_0 &\\mbox{ for } &t = 0, 0 < x = < L/10, \\\\\n",
    "v & = 0 &\\mbox{ for } &t = 0, L/10< x = < L,\n",
    "\\end{alignat*}\n",
    "$$"
   ]
  },
  {
   "cell_type": "markdown",
   "metadata": {},
   "source": [
    "## Explicit finite difference scheme\n",
    "\n",
    "We replace the derivatives with finite differences\n",
    "\n",
    "$$\n",
    "\\begin{align*}\n",
    "v_t &\\approx \\frac{v_i^{n+1}-v_i^n}{\\Delta t}, \\\\\n",
    "v_{xx} &\\approx \\frac{v_{i-1}^{n}-2v_i^n+v_{i+1}^n}{\\Delta t}, \\\\\n",
    "v_x &\\approx \\frac{v_{i+1}^{n}-v_i^n}{\\Delta x}.\n",
    "\\end{align*}\n",
    "$$\n",
    "\n",
    "Use these relations to derive an explicit update scheme for $v$."
   ]
  },
  {
   "cell_type": "markdown",
   "metadata": {},
   "source": [
    "## Bistable equation in Python\n",
    "\n",
    "Use a Numpy array for the solution, and a loop over time steps\n",
    "\n",
    "with\n",
    "\n",
    "$$\n",
    "\\begin{alignat*}{2}\n",
    "k &= 1.0, A &= 1.0, \\alpha &= 0.1 \\\\\n",
    "L &= 100, v0&= 0.3. & \n",
    "\\end{alignat*}\n",
    "$$\n",
    "\n",
    "(Note that we have used the compact notation $v_t = \\partial\n",
    "v/\\partial t, v_{xx} = \\partial^2v/\\partial x^2$.)"
   ]
  },
  {
   "cell_type": "code",
   "execution_count": 1,
   "metadata": {
    "collapsed": true
   },
   "outputs": [],
   "source": [
    "%matplotlib inline\n",
    "\n",
    "%matplotlib inline\n",
    "import matplotlib.pyplot as pl\n",
    "from IPython import display\n",
    "\n",
    "import numpy as np\n",
    "k = 2.0\n",
    "A = 1.0\n",
    "alpha = 0.1\n",
    "L =100\n",
    "\n",
    "dx = 1;\n",
    "dt = 0.1;\n",
    "\n",
    "N = int(L/dx)\n",
    "\n",
    "v = np.zeros(N);\n",
    "left =  int(N/10);\n",
    "v[:left] = 0.3;"
   ]
  },
  {
   "cell_type": "code",
   "execution_count": 2,
   "metadata": {},
   "outputs": [
    {
     "ename": "TypeError",
     "evalue": "float() argument must be a string or a number, not 'ellipsis'",
     "output_type": "error",
     "traceback": [
      "\u001b[0;31m---------------------------------------------------------------------------\u001b[0m",
      "\u001b[0;31mTypeError\u001b[0m                                 Traceback (most recent call last)",
      "\u001b[0;32m<ipython-input-2-a99eb5f1de0e>\u001b[0m in \u001b[0;36m<module>\u001b[0;34m()\u001b[0m\n\u001b[1;32m      3\u001b[0m     \u001b[0mv\u001b[0m\u001b[0;34m[\u001b[0m\u001b[0mN\u001b[0m\u001b[0;34m-\u001b[0m\u001b[0;36m1\u001b[0m\u001b[0;34m]\u001b[0m \u001b[0;34m=\u001b[0m \u001b[0mv\u001b[0m\u001b[0;34m[\u001b[0m\u001b[0mN\u001b[0m\u001b[0;34m-\u001b[0m\u001b[0;36m2\u001b[0m\u001b[0;34m]\u001b[0m\u001b[0;34m\u001b[0m\u001b[0m\n\u001b[1;32m      4\u001b[0m     \u001b[0;32mfor\u001b[0m \u001b[0mj\u001b[0m \u001b[0;32min\u001b[0m \u001b[0mrange\u001b[0m\u001b[0;34m(\u001b[0m\u001b[0;36m1\u001b[0m\u001b[0;34m,\u001b[0m\u001b[0mN\u001b[0m\u001b[0;34m-\u001b[0m\u001b[0;36m1\u001b[0m\u001b[0;34m)\u001b[0m\u001b[0;34m:\u001b[0m\u001b[0;34m\u001b[0m\u001b[0m\n\u001b[0;32m----> 5\u001b[0;31m         \u001b[0mv\u001b[0m\u001b[0;34m[\u001b[0m\u001b[0mj\u001b[0m\u001b[0;34m]\u001b[0m  \u001b[0;34m=\u001b[0m \u001b[0;34m(\u001b[0m\u001b[0;34m...\u001b[0m\u001b[0;34m)\u001b[0m\u001b[0;34m\u001b[0m\u001b[0m\n\u001b[0m\u001b[1;32m      6\u001b[0m \u001b[0;34m\u001b[0m\u001b[0m\n\u001b[1;32m      7\u001b[0m     \u001b[0;32mif\u001b[0m \u001b[0mi\u001b[0m\u001b[0;34m%\u001b[0m\u001b[0;36m20\u001b[0m\u001b[0;34m==\u001b[0m\u001b[0;36m0\u001b[0m\u001b[0;34m:\u001b[0m  \u001b[0;31m#to avoid displaying every time step\u001b[0m\u001b[0;34m\u001b[0m\u001b[0m\n",
      "\u001b[0;31mTypeError\u001b[0m: float() argument must be a string or a number, not 'ellipsis'"
     ]
    }
   ],
   "source": [
    "for i in range (1400):\n",
    "    v[0] = v[1]\n",
    "    v[N-1] = v[N-2]\n",
    "    for j in range(1,N-1):\n",
    "    \tv[j]  = (...)\n",
    "\t\n",
    "    if i%20==0:  #to avoid displaying every time step\n",
    "        pl.clf()\n",
    "        pl.axis([0, L, 0, 1.1])\n",
    "        pl.plot(V)\n",
    "        pl.title('i=%d' % i)\n",
    "        display.clear_output(wait=True)\n",
    "        display.display(pl.gcf())"
   ]
  },
  {
   "cell_type": "markdown",
   "metadata": {},
   "source": [
    "# Comments on the code\n",
    "* The solution is not saved, but overwritten for every step.\n",
    "\n",
    "* Loops in Python are slow. Can you update $v$ without looping over the spatial domain?"
   ]
  },
  {
   "cell_type": "markdown",
   "metadata": {},
   "source": [
    "# Solving the FitzHugh-Nagumo (FHN) model\n",
    "A small modification of the bistable equation gives the\n",
    "FHN model:\n",
    "\n",
    "$$\n",
    "\\begin{alignat*}{2}\n",
    "v_t &= kv_{xx} + Av(1-v)(v-\\alpha) -w & \\mbox{ for } & t> 0, 0 < x < L, \\\\\n",
    "w_t &= \\epsilon (v-\\gamma w) & \\mbox{ for } & t> 0, 0 < x < L, \\\\\n",
    "v_x &= 0 & \\mbox{ for } &x = 0, x = L, \\\\\n",
    "v & = v_0 &\\mbox{ for } &t = 0, 0 < x = < L/10, \\\\\n",
    "v & = 0 &\\mbox{ for } &t = 0, L/10< x = < L,\n",
    "\\end{alignat*}\n",
    "$$\n",
    "\n",
    "The additional parameters are set to\n",
    "\n",
    "$$\n",
    "\\epsilon = 0.005, \\gamma = 2.0 .\n",
    "$$\n",
    "\n",
    "Extend the solver from above to solve the FHN model."
   ]
  },
  {
   "cell_type": "code",
   "execution_count": 6,
   "metadata": {},
   "outputs": [
    {
     "ename": "TypeError",
     "evalue": "'ellipsis' object cannot be interpreted as an integer",
     "output_type": "error",
     "traceback": [
      "\u001b[0;31m---------------------------------------------------------------------------\u001b[0m",
      "\u001b[0;31mTypeError\u001b[0m                                 Traceback (most recent call last)",
      "\u001b[0;32m<ipython-input-6-7e83a6fc4692>\u001b[0m in \u001b[0;36m<module>\u001b[0;34m()\u001b[0m\n\u001b[1;32m      8\u001b[0m \u001b[0mv\u001b[0m\u001b[0;34m[\u001b[0m\u001b[0;34m:\u001b[0m\u001b[0mleft\u001b[0m\u001b[0;34m]\u001b[0m \u001b[0;34m=\u001b[0m \u001b[0;36m0.3\u001b[0m\u001b[0;34m\u001b[0m\u001b[0m\n\u001b[1;32m      9\u001b[0m \u001b[0;34m(\u001b[0m\u001b[0;34m...\u001b[0m\u001b[0;34m)\u001b[0m\u001b[0;34m\u001b[0m\u001b[0m\n\u001b[0;32m---> 10\u001b[0;31m \u001b[0;32mfor\u001b[0m \u001b[0mi\u001b[0m \u001b[0;32min\u001b[0m \u001b[0mrange\u001b[0m \u001b[0;34m(\u001b[0m\u001b[0;34m...\u001b[0m\u001b[0;34m)\u001b[0m\u001b[0;34m:\u001b[0m\u001b[0;34m\u001b[0m\u001b[0m\n\u001b[0m\u001b[1;32m     11\u001b[0m     \u001b[0mv\u001b[0m \u001b[0;34m=\u001b[0m \u001b[0;34m(\u001b[0m\u001b[0;34m...\u001b[0m\u001b[0;34m)\u001b[0m\u001b[0;34m\u001b[0m\u001b[0m\n\u001b[1;32m     12\u001b[0m     \u001b[0mw\u001b[0m \u001b[0;34m=\u001b[0m \u001b[0;34m(\u001b[0m\u001b[0;34m...\u001b[0m\u001b[0;34m)\u001b[0m\u001b[0;34m\u001b[0m\u001b[0m\n",
      "\u001b[0;31mTypeError\u001b[0m: 'ellipsis' object cannot be interpreted as an integer"
     ]
    }
   ],
   "source": [
    "%matplotlib inline\n",
    "import matplotlib.pyplot as pl\n",
    "from IPython import display\n",
    "\n",
    "v = np.zeros(N)\n",
    "w = np.zeros(N)\n",
    "left = int(N/10)\n",
    "v[:left] = 0.3\n",
    "(...)\n",
    "for i in range (...):\n",
    "    v = (...)\n",
    "    w = (...)\n",
    "    if i%20==0:  #to avoid displaying every time step\n",
    "        pl.clf()\n",
    "        pl.axis([0, L, 0, 1.1])\n",
    "        pl.plot(V)\n",
    "        pl.title('i=%d' % i)\n",
    "        display.clear_output(wait=True)\n",
    "        display.display(pl.gcf())"
   ]
  },
  {
   "cell_type": "markdown",
   "metadata": {},
   "source": [
    "## Simulating reentry (1)\n",
    "\n",
    "We can model a simple reentrant circuit with periodic boundary\n",
    "conditions:\n",
    "\n",
    "$$\n",
    "v(0) = v(L)\n",
    "$$\n",
    "\n",
    "* Implement this condition in the FHN solver\n",
    "\n",
    "* What happens? Why?"
   ]
  },
  {
   "cell_type": "markdown",
   "metadata": {},
   "source": [
    "## Simulating reentry (2)\n",
    "Modify the initial condition to:"
   ]
  },
  {
   "cell_type": "code",
   "execution_count": 4,
   "metadata": {
    "collapsed": true
   },
   "outputs": [],
   "source": [
    "mid = int(N/2)\n",
    "V[mid-2:mid+2] = 0.3"
   ]
  },
  {
   "cell_type": "markdown",
   "metadata": {},
   "source": [
    "What happens?\n",
    "\n",
    "Now, add the line"
   ]
  },
  {
   "cell_type": "code",
   "execution_count": 5,
   "metadata": {
    "collapsed": true
   },
   "outputs": [],
   "source": [
    "W[:int(0.9*mid)] = 1"
   ]
  },
  {
   "cell_type": "markdown",
   "metadata": {},
   "source": [
    "What happens? Why?"
   ]
  }
 ],
 "metadata": {
  "kernelspec": {
   "display_name": "Python 3",
   "language": "python",
   "name": "python3"
  },
  "language_info": {
   "codemirror_mode": {
    "name": "ipython",
    "version": 3
   },
   "file_extension": ".py",
   "mimetype": "text/x-python",
   "name": "python",
   "nbconvert_exporter": "python",
   "pygments_lexer": "ipython3",
   "version": "3.6.1"
  }
 },
 "nbformat": 4,
 "nbformat_minor": 2
}
