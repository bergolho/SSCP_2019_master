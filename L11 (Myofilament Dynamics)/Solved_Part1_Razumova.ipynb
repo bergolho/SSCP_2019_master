{
 "cells": [
  {
   "cell_type": "markdown",
   "metadata": {},
   "source": [
    "# Razumova Model of Stiffness/ Distortion with varying cooperative mechanisms\n",
    "## Notebook prepared by: K.J. McCabe"
   ]
  },
  {
   "cell_type": "markdown",
   "metadata": {},
   "source": [
    "Here we will work through the stiffness distortion crossbridge model proposed in 2000 by Maria V. Razumova, Anna E. Bukatina, and Kenneth B. Campbell.\n",
    "\n",
    "The model represents a half sarcomere, and relies on the assumption that the force generated in a given sarcomere unit is equal to the sum of forces of each individual crossbridge (XB) in the region. The model also represents force as the product of the stiffness of all parallel cross bridges and their average distortion.\n",
    "\n",
    "So, we can represent the force of a half sarcomere as: \n",
    "$$\\begin{align}\n",
    "F(t) = e\\sum_{i=1}^{n}A_i(t)x_i(t)\n",
    "\\end{align}\n",
    "$$\n",
    "Where e is the stiffness of a XB, $A_i(t)$ is the number of XBs in the $i$th state, and $x_i(t)$ average distortion of XBs in the $i$th state.\n",
    "\n",
    "Both $A_i$ and $x_i$ vary in time, and should depend on a number of important mechanisms such as Calcium availability, filament overlap, regulatory protein dynamics, and XB kinetics. For this model, the authors focused on the latter 2 mechanisms and held filament overlap and $[Ca^{2+}]$ constant."
   ]
  },
  {
   "cell_type": "markdown",
   "metadata": {},
   "source": [
    "<img src=\"fig/Razumova_Schematic.png\" width=400></img>\n",
    "**Figure** The model has 4 main states, outlined in this schematic. $R_{off}$ represents a regulatory unit where the thin filament is inactive. D is the detached state, with active thin filament. $A_{1}$ is attached XB pre-powerstroke, and $A_{1}$ is attached XB post-powerstroke.\n",
    "\n",
    "Using inspection and our knowledge of mass-action kinetics, we can write ODEs for the system:\n",
    "$$\\begin{align}\n",
    "\\\\\n",
    "\\dot{D}(t) = k_{on}R_{off}(t)+f'A_1(t)+gA_2(t)-(k_off+f)D(t)\\\\\n",
    "\\dot{A_1}(t) = fD(t)+ h'A_2(t)-[f'+h]A_1(t)\\\\\n",
    "\\dot{A_2}(t) = hA_1(t)-[h'+g]A_2(t)\\\\\n",
    "\\\\\n",
    "\\end{align}\n",
    "$$\n",
    "Mass conservation tells us that $R_{off}(t) = R_T-{D}(t)- A_1(t)-A_2(t)$ where $R_T$ represents the total number of crossbridges for a particular filament overlap fraction. Though the model does not consider filament overlap, one could introduce length-dependence into the model by adjusting $R_T$.\n",
    "\n",
    "Let's see how this simple crossbridge model can be modeled before we add complexity."
   ]
  },
  {
   "cell_type": "code",
   "execution_count": 1,
   "metadata": {},
   "outputs": [],
   "source": [
    "# Import necessary packages\n",
    "from math import *\n",
    "import numpy as np\n",
    "import matplotlib.pyplot as plt\n",
    "from scipy.integrate import odeint\n",
    "from scipy.special import expit\n",
    "%matplotlib inline\n"
   ]
  },
  {
   "cell_type": "code",
   "execution_count": 2,
   "metadata": {},
   "outputs": [],
   "source": [
    "#Set initial conditions\n",
    "D_0 = 0.00;   \n",
    "A1_0 = 0.00; \n",
    "A2_0 = 0.00; \n",
    "\n",
    "#set constants \n",
    "R_T = 1;\n",
    "k_on = 400;       #Rate from nonpermissive to permissive\n",
    "k_off = 50;\n",
    "f = 50;           # attachment rate\n",
    "f_prime = 400; \n",
    "h = 8;            #powerstroke rate\n",
    "h_prime = 6;\n",
    "g = 4;\n",
    "\n",
    "params = (R_T, k_on, k_off, f, f_prime,  h, h_prime, g)"
   ]
  },
  {
   "cell_type": "code",
   "execution_count": 3,
   "metadata": {},
   "outputs": [],
   "source": [
    "# Implement the right-hand-side of the system\n",
    "\n",
    "def rhs(y, t, R_T, k_on, k_off, f, f_prime,  h, h_prime, g):\n",
    "    D, A_1, A_2 = y\n",
    "\n",
    "    dD_dt = k_on*(R_T - D - A_1 - A_2)+f_prime*A_1+g*A_2-(k_off+f)*D\n",
    "    dA1_dt = f*D+h_prime*A_2-(f_prime+h)*A_1\n",
    "    dA2_dt = h*A_1-(h_prime+g)*A_2\n",
    "    \n",
    "    return [dD_dt, dA1_dt, dA2_dt]\n",
    "\n",
    "# Make a vector of time points where solutions are to be computed\n",
    "time = np.linspace(0, 10, 5000)\n",
    "\n",
    "# Define the initial condition\n",
    "y_0 = (D_0, A1_0, A2_0)\n",
    "\n",
    "\n",
    "# Call the ODE solver\n",
    "solutions = odeint(rhs, y_0, time, params)\n",
    "D, A_1, A_2 = np.hsplit(solutions, 3)\n",
    "\n"
   ]
  },
  {
   "cell_type": "code",
   "execution_count": 4,
   "metadata": {},
   "outputs": [
    {
     "data": {
      "image/png": "[encoded data removed]",
      "text/plain": [
       "<Figure size 432x288 with 1 Axes>"
      ]
     },
     "metadata": {
      "needs_background": "light"
     },
     "output_type": "display_data"
    }
   ],
   "source": [
    "# Plot data with labels\n",
    "plt.plot(time, D, label=r'D')\n",
    "plt.plot(time, A_1, label=r'A$_1$')\n",
    "plt.plot(time, A_2, label=r'A$_2$')\n",
    "\n",
    "# plot\n",
    "plt.xlabel('Time')\n",
    "plt.ylabel('State Probability')\n",
    "plt.legend()\n",
    "plt.ylim(0,1)\n",
    "\n",
    "plt.show()"
   ]
  },
  {
   "cell_type": "markdown",
   "metadata": {},
   "source": [
    "For now, we will consider that the total force produced by the system is proportional to the number of XBs in the post-powerstroke $A_2$ state. So, if we wish to see the rate of tension development in the system, we can calculate $k_{dev}$ by taking the reciprocal of the time required to reach $(1-1/e)f_{max}$"
   ]
  },
  {
   "cell_type": "code",
   "execution_count": 5,
   "metadata": {},
   "outputs": [
    {
     "data": {
      "image/png": "[encoded data removed]",
      "text/plain": [
       "<Figure size 432x288 with 1 Axes>"
      ]
     },
     "metadata": {
      "needs_background": "light"
     },
     "output_type": "display_data"
    },
    {
     "name": "stdout",
     "output_type": "stream",
     "text": [
      "('k_dev = ', 9.998, ' 1/sec')\n"
     ]
    }
   ],
   "source": [
    "#Timecourse of force development at constant [Ca2+]\n",
    "\n",
    "plt.plot(time, A_2, label=r'Relative Force')\n",
    "\n",
    "# plot\n",
    "plt.xlabel('Time')\n",
    "plt.ylabel('Relative Force')\n",
    "plt.legend()\n",
    "plt.xlim(0,1)\n",
    "\n",
    "plt.show()\n",
    "\n",
    "#calculate k_dev\n",
    "f_max = A_2[len(A_2)-1]\n",
    "f_half = (1-(1/e))*f_max\n",
    "index = 0\n",
    "while A_2[index] < f_half:\n",
    "    index+=1\n",
    "t_half = time[index]\n",
    "ktr = 1 / t_half\n",
    "print(\"k_dev = \",ktr, \" 1/sec\")"
   ]
  },
  {
   "cell_type": "markdown",
   "metadata": {},
   "source": [
    "This simplified model is missing components necessary to match a number of experimental data sets, most importantly the Steady-state force-pCa curve. What do we need to add to this model to be able to match a curve like this one?\n",
    "<img src=\"fig/Force_pCa_Raz.png\" width=400></img>\n"
   ]
  },
  {
   "cell_type": "code",
   "execution_count": 6,
   "metadata": {},
   "outputs": [
    {
     "data": {
      "application/vnd.jupyter.widget-view+json": {
       "model_id": "ad30cfb07cb444858befafa250895070",
       "version_major": 2,
       "version_minor": 0
      },
      "text/plain": [
       "aW50ZXJhY3RpdmUoY2hpbGRyZW49KEZsb2F0U2xpZGVyKHZhbHVlPTQwMC4wLCBkZXNjcmlwdGlvbj11J2tfb24nLCBtYXg9NTAwLjAsIG1pbj0xMDAuMCwgc3RlcD0yLjApLCBGbG9hdFNsaWTigKY=\n"
      ]
     },
     "metadata": {},
     "output_type": "display_data"
    }
   ],
   "source": [
    "from L11_widgets import ReactionWidget\n",
    "ReactionWidget().display()"
   ]
  },
  {
   "cell_type": "code",
   "execution_count": null,
   "metadata": {
    "collapsed": true
   },
   "outputs": [],
   "source": []
  }
 ],
 "metadata": {
  "kernelspec": {
   "display_name": "Python 2",
   "language": "python",
   "name": "python2"
  },
  "language_info": {
   "codemirror_mode": {
    "name": "ipython",
    "version": 2
   },
   "file_extension": ".py",
   "mimetype": "text/x-python",
   "name": "python",
   "nbconvert_exporter": "python",
   "pygments_lexer": "ipython2",
   "version": "2.7.16"
  }
 },
 "nbformat": 4,
 "nbformat_minor": 2
}
