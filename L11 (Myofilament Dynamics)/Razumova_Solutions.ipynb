{
 "cells": [
  {
   "cell_type": "markdown",
   "metadata": {},
   "source": [
    "# Razumova Model of Stiffness/ Distortion\n",
    "## Notebook prepared by: K.J. McCabe"
   ]
  },
  {
   "cell_type": "markdown",
   "metadata": {},
   "source": [
    "Here we will work through the stiffness distortion crossbridge model proposed in 1999 by Maria V. Razumova, Anna E. Bukatina, and Kenneth B. Campbell.\n",
    "\n",
    "The model represents a half sarcomere, and relies on the assumption that the force generated in a given sarcomere unit is equal to the sum of forces of each individual crossbridge (XB) in the region. The model also represents force as the product of the stiffness of all parallel cross bridges and their average distortion.\n",
    "\n",
    "So, we can represent the force of a half sarcomere as: \n",
    "$$\\begin{align}\n",
    "F(t) = e\\sum_{i=1}^{n}A_i(t)x_i(t)\n",
    "\\end{align}\n",
    "$$\n",
    "Where e is the stiffness of a XB, $A_i(t)$ is the number of XBs in the $i$th state, and $x_i(t)$ average distortion of XBs in the $i$th state.\n",
    "\n",
    "Both $A_i$ and $x_i$ vary in time, and should depend on a number of important mechanisms such as Calcium availability, filament overlap, regulatory protein dynamics, and XB kinetics. For this model, the authors focused on the latter 2 mechanisms and held filament overlap and $[Ca^{2+}]$ constant."
   ]
  },
  {
   "cell_type": "markdown",
   "metadata": {},
   "source": [
    "<img src=\"fig/Razumova_Schematic.png\" width=400></img>\n",
    "**Figure** The model has 4 main states, outlined in this schematic. $R_{off}$ represents a regulatory unit where the thin filament is inactive. D is the detached state, with active thin filament. $A_{1}$ is attached XB pre-powerstroke, and $A_{1}$ is attached XB post-powerstroke.\n",
    "\n",
    "Using inspection and our knowledge of mass-action kinetics, we can write ODEs for the system:\n",
    "$$\\begin{align}\n",
    "\\\\\n",
    "\\dot{D}(t) = k_{on}R_{off}(t)+f'A_1(t)+gA_2(t)-(k_off+f)D(t)\\\\\n",
    "\\dot{A_1}(t) = fD(t)+ h'A_2(t)-(f'+h)A_1(t)\\\\\n",
    "\\dot{A_2}(t) = hA_1(t)-(h'+g)A_2(t)\\\\\n",
    "\\\\\n",
    "\\end{align}\n",
    "$$\n",
    "Mass conservation tells us that $R_{off}(t) = R_T-{D}(t)- A_1(t)-A_2(t)$ where $R_T$ represents the total number of crossbridges for a particular filament overlap fraction. Though the model does not consider filament overlap, one could introduce length-dependence into the model by adjusting $R_T$."
   ]
  },
  {
   "cell_type": "markdown",
   "metadata": {},
   "source": [
    "### ODEs for time-dependent XB distortion\n",
    "We must also write ODEs for $x_1(t)$ and $x_2(t)$, which represent the average distortion of the XBs in the pre- and post-powerstroke state, respectively. \n",
    "\n",
    "The authors outline 2 potential mechanisms for XB distortion: Distortion due to powerstroke, and distortion due to filament sliding. \n",
    "<img src=\"fig/distortion_mechanisms.png\" width=400></img>\n",
    "\n",
    "In isometric conditions, the power stroke induces XB distortion equal to the stretching of s spring by an **average of $x_0$** when in the $A_2$ state. The distortion is lost when the XB detaches or returns to $A_1$. Also, when SL changes during a powerstroke you can see the changes in $x_2$ related to $x_0$.\n",
    "\n",
    "Collectively, the distortion for state $A_2$ can be calculated as:\n",
    "$$\\begin{align}\n",
    "\\\\\n",
    "X_2(t) = A_2(t)x_2(t)\\\\\n",
    "\\\\\n",
    "\\end{align}\n",
    "$$\n",
    "\n",
    "So to calculate $X_2(t+\\Delta t)$ we must sum up the contribution of $\\Delta SL$, added distortion due to new $A_2$ XBs, and lost distortion due to detachment of post-powerstroke XBs. In other words,\n",
    "$$\\begin{align}\n",
    "\\\\\n",
    "\\dot{X_2(t)} = A_2(t)\\Delta \\dot{SL}(t) + [h A_1(t)]x_0 - [(g+h')A_2(t)]x_2(t)\n",
    "\\\\\n",
    "\\end{align}\n",
    "$$\n",
    "\n",
    "Since $\\dot{X_2(t)} = \\dot{A_2}(t)x_2(t)+{A_2}(t)\\dot{x_2}(t)$, we can solve this equation for $\\dot{x_2}(t)$ as follows:\n",
    "\n",
    "$$\\begin{align}\n",
    "\\\\\n",
    "\\dot{A_2}(t)x_2(t)+{A_2}(t)\\dot{x_2}(t) = A_2(t)\\Delta \\dot{SL}(t) + [h A_1(t)]x_0 - [(g+h')A_2(t)]x_2(t)\\\\\n",
    "\\dot{x_2}(t) = -h\\frac{A_1(t)}{A_2(t)}[{x_2}(t)-x_0]+\\dot{SL}(t)\n",
    "\\\\\n",
    "\\end{align}\n",
    "$$\n",
    "\n",
    "In a similar fashion, we can derive $\\dot{x_1}(t)$ to be:\n",
    "$$\\begin{align}\n",
    "\\dot{x_1}(t) = -[f\\frac{D(t)}{A_2(t)}+h'\\frac{A_2(t)}{A_1(t)}]x_1(t)+\\dot{SL}(t)\n",
    "\\\\\n",
    "\\end{align}\n",
    "$$\n"
   ]
  },
  {
   "cell_type": "markdown",
   "metadata": {},
   "source": [
    "### Rate coefficient distortion dependence\n",
    "From experimental work, it has been observed that the rates of XB cycling can depend on the strain of the XBs. For this reason, the model creators empirically added strain dependence in the detachment rate: \n",
    "$$\\begin{align}\n",
    "g=g_0e^{\\sigma (x_2-x_0)^2}\n",
    "\\end{align}\\\\\n",
    "$$\n",
    "where $g_0$ represents detachment rate for isometric conditions, and $\\sigma$ represents the distortional dependence (how much g should change based on strain -- when $\\sigma$=0, no strain-dependence). \n",
    "\n",
    "**Important note about $\\sigma$** The authors found retrospectively that $\\sigma$ should take a small value when $x_2>x_0$ than when $x_2<x_0$. Therefore we should set $\\sigma$ as a piecewise function which is dependent on the value of $x_2$ compared with $x_0$\n",
    "\n",
    "It is important to note here that the relationship is not thermodynamically or biophysically based. Rather, a function was arbitrarily formulated to achieve parametric succinctness and to allow the model to serve as a basic approximation of a mean-field theory system rather than requiring the use of spatially explicit PDEs. "
   ]
  },
  {
   "cell_type": "markdown",
   "metadata": {},
   "source": [
    "## Cooperative effects and rate coefficients\n",
    "\n",
    "The model allows for one mechanism of cooperativity - XB-XB, or the process by which the binding of a crossbridge facilitates the binding of the XB in the neighboring Regulatory Unit. When a XB is bound, the transition energy from the D (Detached) state to the A1 (pre-powerstroke) state is modified. This neighboring effect is represented in f by:\n",
    "\n",
    "<img src=\"fig/Neighbor_rates_Razumova.png\" width=400></img>\n",
    "Where $f_r$ represents the value of f when no neighbors have XBs bound.\n",
    "\n",
    "Using these constraints, we can derive an equation for $f$:\n",
    "\n",
    "$$\\begin{align}\n",
    "f=f_r\\{1+\\lambda^{A_1}[e^{x_1/x_0(\\nu-1)}-1]+\\lambda^{A_2}[e^{x_2/x_0(\\nu-1)}-1]\\}^2\\\\\n",
    "\\lambda^{A_1} = A_1/R_T\\\\\n",
    "\\lambda^{A_2} = A_2/R_T\\\\\n",
    "\\end{align}\\\\\n",
    "$$\n",
    "Where $\\lambda^{A_1}$ and $\\lambda^{A_2}$ are probabilities of finding a neighbor in one of the attached states, the exponential terms arise from activation energy, and $\\nu$ is a number $\\geq 1$ controlling the cooperative impact of one neighbor on another (when there is no cooperativity, $\\nu = 1$)."
   ]
  },
  {
   "cell_type": "code",
   "execution_count": 160,
   "metadata": {},
   "outputs": [],
   "source": [
    "# Import necessary packages\n",
    "from math import *\n",
    "import numpy as np\n",
    "import matplotlib.pyplot as plt\n",
    "from scipy.integrate import ode\n",
    "from scipy.special import expit\n",
    "%matplotlib inline\n",
    "\n",
    "#define necessary functions\n",
    "def custom_piecewise(cases):\n",
    "    \"\"\"Compute result of a piecewise function\"\"\"\n",
    "    return np.select(cases[0::2],cases[1::2])"
   ]
  },
  {
   "cell_type": "code",
   "execution_count": 161,
   "metadata": {
    "collapsed": true
   },
   "outputs": [],
   "source": [
    "#Set initial conditions\n",
    "D_0 = 0.005;   \n",
    "A1_0 = 0.005; \n",
    "A2_0 = 0.005; \n",
    "x1_0 = 1e-16;\n",
    "x2_0 = 1e-16;\n",
    "SL_0 = 2;\n",
    "\n",
    "#set constants \n",
    "x_0 = 1e-16;\n",
    "k_on = 400; #rate from nonpermissive to permissive, detached RU.\n",
    "k_off = 50; \n",
    "f_0 = 50; # attachment rate\n",
    "f_prime_0 = 400; \n",
    "h_0 = 8;\n",
    "h_prime_0 = 6;\n",
    "g_0 = 4;\n",
    "nu = 3;\n",
    "sigma_minus = 1;\n",
    "sigma_plus = 8;\n",
    "R_T = 1;\n",
    "e_cb = 1.5;\n",
    "f_r=1;\n",
    "lambda_A2 = 1;\n",
    "kambda_A1= 1;\n",
    "params = (x_0, k_on, k_off, f_0, f_prime_0, h_0, h_prime_0, g_0, nu, sigma_minus, sigma_plus, R_T, e_cb)"
   ]
  },
  {
   "cell_type": "code",
   "execution_count": 162,
   "metadata": {},
   "outputs": [],
   "source": [
    "# Implement the right-hand-side of the system\n",
    "\n",
    "def rhs(y, t, x_0, k_on, k_off, f, f_prime, h, h_prime, g, nu, sigma_m, sigma_p, R_T, e_cb):\n",
    "    D, A_1, A_2, x_1, x_2, SL = y\n",
    "\n",
    "    dD_dt = k_on*(R_T - D - A_1 - A_2)+f_prime*A_1+g*A_2-(k_off+f)*D\n",
    "    dA1_dt = f*D+h_prime*A_2-(f_prime+h)*A_2\n",
    "    dA2_dt = h*A_1-(h_prime+g)*A_2\n",
    "    dSL_dt = 0\n",
    "    dx1_dt = (f*(D/A_1)+h_prime*(A_2/A_1))*x_1 + dSL_dt\n",
    "    dx2_dt = -h*(A_1/A_2)*(x_2-x_0)+dSL_dt\n",
    "    \n",
    "    \n",
    "    return [dD_dt, dA1_dt, dA2_dt, dSL_dt, dx1_dt, dx2_dt]\n",
    "\n",
    "# Make a vector of time points where solutions are to be computed\n",
    "time = np.linspace(0, 10, 300)\n",
    "\n",
    "# Define the initial condition\n",
    "y_0 = (D_0, A1_0, A2_0, x1_0, x2_0, SL_0)\n",
    "\n",
    "\n",
    "# Call the ODE solver\n",
    "solutions = odeint(rhs, y_0, time, params)\n",
    "D, A_1, A_2, x_1, x_2, SL = np.hsplit(solutions, 6)\n",
    "\n"
   ]
  },
  {
   "cell_type": "code",
   "execution_count": 168,
   "metadata": {},
   "outputs": [],
   "source": [
    "#compute algebraic portions\n",
    "sigma    = custom_piecewise([np.greater(x_2 , x_0), sigma_plus, np.less(x_2 , x_0), sigma_minus , True, 0.00000])\n",
    "g        = g_0*np.exp(sigma*np.power(x_2-x_0,2.00000))\n",
    "h        = h_0*np.exp(np.power(sigma*x_1,2.000))\n",
    "h_prime  = h_prime_0*np.exp(sigma*(np.power(x_2,2.00000)-np.power(x_1,2.00000)))\n",
    "Roff     = R_T - D - A_1 - A_2\n",
    "lambda_A1=A_1/R_T\n",
    "lambda_A1=A_2/R_T\n",
    "f        = f_r*1.00000+lambda_A1*(expit(x_1/x_0*(nu-1.00000))-1.00000)+lambda_A2*np.power((expit(x_2/x_0*(nu-1.00000))-1.00000),2.00000)\n",
    "f_prime  = f_prime_0*expit(np.power(sigma*x_1,2.00000))\n",
    "dSL_dt   = custom_piecewise([np.greater(time , 0.00100000) & np.less(time , 0.00200000), 21.2000 , True, 0.00000])\n",
    "E_1      = R_T*A_1\n",
    "E_2      = R_T*A_2\n",
    "F_t      = E_1*x_1+E_2*x_2"
   ]
  },
  {
   "cell_type": "code",
   "execution_count": 169,
   "metadata": {},
   "outputs": [
    {
     "data": {
      "image/png": "[encoded data removed]",
      "text/plain": [
       "<matplotlib.figure.Figure at 0x1511c5b2e8>"
      ]
     },
     "metadata": {},
     "output_type": "display_data"
    }
   ],
   "source": [
    "# Plot data with labels\n",
    "plt.plot(time, D, label=r'D')\n",
    "plt.plot(time, A_1, label=r'A$_1$')\n",
    "plt.plot(time, A_2, label=r'A$_2$')\n",
    "plt.plot(time, x_1, label=r'x$_1$')\n",
    "plt.plot(time, x_2, label=r'x$_2$')\n",
    "plt.plot(time, SL, label=r'SL')\n",
    "\n",
    "# plot\n",
    "plt.xlabel('Time')\n",
    "plt.ylabel('Concentrations')\n",
    "plt.legend()\n",
    "plt.ylim(0,2.5)\n",
    "\n",
    "plt.show()"
   ]
  },
  {
   "cell_type": "code",
   "execution_count": null,
   "metadata": {
    "collapsed": true
   },
   "outputs": [],
   "source": []
  }
 ],
 "metadata": {
  "kernelspec": {
   "display_name": "Python 3",
   "language": "python",
   "name": "python3"
  },
  "language_info": {
   "codemirror_mode": {
    "name": "ipython",
    "version": 3
   },
   "file_extension": ".py",
   "mimetype": "text/x-python",
   "name": "python",
   "nbconvert_exporter": "python",
   "pygments_lexer": "ipython3",
   "version": "3.6.3"
  }
 },
 "nbformat": 4,
 "nbformat_minor": 2
}
