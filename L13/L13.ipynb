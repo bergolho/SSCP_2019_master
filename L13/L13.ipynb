{
 "cells": [
  {
   "cell_type": "markdown",
   "metadata": {},
   "source": [
    "# Mechanics Applications in FEniCS\n",
    "\n",
    "This lecture is based on the [FEniCS tutorials](https://fenicsproject.org/pub/tutorial/html/._ftut1001.html#table_of_contents)."
   ]
  },
  {
   "cell_type": "code",
   "execution_count": 31,
   "metadata": {},
   "outputs": [],
   "source": [
    "%matplotlib inline\n",
    "\n",
    "from fenics import *\n",
    "import numpy as np\n",
    "import matplotlib.pylab as plt"
   ]
  },
  {
   "attachments": {},
   "cell_type": "markdown",
   "metadata": {},
   "source": [
    "| <img src=\"figures/heart.jpg\" width=250> |\n",
    "|:--:|\n",
    "| *The heart is perfused by thousands of small blood vessels. Photo of a resin cast by Arno Massee* |\n",
    "\n",
    "Oxygen and other nutrients are vital supplies for tissue function in general and are delivered via the cardiovascular system. The arteries supplying tissue branch into thousands of small arteries, arterioles and capillaries that are impossible to capture using modern imaging techniques. However, averaging over entire blocks of tissue allows us to approximate perfusion as a spongy material and to thus exploit porous continuum models.\n",
    "\n",
    "## Tissue perfusion: Darcy's law\n",
    "\n",
    "The previous lecture introduced porous flow in the form of Darcy's law. In its reduced form Darcy's law reads\n",
    "\n",
    "$$\\nabla \\cdot \\left( -\\boldsymbol{K} \\; \\nabla p(\\boldsymbol{x}) \\right) = f(\\boldsymbol{x}) \\qquad \\text{on } \\Omega$$\n",
    "\n",
    "augmented by some Dirichlet boundary conditions\n",
    "\n",
    "$$p(\\boldsymbol{x}) = p_D(\\boldsymbol{x}) \\qquad \\text{on } \\partial \\Omega$$\n",
    "\n",
    "In this equation we solve for the unknown pressure $p$ only. Velocity a calculated from the result as\n",
    "\n",
    "$$u = -\\boldsymbol{K} \\; \\nabla p(\\boldsymbol{x}) \\qquad \\text{on } \\Omega$$\n",
    "\n",
    "Note that $u$ is the velocity of fluid _within a pore_. To obtain velocity on the tissue scale, $u$ has to be scaled by the tissue's porosity\n",
    "\n",
    "$$\\bar{u} = \\phi u$$\n",
    "\n",
    "Darcy's law itself is a stationary problem (no time dependence). However, in mechanics applications, and for biological systems in particular, we are most often interested in solving time-dependent problems. Darcy's law becomes time-dependent when either $p_D$ or $f(x)$ (or both!) are functions of time. In this case, each timestep is solved as a stationary sub-problem, while $p_D$ and/or $f(x)$ are updated at the beginning of each timestep. We can thus easily expand our code for solving Darcy's law.\n",
    "\n",
    "### FEniCS implementation\n",
    "\n",
    "We first set up the problem parameters and variational forms"
   ]
  },
  {
   "cell_type": "code",
   "execution_count": 32,
   "metadata": {},
   "outputs": [],
   "source": [
    "# Create mesh and define function space\n",
    "n = 10\n",
    "mesh = UnitSquareMesh(n, n)\n",
    "W = FunctionSpace(mesh, 'P', 1) # pressure space\n",
    "V = VectorFunctionSpace(mesh, 'P', 2)\n",
    "\n",
    "# Define permeability and porosity\n",
    "kmin = 0.01\n",
    "K = Expression('max(exp(-pow((x[1]-0.5-0.1*sin(10*x[0]))/0.1, 2)), 0.01)', degree=1)\n",
    "phi = Constant(0.2)\n",
    "\n",
    "# Define boundary condition\n",
    "pD = Expression('(1-x[0])*t', t=0.0, degree=1)\n",
    "\n",
    "def boundary(x, on_boundary):\n",
    "    return on_boundary\n",
    "\n",
    "bc = DirichletBC(W, pD, boundary)\n",
    "\n",
    "# Define variational problem\n",
    "p = TestFunction(W)\n",
    "q = TrialFunction(W)\n",
    "f = Constant(0.0)\n",
    "n = FacetNormal(mesh)\n",
    "a = K * inner(grad(p), grad(q))*dx\n",
    "L = f*q*dx"
   ]
  },
  {
   "cell_type": "markdown",
   "metadata": {},
   "source": [
    "We will use the XDMF file format to store results. An example of how an XDMF file can store a function is shown below:"
   ]
  },
  {
   "cell_type": "code",
   "execution_count": 33,
   "metadata": {},
   "outputs": [],
   "source": [
    "p = Function(W)\n",
    "file = XDMFFile(\"perfusion/test.xdmf\")\n",
    "# do some stuff\n",
    "file.write_checkpoint(p, 'pressure', t, append=False)\n",
    "# do some more stuff\n",
    "file.close()"
   ]
  },
  {
   "cell_type": "markdown",
   "metadata": {},
   "source": [
    "The function write_checkpoint() takes 3 arguments, plus one optional argument. The arguments are the FEniCS Function to be stored, a label for the function, and time. The optional argument can be used to set the file write mode to \"append\" (default append=False). Files are closed at the very end of the code.\n",
    "\n",
    "#### Exercise: Complete the code\n",
    "\n",
    "Complete the code below such that the variational form above is solved until $t = 1.0$ using the given time step size. Store $p$ and $u$ in the corresponding XDMF file during each time step. XDMF files can be postprocessed / viewed in [Paraview](https://www.paraview.org/)."
   ]
  },
  {
   "cell_type": "code",
   "execution_count": 34,
   "metadata": {},
   "outputs": [],
   "source": [
    "p_file = XDMFFile(\"perfusion/p.xdmf\")\n",
    "u_file = XDMFFile(\"perfusion/u.xdmf\")\n",
    "\n",
    "# Compute solution\n",
    "dt = 0.1\n",
    "t = 0.0\n",
    "append = False\n",
    "p = Function(W)\n",
    "u = Function(V)\n",
    "\n",
    "# Insert code here\n",
    "    \n",
    "p_file.close()\n",
    "u_file.close()"
   ]
  },
  {
   "cell_type": "markdown",
   "metadata": {},
   "source": [
    "#### Exercise: Visualisation in Paraview\n",
    "\n",
    "- Opening files\n",
    "- Visualising scalar quantities\n",
    "- Visualising vector quantities\n",
    "- Using filters\n",
    "\n",
    "#### Exercise: Error analysis\n",
    "\n",
    "## Tracking tracers: Advection-diffusion-reaction equations\n",
    "\n",
    "While fluid pressure and velocity within biological tissues are interesting quantities in their own respect, it is often particularly interesting to know how tracer molecules distribute through the tissue, driven by fluid dynamics. This is achieved via a system of advection-diffusion-reaction equations."
   ]
  },
  {
   "cell_type": "markdown",
   "metadata": {},
   "source": [
    "## Elastic deformation: Linear elasticity\n",
    "\n",
    "Linear elasticity deals with the equations governing small elastic deformations following a linear relationship between stress and strain. Nonlinear stress-strain relationships are goverened by the hyperelastic equations, which are introduced in the Cardiac Tissue Mechanics and Fluid Dynamics stream of the Summer School.\n",
    "\n",
    "The momentum balance equation for small elastic deformations of a body $\\Omega$ reads\n",
    "\n",
    "$$-\\nabla \\cdot \\sigma = f \\qquad \\text{in } \\Omega$$\n",
    "\n",
    "with stress tensor $\\sigma$, elasticity tensor $\\varepsilon$ and body force per unit volume $f(\\boldsymbol{x})$. \n",
    "\n",
    "$$\\sigma = \\lambda \\; tr(\\varepsilon) I + 2 \\mu \\varepsilon$$\n",
    "$$\\varepsilon = \\frac{1}{2} (\\nabla u + (\\nabla u)^T)$$\n",
    "\n",
    "The stress tensor depends on two parameters that are specific for every material, the Lamè constants $\\lambda$ and $\\mu$. The trace operator $tr(A)$ represents the sum of the elements on the main diagonal of a tensor $A$, $I$ is the identity tensor, and $u(\\boldsymbol{x})$ is the displacement vector field. Inserting the definition of $\\varepsilon$ into $\\sigma$ gives\n",
    "\n",
    "$$\\sigma = \\lambda (\\nabla \\cdot u) I + \\mu (\\nabla u + (\\nabla u)^T)$$\n",
    "\n",
    "Note that while we have written the momentum balance equation in terms of the stress tensor $\\sigma$, our primary unknown is the displacement vector field $u$.\n",
    "\n",
    "### Variational form\n",
    "\n",
    "Deriving the variational form requires multiplication of the governing equation by a test function $v \\in \\hat{V}$, integrating over the domain $\\Omega$.\n",
    "\n",
    "$$- \\int_{\\Omega} (\\nabla \\cdot \\sigma) \\cdot v dx = \\int_{\\Omega} f \\cdot v dx$$\n",
    "\n",
    "Note that this time, as our unknown $u$ is vector-valued, our test function $v$ is also vector-valued. Note also from the definition of $\\sigma$ that the term $\\nabla \\cdot \\sigma$ contains second-order derivatives of $u$, so we integrate this term by parts\n",
    "\n",
    "$$- \\int_{\\Omega} (\\nabla \\cdot \\sigma) \\cdot v dx = \\int_{\\Omega} \\sigma : \\nabla v dx - \\int_{\\partial \\Omega} (\\sigma \\cdot n) \\cdot v ds$$\n",
    "\n",
    "where the colon operator denotes the *inner product* between two tensors:\n",
    "\n",
    "$$A : B = \\sum_i \\sum_j A_{ij} B_{ij} = A_{11} B_{11} + A_{12} B_{12} + \\ldots$$\n",
    "\n",
    "The term $\\sigma \\cdot n$ denotes traction or stress at the boundary in the outward normal direction of the boundary and is often prescribed as a boundary condition. In fluid-structure interaction problems such as the deformation of an arterial wall due to the oscillating blood pressure, the boundary traction is directly proportional to the fluid pressure $\\sigma \\cdot n = -p n$. Here, we assume that traction is prescribed on some part $\\partial \\Omega_T$ of the boundary as $\\sigma \\cdot n = T$. On the remaining boundary we assume that displacement is prescribed using a Dirichlet boundary condition. The variational form thus reads\n",
    "\n",
    "$$\\int_{\\Omega} \\sigma : \\nabla v dx = \\int_{\\Omega} f \\cdot v dx - \\int_{\\partial \\Omega_T} T \\cdot v ds$$\n",
    "\n",
    "or\n",
    "\n",
    "$$a(u,v) = L(v) \\qquad \\forall v \\in \\hat{V}$$\n",
    "\n",
    "where\n",
    "\n",
    "$$a(u,v) = \\int_{\\Omega} \\sigma : \\nabla v dx$$\n",
    "$$\\sigma = \\lambda (\\nabla \\cdot u) I + \\mu (\\nabla u + (\\nabla u)^T)$$\n",
    "$$L(v) = \\int_{\\Omega} f \\cdot v dx - \\int_{\\partial \\Omega_T} T \\cdot v ds$$\n",
    "\n",
    "The inner product of a symmetric tensor $A$ with an antisymmetric tensor $B$ vanishes. By expressing $\\nabla v$ as a sum of its symmetric and antisymmetric parts it is thus possible to simplify the term $\\sigma : \\nabla v$ since $\\sigma$ is always a symmetric tensor to obtain\n",
    "\n",
    "$$a(u,v) = \\int_{\\Omega} \\sigma : \\varepsilon(v) dx$$\n",
    "\n",
    "where\n",
    "\n",
    "$$\\varepsilon(v) = \\frac{1}{2} (\\nabla v + (\\nabla v)^T)$$\n",
    "\n",
    "is the symmetric part of $\\nabla v$.\n",
    "\n",
    "### FEniCS implementation\n",
    "\n",
    "As an example, we will consider the elastic deformation of the wall of an artery, represented by an axisymmetric cylindrical tube. "
   ]
  },
  {
   "cell_type": "code",
   "execution_count": null,
   "metadata": {},
   "outputs": [],
   "source": []
  }
 ],
 "metadata": {
  "kernelspec": {
   "display_name": "Python 3",
   "language": "python",
   "name": "python3"
  },
  "language_info": {
   "codemirror_mode": {
    "name": "ipython",
    "version": 3
   },
   "file_extension": ".py",
   "mimetype": "text/x-python",
   "name": "python",
   "nbconvert_exporter": "python",
   "pygments_lexer": "ipython3",
   "version": "3.7.3"
  }
 },
 "nbformat": 4,
 "nbformat_minor": 2
}
