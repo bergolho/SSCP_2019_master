{
 "cells": [
  {
   "cell_type": "markdown",
   "metadata": {},
   "source": [
    "# Example Solutions to E3\n",
    "\n",
    "This notebook contains example solutions to the exercises given in <a href=\"E3 - Exercises on the Cell Membrane.ipynb\">E3 — Exercises on the Cell Membrane</a>. As always, it is recommended that you give the exercises a go on your own, before you look at our example solutions."
   ]
  },
  {
   "cell_type": "code",
   "execution_count": 1,
   "metadata": {},
   "outputs": [],
   "source": [
    "import numpy as np\n",
    "import matplotlib.pyplot as plt\n",
    "from scipy.integrate import odeint"
   ]
  },
  {
   "cell_type": "markdown",
   "metadata": {},
   "source": [
    "**Exercise 1a)**\n",
    "\n",
    "We will implement the step function\n",
    "$$V_{\\rm target}(t) = \\begin{cases}\n",
    "-40 {\\rm\\ mV} & \\mbox{if } 2 {\\rm\\ ms} < t < 6 {\\rm\\ ms}, \\\\\n",
    "-80 {\\rm\\ mV}& \\mbox{else.}\n",
    "\\end{cases}$$\n",
    "Implement this as a function `V_target(t)` and plot it in the period $t\\in[0, 10]$ ms."
   ]
  },
  {
   "cell_type": "code",
   "execution_count": 4,
   "metadata": {},
   "outputs": [],
   "source": [
    "def V_target(t):\n",
    "    return -80 + 40*(2 < t)*(t < 6)"
   ]
  },
  {
   "cell_type": "markdown",
   "metadata": {},
   "source": [
    "You can implement this using a normal if-test, but then it only works for a scalar input `t`. With the boolean approach, you can send in a numpy array without problems, making computing and plotting easier and faster"
   ]
  },
  {
   "cell_type": "code",
   "execution_count": 5,
   "metadata": {},
   "outputs": [
    {
     "data": {
      "image/png": "[encoded data removed]",
      "text/plain": [
       "<Figure size 432x288 with 1 Axes>"
      ]
     },
     "metadata": {
      "needs_background": "light"
     },
     "output_type": "display_data"
    }
   ],
   "source": [
    "t = np.linspace(0, 10, 1001)\n",
    "\n",
    "plt.plot(t, V_target(t))\n",
    "plt.show()"
   ]
  },
  {
   "cell_type": "markdown",
   "metadata": {},
   "source": [
    "**Exercise 1b)**\n",
    "\n",
    "We will now do unit analysis on the ODE\n",
    "$$\\frac{{\\rm d}V}{{\\rm d}t} = \\frac{V_{\\rm target} - V}{C_{\\rm m} R_{\\rm s}}.$$\n",
    "\n",
    "\n",
    "If want to measure $V$ in mV and time in ms. This means the left hand side is given in units of mV/ms. On the right hand side the numerator is also given in terms of $mV$ and the denominator is nF times M$\\Omega$, which works out to be ms. In other words, the units are consistent and no changes need to be made."
   ]
  },
  {
   "cell_type": "markdown",
   "metadata": {},
   "source": [
    "**Exercise 1c)**\n",
    "\n",
    "Now, implement the RHS of the ODE-system and use `odeint` to solve it to find the membrane potential $V(t)$ in the period $t \\in [0, 10]$ ms. Let the parameters and units be as given in (1b).\n",
    "\n",
    "Plot your solution."
   ]
  },
  {
   "cell_type": "code",
   "execution_count": 6,
   "metadata": {},
   "outputs": [],
   "source": [
    "def rhs(V, t, Cm, Rs):\n",
    "    dV_dt = (V_target(t) - V)/(Cm*Rs)\n",
    "    return dV_dt"
   ]
  },
  {
   "cell_type": "code",
   "execution_count": null,
   "metadata": {},
   "outputs": [],
   "source": [
    "# Define time array\n",
    "dt = 0.01\n",
    "T = 10\n",
    "time = np.arange(0, T, dt)\n",
    "\n",
    "# Define parameters\n",
    "Cm = 0.05 # nF\n",
    "Rs = 10 # MOhm\n",
    "params = (Cm, Rs)\n",
    "\n",
    "# Define initial condition\n",
    "V0 = -80 # mV\n",
    "\n",
    "# Call odeint\n",
    "V = odeint(rhs, V0, time, params)"
   ]
  },
  {
   "cell_type": "code",
   "execution_count": null,
   "metadata": {},
   "outputs": [],
   "source": [
    "# Plot Solution\n",
    "..."
   ]
  },
  {
   "cell_type": "markdown",
   "metadata": {},
   "source": [
    "**Exercise 1d)**\n",
    "\n",
    "Compare your solution of $V(t)$ to your plot of the prescribed $V_{\\rm target}(t)$. Describe the differences. \n",
    "\n",
    "To make comparison easier, it might be a nice idea to plot the two over each other in the same figure."
   ]
  },
  {
   "cell_type": "markdown",
   "metadata": {},
   "source": [
    "\n",
    "**(Optional) Exercise 1e)**\n",
    "\n",
    "Solve the ODE by hand. What kind of ODE/solution is this? What is the most important functional parameter in this solution?"
   ]
  },
  {
   "cell_type": "markdown",
   "metadata": {},
   "source": [
    "**Exercise 1f)**\n",
    "\n",
    "Run the interactive widget below, and see how the membrane potential response changes as you change the membrane capacitance $C_{\\rm m}$ and the series resistance $R_{\\rm s}$. (You might need to run the cell twice for it to work).\n",
    "\n",
    "If you want the membrane potential to follow the prescribed voltage as closely as possible, what restrictions does this put on $C_{\\rm m}$ and $R_{\\rm s}$?"
   ]
  },
  {
   "cell_type": "code",
   "execution_count": null,
   "metadata": {},
   "outputs": [],
   "source": [
    "from L3_widgets import VoltageClampWidget\n",
    "\n",
    "VoltageClampWidget().display()"
   ]
  },
  {
   "cell_type": "markdown",
   "metadata": {},
   "source": [
    "#### Discussion on Exercise 1\n",
    "\n",
    "As you have probably seen through playing with the widget, for the voltage to follow the prescribed voltage, we want both the membrane capacitance and the series resistance to be small. In fact, it is the product of the two that is important, as this is the characteristic time constant of the membrane response:\n",
    "$$\\tau = C_{\\rm m}\\cdot R_{\\rm s}.$$ \n",
    "If you solved (1e) you might have noticed this already. Simply put, the model says that the actual membrane potential will approach the prescribed potential as an exponential relaxation, with a relaxation time of $\\tau$. If $\\tau$ is big, we will need to wait a long time for it to reach the prescribed value.\n",
    "\n",
    "For a whole cell voltage clamp protocol, the cell membrane capacitance is typically 0.05 nF, and the series resistance is usually in the range 5-20 M$\\Omega$. This gives a noticeable delay in the membrane potential response, and capacitive currents that persist over several milliseconds. This can actually disturb the measurement of other currents, introducing noise.\n",
    "\n",
    "In another technique, the 'patch' clamp, a small patch of the membrane is torn of (1 µm$^2$). This means the capacitance, $C_{\\rm m}$ is drastically lowered ($\\sim0.01$ pF). In a patch clamp, the series resistance is usually in the G$\\Omega$ range, so the time constant becomes very small, and there are usually little noise due to the capacitive currents."
   ]
  },
  {
   "cell_type": "markdown",
   "metadata": {},
   "source": [
    "### Exercise 2: Calculating Nernst Potentials\n",
    "\n",
    "The following table gives typical values for mammalian cardiomyocytes, and is taken from [Katz, 2010]\n",
    "\n",
    "| Ion        | Intracellular | Extracellular  |\n",
    "| -----------|:-------------:| -----:|\n",
    "| Sodium     | 8 mM          | 110 mM |\n",
    "| Potassium  | 100 mM        | 4 mM  |\n",
    "| Calcium    | 0.2 µM        | 1 mM  |\n",
    "\n",
    "You will also need to know these physical constants\n",
    "\n",
    "| Name | Symbol  | Value | Unit |\n",
    "| -----------|:-------------:|-----:|------:|\n",
    "| Faraday's constant  | $F$ | 96485 | C/mol |\n",
    "| Gas Constant | $R$ |  8.314 | J/(mol K) |\n",
    "| Temperature | $T$ | 310|  K | \n",
    "\n"
   ]
  },
  {
   "cell_type": "markdown",
   "metadata": {},
   "source": [
    "\n",
    "\n",
    "**Exercise 2a)**\n",
    "\n",
    "Based on the tabulated values, calculate the Nernst potentials for the three ionic species.\n",
    "\n",
    "$$E_{\\rm X} = \\frac{RT}{zF}\\ln \\frac{[{\\rm X}]_{\\rm e}}{[{\\rm X}]_{\\rm i}}.$$\n",
    "\n",
    "Print out the potentials in units of millivolts."
   ]
  },
  {
   "cell_type": "code",
   "execution_count": null,
   "metadata": {},
   "outputs": [],
   "source": [
    "F = ...\n",
    "R = ...\n",
    "T = ...\n",
    "\n",
    "E_Na = ...\n",
    "E_K  = ...\n",
    "E_Ca = ..."
   ]
  },
  {
   "cell_type": "markdown",
   "metadata": {},
   "source": [
    "\n",
    "**Exercise 2b)**\n",
    "\n",
    "You have received two positive answers, and one negative. Explain why this is the case.\n"
   ]
  },
  {
   "cell_type": "markdown",
   "metadata": {},
   "source": [
    "**Exercise 2c)**\n",
    "\n",
    "Assume we have a membrane that is resting at a potential -80 mV. Sodium channels in the membrane now open, and sodium ions flow into the cell until the membrane potential reaches a new equilibrium, this one at +40 mV. \n",
    "\n",
    "As the membrane behaves as a capacitor, the total charge that passes through the membrane can be approximated by\n",
    "$$\\Delta Q = C_m \\Delta V$$\n",
    "\n",
    "Use this formula to estimate the amount of charge that crosses the membrane if the membrane capacitance is 0.05 nF.\n"
   ]
  },
  {
   "cell_type": "code",
   "execution_count": null,
   "metadata": {},
   "outputs": [],
   "source": [
    "Cm = ...\n",
    "dV = ...\n",
    "dQ = ..."
   ]
  },
  {
   "cell_type": "markdown",
   "metadata": {},
   "source": [
    "\n",
    "\n",
    "**Exercise 2d)**\n",
    "\n",
    "You can use Faraday's constant and Avogadros number to go from a given charge to the number of charged particles:\n",
    "$$F = 96485 \\mbox{ C/mol}, \\qquad N_{\\rm a} = 6.022\\cdot10^{23} \\mbox{ particles/mol}.$$\n",
    "\n",
    "Roughly how many Na$^+$-ions cross the membrane to change the membrane potential from -80 mV to +40 mv?\n"
   ]
  },
  {
   "cell_type": "code",
   "execution_count": null,
   "metadata": {},
   "outputs": [],
   "source": [
    "dNa = ..."
   ]
  },
  {
   "cell_type": "markdown",
   "metadata": {},
   "source": [
    "**Exercise 2e)**\n",
    "\n",
    "Assuming the cell has a total volume of 20 picoliters, how much does the sodium concentration change as a result of this?\n"
   ]
  },
  {
   "cell_type": "code",
   "execution_count": null,
   "metadata": {},
   "outputs": [],
   "source": [
    "V = ...\n",
    "dconc = ..."
   ]
  },
  {
   "cell_type": "markdown",
   "metadata": {},
   "source": [
    "**Exercise 2f)**\n",
    "\n",
    "In (2a) you found the Nernst potential for sodium for a cell under normal physiological conditions. Assume now that the intracellular sodium concentration of the cell has increased by 30%. How much does its Nernst potential change?"
   ]
  },
  {
   "cell_type": "code",
   "execution_count": null,
   "metadata": {},
   "outputs": [],
   "source": [
    "print(f\"Original E_Na: {E_Na} mV\")\n",
    "E_Na = ...\n",
    "print(f\"After 30% increase in Na: {E_Na} mV\")"
   ]
  },
  {
   "cell_type": "markdown",
   "metadata": {},
   "source": [
    "**Exercise 2g)**\n",
    "\n",
    "Based on your answers to the last two exercises. Explain why the Nernst potential can be considered a constant, despite it being a function of the intracellular and extracellular concentrations."
   ]
  },
  {
   "cell_type": "markdown",
   "metadata": {},
   "source": [
    "#### Discussion on Exercise 2\n",
    "\n",
    "These back of the envelope calculations have shown us that (1) the ion concentration of sodium changes little, even when there is a big change in membrane potential, and (2) even a big change in ion concentration will lead to a relatively small change in the Nernst potential. The last point can be understood because it is only the logarithm of the concentrations that enter into the equation for the Nernst potential.\n",
    "\n",
    "The takeaway here is that while the Nernst potential is technically a variable that should change with changes in ion concentrations, in practice it will change so little that it can be considered a constant in a model. The one major exception to this is calcium, which has such a low initial intracellular concentration that the relative change can be as much as a thousandfold increase in concentration. We will get back to why the calcium concentration is so different from the other species later in the course."
   ]
  },
  {
   "cell_type": "markdown",
   "metadata": {},
   "source": [
    "### Exercise 3: The Equilibrium Membrane Potential\n",
    "\n",
    "Recall from the lecture that for a membrane only permeable to sodium, the membrane potential will be governed by the ODE\n",
    "$$C_{\\rm m}\\frac{{\\rm d}V}{{\\rm d}t} = - g_{\\rm Na} (V-E_{\\rm Na}).$$\n",
    "Where $C_{\\rm m}$ is the membrane potential, and $g_{\\rm Na}$ is the sodium conductance."
   ]
  },
  {
   "cell_type": "markdown",
   "metadata": {},
   "source": [
    "**Exercise 3a)**\n",
    "\n",
    "Solve this ODE numerically. \n",
    "\n",
    "Let $C_{\\rm m} = 0.05$ nF and $g_{\\rm Na}=0.005$ µS. Let the membrane potential be given in units of mV and time in units of ms. Make sure all units are compatible, and make any necessary changes.\n",
    "\n",
    "Assume an initial membrane potential of $V_0 = -80$ mV, and solve the ODE for $t\\in[0, 200]$ ms."
   ]
  },
  {
   "cell_type": "code",
   "execution_count": null,
   "metadata": {},
   "outputs": [],
   "source": [
    "import numpy as np\n",
    "import matplotlib.pyplot as plt\n",
    "from scipy.integrate import odeint"
   ]
  },
  {
   "cell_type": "code",
   "execution_count": null,
   "metadata": {},
   "outputs": [],
   "source": [
    "# Define the ODE\n",
    "def rhs(y, t, Cm, g_Na, E_Na):\n",
    "    V = y\n",
    "    dV_dt = ...\n",
    "    return dV_dt\n",
    "\n",
    "# Define the time array\n",
    "T = ...\n",
    "dt = ...\n",
    "time = ...\n",
    "\n",
    "# Define the parameters and initial condition\n",
    "Cm = ...\n",
    "g_Na = ...\n",
    "E_Na = ...\n",
    "params = (Cm, g_Na, E_Na)\n",
    "V0 = ...\n",
    "\n",
    "# Solve the ODE\n",
    "V = odeint(rhs, V0, time, params)"
   ]
  },
  {
   "cell_type": "markdown",
   "metadata": {},
   "source": [
    "**(Optional) Exercise 3b)**\n",
    "\n",
    "Solve the ODE by hand. What is the time constant in the exponential relaxation?\n",
    "* *Hint:* Using the subsitution $u = V-E_{\\rm Na}$ turns the equation into an exponential decay ODE, which is separable."
   ]
  },
  {
   "cell_type": "markdown",
   "metadata": {},
   "source": [
    "\n",
    "**Exercise 3c)**\n",
    "\n",
    "Plot your solution. Cirka how long does it take for the membrane potential to equilibriate? Compare this with your time constant from 3b (if you did it)."
   ]
  },
  {
   "cell_type": "code",
   "execution_count": null,
   "metadata": {},
   "outputs": [],
   "source": [
    "# your code here"
   ]
  },
  {
   "cell_type": "markdown",
   "metadata": {},
   "source": [
    "**Exercise 3d)**\n",
    "\n",
    "We now want to add a calcium current and a potassium current to the system. Recall that this gives the ODE\n",
    "$$C_{\\rm m}\\frac{{\\rm d}V}{{\\rm d}t} = -\\big[g_{\\rm Na} (V-E_{\\rm Na}) + g_{\\rm K} (V-E_{\\rm K}) + g_{\\rm Ca} (V-E_{\\rm Ca})\\big].$$\n",
    "\n",
    "Let $g_{\\rm Ca} = 0.002$ µS and $g_{\\rm K} = 0.05$ µS. Solve the equation from an initial potential of $V_0 = 0$ mV for $t \\in [0, 200]$ ms.\n",
    "\n",
    "**Hint: You can save time by copying your code cell from exercise (3a) and changing it**"
   ]
  },
  {
   "cell_type": "code",
   "execution_count": null,
   "metadata": {},
   "outputs": [],
   "source": [
    "# your code here"
   ]
  },
  {
   "cell_type": "markdown",
   "metadata": {},
   "source": [
    "**Exercise 3e)**\n",
    "\n",
    "Plot your solution. What is the equilibrium potential of the system now? Explain why. Does the initial membrane potential impact what the equilibrium potential is?"
   ]
  },
  {
   "cell_type": "markdown",
   "metadata": {},
   "source": [
    "**Exercise 3f)**\n",
    "\n",
    "The resting membrane potential of the cell is around -80 mV. This is very close to the Nernst potential of potassium, but far from those of sodium and calcium. It is thus reasonable to say that a cell at rest must be much more permeable to potassium, than either of the other two species.\n",
    "\n",
    "Run the cell below, and use the widget to estimate roughly how much stronger the potassium conductance is than the other two species for a cell at rest. (You might need to run the cell twice for it to work)."
   ]
  },
  {
   "cell_type": "code",
   "execution_count": null,
   "metadata": {
    "scrolled": true
   },
   "outputs": [],
   "source": [
    "from L3_widgets import MembraneWidget\n",
    "MembraneWidget().display()"
   ]
  },
  {
   "cell_type": "markdown",
   "metadata": {},
   "source": [
    "### Exercise 4: A super simple action potential model\n",
    "\n",
    "So far we have modeled how the membrane potential reaches its equilibrium potential as an exponential relaxation. However, in practice, what we want to model are *action potentials*, which are spontaneous spikes in the membrane potential. These action potentials occur because different ion channels in the membrane open and close, changing the equilibrium potential.\n",
    "\n",
    "To properly understand action potentials, we will need to understand when and why ion channels open or close, which is called ion channels *gating*. This is the topic for the next lecture. For now however, let us simply state that sodium channels in the membrane open for a short duration, and see how this would affect the membrane potential.\n",
    "\n",
    "Let us model a membrane with sodium and potassium channels, (no calcium channels this time) so our ODE is\n",
    "$$C_{\\rm m}\\frac{{\\rm d}V}{{\\rm d}t} = -g_{\\rm Na} (V-E_{\\rm Na}) - g_{\\rm K} (V-E_{\\rm K}).$$\n",
    "\n",
    "Now we say, as before, that $g_{\\rm K}$ is constant, i.e., these channels are always open and not gated. The sodium conductance however, is time dependent and equal to \n",
    "$$g_{\\rm Na}(t) = \\begin{cases}\n",
    "0.75 {\\rm\\ µS} & \\mbox{if } 2 {\\rm\\ ms} < t < 2.2 {\\rm\\ ms}, \\\\\n",
    "0.003 {\\rm\\ µS} & \\mbox{else.}\n",
    "\\end{cases}$$\n",
    "This corresponds to the membrane having a large number of sodium channels that are mostly closed, but that open for a short duration, temporarily increasing the sodium conductance."
   ]
  },
  {
   "cell_type": "markdown",
   "metadata": {},
   "source": [
    "#### Exercise 4a)\n",
    "\n",
    "Fill in the code below to model this system for $t\\in[0, 10]$ ms. Let $V_0 = -80$ mV.\n"
   ]
  },
  {
   "cell_type": "code",
   "execution_count": 6,
   "metadata": {},
   "outputs": [],
   "source": [
    "import numpy as np\n",
    "import matplotlib.pyplot as plt\n",
    "from scipy.integrate import odeint"
   ]
  },
  {
   "cell_type": "code",
   "execution_count": 13,
   "metadata": {},
   "outputs": [],
   "source": [
    "# Define the ODE\n",
    "def rhs(V, t, Cm, g_K, E_Na, E_K):\n",
    "    g_Na = 0.55 if 2 < t < 2.2 else 0.003\n",
    "    dV_dt = (-g_Na*(V-E_Na) - g_K*(V-E_K))/Cm\n",
    "    return dV_dt\n",
    "\n",
    "# Define the time array\n",
    "T = 10\n",
    "dt = 0.001\n",
    "time = np.arange(0, T, dt)\n",
    "\n",
    "# Define the parameters and initial condition\n",
    "Cm = 0.05\n",
    "g_K = 0.075\n",
    "E_Na = 70\n",
    "E_K = -86\n",
    "params = (Cm, g_K, E_Na, E_K)\n",
    "V0 = -80\n",
    "\n",
    "# Solve the ODE\n",
    "V = odeint(rhs, V0, time, params, hmax=dt)"
   ]
  },
  {
   "cell_type": "code",
   "execution_count": 14,
   "metadata": {},
   "outputs": [
    {
     "data": {
      "image/png": "[encoded data removed]",
      "text/plain": [
       "<Figure size 432x288 with 1 Axes>"
      ]
     },
     "metadata": {
      "needs_background": "light"
     },
     "output_type": "display_data"
    }
   ],
   "source": [
    "plt.plot(time, V)\n",
    "plt.show()"
   ]
  },
  {
   "cell_type": "markdown",
   "metadata": {},
   "source": [
    "#### Exercise 4b)\n",
    "\n",
    "Explain the behavior of our simple model. How does the membrane potential develop over time? What is driving the different changes?"
   ]
  }
 ],
 "metadata": {
  "kernelspec": {
   "display_name": "Python 3",
   "language": "python",
   "name": "python3"
  },
  "language_info": {
   "codemirror_mode": {
    "name": "ipython",
    "version": 3
   },
   "file_extension": ".py",
   "mimetype": "text/x-python",
   "name": "python",
   "nbconvert_exporter": "python",
   "pygments_lexer": "ipython3",
   "version": "3.6.7"
  },
  "widgets": {
   "state": {
    "f67b22bc88764229a6bb49601156df75": {
     "views": [
      {
       "cell_index": 30
      }
     ]
    }
   },
   "version": "1.2.0"
  }
 },
 "nbformat": 4,
 "nbformat_minor": 2
}
