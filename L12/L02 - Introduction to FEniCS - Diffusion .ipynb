{
 "cells": [
  {
   "cell_type": "code",
   "execution_count": 3,
   "metadata": {
    "nbpresent": {
     "id": "69bf8e21-dff0-406d-8008-694b715c897f"
    }
   },
   "outputs": [],
   "source": [
    "%matplotlib inline"
   ]
  },
  {
   "cell_type": "markdown",
   "metadata": {
    "nbpresent": {
     "id": "d430ea9f-8d6f-4e20-8ad6-99cf179a6cf4"
    }
   },
   "source": [
    "The FEniCS project is a collection of software designed for the automated solution of partial differential equations using the finite element method. It handles a lot of the busywork involved for you, and more or less automates everything except the mathematical derivation of the problem (strong  and weak formulations). Both Python and C++ interfaces exist. It can be obtained at https://fenicsproject.org/download/. Once properly installed, you can start using it in a Python program by the following:"
   ]
  },
  {
   "cell_type": "code",
   "execution_count": 13,
   "metadata": {
    "nbpresent": {
     "id": "03d50ffa-76f3-47e8-bd94-769c5935995e"
    }
   },
   "outputs": [],
   "source": [
    "# This is kind of bad practice, but for small scripts it is very convenient\n",
    "# DOLFIN is the computational backend of the FEniCS project\n",
    "from dolfin import * "
   ]
  },
  {
   "cell_type": "markdown",
   "metadata": {},
   "source": [
    "## Diffusion equation\n",
    "\n",
    "The diffusion equation is an fundamental equation that describes many natural processes. From the transport of heat (thermal conduction) to the transport of chemical substances (calcium in cells), the diffusion equation applies well to quantify smooth and diffuse transport processes. \n",
    "\n",
    "\n",
    "$$ \\frac {\\partial U} {\\partial t} - \\nabla \\cdot \\kappa \\: \\nabla U = S$$ \n",
    "\n",
    "Equivalent to :\n",
    "\n",
    "$$  \\frac {\\partial U} {\\partial t} - \\nabla \\cdot \\kappa \\: ( \\frac {\\partial U} {\\partial x} + \\frac {\\partial U} {\\partial y} + \\frac {\\partial U} {\\partial z}) = S $$ \n",
    "\n",
    "\n",
    "When $\\kappa$ is constant in space, the equation can be rearranged as follow:\n",
    "\n",
    "\n",
    "$$  \\frac {\\partial U} {\\partial t} - \\kappa \\: (\\frac {\\partial^2 U} {\\partial^2 x} + \\frac {\\partial^2 U} {\\partial^2 y} + \\frac {\\partial^2 U} {\\partial^2 z} ) = S $$ \n",
    "\n",
    "\n",
    "FLUX equation often refered to Fourier's law (thermal problems) or Gibbs equation (chemical concentration of a solute)\n",
    "\n"
   ]
  },
  {
   "cell_type": "markdown",
   "metadata": {
    "nbpresent": {
     "id": "4b2c5c7c-5177-47bc-bd42-cffb1f5e1ce9"
    }
   },
   "source": [
    "\n",
    "## Solving a steady state 1D diffusion problem \n",
    "\n",
    "In this example, we will solve the diffusion equation in its simpliest form assuming a one dimensional problem (along the x-axis) and steady state condition ($\\frac {\\partial U} {\\partial t} = 0$). \n",
    "\n",
    "The equation becomes: \n",
    "\n",
    "\n",
    "$$ - \\: \\kappa \\: \\frac {\\partial^2 U} {\\partial^2 x}  = \\: S $$ \n",
    "\n",
    "which simplfies to a Poisson's problem as solved step by step in the \"introduction to Finite Elements\" course.\n",
    "\n",
    "In order to solve the problem using FEniCS, one as to apply the FEM recipe to express the partial differential equation into a variation problem.\n",
    "\n",
    "\n",
    "### Turning the pde into a variational formulation\n",
    "\n",
    "As before, we start out by deriving the weak form of our problem. We do this by multiplying by a test function $V$, integrating over our whole domain, and manipulating the integral using integration by parts until no second derivatives occur. \n",
    "\n",
    "\n",
    "$$\\int \\limits_0^1 \\: \\Bigl(\\kappa \\: \\frac {\\partial^2 U} {\\partial^2 x}\\Bigr) V \\: \\text{dx} = \\int  \\limits_0^1 S \\: V \\: \\text{dx}$$ \n",
    "\n",
    "Intergration by parts formula:\n",
    "\n",
    "$$ - \\: \\int \\limits_\\Omega \\: \\Bigl(\\frac {\\partial^2 A} {\\partial^2 x}\\Bigr) B  \\: \\text{dx} = \\int \\limits_\\Omega \\: \\frac {\\partial A} {\\partial x} \\cdot \\frac {\\partial B} {\\partial x} \\text{dx} \\: - \\: \\int \\limits_{\\partial \\Omega} \\frac {\\partial A} {\\partial x} B \\: \\text{ds} $$ \n",
    "\n",
    "\n",
    "Applied to our equation, we obtain:\n",
    "\n",
    "$$ - \\: \\int  \\limits_0^1 \\: \\kappa \\: \\frac {\\partial U} {\\partial x} \\cdot \\frac {\\partial V} {\\partial x} \\: \\text{dx} = \\int  \\limits_0^1 S \\: V \\: \\text{dx}   $$ \n",
    "\n",
    "\n",
    "As this has no second derivatives, this is the weak form of our equation.\n",
    "\n"
   ]
  },
  {
   "cell_type": "markdown",
   "metadata": {
    "nbpresent": {
     "id": "eac7738a-a3ab-469f-8197-f967b40d5565"
    }
   },
   "source": [
    "### FEniCS: Discretizing the domain and space of functions\n",
    "We can now use FEniCS to solve our problem. First, we discretize our domain by creating a mesh of $\\Omega$. "
   ]
  },
  {
   "cell_type": "code",
   "execution_count": 14,
   "metadata": {
    "nbpresent": {
     "id": "08a002cf-05da-4000-a448-a4a083765734"
    },
    "scrolled": true
   },
   "outputs": [
    {
     "data": {
      "image/png": "[encoded data removed]",
      "text/plain": [
       "<Figure size 432x288 with 1 Axes>"
      ]
     },
     "metadata": {},
     "output_type": "display_data"
    }
   ],
   "source": [
    "mesh = UnitIntervalMesh(20) # 20 is number of intervals Omega is divided intoc\n",
    "plot(mesh);"
   ]
  },
  {
   "cell_type": "markdown",
   "metadata": {
    "nbpresent": {
     "id": "cbcedc83-b4d2-4bcf-ab13-9dcecba3e9cd"
    }
   },
   "source": [
    "\n",
    "Next, choose a space of functions to use for approximating $U$. We use the space of continuous piecewise linear functions on our mesh. Denote this space by $W$."
   ]
  },
  {
   "cell_type": "code",
   "execution_count": 15,
   "metadata": {
    "nbpresent": {
     "id": "a9a4a85d-7ec8-4293-a9c5-a9696d9d5493"
    }
   },
   "outputs": [],
   "source": [
    "elem = FiniteElement(\"CG\", interval, 1) # here interval is a FEniCS builtin representing a single interval\n",
    "W = FunctionSpace(mesh, elem)"
   ]
  },
  {
   "cell_type": "markdown",
   "metadata": {
    "nbpresent": {
     "id": "0b23da00-852c-4e47-a728-bd38f4f6d621"
    }
   },
   "source": [
    "Think of `elem` as a function space of linear functions living on a single subinterval of our mesh. The call to `FunctionSpace` then takes this small 'model' function space living in a single subinterval of the mesh and builds a 'global' function space $W$ by effectively gluing together copies of `elem`. This is not 100% accurate, but a good mental picture.\n",
    "\n",
    "\n",
    "### FEniCS: Specifying the weak formulation\n",
    "We need to tell FEniCS the weak formulation of our problem."
   ]
  },
  {
   "cell_type": "code",
   "execution_count": 16,
   "metadata": {
    "nbpresent": {
     "id": "5e623875-16fe-44bd-af26-ff224b2abeb2"
    }
   },
   "outputs": [],
   "source": [
    "kappa = Constant(1)\n",
    "\n",
    "V = TestFunction(W) # the test function\n",
    "U = TrialFunction(W) # the TrialFunction is basically a symbol representing the unknown\n",
    "\n",
    "lhs = - kappa * dot( grad(U), grad(V) ) * dx  # left hand side of our equation\n",
    "S = Constant(0.0) # source term\n",
    "rhs = (S*V) * dx # right hand side of our equation"
   ]
  },
  {
   "cell_type": "markdown",
   "metadata": {
    "nbpresent": {
     "id": "f6302901-2199-4c4e-95a3-a5dc07f9012b"
    }
   },
   "source": [
    "\n",
    "### FEniCS: Specifying boundary conditions\n",
    "Note that we are ignoring the boundary terms $-U_x(0)V(0) + U_x(1)V(0)$. Simply put, this is due to the way FEniCS handles boundary conditions. You can ignore it if you want, but if you are interested, there is a brief explanation at the end of this notebook. Generally speaking, you can ignore the boundary terms where there are Dirichlet boundary conditions so as long as you remember to tell FEniCS about the boundary conditions. So let's do that!"
   ]
  },
  {
   "cell_type": "code",
   "execution_count": 18,
   "metadata": {
    "nbpresent": {
     "id": "b06dbc96-7fab-468e-b0a8-3864d7180021"
    }
   },
   "outputs": [
    {
     "ename": "RuntimeError",
     "evalue": "module compiled against API version 0xc but this version of numpy is 0xb",
     "output_type": "error",
     "traceback": [
      "\u001b[0;31m---------------------------------------------------------------------------\u001b[0m",
      "\u001b[0;31mRuntimeError\u001b[0m                              Traceback (most recent call last)",
      "\u001b[0;31mRuntimeError\u001b[0m: module compiled against API version 0xc but this version of numpy is 0xb"
     ]
    },
    {
     "name": "stderr",
     "output_type": "stream",
     "text": [
      "In instant.import_module_directly: Failed to import module 'dolfin_c6877f69e53eb34d2c5001271298f44ad1b8fd3a' from '/Users/alban/.cache/instant/python3.6/cache';\n",
      "ModuleNotFoundError:No module named '_dolfin_c6877f69e53eb34d2c5001271298f44ad1b8fd3a';\n",
      "WARNING:instant:In instant.import_module_directly: Failed to import module 'dolfin_c6877f69e53eb34d2c5001271298f44ad1b8fd3a' from '/Users/alban/.cache/instant/python3.6/cache';\n",
      "ModuleNotFoundError:No module named '_dolfin_c6877f69e53eb34d2c5001271298f44ad1b8fd3a';\n",
      "Failed to import module found in cache. Modulename: 'dolfin_c6877f69e53eb34d2c5001271298f44ad1b8fd3a';\n",
      "Path: '/Users/alban/.cache/instant/python3.6/cache';\n",
      "ModuleNotFoundError:No module named '_dolfin_c6877f69e53eb34d2c5001271298f44ad1b8fd3a';\n",
      "ERROR:instant:Failed to import module found in cache. Modulename: 'dolfin_c6877f69e53eb34d2c5001271298f44ad1b8fd3a';\n",
      "Path: '/Users/alban/.cache/instant/python3.6/cache';\n",
      "ModuleNotFoundError:No module named '_dolfin_c6877f69e53eb34d2c5001271298f44ad1b8fd3a';\n"
     ]
    },
    {
     "ename": "AssertionError",
     "evalue": "Failed to import module found in cache. Modulename: 'dolfin_c6877f69e53eb34d2c5001271298f44ad1b8fd3a';\nPath: '/Users/alban/.cache/instant/python3.6/cache';\nModuleNotFoundError:No module named '_dolfin_c6877f69e53eb34d2c5001271298f44ad1b8fd3a';",
     "output_type": "error",
     "traceback": [
      "\u001b[0;31m---------------------------------------------------------------------------\u001b[0m",
      "\u001b[0;31mAssertionError\u001b[0m                            Traceback (most recent call last)",
      "\u001b[0;32m<ipython-input-18-c20ac4c0ae08>\u001b[0m in \u001b[0;36m<module>\u001b[0;34m()\u001b[0m\n\u001b[1;32m      1\u001b[0m \u001b[0mvalue_left\u001b[0m \u001b[0;34m=\u001b[0m \u001b[0;36m0.0\u001b[0m\u001b[0;34m\u001b[0m\u001b[0m\n\u001b[1;32m      2\u001b[0m \u001b[0mvalue_right\u001b[0m \u001b[0;34m=\u001b[0m \u001b[0;36m2.0\u001b[0m\u001b[0;34m\u001b[0m\u001b[0m\n\u001b[0;32m----> 3\u001b[0;31m \u001b[0mbc_l\u001b[0m \u001b[0;34m=\u001b[0m \u001b[0mDirichletBC\u001b[0m\u001b[0;34m(\u001b[0m\u001b[0mW\u001b[0m\u001b[0;34m,\u001b[0m \u001b[0mvalue_left\u001b[0m\u001b[0;34m,\u001b[0m \u001b[0;34m\"on_boundary && near(x[0], 0)\"\u001b[0m\u001b[0;34m)\u001b[0m \u001b[0;31m# Imposing Dirichlet BC to the left boundary node\u001b[0m\u001b[0;34m\u001b[0m\u001b[0m\n\u001b[0m\u001b[1;32m      4\u001b[0m \u001b[0mbc_r\u001b[0m \u001b[0;34m=\u001b[0m \u001b[0mDirichletBC\u001b[0m\u001b[0;34m(\u001b[0m\u001b[0mW\u001b[0m\u001b[0;34m,\u001b[0m \u001b[0mvalue_right\u001b[0m\u001b[0;34m,\u001b[0m \u001b[0;34m\"on_boundary && near(x[0], 1)\"\u001b[0m\u001b[0;34m)\u001b[0m \u001b[0;31m# Imposing Dirichlet BC to the right boundary node\u001b[0m\u001b[0;34m\u001b[0m\u001b[0m\n",
      "\u001b[0;32m~/anaconda3/envs/fenics17/lib/python3.6/site-packages/dolfin/fem/bcs.py\u001b[0m in \u001b[0;36m__init__\u001b[0;34m(self, *args, **kwargs)\u001b[0m\n\u001b[1;32m    105\u001b[0m         \u001b[0;31m# Special case for sub domain specified as a string\u001b[0m\u001b[0;34m\u001b[0m\u001b[0;34m\u001b[0m\u001b[0m\n\u001b[1;32m    106\u001b[0m         \u001b[0;32mif\u001b[0m \u001b[0mlen\u001b[0m\u001b[0;34m(\u001b[0m\u001b[0margs\u001b[0m\u001b[0;34m)\u001b[0m \u001b[0;34m>=\u001b[0m \u001b[0;36m3\u001b[0m \u001b[0;32mand\u001b[0m \u001b[0misinstance\u001b[0m\u001b[0;34m(\u001b[0m\u001b[0margs\u001b[0m\u001b[0;34m[\u001b[0m\u001b[0;36m2\u001b[0m\u001b[0;34m]\u001b[0m\u001b[0;34m,\u001b[0m \u001b[0mstring_types\u001b[0m\u001b[0;34m)\u001b[0m\u001b[0;34m:\u001b[0m\u001b[0;34m\u001b[0m\u001b[0m\n\u001b[0;32m--> 107\u001b[0;31m             \u001b[0msub_domain\u001b[0m \u001b[0;34m=\u001b[0m \u001b[0mCompiledSubDomain\u001b[0m\u001b[0;34m(\u001b[0m\u001b[0margs\u001b[0m\u001b[0;34m[\u001b[0m\u001b[0;36m2\u001b[0m\u001b[0;34m]\u001b[0m\u001b[0;34m,\u001b[0m \u001b[0mmpi_comm\u001b[0m\u001b[0;34m=\u001b[0m\u001b[0mmpi_comm\u001b[0m\u001b[0;34m)\u001b[0m\u001b[0;34m\u001b[0m\u001b[0m\n\u001b[0m\u001b[1;32m    108\u001b[0m             \u001b[0margs\u001b[0m \u001b[0;34m=\u001b[0m \u001b[0margs\u001b[0m\u001b[0;34m[\u001b[0m\u001b[0;34m:\u001b[0m\u001b[0;36m2\u001b[0m\u001b[0;34m]\u001b[0m \u001b[0;34m+\u001b[0m \u001b[0;34m(\u001b[0m\u001b[0msub_domain\u001b[0m\u001b[0;34m,\u001b[0m\u001b[0;34m)\u001b[0m \u001b[0;34m+\u001b[0m \u001b[0margs\u001b[0m\u001b[0;34m[\u001b[0m\u001b[0;36m3\u001b[0m\u001b[0;34m:\u001b[0m\u001b[0;34m]\u001b[0m\u001b[0;34m\u001b[0m\u001b[0m\n\u001b[1;32m    109\u001b[0m \u001b[0;34m\u001b[0m\u001b[0m\n",
      "\u001b[0;32m~/anaconda3/envs/fenics17/lib/python3.6/site-packages/dolfin/compilemodules/subdomains.py\u001b[0m in \u001b[0;36mCompiledSubDomain\u001b[0;34m(cppcode, mpi_comm, **kwargs)\u001b[0m\n\u001b[1;32m    146\u001b[0m         \u001b[0mcode\u001b[0m\u001b[0;34m,\u001b[0m \u001b[0mmembers\u001b[0m \u001b[0;34m=\u001b[0m \u001b[0mexpression_to_subdomain\u001b[0m\u001b[0;34m(\u001b[0m\u001b[0mcppcode\u001b[0m\u001b[0;34m,\u001b[0m \u001b[0mclassname\u001b[0m\u001b[0;34m)\u001b[0m\u001b[0;34m\u001b[0m\u001b[0m\n\u001b[1;32m    147\u001b[0m \u001b[0;34m\u001b[0m\u001b[0m\n\u001b[0;32m--> 148\u001b[0;31m     \u001b[0mSubDomainClass\u001b[0m \u001b[0;34m=\u001b[0m \u001b[0mcompile_subdomain_code\u001b[0m\u001b[0;34m(\u001b[0m\u001b[0mcode\u001b[0m\u001b[0;34m,\u001b[0m \u001b[0mclassname\u001b[0m\u001b[0;34m,\u001b[0m \u001b[0mmpi_comm\u001b[0m\u001b[0;34m=\u001b[0m\u001b[0mmpi_comm\u001b[0m\u001b[0;34m)\u001b[0m\u001b[0;34m\u001b[0m\u001b[0m\n\u001b[0m\u001b[1;32m    149\u001b[0m \u001b[0;34m\u001b[0m\u001b[0m\n\u001b[1;32m    150\u001b[0m     \u001b[0;31m# Check passed default arguments\u001b[0m\u001b[0;34m\u001b[0m\u001b[0;34m\u001b[0m\u001b[0m\n",
      "\u001b[0;32m~/anaconda3/envs/fenics17/lib/python3.6/site-packages/dolfin/compilemodules/subdomains.py\u001b[0m in \u001b[0;36mcompile_subdomain_code\u001b[0;34m(code, classname, mpi_comm)\u001b[0m\n\u001b[1;32m    101\u001b[0m \u001b[0;34m\u001b[0m\u001b[0m\n\u001b[1;32m    102\u001b[0m     \u001b[0;31m# Compile the extension module\u001b[0m\u001b[0;34m\u001b[0m\u001b[0;34m\u001b[0m\u001b[0m\n\u001b[0;32m--> 103\u001b[0;31m     \u001b[0mcompiled_module\u001b[0m \u001b[0;34m=\u001b[0m \u001b[0mcompile_extension_module\u001b[0m\u001b[0;34m(\u001b[0m\u001b[0mcode\u001b[0m\u001b[0;34m,\u001b[0m \u001b[0mmpi_comm\u001b[0m\u001b[0;34m=\u001b[0m\u001b[0mmpi_comm\u001b[0m\u001b[0;34m)\u001b[0m\u001b[0;34m\u001b[0m\u001b[0m\n\u001b[0m\u001b[1;32m    104\u001b[0m \u001b[0;34m\u001b[0m\u001b[0m\n\u001b[1;32m    105\u001b[0m     \u001b[0;31m# Get compiled class\u001b[0m\u001b[0;34m\u001b[0m\u001b[0;34m\u001b[0m\u001b[0m\n",
      "\u001b[0;32m~/anaconda3/envs/fenics17/lib/python3.6/site-packages/dolfin/compilemodules/jit.py\u001b[0m in \u001b[0;36mmpi_jit\u001b[0;34m(*args, **kwargs)\u001b[0m\n\u001b[1;32m     68\u001b[0m         \u001b[0;31m# Just call JIT compiler when running in serial\u001b[0m\u001b[0;34m\u001b[0m\u001b[0;34m\u001b[0m\u001b[0m\n\u001b[1;32m     69\u001b[0m         \u001b[0;32mif\u001b[0m \u001b[0mMPI\u001b[0m\u001b[0;34m.\u001b[0m\u001b[0msize\u001b[0m\u001b[0;34m(\u001b[0m\u001b[0mmpi_comm\u001b[0m\u001b[0;34m)\u001b[0m \u001b[0;34m==\u001b[0m \u001b[0;36m1\u001b[0m\u001b[0;34m:\u001b[0m\u001b[0;34m\u001b[0m\u001b[0m\n\u001b[0;32m---> 70\u001b[0;31m             \u001b[0;32mreturn\u001b[0m \u001b[0mlocal_jit\u001b[0m\u001b[0;34m(\u001b[0m\u001b[0;34m*\u001b[0m\u001b[0margs\u001b[0m\u001b[0;34m,\u001b[0m \u001b[0;34m**\u001b[0m\u001b[0mkwargs\u001b[0m\u001b[0;34m)\u001b[0m\u001b[0;34m\u001b[0m\u001b[0m\n\u001b[0m\u001b[1;32m     71\u001b[0m \u001b[0;34m\u001b[0m\u001b[0m\n\u001b[1;32m     72\u001b[0m         \u001b[0;31m# Default status (0 == ok, 1 == fail)\u001b[0m\u001b[0;34m\u001b[0m\u001b[0;34m\u001b[0m\u001b[0m\n",
      "\u001b[0;32m~/anaconda3/envs/fenics17/lib/python3.6/site-packages/dolfin/compilemodules/compilemodule.py\u001b[0m in \u001b[0;36mcompile_extension_module\u001b[0;34m(code, module_name, additional_declarations, additional_system_headers, mpi_comm, **instant_kwargs)\u001b[0m\n\u001b[1;32m    565\u001b[0m \u001b[0;34m\u001b[0m\u001b[0m\n\u001b[1;32m    566\u001b[0m     \u001b[0;31m# Check cache\u001b[0m\u001b[0;34m\u001b[0m\u001b[0;34m\u001b[0m\u001b[0m\n\u001b[0;32m--> 567\u001b[0;31m     \u001b[0mcompiled_module\u001b[0m \u001b[0;34m=\u001b[0m \u001b[0minstant\u001b[0m\u001b[0;34m.\u001b[0m\u001b[0mimport_module\u001b[0m\u001b[0;34m(\u001b[0m\u001b[0mmodule_name\u001b[0m\u001b[0;34m)\u001b[0m\u001b[0;34m\u001b[0m\u001b[0m\n\u001b[0m\u001b[1;32m    568\u001b[0m \u001b[0;34m\u001b[0m\u001b[0m\n\u001b[1;32m    569\u001b[0m     \u001b[0;32mif\u001b[0m \u001b[0;32mnot\u001b[0m \u001b[0mcompiled_module\u001b[0m\u001b[0;34m:\u001b[0m\u001b[0;34m\u001b[0m\u001b[0m\n",
      "\u001b[0;32m~/anaconda3/envs/fenics17/lib/python3.6/site-packages/instant/cache.py\u001b[0m in \u001b[0;36mimport_module\u001b[0;34m(moduleid, cache_dir)\u001b[0m\n\u001b[1;32m    174\u001b[0m     \u001b[0;31m# Look for module in disk cache\u001b[0m\u001b[0;34m\u001b[0m\u001b[0;34m\u001b[0m\u001b[0m\n\u001b[1;32m    175\u001b[0m     \u001b[0mmodulename\u001b[0m \u001b[0;34m=\u001b[0m \u001b[0mmoduleids\u001b[0m\u001b[0;34m[\u001b[0m\u001b[0;34m-\u001b[0m\u001b[0;36m1\u001b[0m\u001b[0;34m]\u001b[0m\u001b[0;34m\u001b[0m\u001b[0m\n\u001b[0;32m--> 176\u001b[0;31m     \u001b[0;32mreturn\u001b[0m \u001b[0mcheck_disk_cache\u001b[0m\u001b[0;34m(\u001b[0m\u001b[0mmodulename\u001b[0m\u001b[0;34m,\u001b[0m \u001b[0mcache_dir\u001b[0m\u001b[0;34m,\u001b[0m \u001b[0mmoduleids\u001b[0m\u001b[0;34m)\u001b[0m\u001b[0;34m\u001b[0m\u001b[0m\n\u001b[0m\u001b[1;32m    177\u001b[0m \u001b[0;34m\u001b[0m\u001b[0m\n\u001b[1;32m    178\u001b[0m \u001b[0;34m\u001b[0m\u001b[0m\n",
      "\u001b[0;32m~/anaconda3/envs/fenics17/lib/python3.6/site-packages/instant/cache.py\u001b[0m in \u001b[0;36mcheck_disk_cache\u001b[0;34m(modulename, cache_dir, moduleids)\u001b[0m\n\u001b[1;32m    142\u001b[0m \u001b[0;34m\u001b[0m\u001b[0m\n\u001b[1;32m    143\u001b[0m             \u001b[0;31m# Found existing directory, try to import and place in memory cache\u001b[0m\u001b[0;34m\u001b[0m\u001b[0;34m\u001b[0m\u001b[0m\n\u001b[0;32m--> 144\u001b[0;31m             \u001b[0mmodule\u001b[0m \u001b[0;34m=\u001b[0m \u001b[0mimport_and_cache_module\u001b[0m\u001b[0;34m(\u001b[0m\u001b[0mpath\u001b[0m\u001b[0;34m,\u001b[0m \u001b[0mmodulename\u001b[0m\u001b[0;34m,\u001b[0m \u001b[0mmoduleids\u001b[0m\u001b[0;34m)\u001b[0m\u001b[0;34m\u001b[0m\u001b[0m\n\u001b[0m\u001b[1;32m    145\u001b[0m             \u001b[0;32mif\u001b[0m \u001b[0mmodule\u001b[0m\u001b[0;34m:\u001b[0m\u001b[0;34m\u001b[0m\u001b[0m\n\u001b[1;32m    146\u001b[0m                 instant_debug(\"In instant.check_disk_cache: Imported module \"\\\n",
      "\u001b[0;32m~/anaconda3/envs/fenics17/lib/python3.6/site-packages/instant/cache.py\u001b[0m in \u001b[0;36mimport_and_cache_module\u001b[0;34m(path, modulename, moduleids)\u001b[0m\n\u001b[1;32m     90\u001b[0m     \u001b[0mmodule\u001b[0m\u001b[0;34m,\u001b[0m \u001b[0me\u001b[0m \u001b[0;34m=\u001b[0m \u001b[0mimport_module_directly\u001b[0m\u001b[0;34m(\u001b[0m\u001b[0mpath\u001b[0m\u001b[0;34m,\u001b[0m \u001b[0mmodulename\u001b[0m\u001b[0;34m)\u001b[0m\u001b[0;34m\u001b[0m\u001b[0m\n\u001b[1;32m     91\u001b[0m     instant_assert(module is not None, \"Failed to import module found in cache. Modulename: '%s';\\nPath: '%s';\\n%s:%s;\" % (modulename, path, type(e).__name__,\n\u001b[0;32m---> 92\u001b[0;31m                                                                                                                            e))\n\u001b[0m\u001b[1;32m     93\u001b[0m     \u001b[0;32mfor\u001b[0m \u001b[0mmoduleid\u001b[0m \u001b[0;32min\u001b[0m \u001b[0mmoduleids\u001b[0m\u001b[0;34m:\u001b[0m\u001b[0;34m\u001b[0m\u001b[0m\n\u001b[1;32m     94\u001b[0m         \u001b[0mplace_module_in_memory_cache\u001b[0m\u001b[0;34m(\u001b[0m\u001b[0mmoduleid\u001b[0m\u001b[0;34m,\u001b[0m \u001b[0mmodule\u001b[0m\u001b[0;34m)\u001b[0m\u001b[0;34m\u001b[0m\u001b[0m\n",
      "\u001b[0;32m~/anaconda3/envs/fenics17/lib/python3.6/site-packages/instant/output.py\u001b[0m in \u001b[0;36minstant_assert\u001b[0;34m(condition, *message)\u001b[0m\n\u001b[1;32m    101\u001b[0m         \u001b[0m_log\u001b[0m\u001b[0;34m.\u001b[0m\u001b[0merror\u001b[0m\u001b[0;34m(\u001b[0m\u001b[0;34m*\u001b[0m\u001b[0mmessage\u001b[0m\u001b[0;34m)\u001b[0m\u001b[0;34m\u001b[0m\u001b[0m\n\u001b[1;32m    102\u001b[0m         \u001b[0mtext\u001b[0m \u001b[0;34m=\u001b[0m \u001b[0mmessage\u001b[0m\u001b[0;34m[\u001b[0m\u001b[0;36m0\u001b[0m\u001b[0;34m]\u001b[0m \u001b[0;34m%\u001b[0m \u001b[0mmessage\u001b[0m\u001b[0;34m[\u001b[0m\u001b[0;36m1\u001b[0m\u001b[0;34m:\u001b[0m\u001b[0;34m]\u001b[0m\u001b[0;34m\u001b[0m\u001b[0m\n\u001b[0;32m--> 103\u001b[0;31m         \u001b[0;32mraise\u001b[0m \u001b[0mAssertionError\u001b[0m\u001b[0;34m(\u001b[0m\u001b[0mtext\u001b[0m\u001b[0;34m)\u001b[0m\u001b[0;34m\u001b[0m\u001b[0m\n\u001b[0m\u001b[1;32m    104\u001b[0m \u001b[0;34m\u001b[0m\u001b[0m\n\u001b[1;32m    105\u001b[0m \u001b[0;34m\u001b[0m\u001b[0m\n",
      "\u001b[0;31mAssertionError\u001b[0m: Failed to import module found in cache. Modulename: 'dolfin_c6877f69e53eb34d2c5001271298f44ad1b8fd3a';\nPath: '/Users/alban/.cache/instant/python3.6/cache';\nModuleNotFoundError:No module named '_dolfin_c6877f69e53eb34d2c5001271298f44ad1b8fd3a';"
     ]
    }
   ],
   "source": [
    "value_left = 0.0\n",
    "value_right = 2.0\n",
    "bc_l = DirichletBC(W, value_left, \"on_boundary && near(x[0], 0)\") # Imposing Dirichlet BC to the left boundary node\n",
    "bc_r = DirichletBC(W, value_right, \"on_boundary && near(x[0], 1)\") # Imposing Dirichlet BC to the right boundary node"
   ]
  },
  {
   "cell_type": "markdown",
   "metadata": {
    "nbpresent": {
     "id": "23630225-b858-48df-a0db-82e22c525965"
    }
   },
   "source": [
    "The second argument is the value our boundary condition says the function should have, and the last argument is where the boundary condition should apply.\n",
    "\n",
    "Now we have done basically all we need to do to solve our equation:"
   ]
  },
  {
   "cell_type": "code",
   "execution_count": 19,
   "metadata": {
    "nbpresent": {
     "id": "00ecb36c-6239-42a6-bd2e-7bc542688969"
    }
   },
   "outputs": [
    {
     "ename": "NameError",
     "evalue": "name 'bc_l' is not defined",
     "output_type": "error",
     "traceback": [
      "\u001b[0;31m---------------------------------------------------------------------------\u001b[0m",
      "\u001b[0;31mNameError\u001b[0m                                 Traceback (most recent call last)",
      "\u001b[0;32m<ipython-input-19-b898a584d8c9>\u001b[0m in \u001b[0;36m<module>\u001b[0;34m()\u001b[0m\n\u001b[1;32m      1\u001b[0m \u001b[0mU_sol\u001b[0m \u001b[0;34m=\u001b[0m \u001b[0mFunction\u001b[0m\u001b[0;34m(\u001b[0m\u001b[0mW\u001b[0m\u001b[0;34m)\u001b[0m  \u001b[0;31m# place to store the solution\u001b[0m\u001b[0;34m\u001b[0m\u001b[0m\n\u001b[0;32m----> 2\u001b[0;31m \u001b[0mbcs\u001b[0m \u001b[0;34m=\u001b[0m \u001b[0;34m[\u001b[0m\u001b[0mbc_l\u001b[0m\u001b[0;34m,\u001b[0m \u001b[0mbc_r\u001b[0m\u001b[0;34m]\u001b[0m   \u001b[0;31m# list of boundary conditions to apply to the problem\u001b[0m\u001b[0;34m\u001b[0m\u001b[0m\n\u001b[0m\u001b[1;32m      3\u001b[0m \u001b[0;34m\u001b[0m\u001b[0m\n\u001b[1;32m      4\u001b[0m \u001b[0msolve\u001b[0m\u001b[0;34m(\u001b[0m\u001b[0ma\u001b[0m \u001b[0;34m==\u001b[0m \u001b[0mL\u001b[0m\u001b[0;34m,\u001b[0m \u001b[0mU_sol\u001b[0m\u001b[0;34m,\u001b[0m \u001b[0mbcs\u001b[0m\u001b[0;34m)\u001b[0m\u001b[0;34m\u001b[0m\u001b[0m\n\u001b[1;32m      5\u001b[0m \u001b[0mplot\u001b[0m\u001b[0;34m(\u001b[0m\u001b[0mU_sol\u001b[0m\u001b[0;34m)\u001b[0m\u001b[0;34m\u001b[0m\u001b[0m\n",
      "\u001b[0;31mNameError\u001b[0m: name 'bc_l' is not defined"
     ]
    }
   ],
   "source": [
    "U_sol = Function(W)  # place to store the solution\n",
    "bcs = [bc_l, bc_r]   # list of boundary conditions to apply to the problem\n",
    "\n",
    "solve(a == L, U_sol, bcs)\n",
    "plot(U_sol)"
   ]
  },
  {
   "cell_type": "markdown",
   "metadata": {
    "nbpresent": {
     "id": "e530e809-00cd-44f0-822c-46ce2b39326e"
    }
   },
   "source": [
    "And that's it! We have solved a PDE in 12 lines of code. That's pretty good value for money. The same procedure can be carried through for more complicated equations as well. Though a bit more code may be required to specify the domains, boundaries and weak forms, the overall structure is still the same:\n",
    "\n",
    "1. Define the domain\n",
    "2. Define the `FunctionSpace` you want to use for approximating your solution\n",
    "3. Specify the weak form so FEniCS understands it\n",
    "4. Specify the boundary conditions"
   ]
  },
  {
   "cell_type": "markdown",
   "metadata": {
    "nbpresent": {
     "id": "76b65351-272c-4695-83fd-20239382d52e"
    }
   },
   "source": [
    "## Where did the boundary terms go, and when can I ignore them? (can be skipped)\n",
    "To make it clear what is happening with the boundary terms we ignored, what FEniCS does behind the scenes is the following:"
   ]
  },
  {
   "cell_type": "code",
   "execution_count": 8,
   "metadata": {
    "nbpresent": {
     "id": "32bb5f6f-0b0a-4c04-8dd9-95b3b7c72b49"
    }
   },
   "outputs": [
    {
     "name": "stdout",
     "output_type": "stream",
     "text": [
      "\n",
      "Before BCs are applied without bdy term: \n",
      "[[-20.01666667  19.99166667   0.           0.           0.\n",
      "    0.           0.           0.           0.           0.\n",
      "    0.           0.           0.           0.           0.\n",
      "    0.           0.           0.           0.           0.\n",
      "    0.        ]\n",
      " [ 19.99166667 -40.03333333  19.99166667   0.           0.\n",
      "    0.           0.           0.           0.           0.\n",
      "    0.           0.           0.           0.           0.\n",
      "    0.           0.           0.           0.           0.\n",
      "    0.        ]\n",
      " [  0.          19.99166667 -40.03333333  19.99166667   0.\n",
      "    0.           0.           0.           0.           0.\n",
      "    0.           0.           0.           0.           0.\n",
      "    0.           0.           0.           0.           0.\n",
      "    0.        ]\n",
      " [  0.           0.          19.99166667 -40.03333333  19.99166667\n",
      "    0.           0.           0.           0.           0.\n",
      "    0.           0.           0.           0.           0.\n",
      "    0.           0.           0.           0.           0.\n",
      "    0.        ]\n",
      " [  0.           0.           0.          19.99166667 -40.03333333\n",
      "   19.99166667   0.           0.           0.           0.\n",
      "    0.           0.           0.           0.           0.\n",
      "    0.           0.           0.           0.           0.\n",
      "    0.        ]\n",
      " [  0.           0.           0.           0.          19.99166667\n",
      "  -40.03333333  19.99166667   0.           0.           0.\n",
      "    0.           0.           0.           0.           0.\n",
      "    0.           0.           0.           0.           0.\n",
      "    0.        ]\n",
      " [  0.           0.           0.           0.           0.\n",
      "   19.99166667 -40.03333333  19.99166667   0.           0.\n",
      "    0.           0.           0.           0.           0.\n",
      "    0.           0.           0.           0.           0.\n",
      "    0.        ]\n",
      " [  0.           0.           0.           0.           0.\n",
      "    0.          19.99166667 -40.03333333  19.99166667   0.\n",
      "    0.           0.           0.           0.           0.\n",
      "    0.           0.           0.           0.           0.\n",
      "    0.        ]\n",
      " [  0.           0.           0.           0.           0.\n",
      "    0.           0.          19.99166667 -40.03333333  19.99166667\n",
      "    0.           0.           0.           0.           0.\n",
      "    0.           0.           0.           0.           0.\n",
      "    0.        ]\n",
      " [  0.           0.           0.           0.           0.\n",
      "    0.           0.           0.          19.99166667 -40.03333333\n",
      "   19.99166667   0.           0.           0.           0.\n",
      "    0.           0.           0.           0.           0.\n",
      "    0.        ]\n",
      " [  0.           0.           0.           0.           0.\n",
      "    0.           0.           0.           0.          19.99166667\n",
      "  -40.03333333  19.99166667   0.           0.           0.\n",
      "    0.           0.           0.           0.           0.\n",
      "    0.        ]\n",
      " [  0.           0.           0.           0.           0.\n",
      "    0.           0.           0.           0.           0.\n",
      "   19.99166667 -40.03333333  19.99166667   0.           0.\n",
      "    0.           0.           0.           0.           0.\n",
      "    0.        ]\n",
      " [  0.           0.           0.           0.           0.\n",
      "    0.           0.           0.           0.           0.\n",
      "    0.          19.99166667 -40.03333333  19.99166667   0.\n",
      "    0.           0.           0.           0.           0.\n",
      "    0.        ]\n",
      " [  0.           0.           0.           0.           0.\n",
      "    0.           0.           0.           0.           0.\n",
      "    0.           0.          19.99166667 -40.03333333  19.99166667\n",
      "    0.           0.           0.           0.           0.\n",
      "    0.        ]\n",
      " [  0.           0.           0.           0.           0.\n",
      "    0.           0.           0.           0.           0.\n",
      "    0.           0.           0.          19.99166667 -40.03333333\n",
      "   19.99166667   0.           0.           0.           0.\n",
      "    0.        ]\n",
      " [  0.           0.           0.           0.           0.\n",
      "    0.           0.           0.           0.           0.\n",
      "    0.           0.           0.           0.          19.99166667\n",
      "  -40.03333333  19.99166667   0.           0.           0.\n",
      "    0.        ]\n",
      " [  0.           0.           0.           0.           0.\n",
      "    0.           0.           0.           0.           0.\n",
      "    0.           0.           0.           0.           0.\n",
      "   19.99166667 -40.03333333  19.99166667   0.           0.\n",
      "    0.        ]\n",
      " [  0.           0.           0.           0.           0.\n",
      "    0.           0.           0.           0.           0.\n",
      "    0.           0.           0.           0.           0.\n",
      "    0.          19.99166667 -40.03333333  19.99166667   0.\n",
      "    0.        ]\n",
      " [  0.           0.           0.           0.           0.\n",
      "    0.           0.           0.           0.           0.\n",
      "    0.           0.           0.           0.           0.\n",
      "    0.           0.          19.99166667 -40.03333333  19.99166667\n",
      "    0.        ]\n",
      " [  0.           0.           0.           0.           0.\n",
      "    0.           0.           0.           0.           0.\n",
      "    0.           0.           0.           0.           0.\n",
      "    0.           0.           0.          19.99166667 -40.03333333\n",
      "   19.99166667]\n",
      " [  0.           0.           0.           0.           0.\n",
      "    0.           0.           0.           0.           0.\n",
      "    0.           0.           0.           0.           0.\n",
      "    0.           0.           0.           0.          19.99166667\n",
      "  -20.01666667]]\n",
      "[0. 0. 0. 0. 0. 0. 0. 0. 0. 0. 0. 0. 0. 0. 0. 0. 0. 0. 0. 0. 0.]\n",
      "\n",
      "After BCs are applied without bdy term: \n",
      "\n",
      "[[  1.           0.           0.           0.           0.\n",
      "    0.           0.           0.           0.           0.\n",
      "    0.           0.           0.           0.           0.\n",
      "    0.           0.           0.           0.           0.\n",
      "    0.        ]\n",
      " [ 19.99166667 -40.03333333  19.99166667   0.           0.\n",
      "    0.           0.           0.           0.           0.\n",
      "    0.           0.           0.           0.           0.\n",
      "    0.           0.           0.           0.           0.\n",
      "    0.        ]\n",
      " [  0.          19.99166667 -40.03333333  19.99166667   0.\n",
      "    0.           0.           0.           0.           0.\n",
      "    0.           0.           0.           0.           0.\n",
      "    0.           0.           0.           0.           0.\n",
      "    0.        ]\n",
      " [  0.           0.          19.99166667 -40.03333333  19.99166667\n",
      "    0.           0.           0.           0.           0.\n",
      "    0.           0.           0.           0.           0.\n",
      "    0.           0.           0.           0.           0.\n",
      "    0.        ]\n",
      " [  0.           0.           0.          19.99166667 -40.03333333\n",
      "   19.99166667   0.           0.           0.           0.\n",
      "    0.           0.           0.           0.           0.\n",
      "    0.           0.           0.           0.           0.\n",
      "    0.        ]\n",
      " [  0.           0.           0.           0.          19.99166667\n",
      "  -40.03333333  19.99166667   0.           0.           0.\n",
      "    0.           0.           0.           0.           0.\n",
      "    0.           0.           0.           0.           0.\n",
      "    0.        ]\n",
      " [  0.           0.           0.           0.           0.\n",
      "   19.99166667 -40.03333333  19.99166667   0.           0.\n",
      "    0.           0.           0.           0.           0.\n",
      "    0.           0.           0.           0.           0.\n",
      "    0.        ]\n",
      " [  0.           0.           0.           0.           0.\n",
      "    0.          19.99166667 -40.03333333  19.99166667   0.\n",
      "    0.           0.           0.           0.           0.\n",
      "    0.           0.           0.           0.           0.\n",
      "    0.        ]\n",
      " [  0.           0.           0.           0.           0.\n",
      "    0.           0.          19.99166667 -40.03333333  19.99166667\n",
      "    0.           0.           0.           0.           0.\n",
      "    0.           0.           0.           0.           0.\n",
      "    0.        ]\n",
      " [  0.           0.           0.           0.           0.\n",
      "    0.           0.           0.          19.99166667 -40.03333333\n",
      "   19.99166667   0.           0.           0.           0.\n",
      "    0.           0.           0.           0.           0.\n",
      "    0.        ]\n",
      " [  0.           0.           0.           0.           0.\n",
      "    0.           0.           0.           0.          19.99166667\n",
      "  -40.03333333  19.99166667   0.           0.           0.\n",
      "    0.           0.           0.           0.           0.\n",
      "    0.        ]\n",
      " [  0.           0.           0.           0.           0.\n",
      "    0.           0.           0.           0.           0.\n",
      "   19.99166667 -40.03333333  19.99166667   0.           0.\n",
      "    0.           0.           0.           0.           0.\n",
      "    0.        ]\n",
      " [  0.           0.           0.           0.           0.\n",
      "    0.           0.           0.           0.           0.\n",
      "    0.          19.99166667 -40.03333333  19.99166667   0.\n",
      "    0.           0.           0.           0.           0.\n",
      "    0.        ]\n",
      " [  0.           0.           0.           0.           0.\n",
      "    0.           0.           0.           0.           0.\n",
      "    0.           0.          19.99166667 -40.03333333  19.99166667\n",
      "    0.           0.           0.           0.           0.\n",
      "    0.        ]\n",
      " [  0.           0.           0.           0.           0.\n",
      "    0.           0.           0.           0.           0.\n",
      "    0.           0.           0.          19.99166667 -40.03333333\n",
      "   19.99166667   0.           0.           0.           0.\n",
      "    0.        ]\n",
      " [  0.           0.           0.           0.           0.\n",
      "    0.           0.           0.           0.           0.\n",
      "    0.           0.           0.           0.          19.99166667\n",
      "  -40.03333333  19.99166667   0.           0.           0.\n",
      "    0.        ]\n",
      " [  0.           0.           0.           0.           0.\n",
      "    0.           0.           0.           0.           0.\n",
      "    0.           0.           0.           0.           0.\n",
      "   19.99166667 -40.03333333  19.99166667   0.           0.\n",
      "    0.        ]\n",
      " [  0.           0.           0.           0.           0.\n",
      "    0.           0.           0.           0.           0.\n",
      "    0.           0.           0.           0.           0.\n",
      "    0.          19.99166667 -40.03333333  19.99166667   0.\n",
      "    0.        ]\n",
      " [  0.           0.           0.           0.           0.\n",
      "    0.           0.           0.           0.           0.\n",
      "    0.           0.           0.           0.           0.\n",
      "    0.           0.          19.99166667 -40.03333333  19.99166667\n",
      "    0.        ]\n",
      " [  0.           0.           0.           0.           0.\n",
      "    0.           0.           0.           0.           0.\n",
      "    0.           0.           0.           0.           0.\n",
      "    0.           0.           0.          19.99166667 -40.03333333\n",
      "   19.99166667]\n",
      " [  0.           0.           0.           0.           0.\n",
      "    0.           0.           0.           0.           0.\n",
      "    0.           0.           0.           0.           0.\n",
      "    0.           0.           0.           0.           0.\n",
      "    1.        ]]\n",
      "[2. 0. 0. 0. 0. 0. 0. 0. 0. 0. 0. 0. 0. 0. 0. 0. 0. 0. 0. 0. 1.]\n"
     ]
    },
    {
     "name": "stderr",
     "output_type": "stream",
     "text": [
      "/home/karlerik/software/anaconda2/envs/vasculatureenv/lib/python2.7/site-packages/dolfin/cpp/la.py:1123: DeprecationWarning: GenericVector.array() is being deprecated, use GenericVector.get_local()\n",
      "  \"use GenericVector.get_local()\", DeprecationWarning)\n",
      "/home/karlerik/software/anaconda2/envs/vasculatureenv/lib/python2.7/site-packages/dolfin/cpp/la.py:1123: DeprecationWarning: GenericVector.array() is being deprecated, use GenericVector.get_local()\n",
      "  \"use GenericVector.get_local()\", DeprecationWarning)\n"
     ]
    }
   ],
   "source": [
    "A = assemble(a)\n",
    "b = assemble(L)\n",
    "\n",
    "print(\"\\nBefore BCs are applied without bdy term: \\n\")\n",
    "print(A.array())\n",
    "print(b.array())\n",
    "\n",
    "\n",
    "bc_l.apply(A)\n",
    "bc_r.apply(A)\n",
    "bc_l.apply(b)\n",
    "bc_r.apply(b)\n",
    "\n",
    "print(\"\\nAfter BCs are applied without bdy term: \\n\")\n",
    "print(A.array())\n",
    "print(b.array())"
   ]
  },
  {
   "cell_type": "markdown",
   "metadata": {
    "nbpresent": {
     "id": "ade51df7-3950-44f9-968e-f3a86a2790fe"
    }
   },
   "source": [
    "This tells you how `DirichletBC`s are applied in FEniCS, and why adding the boundary terms wouldn't matter. When you give FEniCS a boundary condition, it replaces the equation it got from putting $V=\\phi_i$ for the right $i$ by one reading $u_i = $ the value $U$ is supposed to have there, meaning a row of $A$ is replaced by one with a single 1 and the rest 0, and the correponding part of $b$ set to the right value.\n",
    "\n",
    "Note that you are only allowed to ignore the boundary terms when you have a boundary condition of the form $U = $ constant at every part of the boundary. Such boundary conditions are called *Dirichlet* boundary conditions. Sometimes you might have conditions involving the derivative of $U$ instead. Those are called *Neumann* or *Robin* boundary conditions, and generally mean you have to add a term to `rhs`. \n",
    "\n",
    "If you had wanted to add boundary terms, this could be done as follows:"
   ]
  },
  {
   "cell_type": "code",
   "execution_count": 9,
   "metadata": {
    "nbpresent": {
     "id": "aaa29fc4-0dbd-427a-b4c2-afd12d45bf4f"
    }
   },
   "outputs": [
    {
     "name": "stdout",
     "output_type": "stream",
     "text": [
      "\n",
      "Before BCs are applied with bdy term: \n",
      "[[-1.66666667e-02 -8.33333333e-03  0.00000000e+00  0.00000000e+00\n",
      "   0.00000000e+00  0.00000000e+00  0.00000000e+00  0.00000000e+00\n",
      "   0.00000000e+00  0.00000000e+00  0.00000000e+00  0.00000000e+00\n",
      "   0.00000000e+00  0.00000000e+00  0.00000000e+00  0.00000000e+00\n",
      "   0.00000000e+00  0.00000000e+00  0.00000000e+00  0.00000000e+00\n",
      "   0.00000000e+00]\n",
      " [ 1.99916667e+01 -4.00333333e+01  1.99916667e+01  0.00000000e+00\n",
      "   0.00000000e+00  0.00000000e+00  0.00000000e+00  0.00000000e+00\n",
      "   0.00000000e+00  0.00000000e+00  0.00000000e+00  0.00000000e+00\n",
      "   0.00000000e+00  0.00000000e+00  0.00000000e+00  0.00000000e+00\n",
      "   0.00000000e+00  0.00000000e+00  0.00000000e+00  0.00000000e+00\n",
      "   0.00000000e+00]\n",
      " [ 0.00000000e+00  1.99916667e+01 -4.00333333e+01  1.99916667e+01\n",
      "   0.00000000e+00  0.00000000e+00  0.00000000e+00  0.00000000e+00\n",
      "   0.00000000e+00  0.00000000e+00  0.00000000e+00  0.00000000e+00\n",
      "   0.00000000e+00  0.00000000e+00  0.00000000e+00  0.00000000e+00\n",
      "   0.00000000e+00  0.00000000e+00  0.00000000e+00  0.00000000e+00\n",
      "   0.00000000e+00]\n",
      " [ 0.00000000e+00  0.00000000e+00  1.99916667e+01 -4.00333333e+01\n",
      "   1.99916667e+01  0.00000000e+00  0.00000000e+00  0.00000000e+00\n",
      "   0.00000000e+00  0.00000000e+00  0.00000000e+00  0.00000000e+00\n",
      "   0.00000000e+00  0.00000000e+00  0.00000000e+00  0.00000000e+00\n",
      "   0.00000000e+00  0.00000000e+00  0.00000000e+00  0.00000000e+00\n",
      "   0.00000000e+00]\n",
      " [ 0.00000000e+00  0.00000000e+00  0.00000000e+00  1.99916667e+01\n",
      "  -4.00333333e+01  1.99916667e+01  0.00000000e+00  0.00000000e+00\n",
      "   0.00000000e+00  0.00000000e+00  0.00000000e+00  0.00000000e+00\n",
      "   0.00000000e+00  0.00000000e+00  0.00000000e+00  0.00000000e+00\n",
      "   0.00000000e+00  0.00000000e+00  0.00000000e+00  0.00000000e+00\n",
      "   0.00000000e+00]\n",
      " [ 0.00000000e+00  0.00000000e+00  0.00000000e+00  0.00000000e+00\n",
      "   1.99916667e+01 -4.00333333e+01  1.99916667e+01  0.00000000e+00\n",
      "   0.00000000e+00  0.00000000e+00  0.00000000e+00  0.00000000e+00\n",
      "   0.00000000e+00  0.00000000e+00  0.00000000e+00  0.00000000e+00\n",
      "   0.00000000e+00  0.00000000e+00  0.00000000e+00  0.00000000e+00\n",
      "   0.00000000e+00]\n",
      " [ 0.00000000e+00  0.00000000e+00  0.00000000e+00  0.00000000e+00\n",
      "   0.00000000e+00  1.99916667e+01 -4.00333333e+01  1.99916667e+01\n",
      "   0.00000000e+00  0.00000000e+00  0.00000000e+00  0.00000000e+00\n",
      "   0.00000000e+00  0.00000000e+00  0.00000000e+00  0.00000000e+00\n",
      "   0.00000000e+00  0.00000000e+00  0.00000000e+00  0.00000000e+00\n",
      "   0.00000000e+00]\n",
      " [ 0.00000000e+00  0.00000000e+00  0.00000000e+00  0.00000000e+00\n",
      "   0.00000000e+00  0.00000000e+00  1.99916667e+01 -4.00333333e+01\n",
      "   1.99916667e+01  0.00000000e+00  0.00000000e+00  0.00000000e+00\n",
      "   0.00000000e+00  0.00000000e+00  0.00000000e+00  0.00000000e+00\n",
      "   0.00000000e+00  0.00000000e+00  0.00000000e+00  0.00000000e+00\n",
      "   0.00000000e+00]\n",
      " [ 0.00000000e+00  0.00000000e+00  0.00000000e+00  0.00000000e+00\n",
      "   0.00000000e+00  0.00000000e+00  0.00000000e+00  1.99916667e+01\n",
      "  -4.00333333e+01  1.99916667e+01  0.00000000e+00  0.00000000e+00\n",
      "   0.00000000e+00  0.00000000e+00  0.00000000e+00  0.00000000e+00\n",
      "   0.00000000e+00  0.00000000e+00  0.00000000e+00  0.00000000e+00\n",
      "   0.00000000e+00]\n",
      " [ 0.00000000e+00  0.00000000e+00  0.00000000e+00  0.00000000e+00\n",
      "   0.00000000e+00  0.00000000e+00  0.00000000e+00  0.00000000e+00\n",
      "   1.99916667e+01 -4.00333333e+01  1.99916667e+01  0.00000000e+00\n",
      "   0.00000000e+00  0.00000000e+00  0.00000000e+00  0.00000000e+00\n",
      "   0.00000000e+00  0.00000000e+00  0.00000000e+00  0.00000000e+00\n",
      "   0.00000000e+00]\n",
      " [ 0.00000000e+00  0.00000000e+00  0.00000000e+00  0.00000000e+00\n",
      "   0.00000000e+00  0.00000000e+00  0.00000000e+00  0.00000000e+00\n",
      "   0.00000000e+00  1.99916667e+01 -4.00333333e+01  1.99916667e+01\n",
      "   0.00000000e+00  0.00000000e+00  0.00000000e+00  0.00000000e+00\n",
      "   0.00000000e+00  0.00000000e+00  0.00000000e+00  0.00000000e+00\n",
      "   0.00000000e+00]\n",
      " [ 0.00000000e+00  0.00000000e+00  0.00000000e+00  0.00000000e+00\n",
      "   0.00000000e+00  0.00000000e+00  0.00000000e+00  0.00000000e+00\n",
      "   0.00000000e+00  0.00000000e+00  1.99916667e+01 -4.00333333e+01\n",
      "   1.99916667e+01  0.00000000e+00  0.00000000e+00  0.00000000e+00\n",
      "   0.00000000e+00  0.00000000e+00  0.00000000e+00  0.00000000e+00\n",
      "   0.00000000e+00]\n",
      " [ 0.00000000e+00  0.00000000e+00  0.00000000e+00  0.00000000e+00\n",
      "   0.00000000e+00  0.00000000e+00  0.00000000e+00  0.00000000e+00\n",
      "   0.00000000e+00  0.00000000e+00  0.00000000e+00  1.99916667e+01\n",
      "  -4.00333333e+01  1.99916667e+01  0.00000000e+00  0.00000000e+00\n",
      "   0.00000000e+00  0.00000000e+00  0.00000000e+00  0.00000000e+00\n",
      "   0.00000000e+00]\n",
      " [ 0.00000000e+00  0.00000000e+00  0.00000000e+00  0.00000000e+00\n",
      "   0.00000000e+00  0.00000000e+00  0.00000000e+00  0.00000000e+00\n",
      "   0.00000000e+00  0.00000000e+00  0.00000000e+00  0.00000000e+00\n",
      "   1.99916667e+01 -4.00333333e+01  1.99916667e+01  0.00000000e+00\n",
      "   0.00000000e+00  0.00000000e+00  0.00000000e+00  0.00000000e+00\n",
      "   0.00000000e+00]\n",
      " [ 0.00000000e+00  0.00000000e+00  0.00000000e+00  0.00000000e+00\n",
      "   0.00000000e+00  0.00000000e+00  0.00000000e+00  0.00000000e+00\n",
      "   0.00000000e+00  0.00000000e+00  0.00000000e+00  0.00000000e+00\n",
      "   0.00000000e+00  1.99916667e+01 -4.00333333e+01  1.99916667e+01\n",
      "   0.00000000e+00  0.00000000e+00  0.00000000e+00  0.00000000e+00\n",
      "   0.00000000e+00]\n",
      " [ 0.00000000e+00  0.00000000e+00  0.00000000e+00  0.00000000e+00\n",
      "   0.00000000e+00  0.00000000e+00  0.00000000e+00  0.00000000e+00\n",
      "   0.00000000e+00  0.00000000e+00  0.00000000e+00  0.00000000e+00\n",
      "   0.00000000e+00  0.00000000e+00  1.99916667e+01 -4.00333333e+01\n",
      "   1.99916667e+01  0.00000000e+00  0.00000000e+00  0.00000000e+00\n",
      "   0.00000000e+00]\n",
      " [ 0.00000000e+00  0.00000000e+00  0.00000000e+00  0.00000000e+00\n",
      "   0.00000000e+00  0.00000000e+00  0.00000000e+00  0.00000000e+00\n",
      "   0.00000000e+00  0.00000000e+00  0.00000000e+00  0.00000000e+00\n",
      "   0.00000000e+00  0.00000000e+00  0.00000000e+00  1.99916667e+01\n",
      "  -4.00333333e+01  1.99916667e+01  0.00000000e+00  0.00000000e+00\n",
      "   0.00000000e+00]\n",
      " [ 0.00000000e+00  0.00000000e+00  0.00000000e+00  0.00000000e+00\n",
      "   0.00000000e+00  0.00000000e+00  0.00000000e+00  0.00000000e+00\n",
      "   0.00000000e+00  0.00000000e+00  0.00000000e+00  0.00000000e+00\n",
      "   0.00000000e+00  0.00000000e+00  0.00000000e+00  0.00000000e+00\n",
      "   1.99916667e+01 -4.00333333e+01  1.99916667e+01  0.00000000e+00\n",
      "   0.00000000e+00]\n",
      " [ 0.00000000e+00  0.00000000e+00  0.00000000e+00  0.00000000e+00\n",
      "   0.00000000e+00  0.00000000e+00  0.00000000e+00  0.00000000e+00\n",
      "   0.00000000e+00  0.00000000e+00  0.00000000e+00  0.00000000e+00\n",
      "   0.00000000e+00  0.00000000e+00  0.00000000e+00  0.00000000e+00\n",
      "   0.00000000e+00  1.99916667e+01 -4.00333333e+01  1.99916667e+01\n",
      "   0.00000000e+00]\n",
      " [ 0.00000000e+00  0.00000000e+00  0.00000000e+00  0.00000000e+00\n",
      "   0.00000000e+00  0.00000000e+00  0.00000000e+00  0.00000000e+00\n",
      "   0.00000000e+00  0.00000000e+00  0.00000000e+00  0.00000000e+00\n",
      "   0.00000000e+00  0.00000000e+00  0.00000000e+00  0.00000000e+00\n",
      "   0.00000000e+00  0.00000000e+00  1.99916667e+01 -4.00333333e+01\n",
      "   1.99916667e+01]\n",
      " [ 0.00000000e+00  0.00000000e+00  0.00000000e+00  0.00000000e+00\n",
      "   0.00000000e+00  0.00000000e+00  0.00000000e+00  0.00000000e+00\n",
      "   0.00000000e+00  0.00000000e+00  0.00000000e+00  0.00000000e+00\n",
      "   0.00000000e+00  0.00000000e+00  0.00000000e+00  0.00000000e+00\n",
      "   0.00000000e+00  0.00000000e+00  0.00000000e+00  3.99916667e+01\n",
      "  -4.00166667e+01]]\n",
      "[0. 0. 0. 0. 0. 0. 0. 0. 0. 0. 0. 0. 0. 0. 0. 0. 0. 0. 0. 0. 0.]\n",
      "\n",
      "After BCs are applied with bdy term: \n",
      "\n",
      "[[  1.           0.           0.           0.           0.\n",
      "    0.           0.           0.           0.           0.\n",
      "    0.           0.           0.           0.           0.\n",
      "    0.           0.           0.           0.           0.\n",
      "    0.        ]\n",
      " [ 19.99166667 -40.03333333  19.99166667   0.           0.\n",
      "    0.           0.           0.           0.           0.\n",
      "    0.           0.           0.           0.           0.\n",
      "    0.           0.           0.           0.           0.\n",
      "    0.        ]\n",
      " [  0.          19.99166667 -40.03333333  19.99166667   0.\n",
      "    0.           0.           0.           0.           0.\n",
      "    0.           0.           0.           0.           0.\n",
      "    0.           0.           0.           0.           0.\n",
      "    0.        ]\n",
      " [  0.           0.          19.99166667 -40.03333333  19.99166667\n",
      "    0.           0.           0.           0.           0.\n",
      "    0.           0.           0.           0.           0.\n",
      "    0.           0.           0.           0.           0.\n",
      "    0.        ]\n",
      " [  0.           0.           0.          19.99166667 -40.03333333\n",
      "   19.99166667   0.           0.           0.           0.\n",
      "    0.           0.           0.           0.           0.\n",
      "    0.           0.           0.           0.           0.\n",
      "    0.        ]\n",
      " [  0.           0.           0.           0.          19.99166667\n",
      "  -40.03333333  19.99166667   0.           0.           0.\n",
      "    0.           0.           0.           0.           0.\n",
      "    0.           0.           0.           0.           0.\n",
      "    0.        ]\n",
      " [  0.           0.           0.           0.           0.\n",
      "   19.99166667 -40.03333333  19.99166667   0.           0.\n",
      "    0.           0.           0.           0.           0.\n",
      "    0.           0.           0.           0.           0.\n",
      "    0.        ]\n",
      " [  0.           0.           0.           0.           0.\n",
      "    0.          19.99166667 -40.03333333  19.99166667   0.\n",
      "    0.           0.           0.           0.           0.\n",
      "    0.           0.           0.           0.           0.\n",
      "    0.        ]\n",
      " [  0.           0.           0.           0.           0.\n",
      "    0.           0.          19.99166667 -40.03333333  19.99166667\n",
      "    0.           0.           0.           0.           0.\n",
      "    0.           0.           0.           0.           0.\n",
      "    0.        ]\n",
      " [  0.           0.           0.           0.           0.\n",
      "    0.           0.           0.          19.99166667 -40.03333333\n",
      "   19.99166667   0.           0.           0.           0.\n",
      "    0.           0.           0.           0.           0.\n",
      "    0.        ]\n",
      " [  0.           0.           0.           0.           0.\n",
      "    0.           0.           0.           0.          19.99166667\n",
      "  -40.03333333  19.99166667   0.           0.           0.\n",
      "    0.           0.           0.           0.           0.\n",
      "    0.        ]\n",
      " [  0.           0.           0.           0.           0.\n",
      "    0.           0.           0.           0.           0.\n",
      "   19.99166667 -40.03333333  19.99166667   0.           0.\n",
      "    0.           0.           0.           0.           0.\n",
      "    0.        ]\n",
      " [  0.           0.           0.           0.           0.\n",
      "    0.           0.           0.           0.           0.\n",
      "    0.          19.99166667 -40.03333333  19.99166667   0.\n",
      "    0.           0.           0.           0.           0.\n",
      "    0.        ]\n",
      " [  0.           0.           0.           0.           0.\n",
      "    0.           0.           0.           0.           0.\n",
      "    0.           0.          19.99166667 -40.03333333  19.99166667\n",
      "    0.           0.           0.           0.           0.\n",
      "    0.        ]\n",
      " [  0.           0.           0.           0.           0.\n",
      "    0.           0.           0.           0.           0.\n",
      "    0.           0.           0.          19.99166667 -40.03333333\n",
      "   19.99166667   0.           0.           0.           0.\n",
      "    0.        ]\n",
      " [  0.           0.           0.           0.           0.\n",
      "    0.           0.           0.           0.           0.\n",
      "    0.           0.           0.           0.          19.99166667\n",
      "  -40.03333333  19.99166667   0.           0.           0.\n",
      "    0.        ]\n",
      " [  0.           0.           0.           0.           0.\n",
      "    0.           0.           0.           0.           0.\n",
      "    0.           0.           0.           0.           0.\n",
      "   19.99166667 -40.03333333  19.99166667   0.           0.\n",
      "    0.        ]\n",
      " [  0.           0.           0.           0.           0.\n",
      "    0.           0.           0.           0.           0.\n",
      "    0.           0.           0.           0.           0.\n",
      "    0.          19.99166667 -40.03333333  19.99166667   0.\n",
      "    0.        ]\n",
      " [  0.           0.           0.           0.           0.\n",
      "    0.           0.           0.           0.           0.\n",
      "    0.           0.           0.           0.           0.\n",
      "    0.           0.          19.99166667 -40.03333333  19.99166667\n",
      "    0.        ]\n",
      " [  0.           0.           0.           0.           0.\n",
      "    0.           0.           0.           0.           0.\n",
      "    0.           0.           0.           0.           0.\n",
      "    0.           0.           0.          19.99166667 -40.03333333\n",
      "   19.99166667]\n",
      " [  0.           0.           0.           0.           0.\n",
      "    0.           0.           0.           0.           0.\n",
      "    0.           0.           0.           0.           0.\n",
      "    0.           0.           0.           0.           0.\n",
      "    1.        ]]\n",
      "[2. 0. 0. 0. 0. 0. 0. 0. 0. 0. 0. 0. 0. 0. 0. 0. 0. 0. 0. 0. 1.]\n"
     ]
    },
    {
     "name": "stderr",
     "output_type": "stream",
     "text": [
      "/home/karlerik/software/anaconda2/envs/vasculatureenv/lib/python2.7/site-packages/dolfin/cpp/la.py:1123: DeprecationWarning: GenericVector.array() is being deprecated, use GenericVector.get_local()\n",
      "  \"use GenericVector.get_local()\", DeprecationWarning)\n",
      "/home/karlerik/software/anaconda2/envs/vasculatureenv/lib/python2.7/site-packages/dolfin/cpp/la.py:1123: DeprecationWarning: GenericVector.array() is being deprecated, use GenericVector.get_local()\n",
      "  \"use GenericVector.get_local()\", DeprecationWarning)\n"
     ]
    }
   ],
   "source": [
    "a = - (U * V + U.dx(0) * V.dx(0)) * dx + U.dx(0) * V * ds  # ds means integrate over boundary\n",
    "A = assemble(a)\n",
    "b = assemble(L)\n",
    "\n",
    "print(\"\\nBefore BCs are applied with bdy term: \\n\",)\n",
    "print(A.array())\n",
    "print(b.array())\n",
    "\n",
    "bc_l.apply(A)\n",
    "bc_r.apply(A)\n",
    "bc_l.apply(b)\n",
    "bc_r.apply(b)\n",
    "\n",
    "print(\"\\nAfter BCs are applied with bdy term: \\n\")\n",
    "print(A.array())\n",
    "print(b.array())"
   ]
  },
  {
   "cell_type": "markdown",
   "metadata": {
    "nbpresent": {
     "id": "a92927b5-1763-47fa-8a17-f583c0ed81a2"
    }
   },
   "source": [
    "Notice that although the matrix `A` becomes different when you add the boundary term, the only difference is in the first and last row, which corresponds to nodes where we have boundary conditions. This is why you can ignore the boundary term where you have a Dirichlet boundary condition."
   ]
  },
  {
   "cell_type": "markdown",
   "metadata": {},
   "source": [
    "## Solving a transient 1D diffusion problem \n",
    "In this example, we will solve a 1D diffusion problem (as described in the previous course) using FEniCS. \n",
    "\n",
    "In this notebook, we will solve the cable equation in FEniCS. Let $\\Omega = [0, 1]$ be an electrical cable transmitting signals between 0 and 1 by conducting a current. The cable is also leaky, meaning that some current going into it doesn't reach the other end, instead escaping along the way. The cable equation then says that the electric potential $U(x)$ at a point on the cable satisfies the equation $$\\lambda^2 \\frac {\\partial^2 U} {\\partial^2 x} = \\tau \\frac {\\partial U} {\\partial t} + U$$ \n",
    "\n",
    "Here $\\lambda, \\tau$ are length and time constants. We consider what happens if we fix the potential to $2$ at the left end of the cable and to $1$ at the right and of the cable and just leave it be until it settles in a steady state. In the steady state we will have $\\frac {\\partial U} {\\partial t} = 0$, so we can find the steady state by solving the equation $$\\lambda^2 \\frac {\\partial^2 U} {\\partial^2 x} - U = 0$$\n",
    "\n",
    "with the boundary conditions $U(0) = 2, \\: U(1) = 1$ For brevity, we write $\\frac {\\partial U} {\\partial x} = U_x$ and $\\frac {\\partial^2 U} {\\partial^2 x} = U_{xx}$."
   ]
  },
  {
   "cell_type": "markdown",
   "metadata": {},
   "source": [
    "## Solving a transient 2D diffusion problem \n",
    "In this notebook, we will solve the cable equation in FEniCS. Let $\\Omega = [0, 1]$ be an electrical cable transmitting signals between 0 and 1 by conducting a current. The cable is also leaky, meaning that some current going into it doesn't reach the other end, instead escaping along the way. The cable equation then says that the electric potential $U(x)$ at a point on the cable satisfies the equation $$\\lambda^2 \\frac {\\partial^2 U} {\\partial^2 x} = \\tau \\frac {\\partial U} {\\partial t} + U$$ \n",
    "\n",
    "Here $\\lambda, \\tau$ are length and time constants. We consider what happens if we fix the potential to $2$ at the left end of the cable and to $1$ at the right and of the cable and just leave it be until it settles in a steady state. In the steady state we will have $\\frac {\\partial U} {\\partial t} = 0$, so we can find the steady state by solving the equation $$\\lambda^2 \\frac {\\partial^2 U} {\\partial^2 x} - U = 0$$\n",
    "\n",
    "with the boundary conditions $U(0) = 2, \\: U(1) = 1$ For brevity, we write $\\frac {\\partial U} {\\partial x} = U_x$ and $\\frac {\\partial^2 U} {\\partial^2 x} = U_{xx}$."
   ]
  },
  {
   "cell_type": "markdown",
   "metadata": {
    "nbpresent": {
     "id": "a7ae36ff-93c9-458d-8e59-1eec315555a9"
    }
   },
   "source": [
    "## Putting the cable equation in weak form\n",
    "As before, we start out by deriving the weak form of our problem. We do this by multiplying by a test function $V$, integrating over our whole domain, and manipulating the integral using integration by parts until no second derivatives occur. \n",
    "\n",
    "$$ \\int \\limits_0^1 \\lambda^2 U_{xx} V - UV \\: \\text{dx} \\: = \\: \\Big\\rvert \\lambda^2 U_xV \\Big\\rvert_0^1 - \\int \\limits_0^1 UV  + \\lambda^2U_xV_x \\: \\text{dx} \\: = \\:-U_x(0)V(0) + \\lambda^2 U_x(1)V(0) - \\int \\limits_0^1 UV + \\lambda^2U_xV_x \\: \\text{dx}$$\n",
    "\n",
    "As this has no second derivatives, this is the weak form of our equation."
   ]
  },
  {
   "cell_type": "markdown",
   "metadata": {},
   "source": [
    "## Exercises\n",
    "\n"
   ]
  },
  {
   "cell_type": "markdown",
   "metadata": {},
   "source": [
    "\n",
    "### Exercise 1\n",
    "Solve the equation $u_{x} = 2u $ in FEniCS on the interval $[0, 1]$ with the condition $u(0) = 1$. In this case, the solution should be $u(x) = e^{2x}$, so $u(1)$ should be $e^2$. How close is your computed solution? How fast does the error decrease if you double the number of points in your mesh? "
   ]
  },
  {
   "cell_type": "markdown",
   "metadata": {},
   "source": [
    "\n",
    "### Exercise 2\n",
    "What happens if you also apply the condition $u(1) = 2$ in the problem from the previous exercise? Why do you think that \n",
    "is? "
   ]
  },
  {
   "cell_type": "markdown",
   "metadata": {
    "nbpresent": {
     "id": "525e1959-16e7-43a7-b7dd-fbb31a4f9b88"
    }
   },
   "source": [
    "# Slides"
   ]
  },
  {
   "cell_type": "code",
   "execution_count": 10,
   "metadata": {
    "collapsed": true,
    "nbpresent": {
     "id": "6909eccb-1e85-48ac-9e6f-ca3d34d72fdd"
    }
   },
   "outputs": [],
   "source": [
    "%matplotlib inline\n",
    "\n",
    "# This is kind of bad practice, but for small scripts it is very convenient\n",
    "# DOLFIN is the computational backend of the FEniCS project\n",
    "from dolfin import * "
   ]
  },
  {
   "cell_type": "markdown",
   "metadata": {
    "nbpresent": {
     "id": "4b2c5c7c-5177-47bc-bd42-cffb1f5e1ce9"
    }
   },
   "source": [
    "## The cable equation\n",
    "Let $\\Omega = [0, 1]$ be a leaky electrical cable transmitting signals from 0 to 1, and $U(x)$ the voltage at $x$. \n",
    "\n",
    "Cable equation: $$\\lambda^2 \\frac {\\partial^2 U} {\\partial^2 x} = \\tau \\frac {\\partial U} {\\partial t} + U$$ \n",
    "\n",
    "At steady state, $\\frac {\\partial U} {\\partial t} = 0$, so: $$\\lambda^2 \\frac {\\partial^2 U} {\\partial^2 x} - U = 0$$\n",
    "\n",
    "Boundary conditions: $U(0) = 2, \\: U(1) = 1$ \n",
    "\n",
    "For simplicity, we take $\\lambda = 1$."
   ]
  },
  {
   "cell_type": "markdown",
   "metadata": {
    "nbpresent": {
     "id": "18473218-880b-491c-990b-0172b148936e"
    }
   },
   "source": [
    "##  Weak form of cable equation\n",
    "Multiply by a test function $V$, integrating over $\\Omega$, and integrate by parts until no second derivatives occur: \n",
    "\n",
    "$$ \\int \\limits_0^1 U_{xx} V - UV \\: \\text{dx} \\: = \\: \\Big\\rvert U_xV \\Big\\rvert_0^1 - \\int \\limits_0^1 UV  + U_xV_x \\: \\text{dx} \\: = \\:-U_x(0)V(0) + U_x(1)V(0) - \\int \\limits_0^1 UV + U_xV_x \\: \\text{dx}$$\n"
   ]
  },
  {
   "cell_type": "markdown",
   "metadata": {
    "nbpresent": {
     "id": "115ede87-de1d-4c92-ab2d-41c31105be7a"
    },
    "scrolled": true
   },
   "source": [
    "## Implementation in FEniCS: discretizing $\\Omega$\n",
    "\n",
    "`elt` is a function space of linear functions living on a single subinterval of our mesh.\n",
    "\n",
    "`FunctionSpace` takes this 'local' function space and builds a 'global' function space $W$ by gluing together copies of `elt`. "
   ]
  },
  {
   "cell_type": "code",
   "execution_count": 11,
   "metadata": {
    "nbpresent": {
     "id": "115ede87-de1d-4c92-ab2d-41c31105be7a"
    },
    "scrolled": true
   },
   "outputs": [
    {
     "data": {
      "image/png": "[encoded data removed]",
      "text/plain": [
       "<matplotlib.figure.Figure at 0x7f8f550dd110>"
      ]
     },
     "metadata": {},
     "output_type": "display_data"
    }
   ],
   "source": [
    "mesh = UnitIntervalMesh(10) # 10 is number of intervals Omega is divided into\n",
    "plot(mesh);\n",
    "\n",
    "elt = FiniteElement(\"CG\", interval, 1) # interval is a FEniCS builtin representing a single subinterval\n",
    "W = FunctionSpace(mesh, elt)"
   ]
  },
  {
   "cell_type": "markdown",
   "metadata": {
    "nbpresent": {
     "id": "14efd9ae-0d67-40a3-96a2-19f7d3faa2ca"
    }
   },
   "source": [
    "## Specifying the weak form"
   ]
  },
  {
   "cell_type": "code",
   "execution_count": 12,
   "metadata": {
    "collapsed": true,
    "nbpresent": {
     "id": "7e945a63-4d82-433e-922f-d80c765365c8"
    }
   },
   "outputs": [],
   "source": [
    "V = TestFunction(W)\n",
    "U = TrialFunction(W) # symbol representing the unknown\n",
    "\n",
    "a = - (U * V + U.dx(0) * V.dx(0)) * dx # .dx(0) means first derivative\n",
    "L = Constant(0) * V * dx"
   ]
  },
  {
   "cell_type": "markdown",
   "metadata": {
    "nbpresent": {
     "id": "507d3841-526f-4f19-a278-cba6a229776c"
    }
   },
   "source": [
    "`a` is the left hand side and `L` the right hand side of our equation $$- \\int \\limits_0^1 UV + U_xV_x \\: \\text{dx} = 0$$\n",
    "The boundary term $-U_x(0)V(0) + U_x(1)V(0)$ could be added to the form as follows, but we ignore it for now."
   ]
  },
  {
   "cell_type": "code",
   "execution_count": 13,
   "metadata": {
    "collapsed": true,
    "nbpresent": {
     "id": "db3cf079-b7b8-4aa2-b047-b0d32bd213a5"
    }
   },
   "outputs": [],
   "source": [
    "# a = - (U * V + U.dx(0) * V.dx(0)) * dx + U.dx(0) * V * ds # ds means integrate over boundary"
   ]
  },
  {
   "cell_type": "markdown",
   "metadata": {
    "nbpresent": {
     "id": "c47aea98-5293-4162-a78b-ba93b9703193"
    }
   },
   "source": [
    "## Specifying boundary conditions and calling 'solve'"
   ]
  },
  {
   "cell_type": "code",
   "execution_count": 14,
   "metadata": {
    "nbpresent": {
     "id": "d8c9d411-e1ca-4a61-8e1c-5963a313a676"
    }
   },
   "outputs": [
    {
     "name": "stdout",
     "output_type": "stream",
     "text": [
      "Calling FFC just-in-time (JIT) compiler, this may take some time.\n"
     ]
    },
    {
     "data": {
      "text/plain": [
       "[<matplotlib.lines.Line2D at 0x7f8f54dd9f10>]"
      ]
     },
     "execution_count": 14,
     "metadata": {},
     "output_type": "execute_result"
    },
    {
     "data": {
      "image/png": "[encoded data removed]",
      "text/plain": [
       "<matplotlib.figure.Figure at 0x7f8f57184350>"
      ]
     },
     "metadata": {},
     "output_type": "display_data"
    }
   ],
   "source": [
    "bc_l = DirichletBC(W, 1, \"on_boundary && near(x[0], 0)\")\n",
    "bc_r = DirichletBC(W, 2, \"on_boundary && near(x[0], 1)\")\n",
    "\n",
    "U_sol = Function(W)      # place to store the solution\n",
    "bcs = [bc_l, bc_r]   # list of boundary conditions to apply to the problem\n",
    "\n",
    "solve(a == L, U_sol, bcs)\n",
    "plot(U_sol)"
   ]
  },
  {
   "cell_type": "markdown",
   "metadata": {
    "nbpresent": {
     "id": "7c08bc40-6360-4e2a-8c86-9a90e0858f5d"
    }
   },
   "source": [
    "We have solved a PDE in 12 lines of code! Quick summary:\n",
    "\n",
    "1. Define the domain\n",
    "2. Define the `FunctionSpace` you want to use for approximating your solution\n",
    "3. Specify the weak form so FEniCS understands it\n",
    "4. Specify the boundary conditions"
   ]
  },
  {
   "cell_type": "markdown",
   "metadata": {
    "nbpresent": {
     "id": "c93cae89-b52a-40fc-a07c-bc0ca38f52f3"
    }
   },
   "source": [
    "## Where did the boundary terms go? (can be skipped)\n",
    "Let's take a look at the matrices FEniCS builds:"
   ]
  },
  {
   "cell_type": "code",
   "execution_count": 15,
   "metadata": {
    "nbpresent": {
     "id": "dd89c98f-1a20-4c75-95ff-19ce13a595ce"
    }
   },
   "outputs": [
    {
     "name": "stdout",
     "output_type": "stream",
     "text": [
      "\n",
      "Before BCs are applied without bdy term: \n",
      "[[-10.03333333   9.98333333   0.           0.           0.\n",
      "    0.           0.           0.           0.           0.\n",
      "    0.        ]\n",
      " [  9.98333333 -20.06666667   9.98333333   0.           0.\n",
      "    0.           0.           0.           0.           0.\n",
      "    0.        ]\n",
      " [  0.           9.98333333 -20.06666667   9.98333333   0.\n",
      "    0.           0.           0.           0.           0.\n",
      "    0.        ]\n",
      " [  0.           0.           9.98333333 -20.06666667   9.98333333\n",
      "    0.           0.           0.           0.           0.\n",
      "    0.        ]\n",
      " [  0.           0.           0.           9.98333333 -20.06666667\n",
      "    9.98333333   0.           0.           0.           0.\n",
      "    0.        ]\n",
      " [  0.           0.           0.           0.           9.98333333\n",
      "  -20.06666667   9.98333333   0.           0.           0.\n",
      "    0.        ]\n",
      " [  0.           0.           0.           0.           0.\n",
      "    9.98333333 -20.06666667   9.98333333   0.           0.\n",
      "    0.        ]\n",
      " [  0.           0.           0.           0.           0.\n",
      "    0.           9.98333333 -20.06666667   9.98333333   0.\n",
      "    0.        ]\n",
      " [  0.           0.           0.           0.           0.\n",
      "    0.           0.           9.98333333 -20.06666667   9.98333333\n",
      "    0.        ]\n",
      " [  0.           0.           0.           0.           0.\n",
      "    0.           0.           0.           9.98333333 -20.06666667\n",
      "    9.98333333]\n",
      " [  0.           0.           0.           0.           0.\n",
      "    0.           0.           0.           0.           9.98333333\n",
      "  -10.03333333]]\n",
      "[0. 0. 0. 0. 0. 0. 0. 0. 0. 0. 0.]\n",
      "\n",
      "After BCs are applied without bdy term: \n",
      "\n",
      "[[  1.           0.           0.           0.           0.\n",
      "    0.           0.           0.           0.           0.\n",
      "    0.        ]\n",
      " [  9.98333333 -20.06666667   9.98333333   0.           0.\n",
      "    0.           0.           0.           0.           0.\n",
      "    0.        ]\n",
      " [  0.           9.98333333 -20.06666667   9.98333333   0.\n",
      "    0.           0.           0.           0.           0.\n",
      "    0.        ]\n",
      " [  0.           0.           9.98333333 -20.06666667   9.98333333\n",
      "    0.           0.           0.           0.           0.\n",
      "    0.        ]\n",
      " [  0.           0.           0.           9.98333333 -20.06666667\n",
      "    9.98333333   0.           0.           0.           0.\n",
      "    0.        ]\n",
      " [  0.           0.           0.           0.           9.98333333\n",
      "  -20.06666667   9.98333333   0.           0.           0.\n",
      "    0.        ]\n",
      " [  0.           0.           0.           0.           0.\n",
      "    9.98333333 -20.06666667   9.98333333   0.           0.\n",
      "    0.        ]\n",
      " [  0.           0.           0.           0.           0.\n",
      "    0.           9.98333333 -20.06666667   9.98333333   0.\n",
      "    0.        ]\n",
      " [  0.           0.           0.           0.           0.\n",
      "    0.           0.           9.98333333 -20.06666667   9.98333333\n",
      "    0.        ]\n",
      " [  0.           0.           0.           0.           0.\n",
      "    0.           0.           0.           9.98333333 -20.06666667\n",
      "    9.98333333]\n",
      " [  0.           0.           0.           0.           0.\n",
      "    0.           0.           0.           0.           0.\n",
      "    1.        ]]\n",
      "[2. 0. 0. 0. 0. 0. 0. 0. 0. 0. 1.]\n"
     ]
    },
    {
     "name": "stderr",
     "output_type": "stream",
     "text": [
      "/home/karlerik/software/anaconda2/envs/vasculatureenv/lib/python2.7/site-packages/dolfin/cpp/la.py:1123: DeprecationWarning: GenericVector.array() is being deprecated, use GenericVector.get_local()\n",
      "  \"use GenericVector.get_local()\", DeprecationWarning)\n",
      "/home/karlerik/software/anaconda2/envs/vasculatureenv/lib/python2.7/site-packages/dolfin/cpp/la.py:1123: DeprecationWarning: GenericVector.array() is being deprecated, use GenericVector.get_local()\n",
      "  \"use GenericVector.get_local()\", DeprecationWarning)\n"
     ]
    }
   ],
   "source": [
    "a =  - (U * V + U.dx(0) * V.dx(0)) * dx\n",
    "\n",
    "A = assemble(a)\n",
    "b = assemble(L)\n",
    "\n",
    "print \"\\nBefore BCs are applied without bdy term: \\n\",\n",
    "print A.array()\n",
    "print b.array()\n",
    "\n",
    "\n",
    "bc_l.apply(A)\n",
    "bc_r.apply(A)\n",
    "bc_l.apply(b)\n",
    "bc_r.apply(b)\n",
    "\n",
    "print \"\\nAfter BCs are applied without bdy term: \\n\"\n",
    "print A.array()\n",
    "print b.array()"
   ]
  },
  {
   "cell_type": "code",
   "execution_count": 16,
   "metadata": {
    "nbpresent": {
     "id": "a795ea4d-8c55-405b-8311-a86d620823d9"
    }
   },
   "outputs": [
    {
     "name": "stdout",
     "output_type": "stream",
     "text": [
      "\n",
      "Before BCs are applied with bdy term: \n",
      "[[-3.33333333e-02 -1.66666667e-02  0.00000000e+00  0.00000000e+00\n",
      "   0.00000000e+00  0.00000000e+00  0.00000000e+00  0.00000000e+00\n",
      "   0.00000000e+00  0.00000000e+00  0.00000000e+00]\n",
      " [ 9.98333333e+00 -2.00666667e+01  9.98333333e+00  0.00000000e+00\n",
      "   0.00000000e+00  0.00000000e+00  0.00000000e+00  0.00000000e+00\n",
      "   0.00000000e+00  0.00000000e+00  0.00000000e+00]\n",
      " [ 0.00000000e+00  9.98333333e+00 -2.00666667e+01  9.98333333e+00\n",
      "   0.00000000e+00  0.00000000e+00  0.00000000e+00  0.00000000e+00\n",
      "   0.00000000e+00  0.00000000e+00  0.00000000e+00]\n",
      " [ 0.00000000e+00  0.00000000e+00  9.98333333e+00 -2.00666667e+01\n",
      "   9.98333333e+00  0.00000000e+00  0.00000000e+00  0.00000000e+00\n",
      "   0.00000000e+00  0.00000000e+00  0.00000000e+00]\n",
      " [ 0.00000000e+00  0.00000000e+00  0.00000000e+00  9.98333333e+00\n",
      "  -2.00666667e+01  9.98333333e+00  0.00000000e+00  0.00000000e+00\n",
      "   0.00000000e+00  0.00000000e+00  0.00000000e+00]\n",
      " [ 0.00000000e+00  0.00000000e+00  0.00000000e+00  0.00000000e+00\n",
      "   9.98333333e+00 -2.00666667e+01  9.98333333e+00  0.00000000e+00\n",
      "   0.00000000e+00  0.00000000e+00  0.00000000e+00]\n",
      " [ 0.00000000e+00  0.00000000e+00  0.00000000e+00  0.00000000e+00\n",
      "   0.00000000e+00  9.98333333e+00 -2.00666667e+01  9.98333333e+00\n",
      "   0.00000000e+00  0.00000000e+00  0.00000000e+00]\n",
      " [ 0.00000000e+00  0.00000000e+00  0.00000000e+00  0.00000000e+00\n",
      "   0.00000000e+00  0.00000000e+00  9.98333333e+00 -2.00666667e+01\n",
      "   9.98333333e+00  0.00000000e+00  0.00000000e+00]\n",
      " [ 0.00000000e+00  0.00000000e+00  0.00000000e+00  0.00000000e+00\n",
      "   0.00000000e+00  0.00000000e+00  0.00000000e+00  9.98333333e+00\n",
      "  -2.00666667e+01  9.98333333e+00  0.00000000e+00]\n",
      " [ 0.00000000e+00  0.00000000e+00  0.00000000e+00  0.00000000e+00\n",
      "   0.00000000e+00  0.00000000e+00  0.00000000e+00  0.00000000e+00\n",
      "   9.98333333e+00 -2.00666667e+01  9.98333333e+00]\n",
      " [ 0.00000000e+00  0.00000000e+00  0.00000000e+00  0.00000000e+00\n",
      "   0.00000000e+00  0.00000000e+00  0.00000000e+00  0.00000000e+00\n",
      "   0.00000000e+00  1.99833333e+01 -2.00333333e+01]]\n",
      "[0. 0. 0. 0. 0. 0. 0. 0. 0. 0. 0.]\n",
      "\n",
      "After BCs are applied with bdy term: \n",
      "\n",
      "[[  1.           0.           0.           0.           0.\n",
      "    0.           0.           0.           0.           0.\n",
      "    0.        ]\n",
      " [  9.98333333 -20.06666667   9.98333333   0.           0.\n",
      "    0.           0.           0.           0.           0.\n",
      "    0.        ]\n",
      " [  0.           9.98333333 -20.06666667   9.98333333   0.\n",
      "    0.           0.           0.           0.           0.\n",
      "    0.        ]\n",
      " [  0.           0.           9.98333333 -20.06666667   9.98333333\n",
      "    0.           0.           0.           0.           0.\n",
      "    0.        ]\n",
      " [  0.           0.           0.           9.98333333 -20.06666667\n",
      "    9.98333333   0.           0.           0.           0.\n",
      "    0.        ]\n",
      " [  0.           0.           0.           0.           9.98333333\n",
      "  -20.06666667   9.98333333   0.           0.           0.\n",
      "    0.        ]\n",
      " [  0.           0.           0.           0.           0.\n",
      "    9.98333333 -20.06666667   9.98333333   0.           0.\n",
      "    0.        ]\n",
      " [  0.           0.           0.           0.           0.\n",
      "    0.           9.98333333 -20.06666667   9.98333333   0.\n",
      "    0.        ]\n",
      " [  0.           0.           0.           0.           0.\n",
      "    0.           0.           9.98333333 -20.06666667   9.98333333\n",
      "    0.        ]\n",
      " [  0.           0.           0.           0.           0.\n",
      "    0.           0.           0.           9.98333333 -20.06666667\n",
      "    9.98333333]\n",
      " [  0.           0.           0.           0.           0.\n",
      "    0.           0.           0.           0.           0.\n",
      "    1.        ]]\n",
      "[2. 0. 0. 0. 0. 0. 0. 0. 0. 0. 1.]\n"
     ]
    },
    {
     "name": "stderr",
     "output_type": "stream",
     "text": [
      "/home/karlerik/software/anaconda2/envs/vasculatureenv/lib/python2.7/site-packages/dolfin/cpp/la.py:1123: DeprecationWarning: GenericVector.array() is being deprecated, use GenericVector.get_local()\n",
      "  \"use GenericVector.get_local()\", DeprecationWarning)\n",
      "/home/karlerik/software/anaconda2/envs/vasculatureenv/lib/python2.7/site-packages/dolfin/cpp/la.py:1123: DeprecationWarning: GenericVector.array() is being deprecated, use GenericVector.get_local()\n",
      "  \"use GenericVector.get_local()\", DeprecationWarning)\n"
     ]
    }
   ],
   "source": [
    "a = - (U * V + U.dx(0) * V.dx(0)) * dx + U.dx(0) * V * ds  # ds means integrate over boundary\n",
    "A = assemble(a)\n",
    "b = assemble(L)\n",
    "\n",
    "print \"\\nBefore BCs are applied with bdy term: \\n\",\n",
    "print A.array()\n",
    "print b.array()\n",
    "\n",
    "bc_l.apply(A)\n",
    "bc_r.apply(A)\n",
    "bc_l.apply(b)\n",
    "bc_r.apply(b)\n",
    "\n",
    "print \"\\nAfter BCs are applied with bdy term: \\n\"\n",
    "print A.array()\n",
    "print b.array()"
   ]
  },
  {
   "cell_type": "markdown",
   "metadata": {
    "nbpresent": {
     "id": "5d39105d-60e3-402e-aa36-3e7731c888ce"
    }
   },
   "source": [
    "Notice that although the boundary term matters, it only matters at the nodes where we have Dirichlet BCs. As a guideline, you can assume that the test function $v$ will be 0 where you have Dirichlet BCs."
   ]
  }
 ],
 "metadata": {
  "anaconda-cloud": {},
  "kernelspec": {
   "display_name": "Python (fenics17)",
   "language": "python",
   "name": "fenics17"
  },
  "language_info": {
   "codemirror_mode": {
    "name": "ipython",
    "version": 3
   },
   "file_extension": ".py",
   "mimetype": "text/x-python",
   "name": "python",
   "nbconvert_exporter": "python",
   "pygments_lexer": "ipython3",
   "version": "3.6.5"
  },
  "nbpresent": {
   "slides": {
    "015be1d4-345c-491f-bb2b-4c34965c338b": {
     "id": "015be1d4-345c-491f-bb2b-4c34965c338b",
     "prev": "0612798d-d429-44d7-bf81-9ebaed4ef0aa",
     "regions": {
      "a132e000-c1d9-4993-aea1-e5154c3e44e0": {
       "attrs": {
        "height": 0.8,
        "width": 0.8,
        "x": 0.1,
        "y": 0.1
       },
       "content": {
        "cell": "6909eccb-1e85-48ac-9e6f-ca3d34d72fdd",
        "part": "whole"
       },
       "id": "a132e000-c1d9-4993-aea1-e5154c3e44e0"
      }
     }
    },
    "0612798d-d429-44d7-bf81-9ebaed4ef0aa": {
     "id": "0612798d-d429-44d7-bf81-9ebaed4ef0aa",
     "prev": "c0d58ee9-96b9-4be9-aae4-d21100006d0c",
     "regions": {
      "4c57efe8-c451-41ec-b465-26a0b4d1f4a0": {
       "attrs": {
        "height": 0.8,
        "width": 0.8,
        "x": 0.1,
        "y": 0.1
       },
       "content": {
        "cell": "525e1959-16e7-43a7-b7dd-fbb31a4f9b88",
        "part": "whole"
       },
       "id": "4c57efe8-c451-41ec-b465-26a0b4d1f4a0"
      }
     }
    },
    "0dd1cfed-a258-4d95-a2d0-263a209b37da": {
     "id": "0dd1cfed-a258-4d95-a2d0-263a209b37da",
     "prev": "aeac32bf-a3bf-4d71-a94d-cffe32ef0426",
     "regions": {
      "67a39f7a-9ef9-4af7-8221-7b0d7311403f": {
       "attrs": {
        "height": 0.8,
        "width": 0.8,
        "x": 0.1,
        "y": 0.1
       },
       "content": {
        "cell": "c47aea98-5293-4162-a78b-ba93b9703193",
        "part": "whole"
       },
       "id": "67a39f7a-9ef9-4af7-8221-7b0d7311403f"
      }
     }
    },
    "2d71862c-f9dd-4c4a-bd0b-e4e275f5434a": {
     "id": "2d71862c-f9dd-4c4a-bd0b-e4e275f5434a",
     "prev": "51b14400-72d3-482c-a8f6-0f6023c77c9e",
     "regions": {
      "62785e64-b898-4461-9e29-e745b993f067": {
       "attrs": {
        "height": 0.8,
        "width": 0.8,
        "x": 0.1,
        "y": 0.1
       },
       "content": {
        "cell": "507d3841-526f-4f19-a278-cba6a229776c",
        "part": "whole"
       },
       "id": "62785e64-b898-4461-9e29-e745b993f067"
      }
     }
    },
    "3bbfe7ce-8c2b-441e-9a60-ebeeb5694abc": {
     "id": "3bbfe7ce-8c2b-441e-9a60-ebeeb5694abc",
     "prev": "3c1b7ef7-a0f0-41f0-9dc4-22f4aaccac0d",
     "regions": {
      "5540aa5a-15bc-4da3-b523-b38574bae8f7": {
       "attrs": {
        "height": 0.8,
        "width": 0.8,
        "x": 0.1,
        "y": 0.1
       },
       "content": {
        "cell": "a7ae36ff-93c9-458d-8e59-1eec315555a9",
        "part": "whole"
       },
       "id": "5540aa5a-15bc-4da3-b523-b38574bae8f7"
      }
     }
    },
    "3c1b7ef7-a0f0-41f0-9dc4-22f4aaccac0d": {
     "id": "3c1b7ef7-a0f0-41f0-9dc4-22f4aaccac0d",
     "prev": "51368fc3-9441-4f2a-94d2-e037f1724dd9",
     "regions": {
      "f35572c9-0992-4946-9bde-df5e22c042af": {
       "attrs": {
        "height": 0.8,
        "width": 0.8,
        "x": 0.1,
        "y": 0.1
       },
       "content": {
        "cell": "4b2c5c7c-5177-47bc-bd42-cffb1f5e1ce9",
        "part": "whole"
       },
       "id": "f35572c9-0992-4946-9bde-df5e22c042af"
      }
     }
    },
    "4d987153-be5c-4cfe-b405-408935e30152": {
     "id": "4d987153-be5c-4cfe-b405-408935e30152",
     "prev": "8468d0fc-a54f-4aff-90b8-d7610cada1dc",
     "regions": {
      "2a2d149e-4e1e-4d40-99ac-b63f27dcdbbc": {
       "attrs": {
        "height": 0.8,
        "width": 0.8,
        "x": 0.1,
        "y": 0.1
       },
       "content": {
        "cell": "76b65351-272c-4695-83fd-20239382d52e",
        "part": "whole"
       },
       "id": "2a2d149e-4e1e-4d40-99ac-b63f27dcdbbc"
      }
     }
    },
    "51368fc3-9441-4f2a-94d2-e037f1724dd9": {
     "id": "51368fc3-9441-4f2a-94d2-e037f1724dd9",
     "prev": "f6047bc7-7136-433d-8ee4-dff9fcec1a59",
     "regions": {
      "ace0022d-51c1-4135-ae26-2676abe3fde2": {
       "attrs": {
        "height": 0.8,
        "width": 0.8,
        "x": 0.1,
        "y": 0.1
       },
       "content": {
        "cell": "03d50ffa-76f3-47e8-bd94-769c5935995e",
        "part": "whole"
       },
       "id": "ace0022d-51c1-4135-ae26-2676abe3fde2"
      }
     }
    },
    "51b14400-72d3-482c-a8f6-0f6023c77c9e": {
     "id": "51b14400-72d3-482c-a8f6-0f6023c77c9e",
     "prev": "631b1446-6db4-4503-b82a-8ddc8b9e984e",
     "regions": {
      "6907e74b-3542-424a-97fd-74da715edf57": {
       "attrs": {
        "height": 0.8,
        "width": 0.8,
        "x": 0.1,
        "y": 0.1
       },
       "content": {
        "cell": "7e945a63-4d82-433e-922f-d80c765365c8",
        "part": "whole"
       },
       "id": "6907e74b-3542-424a-97fd-74da715edf57"
      }
     }
    },
    "5780af65-6bff-417e-bb66-cfbf181b1343": {
     "id": "5780af65-6bff-417e-bb66-cfbf181b1343",
     "prev": "0dd1cfed-a258-4d95-a2d0-263a209b37da",
     "regions": {
      "8b1213ae-e7ed-4495-b751-9ffd7bfc1542": {
       "attrs": {
        "height": 0.8,
        "width": 0.8,
        "x": 0.1,
        "y": 0.1
       },
       "content": {
        "cell": "d8c9d411-e1ca-4a61-8e1c-5963a313a676",
        "part": "whole"
       },
       "id": "8b1213ae-e7ed-4495-b751-9ffd7bfc1542"
      }
     }
    },
    "5ac86542-75b5-499e-9541-14cf688e2d71": {
     "id": "5ac86542-75b5-499e-9541-14cf688e2d71",
     "prev": "a0887fda-03ad-4342-8ebc-f6ab2fe8a3db",
     "regions": {
      "bb047dfb-fed6-4d9e-b107-bf89940394a9": {
       "attrs": {
        "height": 0.8,
        "width": 0.8,
        "x": 0.1,
        "y": 0.1
       },
       "content": {
        "cell": "aaa29fc4-0dbd-427a-b4c2-afd12d45bf4f",
        "part": "whole"
       },
       "id": "bb047dfb-fed6-4d9e-b107-bf89940394a9"
      }
     }
    },
    "631b1446-6db4-4503-b82a-8ddc8b9e984e": {
     "id": "631b1446-6db4-4503-b82a-8ddc8b9e984e",
     "prev": "7fd80a9d-3b34-4864-884d-17718f11392b",
     "regions": {
      "73e6921a-f141-4015-81da-7063438fb9a8": {
       "attrs": {
        "height": 0.8,
        "width": 0.8,
        "x": 0.1,
        "y": 0.1
       },
       "content": {
        "cell": "14efd9ae-0d67-40a3-96a2-19f7d3faa2ca",
        "part": "whole"
       },
       "id": "73e6921a-f141-4015-81da-7063438fb9a8"
      }
     }
    },
    "692379ba-7df3-4b64-8c9c-7c041542cdb1": {
     "id": "692379ba-7df3-4b64-8c9c-7c041542cdb1",
     "prev": "965de8de-3ed5-4123-aba0-c460d3dc80fc",
     "regions": {
      "1c01cfa7-3624-4e32-b2d4-14454f6b385c": {
       "attrs": {
        "height": 0.8,
        "width": 0.8,
        "x": 0.1,
        "y": 0.1
       },
       "content": {
        "cell": "0b23da00-852c-4e47-a728-bd38f4f6d621",
        "part": "whole"
       },
       "id": "1c01cfa7-3624-4e32-b2d4-14454f6b385c"
      }
     }
    },
    "69452f62-d84c-4bff-8b7c-20ef9af4bd4e": {
     "id": "69452f62-d84c-4bff-8b7c-20ef9af4bd4e",
     "prev": "69c6f80c-efe3-4ddd-9f46-5c50b86f2919",
     "regions": {
      "26b2cd72-e811-4446-a79c-0a6890232ef1": {
       "attrs": {
        "height": 0.8,
        "width": 0.8,
        "x": 0.1,
        "y": 0.1
       },
       "content": {
        "cell": "5d39105d-60e3-402e-aa36-3e7731c888ce",
        "part": "whole"
       },
       "id": "26b2cd72-e811-4446-a79c-0a6890232ef1"
      }
     }
    },
    "69c6f80c-efe3-4ddd-9f46-5c50b86f2919": {
     "id": "69c6f80c-efe3-4ddd-9f46-5c50b86f2919",
     "prev": "cad8f27e-6d2e-4914-80c4-1a026ebdabc9",
     "regions": {
      "87027f3b-915a-4420-b1e9-d7d52ece1c55": {
       "attrs": {
        "height": 0.8,
        "width": 0.8,
        "x": 0.1,
        "y": 0.1
       },
       "content": {
        "cell": "a795ea4d-8c55-405b-8311-a86d620823d9",
        "part": "whole"
       },
       "id": "87027f3b-915a-4420-b1e9-d7d52ece1c55"
      }
     }
    },
    "7fd80a9d-3b34-4864-884d-17718f11392b": {
     "id": "7fd80a9d-3b34-4864-884d-17718f11392b",
     "prev": "b1acce1d-10bf-4b70-b0f8-601689f3702e",
     "regions": {
      "b279d35d-d662-48e3-b47d-1f0658570cec": {
       "attrs": {
        "height": 0.8,
        "width": 0.8,
        "x": 0.1,
        "y": 0.1
       },
       "content": {
        "cell": "115ede87-de1d-4c92-ab2d-41c31105be7a",
        "part": "whole"
       },
       "id": "b279d35d-d662-48e3-b47d-1f0658570cec"
      }
     }
    },
    "8468d0fc-a54f-4aff-90b8-d7610cada1dc": {
     "id": "8468d0fc-a54f-4aff-90b8-d7610cada1dc",
     "prev": "8e8c0fe7-fd01-4852-b190-3cf0be3344bd",
     "regions": {
      "e73df986-0355-4907-9dbb-cb47d63e78e9": {
       "attrs": {
        "height": 0.8,
        "width": 0.8,
        "x": 0.1,
        "y": 0.1
       },
       "content": {
        "cell": "e530e809-00cd-44f0-822c-46ce2b39326e",
        "part": "whole"
       },
       "id": "e73df986-0355-4907-9dbb-cb47d63e78e9"
      }
     }
    },
    "8e8c0fe7-fd01-4852-b190-3cf0be3344bd": {
     "id": "8e8c0fe7-fd01-4852-b190-3cf0be3344bd",
     "prev": "c5d436fa-ef6d-437d-895c-07b2445c3d11",
     "regions": {
      "d81cac13-e5ae-43d8-84be-a8db37685384": {
       "attrs": {
        "height": 0.8,
        "width": 0.8,
        "x": 0.1,
        "y": 0.1
       },
       "content": {
        "cell": "00ecb36c-6239-42a6-bd2e-7bc542688969",
        "part": "whole"
       },
       "id": "d81cac13-e5ae-43d8-84be-a8db37685384"
      }
     }
    },
    "91070645-e6f2-4d3c-a280-e110542bc238": {
     "id": "91070645-e6f2-4d3c-a280-e110542bc238",
     "prev": "015be1d4-345c-491f-bb2b-4c34965c338b",
     "regions": {
      "303292d9-559c-4860-a2da-08faf7c00063": {
       "attrs": {
        "height": 0.8,
        "width": 0.8,
        "x": 0.1,
        "y": 0.1
       },
       "content": {
        "cell": "4b2c5c7c-5177-47bc-bd42-cffb1f5e1ce9",
        "part": "whole"
       },
       "id": "303292d9-559c-4860-a2da-08faf7c00063"
      }
     }
    },
    "965de8de-3ed5-4123-aba0-c460d3dc80fc": {
     "id": "965de8de-3ed5-4123-aba0-c460d3dc80fc",
     "prev": "d000e53f-3ee7-4ffe-8d6a-104448801d0b",
     "regions": {
      "8084712f-639a-4704-a749-0ddf9b9ddd1d": {
       "attrs": {
        "height": 0.8,
        "width": 0.8,
        "x": 0.1,
        "y": 0.1
       },
       "content": {
        "cell": "a9a4a85d-7ec8-4293-a9c5-a9696d9d5493",
        "part": "whole"
       },
       "id": "8084712f-639a-4704-a749-0ddf9b9ddd1d"
      }
     }
    },
    "a0887fda-03ad-4342-8ebc-f6ab2fe8a3db": {
     "id": "a0887fda-03ad-4342-8ebc-f6ab2fe8a3db",
     "prev": "e7dd2602-b08f-4d1e-8caa-f44fa7abcbf3",
     "regions": {
      "e029c729-0166-4af5-a264-e4a4e1b48d48": {
       "attrs": {
        "height": 0.8,
        "width": 0.8,
        "x": 0.1,
        "y": 0.1
       },
       "content": {
        "cell": "ade51df7-3950-44f9-968e-f3a86a2790fe",
        "part": "whole"
       },
       "id": "e029c729-0166-4af5-a264-e4a4e1b48d48"
      }
     }
    },
    "a7848d2f-f443-489b-acbf-a884c4ea7c27": {
     "id": "a7848d2f-f443-489b-acbf-a884c4ea7c27",
     "prev": "b1881cf0-1903-480c-b237-c71791dee55e",
     "regions": {
      "62c1de7c-ff07-485f-997e-c97dbfdae289": {
       "attrs": {
        "height": 0.8,
        "width": 0.8,
        "x": 0.1,
        "y": 0.1
       },
       "content": {
        "cell": "c93cae89-b52a-40fc-a07c-bc0ca38f52f3",
        "part": "whole"
       },
       "id": "62c1de7c-ff07-485f-997e-c97dbfdae289"
      }
     }
    },
    "aeac32bf-a3bf-4d71-a94d-cffe32ef0426": {
     "id": "aeac32bf-a3bf-4d71-a94d-cffe32ef0426",
     "prev": "2d71862c-f9dd-4c4a-bd0b-e4e275f5434a",
     "regions": {
      "1c657827-2c20-4303-b20d-12d9c2638403": {
       "attrs": {
        "height": 0.8,
        "width": 0.8,
        "x": 0.1,
        "y": 0.1
       },
       "content": {
        "cell": "db3cf079-b7b8-4aa2-b047-b0d32bd213a5",
        "part": "whole"
       },
       "id": "1c657827-2c20-4303-b20d-12d9c2638403"
      }
     }
    },
    "b1881cf0-1903-480c-b237-c71791dee55e": {
     "id": "b1881cf0-1903-480c-b237-c71791dee55e",
     "prev": "5780af65-6bff-417e-bb66-cfbf181b1343",
     "regions": {
      "66fc094c-1c1c-4543-a593-1dad92af260f": {
       "attrs": {
        "height": 0.8,
        "width": 0.8,
        "x": 0.1,
        "y": 0.1
       },
       "content": {
        "cell": "7c08bc40-6360-4e2a-8c86-9a90e0858f5d",
        "part": "whole"
       },
       "id": "66fc094c-1c1c-4543-a593-1dad92af260f"
      }
     }
    },
    "b1acce1d-10bf-4b70-b0f8-601689f3702e": {
     "id": "b1acce1d-10bf-4b70-b0f8-601689f3702e",
     "prev": "b53f710e-e009-43cb-8e00-6de44c3a2de6",
     "regions": {
      "27855246-a108-4fed-8308-840002851a1f": {
       "attrs": {
        "height": 0.8,
        "width": 0.8,
        "x": 0.1,
        "y": 0.1
       },
       "content": {
        "cell": "115ede87-de1d-4c92-ab2d-41c31105be7a",
        "part": "whole"
       },
       "id": "27855246-a108-4fed-8308-840002851a1f"
      }
     }
    },
    "b27c6917-92f9-40df-b0ac-1939b68801a2": {
     "id": "b27c6917-92f9-40df-b0ac-1939b68801a2",
     "prev": "3bbfe7ce-8c2b-441e-9a60-ebeeb5694abc",
     "regions": {
      "b7637872-5055-4827-aad4-a55aac12f678": {
       "attrs": {
        "height": 0.8,
        "width": 0.8,
        "x": 0.1,
        "y": 0.1
       },
       "content": {
        "cell": "eac7738a-a3ab-469f-8197-f967b40d5565",
        "part": "whole"
       },
       "id": "b7637872-5055-4827-aad4-a55aac12f678"
      }
     }
    },
    "b53f710e-e009-43cb-8e00-6de44c3a2de6": {
     "id": "b53f710e-e009-43cb-8e00-6de44c3a2de6",
     "prev": "91070645-e6f2-4d3c-a280-e110542bc238",
     "regions": {
      "7bed9c55-5a85-459d-86c7-a563f3cc4166": {
       "attrs": {
        "height": 0.8,
        "width": 0.8,
        "x": 0.1,
        "y": 0.1
       },
       "content": {
        "cell": "18473218-880b-491c-990b-0172b148936e",
        "part": "whole"
       },
       "id": "7bed9c55-5a85-459d-86c7-a563f3cc4166"
      }
     }
    },
    "b6f1f441-7aaa-4bec-bdb6-baea98df40b6": {
     "id": "b6f1f441-7aaa-4bec-bdb6-baea98df40b6",
     "prev": "c6314b51-271b-44e5-b4c2-879e0ee519e8",
     "regions": {
      "07d7d5e7-6bfa-4ce0-bdab-c10b62d43ad9": {
       "attrs": {
        "height": 0.8,
        "width": 0.8,
        "x": 0.1,
        "y": 0.1
       },
       "content": {
        "cell": "f6302901-2199-4c4e-95a3-a5dc07f9012b",
        "part": "whole"
       },
       "id": "07d7d5e7-6bfa-4ce0-bdab-c10b62d43ad9"
      }
     }
    },
    "c0d58ee9-96b9-4be9-aae4-d21100006d0c": {
     "id": "c0d58ee9-96b9-4be9-aae4-d21100006d0c",
     "prev": "5ac86542-75b5-499e-9541-14cf688e2d71",
     "regions": {
      "b68d31f8-cf2d-469c-9085-5dee65660c48": {
       "attrs": {
        "height": 0.8,
        "width": 0.8,
        "x": 0.1,
        "y": 0.1
       },
       "content": {
        "cell": "a92927b5-1763-47fa-8a17-f583c0ed81a2",
        "part": "whole"
       },
       "id": "b68d31f8-cf2d-469c-9085-5dee65660c48"
      }
     }
    },
    "c5d436fa-ef6d-437d-895c-07b2445c3d11": {
     "id": "c5d436fa-ef6d-437d-895c-07b2445c3d11",
     "prev": "d84ce6ed-7030-43dd-b95d-6a6b9d132984",
     "regions": {
      "a0718fe7-ea60-4150-88ad-2edf9e88e9ad": {
       "attrs": {
        "height": 0.8,
        "width": 0.8,
        "x": 0.1,
        "y": 0.1
       },
       "content": {
        "cell": "23630225-b858-48df-a0db-82e22c525965",
        "part": "whole"
       },
       "id": "a0718fe7-ea60-4150-88ad-2edf9e88e9ad"
      }
     }
    },
    "c6314b51-271b-44e5-b4c2-879e0ee519e8": {
     "id": "c6314b51-271b-44e5-b4c2-879e0ee519e8",
     "prev": "692379ba-7df3-4b64-8c9c-7c041542cdb1",
     "regions": {
      "e1fe1b25-ef8a-4c64-b3c9-982cd1524371": {
       "attrs": {
        "height": 0.8,
        "width": 0.8,
        "x": 0.1,
        "y": 0.1
       },
       "content": {
        "cell": "5e623875-16fe-44bd-af26-ff224b2abeb2",
        "part": "whole"
       },
       "id": "e1fe1b25-ef8a-4c64-b3c9-982cd1524371"
      }
     }
    },
    "cad8f27e-6d2e-4914-80c4-1a026ebdabc9": {
     "id": "cad8f27e-6d2e-4914-80c4-1a026ebdabc9",
     "prev": "a7848d2f-f443-489b-acbf-a884c4ea7c27",
     "regions": {
      "2b17ff41-b95f-4853-b516-c29f84556ad9": {
       "attrs": {
        "height": 0.8,
        "width": 0.8,
        "x": 0.1,
        "y": 0.1
       },
       "content": {
        "cell": "dd89c98f-1a20-4c75-95ff-19ce13a595ce",
        "part": "whole"
       },
       "id": "2b17ff41-b95f-4853-b516-c29f84556ad9"
      }
     }
    },
    "cbc58176-359f-426c-b145-7a4a4086d23f": {
     "id": "cbc58176-359f-426c-b145-7a4a4086d23f",
     "prev": "b27c6917-92f9-40df-b0ac-1939b68801a2",
     "regions": {
      "1d31b22a-f6f4-45bf-ad1a-156d4dbcc4a3": {
       "attrs": {
        "height": 0.8,
        "width": 0.8,
        "x": 0.1,
        "y": 0.1
       },
       "content": {
        "cell": "08a002cf-05da-4000-a448-a4a083765734",
        "part": "whole"
       },
       "id": "1d31b22a-f6f4-45bf-ad1a-156d4dbcc4a3"
      }
     }
    },
    "d000e53f-3ee7-4ffe-8d6a-104448801d0b": {
     "id": "d000e53f-3ee7-4ffe-8d6a-104448801d0b",
     "prev": "cbc58176-359f-426c-b145-7a4a4086d23f",
     "regions": {
      "94ef3eaa-629b-463c-b54a-ecdafcd3e957": {
       "attrs": {
        "height": 0.8,
        "width": 0.8,
        "x": 0.1,
        "y": 0.1
       },
       "content": {
        "cell": "cbcedc83-b4d2-4bcf-ab13-9dcecba3e9cd",
        "part": "whole"
       },
       "id": "94ef3eaa-629b-463c-b54a-ecdafcd3e957"
      }
     }
    },
    "d84ce6ed-7030-43dd-b95d-6a6b9d132984": {
     "id": "d84ce6ed-7030-43dd-b95d-6a6b9d132984",
     "prev": "b6f1f441-7aaa-4bec-bdb6-baea98df40b6",
     "regions": {
      "714a3a95-b157-49d9-b0c9-79dcb755d999": {
       "attrs": {
        "height": 0.8,
        "width": 0.8,
        "x": 0.1,
        "y": 0.1
       },
       "content": {
        "cell": "b06dbc96-7fab-468e-b0a8-3864d7180021",
        "part": "whole"
       },
       "id": "714a3a95-b157-49d9-b0c9-79dcb755d999"
      }
     }
    },
    "e7dd2602-b08f-4d1e-8caa-f44fa7abcbf3": {
     "id": "e7dd2602-b08f-4d1e-8caa-f44fa7abcbf3",
     "prev": "4d987153-be5c-4cfe-b405-408935e30152",
     "regions": {
      "fff9d134-325a-4848-9a9d-ff9fd05d0ae2": {
       "attrs": {
        "height": 0.8,
        "width": 0.8,
        "x": 0.1,
        "y": 0.1
       },
       "content": {
        "cell": "32bb5f6f-0b0a-4c04-8dd9-95b3b7c72b49",
        "part": "whole"
       },
       "id": "fff9d134-325a-4848-9a9d-ff9fd05d0ae2"
      }
     }
    },
    "f6047bc7-7136-433d-8ee4-dff9fcec1a59": {
     "id": "f6047bc7-7136-433d-8ee4-dff9fcec1a59",
     "prev": "fd8481e7-421f-44cd-b4a9-41ef85938ff6",
     "regions": {
      "5e80dc2e-915a-4d37-b1ae-7a331cb88661": {
       "attrs": {
        "height": 0.8,
        "width": 0.8,
        "x": 0.1,
        "y": 0.1
       },
       "content": {
        "cell": "d430ea9f-8d6f-4e20-8ad6-99cf179a6cf4",
        "part": "whole"
       },
       "id": "5e80dc2e-915a-4d37-b1ae-7a331cb88661"
      }
     }
    },
    "fd8481e7-421f-44cd-b4a9-41ef85938ff6": {
     "id": "fd8481e7-421f-44cd-b4a9-41ef85938ff6",
     "prev": null,
     "regions": {
      "d7e71fc4-416d-4892-8181-87c2158dae36": {
       "attrs": {
        "height": 0.8,
        "width": 0.8,
        "x": 0.1,
        "y": 0.1
       },
       "content": {
        "cell": "69bf8e21-dff0-406d-8008-694b715c897f",
        "part": "whole"
       },
       "id": "d7e71fc4-416d-4892-8181-87c2158dae36"
      }
     }
    }
   },
   "themes": {}
  }
 },
 "nbformat": 4,
 "nbformat_minor": 2
}
