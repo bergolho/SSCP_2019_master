{
 "cells": [
  {
   "cell_type": "markdown",
   "metadata": {},
   "source": [
    "# Mechanics Applications in FEniCS\n",
    "\n",
    "This lecture is based on the [FEniCS tutorials](https://fenicsproject.org/pub/tutorial/html/._ftut1001.html#table_of_contents)."
   ]
  },
  {
   "cell_type": "code",
   "execution_count": null,
   "metadata": {},
   "outputs": [],
   "source": [
    "%matplotlib inline\n",
    "\n",
    "from fenics import *\n",
    "import matplotlib.pyplot as plt"
   ]
  },
  {
   "cell_type": "markdown",
   "metadata": {},
   "source": [
    "| <img src=\"figures/heart.jpg\" width=250> |\n",
    "|:--:|\n",
    "| *The heart is perfused by thousands of small blood vessels. Photo of a resin cast by Arno Massee* |\n",
    "\n",
    "Oxygen and other nutrients are vital supplies for tissue function in general and are delivered via the cardiovascular system. The arteries supplying tissue branch into thousands of small arteries, arterioles and capillaries that are impossible to capture using modern imaging techniques. However, averaging over entire blocks of tissue allows us to approximate perfusion as a spongy material and to thus exploit porous continuum models.\n",
    "\n",
    "## Tissue perfusion: Darcy's law\n",
    "\n",
    "The previous lecture introduced porous flow in the form of Darcy's law:\n",
    "\n",
    "$$\\nabla \\cdot \\left( -\\boldsymbol{K} \\; \\nabla p(\\boldsymbol{x}) \\right) = f(\\boldsymbol{x}) \\qquad \\text{on } \\Omega$$\n",
    "\n",
    "augmented by some Dirichlet boundary conditions\n",
    "\n",
    "$$p(\\boldsymbol{x}) = p_D(\\boldsymbol{x}) \\qquad \\text{on } \\partial \\Omega$$\n",
    "\n",
    "In this equation we solve for the unknown pressure $p$ only. Velocity is calculated by postprocessing the result:\n",
    "\n",
    "$$u = -\\boldsymbol{K} \\; \\nabla p(\\boldsymbol{x}) \\qquad \\text{on } \\Omega$$\n",
    "\n",
    "Note that $u$ is the velocity of fluid _within a pore_. To obtain velocity on the tissue scale (*Darcy flux*), $u$ has to be scaled by the tissue's porosity\n",
    "\n",
    "$$\\bar{u} = \\phi u$$\n",
    "\n",
    "Darcy's law itself is a stationary problem (no time dependence). However, in mechanics applications, and for biological systems in particular, we are most often interested in solving time-dependent problems. Darcy's law becomes time-dependent when either $p_D$ or $f(x)$ (or both!) are functions of time. In this case, each timestep is solved as a stationary sub-problem, while $p_D$ and/or $f(x)$ are updated at the beginning of each timestep. We can thus easily expand our code for solving Darcy's law."
   ]
  },
  {
   "cell_type": "markdown",
   "metadata": {},
   "source": [
    "### FEniCS implementation"
   ]
  },
  {
   "cell_type": "code",
   "execution_count": null,
   "metadata": {},
   "outputs": [],
   "source": [
    "from fenics import *\n",
    "import numpy as np"
   ]
  },
  {
   "cell_type": "markdown",
   "metadata": {},
   "source": [
    "We first set up the problem parameters and variational forms"
   ]
  },
  {
   "cell_type": "code",
   "execution_count": null,
   "metadata": {},
   "outputs": [],
   "source": [
    "# Create mesh and define function space\n",
    "n = 32\n",
    "mesh = UnitSquareMesh(n, n)\n",
    "W = FunctionSpace(mesh, 'P', 1) # pressure space\n",
    "V = VectorFunctionSpace(mesh, 'P', 2)\n",
    "\n",
    "# Define permeability and porosity\n",
    "kmin = 0.01\n",
    "K = Expression('max(exp(-pow((x[1]-0.5-0.1*sin(10*x[0]))/0.1, 2)), 0.01)', degree=1)\n",
    "phi = Constant(0.2)\n",
    "\n",
    "# Define boundary condition\n",
    "pD = Expression('(1-x[0])*t', t=0.0, degree=1)\n",
    "\n",
    "def boundary(x, on_boundary):\n",
    "    return on_boundary\n",
    "\n",
    "bc = DirichletBC(W, pD, boundary)\n",
    "\n",
    "# Define variational problem\n",
    "p = TestFunction(W)\n",
    "q = TrialFunction(W)\n",
    "f = Constant(0.0)\n",
    "n = FacetNormal(mesh)\n",
    "a = K * inner(grad(p), grad(q))*dx\n",
    "L = f*q*dx"
   ]
  },
  {
   "cell_type": "markdown",
   "metadata": {},
   "source": [
    "We will use the XDMF file format to store results. An example of how an XDMF file can store a function is shown below:"
   ]
  },
  {
   "cell_type": "code",
   "execution_count": null,
   "metadata": {},
   "outputs": [],
   "source": [
    "p = Function(W)\n",
    "t = 0.0\n",
    "file = XDMFFile(\"perfusion/test.xdmf\")\n",
    "# do some stuff\n",
    "file.write_checkpoint(p, 'pressure', t, append=False)\n",
    "# do some more stuff\n",
    "file.close()"
   ]
  },
  {
   "cell_type": "markdown",
   "metadata": {},
   "source": [
    "The function write_checkpoint() takes 3 arguments, plus one optional argument. The arguments are the FEniCS Function to be stored, a label for the function, and time. The optional argument can be used to set the file write mode to \"append\" (default append=False). Files are closed at the very end of the code.\n",
    "\n",
    "#### Exercise: Complete the code\n",
    "\n",
    "Complete the code below such that the variational form above is solved until $t = 1.0$ using the given time step size. Store $p$ and $u$ in the corresponding XDMF file during each time step. XDMF files can be postprocessed / viewed in [Paraview](https://www.paraview.org/)."
   ]
  },
  {
   "cell_type": "code",
   "execution_count": null,
   "metadata": {},
   "outputs": [],
   "source": [
    "p_file = XDMFFile(\"perfusion/p.xdmf\")\n",
    "u_file = XDMFFile(\"perfusion/u.xdmf\")\n",
    "\n",
    "# Compute solution\n",
    "dt = 0.1\n",
    "t = 0.0\n",
    "append = False\n",
    "p = Function(W)\n",
    "u = Function(V)\n",
    "\n",
    "# Insert code here\n",
    "    \n",
    "p_file.close()\n",
    "u_file.close()"
   ]
  },
  {
   "cell_type": "markdown",
   "metadata": {},
   "source": [
    "### Verification and error analysis\n",
    "\n",
    "The finite element method computes numerical approximations of the exact solution. The finer the mesh we use, the more accurate the approximation, but the more computationally expensive the problem. We are thus interested in knowing which mesh resolution leaves us with sufficient confidence in our computed results, which we achieve by *quantifying the error* of our approximation.\n",
    "\n",
    "#### Method of manufactured solutions\n",
    "\n",
    "When we know the exact solution to our problem (like in the Darcy's law example from the previous lecture) we can simply use this exact solution as our reference quantity. Using this method of manufactured solutions we can verify our implementation of our variational form. Assume that the exact solution should be\n",
    "\n",
    "$$p_e(\\boldsymbol{x}) = 1 - x^2$$\n",
    "\n",
    "In FEniCS we can represent this exact solution as"
   ]
  },
  {
   "cell_type": "code",
   "execution_count": null,
   "metadata": {},
   "outputs": [],
   "source": [
    "mesh = UnitSquareMesh(16,16)\n",
    "P = FunctionSpace(mesh, 'P', 2)\n",
    "p_e = project(Expression(\"1-x[0]*x[0]\", degree=2), P)\n",
    "fig = plot(p_e)\n",
    "plt.colorbar(fig)"
   ]
  },
  {
   "cell_type": "markdown",
   "metadata": {},
   "source": [
    "Inserting the expression for $p_e$ into Darcy's law while choosing $\\boldsymbol{K} = 1$ gives\n",
    "\n",
    "$$f(\\boldsymbol{x}) = 2$$\n",
    "\n",
    "Thus, to test our implementation of Darcy's law against our manufactured solution $p_e$ we need to solve\n",
    "\n",
    "$$\\nabla \\cdot \\left( -\\boldsymbol{K} \\; \\nabla p(\\boldsymbol{x}) \\right) = f(\\boldsymbol{x}) \\qquad \\text{on } \\Omega$$\n",
    "\n",
    "with $\\boldsymbol{K} = 1$, $f(\\boldsymbol{x}) = 2$, augmented by Dirichlet boundary conditions\n",
    "\n",
    "$$p(\\boldsymbol{x}) = 1 \\qquad \\text{on } \\partial \\Omega_{x=0}$$\n",
    "$$p(\\boldsymbol{x}) = 0 \\qquad \\text{on } \\partial \\Omega_{x=1}$$\n",
    "\n",
    "#### FEniCS implementation"
   ]
  },
  {
   "cell_type": "code",
   "execution_count": null,
   "metadata": {},
   "outputs": [],
   "source": [
    "# Create mesh and define function space\n",
    "n = 4\n",
    "mesh = UnitSquareMesh(n, n)\n",
    "P = FunctionSpace(mesh, 'P', 1) # pressure space\n",
    "\n",
    "# Define permeability and porosity\n",
    "K = Constant(1)\n",
    "f = Constant(2)\n",
    "\n",
    "# Define boundary condition\n",
    "def left(x, on_boundary):\n",
    "    return on_boundary and near(x[0], 0.0)\n",
    "\n",
    "def right(x, on_boundary):\n",
    "    return on_boundary and near(x[0], 1.0)\n",
    "\n",
    "bcl = DirichletBC(P, Constant(1), left)\n",
    "bcr = DirichletBC(P, Constant(0), right)\n",
    "bcs = [bcl, bcr]\n",
    "\n",
    "# Define variational problem\n",
    "p = TestFunction(P)\n",
    "q = TrialFunction(P)\n",
    "a = K * inner(grad(p), grad(q))*dx\n",
    "L = f*q*dx\n",
    "\n",
    "# Solve\n",
    "p = Function(P)\n",
    "solve(a == L, p, bcs=bcs)\n",
    "\n",
    "# Plot solution\n",
    "fig = plot(p)\n",
    "plt.colorbar(fig)"
   ]
  },
  {
   "cell_type": "markdown",
   "metadata": {},
   "source": [
    "#### Error analysis\n",
    "\n",
    "The exact solution above and numerical solution look pretty similar! However, given that we approximated a *quadratic solution* using *linear finite elements*, we expect the error of our numerical solution to be non-zero. If we had used quadratic elements for this calculation, we would always arrive at our exact solution (*You should take the time to test this with your code later*). So how similar is our numerical solution to the exact solution? To quantify the error, we often compute the so-called *$L^2$-norm* of the error\n",
    "\n",
    "$$E = \\sqrt{ \\int_{\\Omega} (u_e - u)^2 dx}$$\n",
    "\n",
    "where $u_e$ is the exact solution and $u$ is our numerical solution. In FEniCS we can compute the $L^2$-norm (and other norms) using"
   ]
  },
  {
   "cell_type": "code",
   "execution_count": null,
   "metadata": {},
   "outputs": [],
   "source": [
    "error_L2 = errornorm(p_e, p, 'L2')\n",
    "print(error_L2)"
   ]
  },
  {
   "cell_type": "markdown",
   "metadata": {},
   "source": [
    "#### Exercise: Turn your code for Darcy's law into a function that takes the mesh resolution n as an argument. Use this function to compute the error for increasing mesh resolutions, and plot the error over the mesh resolution."
   ]
  },
  {
   "cell_type": "code",
   "execution_count": null,
   "metadata": {},
   "outputs": [],
   "source": [
    "def darcy(n):\n",
    "    # Create mesh and define function space\n",
    "    mesh = UnitSquareMesh(n, n)\n",
    "    P = FunctionSpace(mesh, 'P', 1) # pressure space\n",
    "\n",
    "    # Define permeability and porosity\n",
    "    K = Constant(1)\n",
    "    f = Constant(2)\n",
    "\n",
    "    # Define boundary condition\n",
    "    def left(x, on_boundary):\n",
    "        return on_boundary and near(x[0], 0.0)\n",
    "\n",
    "    def right(x, on_boundary):\n",
    "        return on_boundary and near(x[0], 1.0)\n",
    "\n",
    "    bcl = DirichletBC(P, Constant(1), left)\n",
    "    bcr = DirichletBC(P, Constant(0), right)\n",
    "    bcs = [bcl, bcr]\n",
    "\n",
    "    # Define variational problem\n",
    "    p = TestFunction(P)\n",
    "    q = TrialFunction(P)\n",
    "    a = K * inner(grad(p), grad(q))*dx\n",
    "    L = f*q*dx\n",
    "\n",
    "    # Solve\n",
    "    p = Function(P)\n",
    "    solve(a == L, p, bcs=bcs)\n",
    "\n",
    "    return mesh, p\n",
    "\n",
    "meshes = [2**i for i in range(10)]\n",
    "error = []\n",
    "for n in meshes:\n",
    "    mesh, p = darcy(n)\n",
    "    error.append(errornorm(p_e, p, 'L2'))\n",
    "    \n",
    "plt.semilogy(meshes, error)\n",
    "plt.show()"
   ]
  },
  {
   "cell_type": "markdown",
   "metadata": {},
   "source": [
    "Let's assume that we do not know the exact solution. In this case we can still calculate the error, but using a different reference quantity. Inserting the equation for velocity $u$ into Darcy's law gives\n",
    "\n",
    "$$\\nabla \\cdot u = f(x)$$\n",
    "\n",
    "which we can test for using our computed $u$. When $f(x) = 0$ we call this equation the *divergence-free condition* for Darcy's law."
   ]
  },
  {
   "cell_type": "code",
   "execution_count": null,
   "metadata": {},
   "outputs": [],
   "source": [
    "meshes = [2**i for i in range(10)]\n",
    "error = []\n",
    "for n in meshes:    \n",
    "    # Compute Darcy velocity u for given mesh resolution n\n",
    "    mesh, p = darcy(n)\n",
    "    \n",
    "    # Divergence free reference function\n",
    "    V = FunctionSpace(mesh, 'P', 1)\n",
    "    u_e = interpolate(f, V)\n",
    "    \n",
    "    # Computed velocity\n",
    "    u = project(-K * grad(p), VectorFunctionSpace(mesh, 'P', 1))\n",
    "    divu = project(div(u), V)\n",
    "    \n",
    "    # Compute error\n",
    "    e = errornorm(u_e, divu, 'L2')\n",
    "    error.append(e)    \n",
    "\n",
    "plt.plot(meshes, error)"
   ]
  },
  {
   "cell_type": "markdown",
   "metadata": {},
   "source": [
    "## Elastic deformation: Linear elasticity\n",
    "\n",
    "Linear elasticity deals with the equations governing small elastic deformations following a linear relationship between stress and strain. Nonlinear stress-strain relationships are goverened by the hyperelastic equations, which are introduced in the Cardiac Tissue Mechanics and Fluid Dynamics stream of the Summer School.\n",
    "\n",
    "The momentum balance equation for small elastic deformations of a body $\\Omega$ reads\n",
    "\n",
    "$$-\\nabla \\cdot \\sigma = f \\qquad \\text{in } \\Omega$$\n",
    "\n",
    "with stress tensor $\\sigma$, elasticity tensor $\\varepsilon$ and body force per unit volume $f(\\boldsymbol{x})$. \n",
    "\n",
    "$$\\sigma = \\lambda \\; tr(\\varepsilon) I + 2 \\mu \\varepsilon$$\n",
    "$$\\varepsilon = \\frac{1}{2} (\\nabla u + (\\nabla u)^T)$$\n",
    "\n",
    "The stress tensor depends on two parameters that are specific for every material, the Lamè constants $\\lambda$ and $\\mu$. The trace operator $tr(A)$ represents the sum of the elements on the main diagonal of a tensor $A$, $I$ is the identity tensor, and $u(\\boldsymbol{x})$ is the displacement vector field. Inserting the definition of $\\varepsilon$ into $\\sigma$ gives\n",
    "\n",
    "$$\\sigma = \\lambda (\\nabla \\cdot u) I + \\mu (\\nabla u + (\\nabla u)^T)$$\n",
    "\n",
    "Note that while we have written the momentum balance equation in terms of the stress tensor $\\sigma$, our primary unknown is the displacement vector field $u$.\n",
    "\n",
    "### Variational form\n",
    "\n",
    "Deriving the variational form requires multiplication of the governing equation by a test function $v \\in \\hat{V}$, integrating over the domain $\\Omega$.\n",
    "\n",
    "$$- \\int_{\\Omega} (\\nabla \\cdot \\sigma) \\cdot v dx = \\int_{\\Omega} f \\cdot v dx$$\n",
    "\n",
    "Note that this time, as our unknown $u$ is vector-valued, our test function $v$ is also vector-valued. Note also from the definition of $\\sigma$ that the term $\\nabla \\cdot \\sigma$ contains second-order derivatives of $u$, so we integrate this term by parts\n",
    "\n",
    "$$- \\int_{\\Omega} (\\nabla \\cdot \\sigma) \\cdot v dx = \\int_{\\Omega} \\sigma : \\nabla v dx - \\int_{\\partial \\Omega} (\\sigma \\cdot n) \\cdot v ds$$\n",
    "\n",
    "where the colon operator denotes the *inner product* between two tensors:\n",
    "\n",
    "$$A : B = \\sum_i \\sum_j A_{ij} B_{ij} = A_{11} B_{11} + A_{12} B_{12} + \\ldots$$\n",
    "\n",
    "The term $\\sigma \\cdot n$ denotes traction or stress at the boundary in the outward normal direction of the boundary and is often prescribed as a boundary condition. In fluid-structure interaction problems such as the deformation of an arterial wall due to the oscillating blood pressure, the boundary traction is directly proportional to the fluid pressure $\\sigma \\cdot n = -p n$. Here, we assume that traction is prescribed on some part $\\partial \\Omega_T$ of the boundary as $\\sigma \\cdot n = T$. On the remaining boundary we assume that displacement is prescribed using a Dirichlet boundary condition. The variational form thus reads\n",
    "\n",
    "$$\\int_{\\Omega} \\sigma : \\nabla v dx = \\int_{\\Omega} f \\cdot v dx - \\int_{\\partial \\Omega_T} T \\cdot v ds$$\n",
    "\n",
    "or\n",
    "\n",
    "$$a(u,v) = L(v) \\qquad \\forall v \\in \\hat{V}$$\n",
    "\n",
    "where\n",
    "\n",
    "$$a(u,v) = \\int_{\\Omega} \\sigma : \\nabla v dx$$\n",
    "$$\\sigma = \\lambda (\\nabla \\cdot u) I + \\mu (\\nabla u + (\\nabla u)^T)$$\n",
    "$$L(v) = \\int_{\\Omega} f \\cdot v dx - \\int_{\\partial \\Omega_T} T \\cdot v ds$$\n",
    "\n",
    "The inner product of a symmetric tensor $A$ with an antisymmetric tensor $B$ vanishes. By expressing $\\nabla v$ as a sum of its symmetric and antisymmetric parts it is thus possible to simplify the term $\\sigma : \\nabla v$ since $\\sigma$ is always a symmetric tensor to obtain\n",
    "\n",
    "$$a(u,v) = \\int_{\\Omega} \\sigma : \\varepsilon(v) dx$$\n",
    "\n",
    "where\n",
    "\n",
    "$$\\varepsilon(v) = \\frac{1}{2} (\\nabla v + (\\nabla v)^T)$$\n",
    "\n",
    "is the symmetric part of $\\nabla v$.\n",
    "\n",
    "### FEniCS implementation"
   ]
  },
  {
   "cell_type": "code",
   "execution_count": 13,
   "metadata": {},
   "outputs": [],
   "source": [
    "from fenics import *\n",
    "from ufl import nabla_div\n",
    "from mshr import *\n",
    "\n",
    "import numpy as np\n",
    "import matplotlib.pylab as plt"
   ]
  },
  {
   "cell_type": "markdown",
   "metadata": {},
   "source": [
    "As an example, we will consider the elastic deformation of the wall of an artery, represented by an axisymmetric cylindrical tube. "
   ]
  },
  {
   "cell_type": "code",
   "execution_count": 14,
   "metadata": {},
   "outputs": [
    {
     "data": {
      "image/png": "[encoded data removed]",
      "text/plain": [
       "<Figure size 432x288 with 1 Axes>"
      ]
     },
     "metadata": {
      "needs_background": "light"
     },
     "output_type": "display_data"
    }
   ],
   "source": [
    "# Create mesh\n",
    "L_a = 10\n",
    "W_i = 0.4\n",
    "W_o = 0.5\n",
    "c1 = Cylinder(Point(0,0,0), Point(0,0,L_a), W_o, W_o)\n",
    "c2 = Cylinder(Point(0,0,0), Point(0,0,L_a), W_i, W_i)\n",
    "geo = c1-c2\n",
    "mesh = generate_mesh(geo, 32)\n",
    "plot(mesh)"
   ]
  },
  {
   "cell_type": "code",
   "execution_count": 15,
   "metadata": {},
   "outputs": [],
   "source": [
    "# Define function space\n",
    "V = VectorFunctionSpace(mesh, 'P', 1)\n",
    "\n",
    "# Define elasticity parameters\n",
    "mu = 1\n",
    "lam = 10"
   ]
  },
  {
   "cell_type": "markdown",
   "metadata": {},
   "source": [
    "We have previously implemented Dirichlet boundary conditions using functions, and while functions work well for Dirichlet boundary conditions, we can't implement Neumann boundary conditions in this way. A more general approach to implementing boundary conditions is provided using a MeshFunction. A MeshFunction allows you to mark parts of a domain's boundary using labels that can then be used to apply boundary conditions."
   ]
  },
  {
   "cell_type": "code",
   "execution_count": 16,
   "metadata": {},
   "outputs": [],
   "source": [
    "# Instantiate a boundary MeshFunction using integers as lables\n",
    "boundaries = MeshFunction('size_t', mesh, mesh.topology().dim()-1)\n",
    "boundaries.set_all(0)"
   ]
  },
  {
   "cell_type": "markdown",
   "metadata": {},
   "source": [
    "Boundary conditions now have to be implemented as a class inheriting from the FEniCS class SubDomain"
   ]
  },
  {
   "cell_type": "code",
   "execution_count": 17,
   "metadata": {},
   "outputs": [],
   "source": [
    "class Pressure(SubDomain):\n",
    "    def inside(self, x, on_boundary):\n",
    "        return on_boundary and near(x[2], 0.2)\n",
    "\n",
    "pressure = Pressure()\n",
    "pressure.mark(boundaries, 1)"
   ]
  },
  {
   "cell_type": "markdown",
   "metadata": {},
   "source": [
    "To apply the boundary conditions we write"
   ]
  },
  {
   "cell_type": "code",
   "execution_count": 18,
   "metadata": {},
   "outputs": [],
   "source": [
    "u_D = Constant((0.0, 0.0, 0.0))\n",
    "\n",
    "# Applying Dirichlet conditions:\n",
    "bc = DirichletBC(V, u_D, boundaries, 1)\n",
    "\n",
    "# Applying Neumann conditions.\n",
    "ds = ds(subdomain_data=boundaries)\n",
    "\n",
    "# Example variational form applying a Neumann condition to the \n",
    "# boundary labelled '1' using ds()\n",
    "# L = f*ds(1)"
   ]
  },
  {
   "cell_type": "markdown",
   "metadata": {},
   "source": [
    "#### Exercise: Implement suitable boundary conditions.\n",
    "\n",
    "Implement a traction boundary condition that applies a constant pressure of 80 mmHg $\\approx$ 10500 Pa on the inner boundary of the wall and ensure that the ends of the artery wall are fixed in space, such that $u = (0, 0, 0)$"
   ]
  },
  {
   "cell_type": "code",
   "execution_count": 19,
   "metadata": {},
   "outputs": [],
   "source": [
    "# Define Dirichlet boundary condition\n",
    "def left(x, on_boundary):\n",
    "    return on_boundary and near(x[2], 0.0)\n",
    "\n",
    "def right(x, on_boundary):\n",
    "    return on_boundary and near(x[2], L_a)\n",
    "\n",
    "bc = [DirichletBC(V, u_D, left),\n",
    "     DirichletBC(V, u_D, right)]\n",
    "\n",
    "# Define traction boundary condition\n",
    "class Pressure(SubDomain):\n",
    "    def inside(self, x, on_boundary):\n",
    "        r = np.sqrt(x[0]*x[0] + x[1]*x[1])\n",
    "        return on_boundary and r < W_i + 1e-6\n",
    "\n",
    "boundaries = MeshFunction('size_t', mesh, mesh.topology().dim()-1)\n",
    "boundaries.set_all(0)\n",
    "pressure = Pressure()\n",
    "pressure.mark(boundaries, 1)\n",
    "ds = ds(subdomain_data=boundaries)\n",
    "p_D = Constant(10500)"
   ]
  },
  {
   "cell_type": "code",
   "execution_count": 20,
   "metadata": {},
   "outputs": [],
   "source": [
    "# Define strain and stress\n",
    "def epsilon(u):\n",
    "    return 0.5*(nabla_grad(u) + nabla_grad(u).T)\n",
    "\n",
    "def sigma(u, d):\n",
    "    return lam*nabla_div(u)*Identity(d) + 2*mu*epsilon(u)"
   ]
  },
  {
   "cell_type": "markdown",
   "metadata": {},
   "source": [
    "#### Exercise: Implement the variational form for the linear elastic problem. Fluid pressure in the artery is 80 mmHg $\\approx$ 10500 Pa on the inner boundary of the wall"
   ]
  },
  {
   "cell_type": "code",
   "execution_count": 22,
   "metadata": {},
   "outputs": [],
   "source": [
    "# Define variational problem\n",
    "# insert code here\n",
    "u = TrialFunction(V)\n",
    "v = TestFunction(V)\n",
    "d = u.geometric_dimension()  # space dimension\n",
    "n = FacetNormal(mesh)\n",
    "T = Constant(-p_D) * n\n",
    "f = Constant((0.0, 0.0, 0.0))\n",
    "a = inner(sigma(u, d), epsilon(v))*dx\n",
    "L = dot(f, v)*dx - dot(T, v)*ds(1)\n",
    "\n",
    "# Compute solution\n",
    "u = Function(V)\n",
    "solve(a == L, u, bc)\n",
    "\n",
    "# Save solution\n",
    "u_file = XDMFFile(\"linear_elasticity/du.xdmf\")\n",
    "u_file.write_checkpoint(u, 'displacement', 0.0)\n",
    "u_file.close()\n",
    "\n",
    "#  Export stess\n",
    "s = sigma(u, d) - (1/3)*tr(sigma(u, d))*Identity(d)  # deviatoric stress\n",
    "von_Mises = sqrt(3/2*inner(s, s))\n",
    "W = FunctionSpace(mesh, 'P', 1)\n",
    "von_Mises = project(von_Mises, W)\n",
    "s_file = XDMFFile(\"linear_elasticity/von_mises.xdmf\")\n",
    "s_file.write_checkpoint(von_Mises, 'stress', 0.0)\n",
    "s_file.close()"
   ]
  },
  {
   "cell_type": "code",
   "execution_count": null,
   "metadata": {},
   "outputs": [],
   "source": []
  }
 ],
 "metadata": {
  "kernelspec": {
   "display_name": "Python 3",
   "language": "python",
   "name": "python3"
  },
  "language_info": {
   "codemirror_mode": {
    "name": "ipython",
    "version": 3
   },
   "file_extension": ".py",
   "mimetype": "text/x-python",
   "name": "python",
   "nbconvert_exporter": "python",
   "pygments_lexer": "ipython3",
   "version": "3.7.3"
  }
 },
 "nbformat": 4,
 "nbformat_minor": 2
}
