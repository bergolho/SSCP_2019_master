{
 "cells": [
  {
   "cell_type": "markdown",
   "metadata": {},
   "source": [
    "# Mechanics Applications in FEniCS"
   ]
  },
  {
   "cell_type": "code",
   "execution_count": 2,
   "metadata": {},
   "outputs": [],
   "source": [
    "%matplotlib inline"
   ]
  },
  {
   "cell_type": "markdown",
   "metadata": {},
   "source": [
    "## Tissue perfusion\n",
    "\n",
    "Darcy's law for pressure in porous media flow\n",
    "\n",
    "$$\\nabla \\cdot \\left( -\\boldsymbol{K} \\; \\nabla p(\\boldsymbol{x}) \\right) = f(\\boldsymbol{x}) \\qquad \\text{on } \\Omega$$\n",
    "\n",
    "augmented by some Dirichlet boundary conditions\n",
    "\n",
    "$$p(\\boldsymbol{x}) = p_D(\\boldsymbol{x}) \\qquad \\text{on } \\partial \\Omega$$\n",
    "\n",
    "Darcy's law itself is a stationary problem (no time dependence). However, in mechanics applications, and for biological systems in particular, we are most often interested in solving time-dependent problems. Darcy's law becomes time-dependent when either $p_D$ or $f(x)$ (or both!) become a function of $x$ and $t$. In this case, each time step is solved as a stationary sub-problem. We can thus easily expand our code for solving Darcy's law.\n",
    "\n",
    "### FEniCS implementation"
   ]
  },
  {
   "cell_type": "code",
   "execution_count": 16,
   "metadata": {},
   "outputs": [],
   "source": [
    "from fenics import *\n",
    "import numpy as np\n",
    "import matplotlib.pylab as plt\n",
    "\n",
    "# Create mesh and define function space\n",
    "n = 10\n",
    "mesh = UnitSquareMesh(n, n)\n",
    "W = FunctionSpace(mesh, 'P', 1) # pressure space\n",
    "\n",
    "# Define permeability and viscosity\n",
    "kmin = 0.01\n",
    "K = Expression('max(exp(-pow((x[1]-0.5-0.1*sin(10*x[0]))/0.1, 2)), 0.01)', degree=1)\n",
    "mu = Constant(1.0)\n",
    "\n",
    "# Define boundary condition\n",
    "pD = Expression('t', t=0.0, degree=1)\n",
    "\n",
    "def boundary(x, on_boundary):\n",
    "    return on_boundary\n",
    "\n",
    "bc = DirichletBC(W, pD, boundary)\n",
    "\n",
    "# Define variational problem\n",
    "p = TestFunction(W)\n",
    "q = TrialFunction(W)\n",
    "f = Constant(0.0)\n",
    "n = FacetNormal(mesh)\n",
    "a = K * inner(grad(p), grad(q))*dx\n",
    "L = f*q*dx\n",
    "\n",
    "p_file = XDMFFile(\"perfusion/p.xdmf\")\n",
    "u_file = XDMFFile(\"perfusion/u.xdmf\")\n",
    "\n",
    "# Compute solution\n",
    "dt = 0.1\n",
    "t = 0.0\n",
    "for i in range(10):\n",
    "    pD.t = t\n",
    "    print(t)\n",
    "    p = Function(W)\n",
    "    solve(a == L, p, bcs=bc)\n",
    "\n",
    "    # Compute velocity\n",
    "    V = VectorFunctionSpace(mesh, 'P', 2)\n",
    "    u = project(-K*grad(p), V)\n",
    "\n",
    "    # Save solution\n",
    "    p_file.write_checkpoint(p, 'pressure', t)\n",
    "    u_file.write_checkpoint(u, 'velocity', t)\n",
    "    \n",
    "    t += dt\n",
    "    \n",
    "p_file.close()\n",
    "u_file.close()"
   ]
  },
  {
   "cell_type": "code",
   "execution_count": null,
   "metadata": {},
   "outputs": [],
   "source": []
  }
 ],
 "metadata": {
  "kernelspec": {
   "display_name": "Python 3",
   "language": "python",
   "name": "python3"
  },
  "language_info": {
   "codemirror_mode": {
    "name": "ipython",
    "version": 3
   },
   "file_extension": ".py",
   "mimetype": "text/x-python",
   "name": "python",
   "nbconvert_exporter": "python",
   "pygments_lexer": "ipython3",
   "version": "3.7.3"
  }
 },
 "nbformat": 4,
 "nbformat_minor": 2
}
